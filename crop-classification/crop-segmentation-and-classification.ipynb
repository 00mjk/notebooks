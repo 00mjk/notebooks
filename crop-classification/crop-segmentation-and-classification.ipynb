{
 "cells": [
  {
   "cell_type": "markdown",
   "metadata": {},
   "source": [
    "# Crop Segmentation and Classification\n",
    "\n",
    "In this notebook project, we demonstrate and compare techniques for segmentation and classification of crops using Planet imagery. A metric will be established to quantify accuracy of crop classification and will be used to compare technique results.\n",
    "\n",
    "The notebooks, in order of operations, are:\n",
    "1. [Identify area of interest and data](identify-datasets.ipynb): Identify and store ground truth data, area of interest, and Planet scene.\n",
    "2. ..\n",
    "\n",
    "## Usage Notes\n",
    "\n",
    "This notebook project was developed in a Docker container. This [Dockerfile](Dockerfile) was used to build the image."
   ]
  },
  {
   "cell_type": "code",
   "execution_count": null,
   "metadata": {
    "collapsed": true
   },
   "outputs": [],
   "source": []
  }
 ],
 "metadata": {
  "kernelspec": {
   "display_name": "Python 2",
   "language": "python",
   "name": "python2"
  },
  "language_info": {
   "codemirror_mode": {
    "name": "ipython",
    "version": 2
   },
   "file_extension": ".py",
   "mimetype": "text/x-python",
   "name": "python",
   "nbconvert_exporter": "python",
   "pygments_lexer": "ipython2",
   "version": "2.7.13"
  }
 },
 "nbformat": 4,
 "nbformat_minor": 2
}
