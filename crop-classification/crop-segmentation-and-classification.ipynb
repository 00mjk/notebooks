{
 "cells": [
  {
   "cell_type": "markdown",
   "metadata": {},
   "source": [
    "# Crop Segmentation and Classification\n",
    "\n",
    "In this notebook, we demonstrate and compare techniques for segmentation and classification of crops using Planet imagery. A metric will be established to quantify accuracy of crop classification and will be used to compare technique results.\n",
    "\n",
    "The general sections are:\n",
    "1. [Identify area of interest and data](#data)\n",
    "2. [Crop Segmentation](#segmentation)\n",
    "3. [Crop Classification](#classification)\n",
    "\n",
    "## Usage Notes\n",
    "\n",
    "This notebook was developed in a Docker container. This [Dockerfile](Dockerfile) was used to build the image.\n",
    "\n",
    "The user-specific planet api key must be stored in the environmental variable $PLANET_API_KEY. To pass this key into the Docker container, add -e PLANET_API_KEY=your_api_key when you call docker run (replace 'your_api_key' with your api key)."
   ]
  },
  {
   "cell_type": "code",
   "execution_count": 1,
   "metadata": {
    "collapsed": true
   },
   "outputs": [],
   "source": [
    "# Notebook dependencies\n",
    "from __future__ import print_function\n",
    "\n",
    "import copy\n",
    "import datetime\n",
    "from functools import partial\n",
    "import json\n",
    "import os\n",
    "\n",
    "import ipyleaflet as ipyl\n",
    "import ipywidgets as ipyw\n",
    "from IPython.display import display, Image\n",
    "import fiona\n",
    "import pandas as pd\n",
    "from planet import api\n",
    "from planet.api import filters\n",
    "import pyproj\n",
    "import shapely\n",
    "from shapely.geometry import shape, mapping\n",
    "from shapely.ops import transform"
   ]
  },
  {
   "cell_type": "markdown",
   "metadata": {},
   "source": [
    "<a id='data'></a>\n",
    "\n",
    "## Identify area of interest and data\n",
    "\n",
    "Ground truth crop type and boundary data is not easy to come by. Therefore, the area and time of interest for this problem is primarily defined by the availability of ground truth data. The [2015 Sacramento County Land Use DWR Survey Dataset](http://www.water.ca.gov/landwateruse/lusrvymain.cfm) is a free dataset covering Sacramento county in 2015. It provides hand-adjusted boundaries and provides crop types.\n",
    "\n",
    "The satellite imagery we will use in this study are Landsat 8 and SSO Planetscope 2 imagery. SSO Planetscope 2 satellites were launched Feb 14, 2017 ([news release](https://www.planet.com/pulse/planet-launches-satellite-constellation-to-image-the-whole-planet-daily/)), therefore they did not image Sacramento county in 2015. Landsat 8 will be used as a bridge between 2015 and 2017."
   ]
  },
  {
   "cell_type": "markdown",
   "metadata": {},
   "source": [
    "### Explore Ground Truth Data\n",
    "\n",
    "#### Downloading data\n",
    "To obtain and prepare the ground truth data, download the shapefile zip file from (http://www.water.ca.gov/landwateruse/docs/landusedata/shapes/15sa.zip) and then unzip into /data.\n",
    "\n",
    "Execute the following commands in `crop-classification` directory:\n",
    "```\n",
    "mkdir data\n",
    "mkdir data/dwr_survey\n",
    "wget http://www.water.ca.gov/landwateruse/docs/landusedata/shapes/15sa.zip\n",
    "unzip 15sa.zip -d data/dwr_survey/\n",
    "```\n",
    "\n",
    "expected output:\n",
    "```\n",
    "Archive:  15sa.zip\n",
    "  inflating: data/dwr_survey/SA15.dbf  \n",
    "  inflating: data/dwr_survey/SA15.jgw  \n",
    "  inflating: data/dwr_survey/SA15.jpg  \n",
    "  inflating: data/dwr_survey/SA15.prj  \n",
    "  inflating: data/dwr_survey/SA15.shp  \n",
    "  inflating: data/dwr_survey/SA15.shp.xml  \n",
    "  inflating: data/dwr_survey/SA15.shx  \n",
    "  inflating: data/dwr_survey/DWR Data Disclaimer.pdf  \n",
    "  inflating: data/dwr_survey/SA15Meta.pdf  \n",
    "  inflating: data/dwr_survey/attributes_rev02102010.pdf  \n",
    "  inflating: data/dwr_survey/09legend.pdf  \n",
    "```"
   ]
  },
  {
   "cell_type": "code",
   "execution_count": 2,
   "metadata": {
    "collapsed": true
   },
   "outputs": [],
   "source": [
    "# Let's specify the shapefile location and ensure it indeed exists\n",
    "survey_shapefile = 'data/dwr_survey/SA15.shp'\n",
    "assert os.path.isfile(survey_shapefile)"
   ]
  },
  {
   "cell_type": "markdown",
   "metadata": {},
   "source": [
    "#### Load the survey shapefile\n",
    "\n",
    "We will use [fiona](http://toblerity.org/fiona/manual.html) to load the shapefile, [shapely](http://toblerity.org/shapely/manual.html) to manage the geometries"
   ]
  },
  {
   "cell_type": "markdown",
   "metadata": {},
   "source": [
    "##### Reproject to WGS84\n",
    "\n",
    "What is the coordinate reference system for this dataset?"
   ]
  },
  {
   "cell_type": "code",
   "execution_count": 3,
   "metadata": {},
   "outputs": [
    {
     "name": "stdout",
     "output_type": "stream",
     "text": [
      "epsg:26910\n"
     ]
    }
   ],
   "source": [
    "with fiona.open(survey_shapefile, 'r') as survey_data:\n",
    "    src_proj = survey_data.crs['init']\n",
    "print(src_proj)"
   ]
  },
  {
   "cell_type": "markdown",
   "metadata": {},
   "source": [
    "Turns out it is [EPSG:26910](http://spatialreference.org/ref/epsg/26910/). Geojson only supports [EPSG:4326](http://spatialreference.org/ref/epsg/4326/). We will need to reproject the shapes."
   ]
  },
  {
   "cell_type": "code",
   "execution_count": 4,
   "metadata": {
    "collapsed": true
   },
   "outputs": [],
   "source": [
    "# define projection\n",
    "# from shapely [docs](http://toblerity.org/shapely/manual.html#shapely.ops.transform)\n",
    "dst_proj = 'epsg:4326'\n",
    "project_to_wkt = partial(\n",
    "    pyproj.transform,\n",
    "    pyproj.Proj(init=src_proj),\n",
    "    pyproj.Proj(init=dst_proj))\n",
    "\n",
    "def project_feature(feat):\n",
    "    g1 = shape(feat['geometry'])\n",
    "    g2 = transform(project_to_wkt, g1)\n",
    "    feat['geometry'] = mapping(g2)"
   ]
  },
  {
   "cell_type": "markdown",
   "metadata": {},
   "source": [
    "##### Filter survey data to agricultural classes\n",
    "\n",
    "The survey data has attributes that provide the crop type. These attributes are described in a pdf distributed with the shapefile. It was unzipped along with the shapefile files and is located at `data/dwr_survey/09legend.pdf`.\n",
    "\n",
    "We are interested in the agricultural classes. Class is specified by the 'CLASS1' attribute of the feature and agricultural classes are: G, R, F, P, T, D, C, and V."
   ]
  },
  {
   "cell_type": "code",
   "execution_count": 5,
   "metadata": {
    "collapsed": true
   },
   "outputs": [],
   "source": [
    "agg_classes = ['G', 'R', 'F', 'P', 'T', 'D', 'C', 'V']\n",
    "\n",
    "def is_agricultural(feat):\n",
    "    return feat['properties']['CLASS1'] in agg_classes"
   ]
  },
  {
   "cell_type": "markdown",
   "metadata": {},
   "source": [
    "#### Finally: Load data"
   ]
  },
  {
   "cell_type": "code",
   "execution_count": 6,
   "metadata": {},
   "outputs": [
    {
     "name": "stdout",
     "output_type": "stream",
     "text": [
      "7429\n"
     ]
    }
   ],
   "source": [
    "features = []\n",
    "with fiona.open(survey_shapefile) as survey_data:\n",
    "    for feat in survey_data:\n",
    "        if is_agricultural(feat):\n",
    "            project_feature(feat)\n",
    "            features.append(feat)\n",
    "print(len(features))"
   ]
  },
  {
   "cell_type": "markdown",
   "metadata": {},
   "source": [
    "#### Explore data on map"
   ]
  },
  {
   "cell_type": "code",
   "execution_count": 7,
   "metadata": {
    "collapsed": true
   },
   "outputs": [],
   "source": [
    "# Assign colors to classes\n",
    "# colors determined using [colorbrewer2.org](http://colorbrewer2.org/#type=sequential&scheme=BuGn&n=3)\n",
    "colors = ['#ffffd9','#edf8b1','#c7e9b4','#7fcdbb','#41b6c4','#1d91c0','#225ea8','#0c2c84']\n",
    "class_colors = dict((a,c) for a,c in zip(agg_classes, colors))\n",
    "def get_color(cls):\n",
    "    return class_colors[cls]"
   ]
  },
  {
   "cell_type": "code",
   "execution_count": 8,
   "metadata": {
    "collapsed": true
   },
   "outputs": [],
   "source": [
    "# Initialize map, deleting map instance if it exists\n",
    "try:\n",
    "    del filtered_map\n",
    "except NameError:\n",
    "    pass\n",
    "\n",
    "zoom = 9\n",
    "center = [38.3586252, -121.3853994] # lat/lon\n",
    "bounds = None #[(38.23467444211417, -121.66706085205077), (38.342464018725714, -121.32030487060547)]"
   ]
  },
  {
   "cell_type": "code",
   "execution_count": 9,
   "metadata": {},
   "outputs": [
    {
     "name": "stderr",
     "output_type": "stream",
     "text": [
      "Widget Javascript not detected.  It may not be installed or enabled properly.\n"
     ]
    },
    {
     "data": {
      "application/vnd.jupyter.widget-view+json": {
       "model_id": "b8353f7d3d4547cba0739d9ead8de7ee"
      }
     },
     "metadata": {},
     "output_type": "display_data"
    }
   ],
   "source": [
    "# Reuse map parameters if map already defined\n",
    "try:\n",
    "    center = filtered_map.center\n",
    "    print(center)\n",
    "    zoom = filtered_map.zoom\n",
    "    print(zoom)\n",
    "    bounds = filtered_map.bounds\n",
    "    print(bounds)\n",
    "except NameError:\n",
    "    pass\n",
    "\n",
    "# Create the map\n",
    "# Change tile layer to one that makes it easier to see crop features\n",
    "# Layer selected using https://leaflet-extras.github.io/leaflet-providers/preview/\n",
    "map_tiles = ipyl.TileLayer(url='http://{s}.basemaps.cartocdn.com/light_all/{z}/{x}/{y}.png')\n",
    "filtered_map = ipyl.Map(\n",
    "        center=center, \n",
    "        zoom=zoom,\n",
    "        default_tiles = map_tiles\n",
    "    )\n",
    "\n",
    "if bounds is not None:\n",
    "    # create bound box geometry from map bounds readout\n",
    "    bounds_box = shapely.geometry.box(bounds[0][1], bounds[0][0],\n",
    "                                      bounds[1][1], bounds[1][0])\n",
    "\n",
    "    # display bounds box\n",
    "    bounds_feature = {\n",
    "        'geometry':mapping(bounds_box),\n",
    "        \"properties\":{\n",
    "                'style':{'color': 'red', 'fillOpacity': 0.0, 'weight': 1}},\n",
    "        'type':u\"Feature\"}\n",
    "\n",
    "    bounds_layer = ipyl.GeoJSON(data=bounds_feature)\n",
    "    filtered_map.add_layer(bounds_layer)\n",
    "\n",
    "    # filter to bounds\n",
    "    display_features = [f for f in features if shape(f['geometry']).within(bounds_box)]\n",
    "    \n",
    "else:\n",
    "    display_features = features\n",
    "\n",
    "feature_collection = {\n",
    "    \"type\": \"FeatureCollection\",\n",
    "    \"features\": display_features\n",
    "}\n",
    "\n",
    "for f in feature_collection['features']:\n",
    "    feature_color = get_color(f['properties']['CLASS1'])\n",
    "    f['properties']['style'] = {\n",
    "        'weight': 0,\n",
    "        'fillColor': feature_color,\n",
    "        'fillOpacity': 1}\n",
    "\n",
    "feature_layer = ipyl.GeoJSON(data=feature_collection)\n",
    "\n",
    "# Display class as label\n",
    "label = ipyw.Label(layout=ipyw.Layout(width='100%'))\n",
    "def hover_handler(event=None, id=None, properties=None):\n",
    "    label.value = 'class: {}'.format(properties['CLASS1'])\n",
    "\n",
    "feature_layer.on_hover(hover_handler)\n",
    "filtered_map.add_layer(feature_layer)   \n",
    "\n",
    "# Display\n",
    "ipyw.VBox([filtered_map, label])\n",
    "\n",
    "# NOTE: it may take a little while for this to display"
   ]
  },
  {
   "cell_type": "markdown",
   "metadata": {},
   "source": [
    "### Identify Area of Interest\n",
    "\n",
    "Selection of the area of interest for our study is based on the following:\n",
    "1. compact representation of many crop classes\n",
    "2. availability of imagery\n",
    "3. as large as possible but smaller than a planet image (to allow for in-scene analysis)"
   ]
  },
  {
   "cell_type": "markdown",
   "metadata": {},
   "source": [
    "Criteria 1: compact representation of many crop classes\n",
    "\n",
    "Let's start by identifying a region of compact representation of many crop classes. We will do so by drawing a box over the map of the crops and then displaying the number of unique classes represented in the box."
   ]
  },
  {
   "cell_type": "code",
   "execution_count": 10,
   "metadata": {
    "collapsed": true
   },
   "outputs": [],
   "source": [
    "# Initialize map using parameters from above map\n",
    "# and deleting map instance if it exists\n",
    "try:\n",
    "    del aoi_map\n",
    "except NameError:\n",
    "    pass\n",
    "\n",
    "center = filtered_map.center\n",
    "zoom = filtered_map.zoom\n",
    "bounds = filtered_map.bounds\n",
    "default_tiles = filtered_map.default_tiles"
   ]
  },
  {
   "cell_type": "code",
   "execution_count": 11,
   "metadata": {},
   "outputs": [
    {
     "name": "stderr",
     "output_type": "stream",
     "text": [
      "Widget Javascript not detected.  It may not be installed or enabled properly.\n"
     ]
    },
    {
     "data": {
      "application/vnd.jupyter.widget-view+json": {
       "model_id": "942dac0522c64dcd8a29d305e860b116"
      }
     },
     "metadata": {},
     "output_type": "display_data"
    }
   ],
   "source": [
    "# Create map, adding box drawing controls\n",
    "# Reuse parameters if map already exists\n",
    "try:\n",
    "    center = aoi_map.center\n",
    "    zoom = aoi_map.zoom\n",
    "    bounds = aoi_map.bounds\n",
    "except NameError:\n",
    "    pass\n",
    "\n",
    "# Create the map\n",
    "aoi_map = ipyl.Map(\n",
    "        center=center, \n",
    "        zoom=zoom,\n",
    "        default_tiles = map_tiles\n",
    "    )\n",
    "\n",
    "# Add box drawing control\n",
    "# refs:\n",
    "# https://github.com/kscottz/PythonFromSpace/blob/master/TheBasics.ipynb\n",
    "# https://github.com/ellisonbg/ipyleaflet/blob/master/examples/DrawControl.ipynb\n",
    "rectangle = {'shapeOptions': {'color': 'blue'}} \n",
    "dc = ipyl.DrawControl(\n",
    "    polygon={}, polyline={}, # disable polygons and polylines\n",
    "    rectangle={'shapeOptions': {'color': 'blue'}}\n",
    ")\n",
    "\n",
    "# When a box is drawn, update the label with the number of unique classes\n",
    "# and save the box geometry as AOI\n",
    "total_unique_classes = len(set([f['properties']['CLASS1'] for f in features]))\n",
    "label = ipyw.Label(layout=ipyw.Layout(width='100%'))\n",
    "aoi = None\n",
    "def handle_draw(self, action, geo_json):\n",
    "    box_shape = shape(geo_json['geometry'])\n",
    "    contained_features = [f for f in features\n",
    "                          if shape(f['geometry']).within(box_shape)]\n",
    "    unique_classes = set([f['properties']['CLASS1'] for f in contained_features])\n",
    "    label.value = '{} unique classes out of {} total'.format(\n",
    "        len(unique_classes), total_unique_classes)\n",
    "    global aoi\n",
    "    aoi = geo_json\n",
    "    \n",
    "dc.on_draw(handle_draw)\n",
    "aoi_map.add_control(dc)\n",
    "\n",
    "# Add crop type features\n",
    "feature_collection = {\n",
    "    \"type\": \"FeatureCollection\",\n",
    "    \"features\": features\n",
    "}\n",
    "\n",
    "for f in feature_collection['features']:\n",
    "    feature_color = get_color(f['properties']['CLASS1'])\n",
    "    f['properties']['style'] = {\n",
    "        'weight': 0,\n",
    "        'fillColor': feature_color,\n",
    "        'fillOpacity': 1}\n",
    "\n",
    "feature_layer = ipyl.GeoJSON(data=feature_collection)\n",
    "aoi_map.add_layer(feature_layer)   \n",
    "\n",
    "# Display map and label\n",
    "ipyw.VBox([aoi_map, label])"
   ]
  },
  {
   "cell_type": "code",
   "execution_count": 12,
   "metadata": {
    "collapsed": true
   },
   "outputs": [],
   "source": [
    "# Run this to use cached aoi\n",
    "aoi = {u'geometry': {u'type': u'Polygon', u'coordinates': [[[-121.58460974693298, 38.29170496647727], [-121.58460974693298, 38.32726528409606], [-121.5248715877533, 38.32726528409606], [-121.5248715877533, 38.29170496647727], [-121.58460974693298, 38.29170496647727]]]}, u'type': u'Feature', u'properties': {u'style': {u'opacity': 0.5, u'noClip': False, u'weight': 4, u'fillColor': None, u'color': u'blue', u'lineCap': None, u'stroke': True, u'smoothFactor': 1, u'dashArray': None, u'fillOpacity': 0.2, u'clickable': True, u'lineJoin': None, u'fill': True}}}"
   ]
  },
  {
   "cell_type": "markdown",
   "metadata": {},
   "source": [
    "Criteria 2: availability of imagery\n",
    "\n",
    "How many PL images cover the AOI defined above?\n",
    "\n",
    "We will answer this question by querying the planet API. This requires a user-specific planet api key. The planet api key is pulled from the environment variable PLANET_API_KEY.\n",
    "\n",
    "The client is how we interact with the planet api. It is created with the user-specific api key.\n",
    "\n",
    "[planet client documentation](https://planetlabs.github.io/planet-client-python/index.html) \n",
    "\n",
    "Docker usage note: To pass this key into the Docker container, add `-e PLANET_API_KEY=your_api_key` when you call `docker run` (replace 'your_api_key' with your api key). [More info](https://stackoverflow.com/questions/30494050/how-do-i-pass-environment-variables-to-docker-containers)\n",
    "\n",
    "Much of this code is pulled from [PythonFromSpace/TheBasics.ipynb](https://github.com/kscottz/PythonFromSpace/blob/master/TheBasics.ipynb)"
   ]
  },
  {
   "cell_type": "code",
   "execution_count": 24,
   "metadata": {
    "collapsed": true
   },
   "outputs": [],
   "source": []
  },
  {
   "cell_type": "code",
   "execution_count": 13,
   "metadata": {
    "collapsed": true
   },
   "outputs": [],
   "source": [
    "planet_api_key = os.environ['PLANET_API_KEY']\n",
    "\n",
    "# quick check that key is defined\n",
    "assert planet_api_key, \"PLANET_API_KEY not defined.\"\n",
    "\n",
    "client = api.ClientV1(api_key=planet_api_key)"
   ]
  },
  {
   "cell_type": "markdown",
   "metadata": {},
   "source": [
    "Query Planet API"
   ]
  },
  {
   "cell_type": "code",
   "execution_count": 14,
   "metadata": {},
   "outputs": [
    {
     "name": "stdout",
     "output_type": "stream",
     "text": [
      "179\n"
     ]
    }
   ],
   "source": [
    "# build a query using the AOI and\n",
    "# a cloud_cover filter that excludes 'cloud free' scenes\n",
    "old = datetime.datetime(year=2015,month=1,day=1)\n",
    "\n",
    "search_aoi = aoi['geometry']\n",
    "query = filters.and_filter(\n",
    "    filters.geom_filter(search_aoi),\n",
    "    filters.range_filter('cloud_cover', lt=50),\n",
    "    filters.date_range('acquired', gt=old)\n",
    ")\n",
    "\n",
    "# build a request for only PlanetScope imagery\n",
    "request = filters.build_search_request(\n",
    "    query, item_types=['PSScene4Band']\n",
    ")\n",
    "\n",
    "# run search\n",
    "# if you don't have an API key configured, this will raise an exception\n",
    "result = client.quick_search(request)\n",
    "scenes = []\n",
    "planet_map = {}\n",
    "for item in result.items_iter(limit=500):\n",
    "    planet_map[item['id']]=item\n",
    "    props = item['properties']\n",
    "    props[\"id\"] = item['id']\n",
    "    props[\"geometry\"] = item[\"geometry\"]\n",
    "    props[\"thumbnail\"] = item[\"_links\"][\"thumbnail\"]\n",
    "    scenes.append(props)\n",
    "scenes = pd.DataFrame(data=scenes)\n",
    "print(len(scenes))"
   ]
  },
  {
   "cell_type": "markdown",
   "metadata": {},
   "source": [
    "Cleanup and calculate overlap"
   ]
  },
  {
   "cell_type": "code",
   "execution_count": 15,
   "metadata": {
    "collapsed": true
   },
   "outputs": [],
   "source": [
    "# now let's clean up the datetime stuff\n",
    "# make a shapely shape from our aoi\n",
    "aoi_shape = shape(search_aoi)\n",
    "footprints = []\n",
    "overlaps = []\n",
    "# go through the geometry from our api call, convert to a shape and calculate overlap area.\n",
    "# also save the shape for safe keeping\n",
    "for footprint in scenes[\"geometry\"].tolist():\n",
    "    s = shape(footprint)\n",
    "    footprints.append(s)\n",
    "    overlap = 100.0*(aoi_shape.intersection(s).area / aoi_shape.area)\n",
    "    overlaps.append(overlap)\n",
    "# take our lists and add them back to our dataframe\n",
    "scenes['overlap'] = pd.Series(overlaps, index=scenes.index)\n",
    "scenes['footprint'] = pd.Series(footprints, index=scenes.index)\n",
    "# now make sure pandas knows about our date/time columns.\n",
    "scenes[\"acquired\"] = pd.to_datetime(scenes[\"acquired\"])\n",
    "scenes[\"published\"] = pd.to_datetime(scenes[\"published\"])\n",
    "scenes[\"updated\"] = pd.to_datetime(scenes[\"updated\"])\n",
    "# scenes.head()"
   ]
  },
  {
   "cell_type": "markdown",
   "metadata": {},
   "source": [
    "Filter to scenes that contain AOI\n",
    "\n",
    "If the number is zero, go back and redefine the AOI to be smaller"
   ]
  },
  {
   "cell_type": "code",
   "execution_count": 16,
   "metadata": {},
   "outputs": [
    {
     "name": "stdout",
     "output_type": "stream",
     "text": [
      "29\n"
     ]
    }
   ],
   "source": [
    "full_coverage = scenes[\"overlap\"] > 99\n",
    "good_scenes = scenes[(full_coverage)]\n",
    "print(len(good_scenes))"
   ]
  },
  {
   "cell_type": "markdown",
   "metadata": {},
   "source": [
    "Visualize footprints"
   ]
  },
  {
   "cell_type": "code",
   "execution_count": 17,
   "metadata": {},
   "outputs": [
    {
     "name": "stderr",
     "output_type": "stream",
     "text": [
      "Widget Javascript not detected.  It may not be installed or enabled properly.\n"
     ]
    },
    {
     "data": {
      "application/vnd.jupyter.widget-view+json": {
       "model_id": "93c663d9c7a84802b22f408c14dc564a"
      }
     },
     "metadata": {},
     "output_type": "display_data"
    }
   ],
   "source": [
    "center = aoi_map.center\n",
    "zoom = aoi_map.zoom - 1\n",
    "bounds = aoi_map.bounds\n",
    "default_tiles = aoi_map.default_tiles\n",
    "\n",
    "# Create the map\n",
    "footprints_map = ipyl.Map(\n",
    "        center=center, \n",
    "        zoom=zoom,\n",
    "        default_tiles = default_tiles\n",
    "    )\n",
    "\n",
    "\n",
    "# Add footprint features as layer\n",
    "footprints = good_scenes[\"geometry\"].tolist()\n",
    "footprint_collection = {\n",
    "    \"type\": \"FeatureCollection\",\n",
    "    \"features\": footprints\n",
    "}\n",
    "\n",
    "footprint_layer = ipyl.GeoJSON(data=footprint_collection)\n",
    "footprints_map.add_layer(footprint_layer)  \n",
    "\n",
    "# Add aoi as layer, make it a different color and with opaque fill\n",
    "aoi_feature = copy.deepcopy(aoi)\n",
    "aoi_feature['properties']['style'] = {\n",
    "    'color': 'red',\n",
    "    'fillOpacity':0.1\n",
    "}\n",
    "aoi_layer = ipyl.GeoJSON(data=aoi_feature)\n",
    "footprints_map.add_layer(aoi_layer)   \n",
    "\n",
    "# Display map and label\n",
    "ipyw.VBox([footprints_map])"
   ]
  },
  {
   "cell_type": "markdown",
   "metadata": {},
   "source": [
    "Visualize scene thumbnails\n",
    "\n",
    "If all you see are broken image icons, click one of the urls and log into the site."
   ]
  },
  {
   "cell_type": "code",
   "execution_count": 18,
   "metadata": {
    "scrolled": false
   },
   "outputs": [
    {
     "data": {
      "text/html": [
       "<img src=\"https://api.planet.com/data/v1/item-types/PSScene4Band/items/20170628_180624_0f51/thumb\"/>"
      ],
      "text/plain": [
       "<IPython.core.display.Image object>"
      ]
     },
     "metadata": {},
     "output_type": "display_data"
    },
    {
     "name": "stdout",
     "output_type": "stream",
     "text": [
      "https://api.planet.com/data/v1/item-types/PSScene4Band/items/20170628_180624_0f51/thumb\n"
     ]
    },
    {
     "data": {
      "text/html": [
       "<img src=\"https://api.planet.com/data/v1/item-types/PSScene4Band/items/20170625_180607_102d/thumb\"/>"
      ],
      "text/plain": [
       "<IPython.core.display.Image object>"
      ]
     },
     "metadata": {},
     "output_type": "display_data"
    },
    {
     "name": "stdout",
     "output_type": "stream",
     "text": [
      "https://api.planet.com/data/v1/item-types/PSScene4Band/items/20170625_180607_102d/thumb\n"
     ]
    },
    {
     "data": {
      "text/html": [
       "<img src=\"https://api.planet.com/data/v1/item-types/PSScene4Band/items/20170625_181123_0e0e/thumb\"/>"
      ],
      "text/plain": [
       "<IPython.core.display.Image object>"
      ]
     },
     "metadata": {},
     "output_type": "display_data"
    },
    {
     "name": "stdout",
     "output_type": "stream",
     "text": [
      "https://api.planet.com/data/v1/item-types/PSScene4Band/items/20170625_181123_0e0e/thumb\n"
     ]
    },
    {
     "data": {
      "text/html": [
       "<img src=\"https://api.planet.com/data/v1/item-types/PSScene4Band/items/20170622_180617_1038/thumb\"/>"
      ],
      "text/plain": [
       "<IPython.core.display.Image object>"
      ]
     },
     "metadata": {},
     "output_type": "display_data"
    },
    {
     "name": "stdout",
     "output_type": "stream",
     "text": [
      "https://api.planet.com/data/v1/item-types/PSScene4Band/items/20170622_180617_1038/thumb\n"
     ]
    },
    {
     "data": {
      "text/html": [
       "<img src=\"https://api.planet.com/data/v1/item-types/PSScene4Band/items/20170619_180556_0f42/thumb\"/>"
      ],
      "text/plain": [
       "<IPython.core.display.Image object>"
      ]
     },
     "metadata": {},
     "output_type": "display_data"
    },
    {
     "name": "stdout",
     "output_type": "stream",
     "text": [
      "https://api.planet.com/data/v1/item-types/PSScene4Band/items/20170619_180556_0f42/thumb\n"
     ]
    },
    {
     "data": {
      "text/html": [
       "<img src=\"https://api.planet.com/data/v1/item-types/PSScene4Band/items/20170615_180535_0f35/thumb\"/>"
      ],
      "text/plain": [
       "<IPython.core.display.Image object>"
      ]
     },
     "metadata": {},
     "output_type": "display_data"
    },
    {
     "name": "stdout",
     "output_type": "stream",
     "text": [
      "https://api.planet.com/data/v1/item-types/PSScene4Band/items/20170615_180535_0f35/thumb\n"
     ]
    },
    {
     "data": {
      "text/html": [
       "<img src=\"https://api.planet.com/data/v1/item-types/PSScene4Band/items/20170601_180425_0f35/thumb\"/>"
      ],
      "text/plain": [
       "<IPython.core.display.Image object>"
      ]
     },
     "metadata": {},
     "output_type": "display_data"
    },
    {
     "name": "stdout",
     "output_type": "stream",
     "text": [
      "https://api.planet.com/data/v1/item-types/PSScene4Band/items/20170601_180425_0f35/thumb\n"
     ]
    },
    {
     "data": {
      "text/html": [
       "<img src=\"https://api.planet.com/data/v1/item-types/PSScene4Band/items/20170529_180452_1007/thumb\"/>"
      ],
      "text/plain": [
       "<IPython.core.display.Image object>"
      ]
     },
     "metadata": {},
     "output_type": "display_data"
    },
    {
     "name": "stdout",
     "output_type": "stream",
     "text": [
      "https://api.planet.com/data/v1/item-types/PSScene4Band/items/20170529_180452_1007/thumb\n"
     ]
    },
    {
     "data": {
      "text/html": [
       "<img src=\"https://api.planet.com/data/v1/item-types/PSScene4Band/items/20170520_180424_1036/thumb\"/>"
      ],
      "text/plain": [
       "<IPython.core.display.Image object>"
      ]
     },
     "metadata": {},
     "output_type": "display_data"
    },
    {
     "name": "stdout",
     "output_type": "stream",
     "text": [
      "https://api.planet.com/data/v1/item-types/PSScene4Band/items/20170520_180424_1036/thumb\n"
     ]
    },
    {
     "data": {
      "text/html": [
       "<img src=\"https://api.planet.com/data/v1/item-types/PSScene4Band/items/20170513_181049_0e0d/thumb\"/>"
      ],
      "text/plain": [
       "<IPython.core.display.Image object>"
      ]
     },
     "metadata": {},
     "output_type": "display_data"
    },
    {
     "name": "stdout",
     "output_type": "stream",
     "text": [
      "https://api.planet.com/data/v1/item-types/PSScene4Band/items/20170513_181049_0e0d/thumb\n"
     ]
    },
    {
     "data": {
      "text/html": [
       "<img src=\"https://api.planet.com/data/v1/item-types/PSScene4Band/items/20170507_180354_102e/thumb\"/>"
      ],
      "text/plain": [
       "<IPython.core.display.Image object>"
      ]
     },
     "metadata": {},
     "output_type": "display_data"
    },
    {
     "name": "stdout",
     "output_type": "stream",
     "text": [
      "https://api.planet.com/data/v1/item-types/PSScene4Band/items/20170507_180354_102e/thumb\n"
     ]
    },
    {
     "data": {
      "text/html": [
       "<img src=\"https://api.planet.com/data/v1/item-types/PSScene4Band/items/20170504_180307_102f/thumb\"/>"
      ],
      "text/plain": [
       "<IPython.core.display.Image object>"
      ]
     },
     "metadata": {},
     "output_type": "display_data"
    },
    {
     "name": "stdout",
     "output_type": "stream",
     "text": [
      "https://api.planet.com/data/v1/item-types/PSScene4Band/items/20170504_180307_102f/thumb\n"
     ]
    },
    {
     "data": {
      "text/html": [
       "<img src=\"https://api.planet.com/data/v1/item-types/PSScene4Band/items/20170427_180300_1019/thumb\"/>"
      ],
      "text/plain": [
       "<IPython.core.display.Image object>"
      ]
     },
     "metadata": {},
     "output_type": "display_data"
    },
    {
     "name": "stdout",
     "output_type": "stream",
     "text": [
      "https://api.planet.com/data/v1/item-types/PSScene4Band/items/20170427_180300_1019/thumb\n"
     ]
    },
    {
     "data": {
      "text/html": [
       "<img src=\"https://api.planet.com/data/v1/item-types/PSScene4Band/items/20170422_180946_0e20/thumb\"/>"
      ],
      "text/plain": [
       "<IPython.core.display.Image object>"
      ]
     },
     "metadata": {},
     "output_type": "display_data"
    },
    {
     "name": "stdout",
     "output_type": "stream",
     "text": [
      "https://api.planet.com/data/v1/item-types/PSScene4Band/items/20170422_180946_0e20/thumb\n"
     ]
    },
    {
     "data": {
      "text/html": [
       "<img src=\"https://api.planet.com/data/v1/item-types/PSScene4Band/items/20170423_180316_102e/thumb\"/>"
      ],
      "text/plain": [
       "<IPython.core.display.Image object>"
      ]
     },
     "metadata": {},
     "output_type": "display_data"
    },
    {
     "name": "stdout",
     "output_type": "stream",
     "text": [
      "https://api.planet.com/data/v1/item-types/PSScene4Band/items/20170423_180316_102e/thumb\n"
     ]
    },
    {
     "data": {
      "text/html": [
       "<img src=\"https://api.planet.com/data/v1/item-types/PSScene4Band/items/20170420_180959_0e16/thumb\"/>"
      ],
      "text/plain": [
       "<IPython.core.display.Image object>"
      ]
     },
     "metadata": {},
     "output_type": "display_data"
    },
    {
     "name": "stdout",
     "output_type": "stream",
     "text": [
      "https://api.planet.com/data/v1/item-types/PSScene4Band/items/20170420_180959_0e16/thumb\n"
     ]
    },
    {
     "data": {
      "text/html": [
       "<img src=\"https://api.planet.com/data/v1/item-types/PSScene4Band/items/20170415_180226_1025/thumb\"/>"
      ],
      "text/plain": [
       "<IPython.core.display.Image object>"
      ]
     },
     "metadata": {},
     "output_type": "display_data"
    },
    {
     "name": "stdout",
     "output_type": "stream",
     "text": [
      "https://api.planet.com/data/v1/item-types/PSScene4Band/items/20170415_180226_1025/thumb\n"
     ]
    },
    {
     "data": {
      "text/html": [
       "<img src=\"https://api.planet.com/data/v1/item-types/PSScene4Band/items/20170312_180116_1029/thumb\"/>"
      ],
      "text/plain": [
       "<IPython.core.display.Image object>"
      ]
     },
     "metadata": {},
     "output_type": "display_data"
    },
    {
     "name": "stdout",
     "output_type": "stream",
     "text": [
      "https://api.planet.com/data/v1/item-types/PSScene4Band/items/20170312_180116_1029/thumb\n"
     ]
    },
    {
     "data": {
      "text/html": [
       "<img src=\"https://api.planet.com/data/v1/item-types/PSScene4Band/items/20170312_180816_0e0e/thumb\"/>"
      ],
      "text/plain": [
       "<IPython.core.display.Image object>"
      ]
     },
     "metadata": {},
     "output_type": "display_data"
    },
    {
     "name": "stdout",
     "output_type": "stream",
     "text": [
      "https://api.planet.com/data/v1/item-types/PSScene4Band/items/20170312_180816_0e0e/thumb\n"
     ]
    },
    {
     "data": {
      "text/html": [
       "<img src=\"https://api.planet.com/data/v1/item-types/PSScene4Band/items/20170223_180844_0e20/thumb\"/>"
      ],
      "text/plain": [
       "<IPython.core.display.Image object>"
      ]
     },
     "metadata": {},
     "output_type": "display_data"
    },
    {
     "name": "stdout",
     "output_type": "stream",
     "text": [
      "https://api.planet.com/data/v1/item-types/PSScene4Band/items/20170223_180844_0e20/thumb\n"
     ]
    },
    {
     "data": {
      "text/html": [
       "<img src=\"https://api.planet.com/data/v1/item-types/PSScene4Band/items/20170102_180712_0e0d/thumb\"/>"
      ],
      "text/plain": [
       "<IPython.core.display.Image object>"
      ]
     },
     "metadata": {},
     "output_type": "display_data"
    },
    {
     "name": "stdout",
     "output_type": "stream",
     "text": [
      "https://api.planet.com/data/v1/item-types/PSScene4Band/items/20170102_180712_0e0d/thumb\n"
     ]
    },
    {
     "data": {
      "text/html": [
       "<img src=\"https://api.planet.com/data/v1/item-types/PSScene4Band/items/20161109_180546_0e16/thumb\"/>"
      ],
      "text/plain": [
       "<IPython.core.display.Image object>"
      ]
     },
     "metadata": {},
     "output_type": "display_data"
    },
    {
     "name": "stdout",
     "output_type": "stream",
     "text": [
      "https://api.planet.com/data/v1/item-types/PSScene4Band/items/20161109_180546_0e16/thumb\n"
     ]
    },
    {
     "data": {
      "text/html": [
       "<img src=\"https://api.planet.com/data/v1/item-types/PSScene4Band/items/20161129_180538_0e16/thumb\"/>"
      ],
      "text/plain": [
       "<IPython.core.display.Image object>"
      ]
     },
     "metadata": {},
     "output_type": "display_data"
    },
    {
     "name": "stdout",
     "output_type": "stream",
     "text": [
      "https://api.planet.com/data/v1/item-types/PSScene4Band/items/20161129_180538_0e16/thumb\n"
     ]
    },
    {
     "data": {
      "text/html": [
       "<img src=\"https://api.planet.com/data/v1/item-types/PSScene4Band/items/20161124_180547_0e16/thumb\"/>"
      ],
      "text/plain": [
       "<IPython.core.display.Image object>"
      ]
     },
     "metadata": {},
     "output_type": "display_data"
    },
    {
     "name": "stdout",
     "output_type": "stream",
     "text": [
      "https://api.planet.com/data/v1/item-types/PSScene4Band/items/20161124_180547_0e16/thumb\n"
     ]
    },
    {
     "data": {
      "text/html": [
       "<img src=\"https://api.planet.com/data/v1/item-types/PSScene4Band/items/20161114_180551_0e16/thumb\"/>"
      ],
      "text/plain": [
       "<IPython.core.display.Image object>"
      ]
     },
     "metadata": {},
     "output_type": "display_data"
    },
    {
     "name": "stdout",
     "output_type": "stream",
     "text": [
      "https://api.planet.com/data/v1/item-types/PSScene4Band/items/20161114_180551_0e16/thumb\n"
     ]
    },
    {
     "data": {
      "text/html": [
       "<img src=\"https://api.planet.com/data/v1/item-types/PSScene4Band/items/20160822_181211_0c42/thumb\"/>"
      ],
      "text/plain": [
       "<IPython.core.display.Image object>"
      ]
     },
     "metadata": {},
     "output_type": "display_data"
    },
    {
     "name": "stdout",
     "output_type": "stream",
     "text": [
      "https://api.planet.com/data/v1/item-types/PSScene4Band/items/20160822_181211_0c42/thumb\n"
     ]
    },
    {
     "data": {
      "text/html": [
       "<img src=\"https://api.planet.com/data/v1/item-types/PSScene4Band/items/20161015_180432_0e2f/thumb\"/>"
      ],
      "text/plain": [
       "<IPython.core.display.Image object>"
      ]
     },
     "metadata": {},
     "output_type": "display_data"
    },
    {
     "name": "stdout",
     "output_type": "stream",
     "text": [
      "https://api.planet.com/data/v1/item-types/PSScene4Band/items/20161015_180432_0e2f/thumb\n"
     ]
    },
    {
     "data": {
      "text/html": [
       "<img src=\"https://api.planet.com/data/v1/item-types/PSScene4Band/items/20160809_180240_0e16/thumb\"/>"
      ],
      "text/plain": [
       "<IPython.core.display.Image object>"
      ]
     },
     "metadata": {},
     "output_type": "display_data"
    },
    {
     "name": "stdout",
     "output_type": "stream",
     "text": [
      "https://api.planet.com/data/v1/item-types/PSScene4Band/items/20160809_180240_0e16/thumb\n"
     ]
    },
    {
     "data": {
      "text/html": [
       "<img src=\"https://api.planet.com/data/v1/item-types/PSScene4Band/items/20160831_180231_0e0e/thumb\"/>"
      ],
      "text/plain": [
       "<IPython.core.display.Image object>"
      ]
     },
     "metadata": {},
     "output_type": "display_data"
    },
    {
     "name": "stdout",
     "output_type": "stream",
     "text": [
      "https://api.planet.com/data/v1/item-types/PSScene4Band/items/20160831_180231_0e0e/thumb\n"
     ]
    }
   ],
   "source": [
    "imgs = []\n",
    "# loop through our thumbnails and add display them\n",
    "for thumb_url, scene_good_scenes['thumbnail'].tolist():\n",
    "    img_image = Image(url=img)\n",
    "    display(img_image)\n",
    "    print(img)"
   ]
  },
  {
   "cell_type": "markdown",
   "metadata": {},
   "source": [
    "## Download and Visualize Planet Scene\n",
    "\n",
    "The scene thumbnail specified as 'https://api.planet.com/data/v1/item-types/PSScene4Band/items/20160831_180231_0e0e/thumb' looks pretty good. It is from August 2016 and looks pretty clear. \n",
    "\n",
    "We will download and visualize this scene."
   ]
  },
  {
   "cell_type": "markdown",
   "metadata": {},
   "source": [
    "Build scene description"
   ]
  },
  {
   "cell_type": "code",
   "execution_count": 36,
   "metadata": {},
   "outputs": [
    {
     "name": "stdout",
     "output_type": "stream",
     "text": [
      "20160831_180231_0e0e\n"
     ]
    }
   ],
   "source": [
    "analysis_thumbnail = 'https://api.planet.com/data/v1/item-types/PSScene4Band/items/20160831_180231_0e0e/thumb'\n",
    "thumbnail_match = scenes[\"thumbnail\"] == analysis_thumbnail\n",
    "analysis_scene_id = scenes[(thumbnail_match)][\"id\"].tolist()[0]\n",
    "print(analysis_scene_id)"
   ]
  },
  {
   "cell_type": "code",
   "execution_count": 75,
   "metadata": {
    "collapsed": true
   },
   "outputs": [],
   "source": [
    "product_desc = {\n",
    "    'id': analysis_scene_id,\n",
    "    'asset': 'PSScene4Band',\n",
    "    'product': 'analytic'\n",
    "}"
   ]
  },
  {
   "cell_type": "markdown",
   "metadata": {},
   "source": [
    "Confirm product exists"
   ]
  },
  {
   "cell_type": "code",
   "execution_count": 76,
   "metadata": {},
   "outputs": [],
   "source": [
    "def get_product_info(client, desc):\n",
    "    \"\"\"Get product information from planet api\"\"\"\n",
    "    temp = client.get_assets_by_id(desc['asset'], desc['id'])  \n",
    "    products = temp.get()\n",
    "    return products[desc['product']]"
   ]
  },
  {
   "cell_type": "code",
   "execution_count": 77,
   "metadata": {},
   "outputs": [
    {
     "data": {
      "text/plain": [
       "True"
      ]
     },
     "execution_count": 77,
     "metadata": {},
     "output_type": "execute_result"
    }
   ],
   "source": [
    "# https://github.com/kscottz/PythonFromSpace/blob/master/TheBasics.ipynb\n",
    "def product_exists(client, desc):\n",
    "    try:\n",
    "        get_product_info(client, desc)\n",
    "        return True\n",
    "    except KeyError:\n",
    "        # product not in list of products for scene id and asset type\n",
    "        return False\n",
    "\n",
    "product_exists(client, product_desc)"
   ]
  },
  {
   "cell_type": "markdown",
   "metadata": {},
   "source": [
    "Activate product"
   ]
  },
  {
   "cell_type": "code",
   "execution_count": 78,
   "metadata": {},
   "outputs": [
    {
     "data": {
      "text/plain": [
       "<planet.api.models.Body at 0x7f0428bf7950>"
      ]
     },
     "execution_count": 78,
     "metadata": {},
     "output_type": "execute_result"
    }
   ],
   "source": [
    "client.activate(get_product_info(client, product_desc))"
   ]
  },
  {
   "cell_type": "markdown",
   "metadata": {},
   "source": [
    "Check if scene is active"
   ]
  },
  {
   "cell_type": "code",
   "execution_count": 79,
   "metadata": {},
   "outputs": [
    {
     "data": {
      "text/plain": [
       "True"
      ]
     },
     "execution_count": 79,
     "metadata": {},
     "output_type": "execute_result"
    }
   ],
   "source": [
    "def product_is_active(client, desc):\n",
    "    product = get_product_info(client, desc)\n",
    "    return 'active' == product['status']\n",
    "\n",
    "product_is_active(client, product_desc)"
   ]
  },
  {
   "cell_type": "code",
   "execution_count": 82,
   "metadata": {},
   "outputs": [
    {
     "name": "stdout",
     "output_type": "stream",
     "text": [
      "20160831_180231_0e0e_3B_AnalyticMS.tif\n"
     ]
    }
   ],
   "source": [
    "# https://github.com/kscottz/PythonFromSpace/blob/master/TheBasics.ipynb\n",
    "def download_and_save(client, desc):\n",
    "    out = client.download(get_product_info(client, desc))\n",
    "    fp = out.get_body()\n",
    "    fp.write()\n",
    "    return fp.name\n",
    "\n",
    "saved_file = download_and_save(client, product_desc)\n",
    "print(saved_file)"
   ]
  },
  {
   "cell_type": "markdown",
   "metadata": {},
   "source": [
    "## Crop Datasets to AOI\n",
    "\n",
    "Here we crop the saved image and the ground truth data to the AOI"
   ]
  },
  {
   "cell_type": "code",
   "execution_count": null,
   "metadata": {
    "collapsed": true
   },
   "outputs": [],
   "source": []
  }
 ],
 "metadata": {
  "kernelspec": {
   "display_name": "Python 2",
   "language": "python",
   "name": "python2"
  },
  "language_info": {
   "codemirror_mode": {
    "name": "ipython",
    "version": 2
   },
   "file_extension": ".py",
   "mimetype": "text/x-python",
   "name": "python",
   "nbconvert_exporter": "python",
   "pygments_lexer": "ipython2",
   "version": "2.7.13"
  }
 },
 "nbformat": 4,
 "nbformat_minor": 2
}
