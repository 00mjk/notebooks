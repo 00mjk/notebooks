{
 "cells": [
  {
   "cell_type": "markdown",
   "metadata": {},
   "source": [
    "# Crop Segmentation and Classification\n",
    "\n",
    "In this notebook, we demonstrate and compare techniques for segmentation and classification of crops using Planet imagery. A metric will be established to quantify accuracy of crop classification and will be used to compare technique results.\n",
    "\n",
    "The general sections are:\n",
    "1. [Identify area of interest and data](#data)\n",
    "2. [Crop Segmentation](#segmentation)\n",
    "3. [Crop Classification](#classification)"
   ]
  },
  {
   "cell_type": "code",
   "execution_count": 1,
   "metadata": {},
   "outputs": [],
   "source": [
    "# Notebook dependencies\n",
    "from __future__ import print_function\n",
    "\n",
    "from functools import partial\n",
    "import json\n",
    "import os\n",
    "\n",
    "\n",
    "import ipyleaflet as ipyl\n",
    "import ipywidgets as ipyw\n",
    "import fiona\n",
    "import pyproj\n",
    "import shapely\n",
    "from shapely.geometry import shape, mapping\n",
    "from shapely.ops import transform"
   ]
  },
  {
   "cell_type": "markdown",
   "metadata": {},
   "source": [
    "<a id='data'></a>\n",
    "\n",
    "## Identify area of interest and data\n",
    "\n",
    "Ground truth crop type and boundary data is not easy to come by. Therefore, the area and time of interest for this problem is primarily defined by the availability of ground truth data. The [2015 Sacramento County Land Use DWR Survey Dataset](http://www.water.ca.gov/landwateruse/lusrvymain.cfm) is a free dataset covering Sacramento county in 2015. It provides hand-adjusted boundaries and provides crop types.\n",
    "\n",
    "The satellite imagery we will use in this study are Landsat 8 and SSO Planetscope 2 imagery. SSO Planetscope 2 satellites were launched Feb 14, 2017 ([news release](https://www.planet.com/pulse/planet-launches-satellite-constellation-to-image-the-whole-planet-daily/)), therefore they did not image Sacramento county in 2015. Landsat 8 will be used as a bridge between 2015 and 2017."
   ]
  },
  {
   "cell_type": "markdown",
   "metadata": {},
   "source": [
    "### Explore Ground Truth Data\n",
    "\n",
    "#### Downloading data\n",
    "To obtain and prepare the ground truth data, download the shapefile zip file from (http://www.water.ca.gov/landwateruse/docs/landusedata/shapes/15sa.zip) and then unzip into /data.\n",
    "\n",
    "Execute the following commands in `crop-classification` directory:\n",
    "```\n",
    "mkdir data\n",
    "mkdir data/dwr_survey\n",
    "wget http://www.water.ca.gov/landwateruse/docs/landusedata/shapes/15sa.zip\n",
    "unzip 15sa.zip -d data/dwr_survey/\n",
    "```\n",
    "\n",
    "expected output:\n",
    "```\n",
    "Archive:  15sa.zip\n",
    "  inflating: data/dwr_survey/SA15.dbf  \n",
    "  inflating: data/dwr_survey/SA15.jgw  \n",
    "  inflating: data/dwr_survey/SA15.jpg  \n",
    "  inflating: data/dwr_survey/SA15.prj  \n",
    "  inflating: data/dwr_survey/SA15.shp  \n",
    "  inflating: data/dwr_survey/SA15.shp.xml  \n",
    "  inflating: data/dwr_survey/SA15.shx  \n",
    "  inflating: data/dwr_survey/DWR Data Disclaimer.pdf  \n",
    "  inflating: data/dwr_survey/SA15Meta.pdf  \n",
    "  inflating: data/dwr_survey/attributes_rev02102010.pdf  \n",
    "  inflating: data/dwr_survey/09legend.pdf  \n",
    "```"
   ]
  },
  {
   "cell_type": "code",
   "execution_count": 2,
   "metadata": {
    "collapsed": true
   },
   "outputs": [],
   "source": [
    "# Let's specify the shapefile location and ensure it indeed exists\n",
    "survey_shapefile = 'data/dwr_survey/SA15.shp'\n",
    "assert os.path.isfile(survey_shapefile)"
   ]
  },
  {
   "cell_type": "markdown",
   "metadata": {},
   "source": [
    "#### Load the survey shapefile\n",
    "\n",
    "We will use [fiona](http://toblerity.org/fiona/manual.html) to load the shapefile, [shapely](http://toblerity.org/shapely/manual.html) to manage the geometries"
   ]
  },
  {
   "cell_type": "markdown",
   "metadata": {},
   "source": [
    "##### Reproject to WGS84\n",
    "\n",
    "What is the coordinate reference system for this dataset?"
   ]
  },
  {
   "cell_type": "code",
   "execution_count": 3,
   "metadata": {},
   "outputs": [
    {
     "name": "stdout",
     "output_type": "stream",
     "text": [
      "epsg:26910\n"
     ]
    }
   ],
   "source": [
    "with fiona.open(survey_shapefile, 'r') as survey_data:\n",
    "    src_proj = survey_data.crs['init']\n",
    "print(src_proj)"
   ]
  },
  {
   "cell_type": "markdown",
   "metadata": {},
   "source": [
    "Turns out it is [EPSG:26910](http://spatialreference.org/ref/epsg/26910/). Geojson only supports [EPSG:4326](http://spatialreference.org/ref/epsg/4326/). We will need to reproject the shapes."
   ]
  },
  {
   "cell_type": "code",
   "execution_count": 15,
   "metadata": {
    "collapsed": true
   },
   "outputs": [],
   "source": [
    "# define projection\n",
    "# from shapely [docs](http://toblerity.org/shapely/manual.html#shapely.ops.transform)\n",
    "dst_proj = 'epsg:4326'\n",
    "project_to_wkt = partial(\n",
    "    pyproj.transform,\n",
    "    pyproj.Proj(init=src_proj),\n",
    "    pyproj.Proj(init=dst_proj))\n",
    "\n",
    "def project_feature(feat):\n",
    "    g1 = shape(feat['geometry'])\n",
    "    g2 = transform(project_to_wkt, g1)\n",
    "    feat['geometry'] = mapping(g2)"
   ]
  },
  {
   "cell_type": "markdown",
   "metadata": {},
   "source": [
    "##### Filter survey data to agricultural classes\n",
    "\n",
    "The survey data has attributes that provide the crop type. These attributes are described in a pdf distributed with the shapefile. It was unzipped along with the shapefile files and is located at `data/dwr_survey/09legend.pdf`.\n",
    "\n",
    "We are interested in the agricultural classes. Class is specified by the 'CLASS1' attribute of the feature and agricultural classes are: G, R, F, P, T, D, C, and V."
   ]
  },
  {
   "cell_type": "code",
   "execution_count": 16,
   "metadata": {},
   "outputs": [],
   "source": [
    "agg_classes = ['G', 'R', 'F', 'P', 'T', 'D', 'C', 'V']\n",
    "\n",
    "def is_agricultural(feat):\n",
    "    return feat['properties']['CLASS1'] in agg_classes"
   ]
  },
  {
   "cell_type": "markdown",
   "metadata": {},
   "source": [
    "#### Finally: Load data"
   ]
  },
  {
   "cell_type": "code",
   "execution_count": 17,
   "metadata": {},
   "outputs": [
    {
     "name": "stdout",
     "output_type": "stream",
     "text": [
      "7429\n"
     ]
    }
   ],
   "source": [
    "features = []\n",
    "with fiona.open(survey_shapefile) as survey_data:\n",
    "    for feat in survey_data:\n",
    "        if is_agricultural(feat):\n",
    "            project_feature(feat)\n",
    "            features.append(feat)\n",
    "print(len(features))"
   ]
  },
  {
   "cell_type": "code",
   "execution_count": 18,
   "metadata": {
    "collapsed": true
   },
   "outputs": [],
   "source": [
    "# Assign colors to classes\n",
    "# colors determined using [colorbrewer2.org](http://colorbrewer2.org/#type=sequential&scheme=BuGn&n=3)\n",
    "colors = ['#ffffd9','#edf8b1','#c7e9b4','#7fcdbb','#41b6c4','#1d91c0','#225ea8','#0c2c84']\n",
    "class_colors = dict((a,c) for a,c in zip(agg_classes, colors))\n",
    "def get_color(cls):\n",
    "    return class_colors[cls]"
   ]
  },
  {
   "cell_type": "code",
   "execution_count": 21,
   "metadata": {
    "collapsed": true
   },
   "outputs": [],
   "source": [
    "# Initialize map, deleting map instance if it exists\n",
    "try:\n",
    "    del filtered_map\n",
    "except NameError:\n",
    "    pass\n",
    "\n",
    "zoom = 9\n",
    "center = [38.3586252, -121.3853994] # lat/lon\n",
    "bounds = None #[(38.23467444211417, -121.66706085205077), (38.342464018725714, -121.32030487060547)]"
   ]
  },
  {
   "cell_type": "code",
   "execution_count": 22,
   "metadata": {},
   "outputs": [
    {
     "data": {
      "application/vnd.jupyter.widget-view+json": {
       "model_id": "54dbcea2e2674d4eb8fa5dbe682407fd"
      }
     },
     "metadata": {},
     "output_type": "display_data"
    }
   ],
   "source": [
    "# Reuse map parameters if map already defined\n",
    "try:\n",
    "    center = filtered_map.center\n",
    "    print(center)\n",
    "    zoom = filtered_map.zoom\n",
    "    print(zoom)\n",
    "    bounds = filtered_map.bounds\n",
    "    print(bounds)\n",
    "except NameError:\n",
    "    pass\n",
    "\n",
    "# Create the map\n",
    "filtered_map = ipyl.Map(\n",
    "        center=center, \n",
    "        zoom=zoom,\n",
    "    )\n",
    "\n",
    "if bounds is not None:\n",
    "    # create bound box geometry from map bounds readout\n",
    "    bounds_box = shapely.geometry.box(bounds[0][1], bounds[0][0],\n",
    "                                      bounds[1][1], bounds[1][0])\n",
    "\n",
    "    # display bounds box\n",
    "    bounds_feature = {\n",
    "        'geometry':mapping(bounds_box),\n",
    "        \"properties\":{\n",
    "                'style':{'color': 'gray','fillColor': 'gray','fillOpacity': 0.5,'weight': 1}},\n",
    "        'type':u\"Feature\"}\n",
    "\n",
    "    bounds_layer = ipyl.GeoJSON(data=bounds_feature)\n",
    "    filtered_map.add_layer(bounds_layer)\n",
    "\n",
    "    # filter to bounds\n",
    "    display_features = [f for f in agg_features if shape(f['geometry']).within(bounds_box)]\n",
    "    \n",
    "else:\n",
    "    display_features = agg_features\n",
    "\n",
    "feature_collection = {\n",
    "    \"type\": \"FeatureCollection\",\n",
    "    \"features\": display_features\n",
    "}\n",
    "\n",
    "for f in feature_collection['features']:\n",
    "    feature_color = get_color(f['properties']['CLASS1'])\n",
    "    f['properties']['style'] = {\n",
    "        'weight': 0,\n",
    "        'fillColor': feature_color,\n",
    "        'fillOpacity': 1}\n",
    "\n",
    "feature_layer = ipyl.GeoJSON(data=feature_collection)\n",
    "\n",
    "# Display class as label\n",
    "label = ipyw.Label(layout=ipyw.Layout(width='100%'))\n",
    "def hover_handler(event=None, id=None, properties=None):\n",
    "    label.value = 'class: {}'.format(properties['CLASS1'])\n",
    "\n",
    "feature_layer.on_hover(hover_handler)\n",
    "filtered_map.add_layer(feature_layer)   \n",
    "\n",
    "# Display\n",
    "ipyw.VBox([filtered_map, label])\n",
    "\n",
    "# NOTE: it may take a little while for this to display"
   ]
  },
  {
   "cell_type": "markdown",
   "metadata": {},
   "source": [
    "<a id='segmentation'></a>\n",
    "\n",
    "## Crop segmentation\n",
    "\n",
    "TODO"
   ]
  },
  {
   "cell_type": "markdown",
   "metadata": {},
   "source": [
    "<a id='classification'></a>\n",
    "\n",
    "## Crop classification\n",
    "\n",
    "TODO"
   ]
  },
  {
   "cell_type": "code",
   "execution_count": null,
   "metadata": {
    "collapsed": true
   },
   "outputs": [],
   "source": []
  }
 ],
 "metadata": {
  "kernelspec": {
   "display_name": "Python 2",
   "language": "python",
   "name": "python2"
  },
  "language_info": {
   "codemirror_mode": {
    "name": "ipython",
    "version": 2
   },
   "file_extension": ".py",
   "mimetype": "text/x-python",
   "name": "python",
   "nbconvert_exporter": "python",
   "pygments_lexer": "ipython2",
   "version": "2.7.13"
  }
 },
 "nbformat": 4,
 "nbformat_minor": 2
}
