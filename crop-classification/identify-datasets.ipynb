{
 "cells": [
  {
   "cell_type": "markdown",
   "metadata": {},
   "source": [
    "# Identify Datasets\n",
    "\n",
    "This notebook is a part of the [Crop Segmentation and Classification](crop-segmentation-and-classification.ipynb) notebook project. In this notebook, we identify the ground truth data and imagery data for use in crop segmentation and classification.\n",
    "\n",
    "The general sections are:\n",
    "1. [Explore Ground Truth Data](#ground_truth)\n",
    "2. [Identify Area of Interest](#aoi)\n",
    "3. [Download Planet Scene](#pl_scene)\n",
    "\n",
    "Ground truth crop type and boundary data is not easy to come by. Therefore, the area and time of interest for this problem is primarily defined by the availability of ground truth data. The [2015 Sacramento County Land Use DWR Survey Dataset](http://www.water.ca.gov/landwateruse/lusrvymain.cfm) is a free dataset covering Sacramento county in 2015. It provides hand-adjusted boundaries and provides crop types.\n",
    "\n",
    "The satellite imagery we will use in this study are Landsat 8 and SSO Planetscope 2 imagery. SSO Planetscope 2 satellites were launched Feb 14, 2017 ([news release](https://www.planet.com/pulse/planet-launches-satellite-constellation-to-image-the-whole-planet-daily/)), therefore they did not image Sacramento county in 2015. Landsat 8 will be used as a bridge between 2015 and 2017.\n",
    "\n",
    "### Usage Notes\n",
    "\n",
    "This notebook was developed in a Docker container. This [Dockerfile](Dockerfile) was used to build the image.\n",
    "\n",
    "The user-specific planet api key must be stored in the environmental variable $PL_API_KEY. To pass this key into the Docker container, add -e PL_API_KEY=your_api_key when you call docker run (replace 'your_api_key' with your api key)."
   ]
  },
  {
   "cell_type": "code",
   "execution_count": 1,
   "metadata": {
    "collapsed": true
   },
   "outputs": [],
   "source": [
    "# Notebook dependencies\n",
    "from __future__ import print_function\n",
    "\n",
    "import copy\n",
    "import datetime\n",
    "from functools import partial\n",
    "import json\n",
    "import os\n",
    "\n",
    "import ipyleaflet as ipyl\n",
    "import ipywidgets as ipyw\n",
    "from IPython.display import display, Image\n",
    "import fiona\n",
    "import pandas as pd\n",
    "from planet import api\n",
    "from planet.api import filters\n",
    "import pyproj\n",
    "import shapely\n",
    "from shapely.geometry import shape, mapping\n",
    "from shapely.ops import transform"
   ]
  },
  {
   "cell_type": "code",
   "execution_count": 2,
   "metadata": {},
   "outputs": [
    {
     "name": "stdout",
     "output_type": "stream",
     "text": [
      "name: python2\r\n",
      "channels:\r\n",
      "- conda-forge\r\n",
      "- defaults\r\n",
      "dependencies:\r\n",
      "- affine=2.1.0=py27_0\r\n",
      "- asn1crypto=0.22.0=py27_0\r\n",
      "- backports.shutil_get_terminal_size=1.0.0=py27_1\r\n",
      "- backports_abc=0.5=py27_0\r\n",
      "- beautifulsoup4=4.5.3=py27_0\r\n",
      "- bkcharts=0.2=py27_0\r\n",
      "- blas=1.1=openblas\r\n",
      "- bleach=1.5.0=py27_0\r\n",
      "- bokeh=0.12.6=py27_0\r\n",
      "- boost=1.64.0=np112py27_2\r\n",
      "- boost-cpp=1.64.0=1\r\n",
      "- boto3=1.4.4=py27_0\r\n",
      "- botocore=1.5.84=py27_0\r\n",
      "- bzip2=1.0.6=1\r\n",
      "- ca-certificates=2017.4.17=0\r\n",
      "- cairo=1.14.6=4\r\n",
      "- certifi=2017.4.17=py27_0\r\n",
      "- cffi=1.10.0=py27_0\r\n",
      "- chardet=3.0.2=py27_1\r\n",
      "- click=6.7=py27_0\r\n",
      "- click-plugins=1.0.3=py27_0\r\n",
      "- cligj=0.4.0=py27_0\r\n",
      "- cloudpickle=0.2.2=py27_4\r\n",
      "- configparser=3.5.0=py27_0\r\n",
      "- cryptography=1.9=py27_0\r\n",
      "- curl=7.52.1=0\r\n",
      "- cycler=0.10.0=py27_0\r\n",
      "- cython=0.25.2=py27_1\r\n",
      "- dask=0.15.0=py27_0\r\n",
      "- dbus=1.10.10=3\r\n",
      "- decorator=4.0.11=py27_0\r\n",
      "- dill=0.2.6=py27_0\r\n",
      "- distributed=1.17.1=py27_0\r\n",
      "- docutils=0.13.1=py27_0\r\n",
      "- entrypoints=0.2.3=py27_1\r\n",
      "- enum34=1.1.6=py27_1\r\n",
      "- expat=2.1.0=2\r\n",
      "- fastcache=1.0.2=py27_0\r\n",
      "- ffmpeg=3.2.4=1\r\n",
      "- fiona=1.7.8=np112py27_0\r\n",
      "- fontconfig=2.12.1=4\r\n",
      "- freetype=2.7=1\r\n",
      "- freexl=1.0.2=1\r\n",
      "- funcsigs=1.0.2=py27_0\r\n",
      "- functools32=3.2.3.2=py27_1\r\n",
      "- futures=3.0.5=py27_0\r\n",
      "- gdal=2.2.1=np112py27_0\r\n",
      "- geos=3.5.1=1\r\n",
      "- gettext=0.19.7=1\r\n",
      "- giflib=5.1.4=0\r\n",
      "- glib=2.51.4=0\r\n",
      "- gmp=6.1.2=0\r\n",
      "- gst-plugins-base=1.8.0=0\r\n",
      "- gstreamer=1.8.0=2\r\n",
      "- h5py=2.7.0=np112py27_1\r\n",
      "- harfbuzz=1.3.4=2\r\n",
      "- hdf4=4.2.12=0\r\n",
      "- hdf5=1.8.18=0\r\n",
      "- heapdict=1.0.0=py27_0\r\n",
      "- html5lib=0.9999999=py27_0\r\n",
      "- icu=58.1=1\r\n",
      "- idna=2.5=py27_0\r\n",
      "- ipaddress=1.0.18=py27_0\r\n",
      "- ipykernel=4.6.1=py27_0\r\n",
      "- ipyleaflet=0.3.0=py27_0\r\n",
      "- ipython=5.3.0=py27_0\r\n",
      "- ipython_genutils=0.2.0=py27_0\r\n",
      "- ipywidgets=6.0.0=py27_0\r\n",
      "- jasper=1.900.1=4\r\n",
      "- jinja2=2.9.5=py27_0\r\n",
      "- jmespath=0.9.3=py27_0\r\n",
      "- jpeg=9b=0\r\n",
      "- json-c=0.12=0\r\n",
      "- jsonschema=2.5.1=py27_0\r\n",
      "- jupyter_client=5.1.0=py27_0\r\n",
      "- jupyter_core=4.3.0=py27_0\r\n",
      "- kealib=1.4.7=2\r\n",
      "- krb5=1.14.2=0\r\n",
      "- libdap4=3.18.3=2\r\n",
      "- libffi=3.2.1=3\r\n",
      "- libgdal=2.2.1=1\r\n",
      "- libiconv=1.14=4\r\n",
      "- libkml=1.3.0=0\r\n",
      "- libnetcdf=4.4.1.1=5\r\n",
      "- libpng=1.6.28=0\r\n",
      "- libpq=9.5.4=4\r\n",
      "- libsodium=1.0.10=0\r\n",
      "- libspatialite=4.3.0a=15\r\n",
      "- libtiff=4.0.6=7\r\n",
      "- libwebp=0.5.2=7\r\n",
      "- libxcb=1.12=1\r\n",
      "- libxml2=2.9.4=4\r\n",
      "- locket=0.2.0=py27_1\r\n",
      "- markupsafe=1.0=py27_0\r\n",
      "- matplotlib=2.0.2=np112py27_0\r\n",
      "- mistune=0.7.4=py27_0\r\n",
      "- mpmath=0.19=py27_2\r\n",
      "- msgpack-python=0.4.8=py27_0\r\n",
      "- munch=2.1.1=py27_0\r\n",
      "- nbconvert=5.2.1=py27_1\r\n",
      "- nbformat=4.3.0=py27_0\r\n",
      "- ncurses=5.9=10\r\n",
      "- networkx=1.11=py27_0\r\n",
      "- notebook=5.0.0=py27_0\r\n",
      "- numpy=1.12.1=py27_blas_openblas_200\r\n",
      "- olefile=0.44=py27_0\r\n",
      "- openblas=0.2.19=2\r\n",
      "- opencv=3.2.0=np112py27_blas_openblas_204\r\n",
      "- openjpeg=2.1.2=3\r\n",
      "- openssl=1.0.2k=0\r\n",
      "- pandas=0.19.2=np112py27_1\r\n",
      "- pandoc=1.19.2=0\r\n",
      "- pandocfilters=1.4.1=py27_0\r\n",
      "- partd=0.3.8=py27_0\r\n",
      "- pathlib2=2.3.0=py27_0\r\n",
      "- patsy=0.4.1=py27_0\r\n",
      "- pcre=8.39=0\r\n",
      "- pexpect=4.2.1=py27_0\r\n",
      "- pickleshare=0.7.3=py27_0\r\n",
      "- pillow=4.1.1=py27_0\r\n",
      "- pip=9.0.1=py27_0\r\n",
      "- pixman=0.34.0=0\r\n",
      "- poppler=0.52.0=2\r\n",
      "- poppler-data=0.4.7=0\r\n",
      "- proj4=4.9.3=4\r\n",
      "- prompt_toolkit=1.0.14=py27_0\r\n",
      "- psutil=5.2.1=py27_0\r\n",
      "- ptyprocess=0.5.2=py27_0\r\n",
      "- pycparser=2.17=py27_0\r\n",
      "- pygments=2.2.0=py27_0\r\n",
      "- pyopenssl=16.2.0=py27_0\r\n",
      "- pyparsing=2.2.0=py27_0\r\n",
      "- pyproj=1.9.5.1=py27_0\r\n",
      "- pyqt=5.6.0=py27_4\r\n",
      "- pysocks=1.6.7=py27_0\r\n",
      "- python=2.7.13=1\r\n",
      "- python-dateutil=2.6.0=py27_0\r\n",
      "- pytz=2017.2=py27_0\r\n",
      "- pyyaml=3.12=py27_1\r\n",
      "- pyzmq=16.0.2=py27_2\r\n",
      "- qt=5.6.2=3\r\n",
      "- rasterio=1.0a9=np112py27_0\r\n",
      "- readline=6.2=0\r\n",
      "- requests=2.18.1=py27_0\r\n",
      "- s3transfer=0.1.10=py27_1\r\n",
      "- scandir=1.5=py27_1\r\n",
      "- scikit-image=0.12.3=np112py27_1\r\n",
      "- scikit-learn=0.18.2=np112py27_blas_openblas_200\r\n",
      "- scipy=0.19.1=np112py27_blas_openblas_200\r\n",
      "- seaborn=0.7.1=py27_0\r\n",
      "- setuptools=33.1.1=py27_0\r\n",
      "- shapely=1.5.17=np112py27_3\r\n",
      "- simplegeneric=0.8.1=py27_0\r\n",
      "- singledispatch=3.4.0.3=py27_0\r\n",
      "- sip=4.18=py27_1\r\n",
      "- six=1.10.0=py27_1\r\n",
      "- snuggs=1.4.1=py27_0\r\n",
      "- sortedcontainers=1.5.3=py27_0\r\n",
      "- sqlalchemy=1.1.11=py27_0\r\n",
      "- sqlite=3.13.0=1\r\n",
      "- ssl_match_hostname=3.5.0.1=py27_1\r\n",
      "- statsmodels=0.8.0=np112py27_0\r\n",
      "- subprocess32=3.2.7=py27_0\r\n",
      "- sympy=1.0=py27_0\r\n",
      "- tblib=1.3.2=py27_0\r\n",
      "- terminado=0.6=py27_0\r\n",
      "- testpath=0.3=py27_0\r\n",
      "- tk=8.5.19=1\r\n",
      "- toolz=0.8.2=py27_0\r\n",
      "- tornado=4.5.1=py27_0\r\n",
      "- traitlets=4.3.2=py27_0\r\n",
      "- urllib3=1.21.1=py27_1\r\n",
      "- vincent=0.4.4=py27_0\r\n",
      "- wcwidth=0.1.7=py27_0\r\n",
      "- webencodings=0.5=py27_0\r\n",
      "- wheel=0.29.0=py27_0\r\n",
      "- widgetsnbextension=2.0.0=py27_0\r\n",
      "- x264=20131217=3\r\n",
      "- xerces-c=3.1.4=3\r\n",
      "- xlrd=1.0.0=py27_1\r\n",
      "- xorg-libxau=1.0.8=3\r\n",
      "- xorg-libxdmcp=1.1.2=3\r\n",
      "- xz=5.2.2=0\r\n",
      "- yaml=0.1.6=0\r\n",
      "- zeromq=4.2.1=1\r\n",
      "- zict=0.1.2=py27_0\r\n",
      "- zlib=1.2.11=0\r\n",
      "- libgfortran=3.0.0=1\r\n",
      "- llvmlite=0.16.0=py27_0\r\n",
      "- nomkl=1.0=0\r\n",
      "- numba=0.31.0=np112py27_0\r\n",
      "- numexpr=2.6.2=np112py27_nomkl_0\r\n",
      "- util-linux=2.21=0\r\n",
      "- pip:\r\n",
      "  - backports-abc==0.5\r\n",
      "  - backports.shutil-get-terminal-size==1.0.0\r\n",
      "  - backports.ssl-match-hostname==3.5.0.1\r\n",
      "  - ipython-genutils==0.2.0\r\n",
      "  - jupyter-client==5.1.0\r\n",
      "  - jupyter-core==4.3.0\r\n",
      "  - planet==1.0.0\r\n",
      "  - prompt-toolkit==1.0.14\r\n",
      "  - requests-futures==0.9.7\r\n",
      "prefix: /opt/conda/envs/python2\r\n",
      "\r\n"
     ]
    }
   ],
   "source": [
    "!conda env export -n python2"
   ]
  },
  {
   "cell_type": "markdown",
   "metadata": {},
   "source": [
    "<a id='ground_truth'></a>\n",
    "\n",
    "## Explore Ground Truth Data\n",
    "\n",
    "#### Downloading data\n",
    "To obtain and prepare the ground truth data, download the shapefile zip file from (http://www.water.ca.gov/landwateruse/docs/landusedata/shapes/15sa.zip) and then unzip into /data.\n",
    "\n",
    "Execute the following commands in `crop-classification` directory:\n",
    "```\n",
    "mkdir data\n",
    "mkdir data/dwr_survey\n",
    "wget http://www.water.ca.gov/landwateruse/docs/landusedata/shapes/15sa.zip\n",
    "unzip 15sa.zip -d data/dwr_survey/\n",
    "```\n",
    "\n",
    "expected output:\n",
    "```\n",
    "Archive:  15sa.zip\n",
    "  inflating: data/dwr_survey/SA15.dbf  \n",
    "  inflating: data/dwr_survey/SA15.jgw  \n",
    "  inflating: data/dwr_survey/SA15.jpg  \n",
    "  inflating: data/dwr_survey/SA15.prj  \n",
    "  inflating: data/dwr_survey/SA15.shp  \n",
    "  inflating: data/dwr_survey/SA15.shp.xml  \n",
    "  inflating: data/dwr_survey/SA15.shx  \n",
    "  inflating: data/dwr_survey/DWR Data Disclaimer.pdf  \n",
    "  inflating: data/dwr_survey/SA15Meta.pdf  \n",
    "  inflating: data/dwr_survey/attributes_rev02102010.pdf  \n",
    "  inflating: data/dwr_survey/09legend.pdf  \n",
    "```"
   ]
  },
  {
   "cell_type": "code",
   "execution_count": 2,
   "metadata": {
    "collapsed": true
   },
   "outputs": [],
   "source": [
    "# Let's specify the shapefile location and ensure it indeed exists\n",
    "survey_shapefile = 'data/dwr_survey/SA15.shp'\n",
    "assert os.path.isfile(survey_shapefile)"
   ]
  },
  {
   "cell_type": "markdown",
   "metadata": {},
   "source": [
    "#### Load the survey shapefile\n",
    "\n",
    "We will use [fiona](http://toblerity.org/fiona/manual.html) to load the shapefile, [shapely](http://toblerity.org/shapely/manual.html) to manage the geometries"
   ]
  },
  {
   "cell_type": "markdown",
   "metadata": {},
   "source": [
    "##### Reproject to WGS84\n",
    "\n",
    "What is the coordinate reference system for this dataset?"
   ]
  },
  {
   "cell_type": "code",
   "execution_count": 3,
   "metadata": {},
   "outputs": [
    {
     "name": "stdout",
     "output_type": "stream",
     "text": [
      "epsg:26910\n"
     ]
    }
   ],
   "source": [
    "with fiona.open(survey_shapefile, 'r') as survey_data:\n",
    "    src_proj = survey_data.crs['init']\n",
    "print(src_proj)"
   ]
  },
  {
   "cell_type": "markdown",
   "metadata": {},
   "source": [
    "Turns out it is [EPSG:26910](http://spatialreference.org/ref/epsg/26910/). Geojson only supports [EPSG:4326](http://spatialreference.org/ref/epsg/4326/). We will need to reproject the shapes."
   ]
  },
  {
   "cell_type": "code",
   "execution_count": 4,
   "metadata": {
    "collapsed": true
   },
   "outputs": [],
   "source": [
    "# define projection\n",
    "# from shapely [docs](http://toblerity.org/shapely/manual.html#shapely.ops.transform)\n",
    "dst_proj = 'epsg:4326'\n",
    "project_to_wkt = partial(\n",
    "    pyproj.transform,\n",
    "    pyproj.Proj(init=src_proj),\n",
    "    pyproj.Proj(init=dst_proj))\n",
    "\n",
    "def project_feature(feat):\n",
    "    g1 = shape(feat['geometry'])\n",
    "    g2 = transform(project_to_wkt, g1)\n",
    "    feat['geometry'] = mapping(g2)"
   ]
  },
  {
   "cell_type": "markdown",
   "metadata": {},
   "source": [
    "##### Filter survey data to agricultural classes\n",
    "\n",
    "The survey data has attributes that provide the crop type. These attributes are described in a pdf distributed with the shapefile. It was unzipped along with the shapefile files and is located at `data/dwr_survey/09legend.pdf`.\n",
    "\n",
    "We are interested in the agricultural classes. Class is specified by the 'CLASS1' attribute of the feature and agricultural classes are: G, R, F, P, T, D, C, and V."
   ]
  },
  {
   "cell_type": "code",
   "execution_count": 5,
   "metadata": {
    "collapsed": true
   },
   "outputs": [],
   "source": [
    "# Class ids from dwr_survey/09legend.pdf\n",
    "agg_classes = ['G', 'R', 'F', 'P', 'T', 'D', 'C', 'V']\n",
    "\n",
    "def is_agricultural(feat):\n",
    "    return feat['properties']['CLASS1'] in agg_classes"
   ]
  },
  {
   "cell_type": "markdown",
   "metadata": {},
   "source": [
    "#### Finally: Load data"
   ]
  },
  {
   "cell_type": "code",
   "execution_count": 6,
   "metadata": {},
   "outputs": [
    {
     "name": "stdout",
     "output_type": "stream",
     "text": [
      "7429\n"
     ]
    }
   ],
   "source": [
    "features = []\n",
    "with fiona.open(survey_shapefile) as survey_data:\n",
    "    for feat in survey_data:\n",
    "        if is_agricultural(feat):\n",
    "            project_feature(feat)\n",
    "            features.append(feat)\n",
    "print(len(features))"
   ]
  },
  {
   "cell_type": "markdown",
   "metadata": {},
   "source": [
    "#### Save Filtered Ground Truth Data\n",
    "\n",
    "Save as geojson file"
   ]
  },
  {
   "cell_type": "code",
   "execution_count": 7,
   "metadata": {},
   "outputs": [
    {
     "name": "stdout",
     "output_type": "stream",
     "text": [
      "data/ground-truth.geojson\n"
     ]
    }
   ],
   "source": [
    "ground_truth_file = os.path.join('data', 'ground-truth.geojson')\n",
    "with open(ground_truth_file, \"w\") as f:\n",
    "    f.write(json.dumps(features))\n",
    "print(ground_truth_file)"
   ]
  },
  {
   "cell_type": "markdown",
   "metadata": {},
   "source": [
    "#### Explore data on map"
   ]
  },
  {
   "cell_type": "code",
   "execution_count": 8,
   "metadata": {
    "collapsed": true
   },
   "outputs": [],
   "source": [
    "# Assign colors to classes\n",
    "# colors determined using [colorbrewer2.org](http://colorbrewer2.org/#type=sequential&scheme=BuGn&n=3)\n",
    "colors = ['#ffffd9','#edf8b1','#c7e9b4','#7fcdbb','#41b6c4','#1d91c0','#225ea8','#0c2c84']\n",
    "class_colors = dict((a,c) for a,c in zip(agg_classes, colors))\n",
    "def get_color(cls):\n",
    "    return class_colors[cls]"
   ]
  },
  {
   "cell_type": "code",
   "execution_count": 9,
   "metadata": {
    "collapsed": true
   },
   "outputs": [],
   "source": [
    "# Initialize map, deleting map instance if it exists\n",
    "try:\n",
    "    del filtered_map\n",
    "except NameError:\n",
    "    pass\n",
    "\n",
    "zoom = 9\n",
    "center = [38.3586252, -121.3853994] # lat/lon\n",
    "bounds = None #[(38.23467444211417, -121.66706085205077), (38.342464018725714, -121.32030487060547)]"
   ]
  },
  {
   "cell_type": "code",
   "execution_count": 10,
   "metadata": {},
   "outputs": [
    {
     "name": "stderr",
     "output_type": "stream",
     "text": [
      "Widget Javascript not detected.  It may not be installed or enabled properly.\n"
     ]
    },
    {
     "data": {
      "application/vnd.jupyter.widget-view+json": {
       "model_id": "9330ca2dee0140f882695f790a4ad745"
      }
     },
     "metadata": {},
     "output_type": "display_data"
    }
   ],
   "source": [
    "# Reuse map parameters if map already defined\n",
    "try:\n",
    "    center = filtered_map.center\n",
    "    print(center)\n",
    "    zoom = filtered_map.zoom\n",
    "    print(zoom)\n",
    "    bounds = filtered_map.bounds\n",
    "    print(bounds)\n",
    "except NameError:\n",
    "    pass\n",
    "\n",
    "# Create the map\n",
    "# Change tile layer to one that makes it easier to see crop features\n",
    "# Layer selected using https://leaflet-extras.github.io/leaflet-providers/preview/\n",
    "map_tiles = ipyl.TileLayer(url='http://{s}.basemaps.cartocdn.com/light_all/{z}/{x}/{y}.png')\n",
    "filtered_map = ipyl.Map(\n",
    "        center=center, \n",
    "        zoom=zoom,\n",
    "        default_tiles = map_tiles\n",
    "    )\n",
    "\n",
    "if bounds is not None:\n",
    "    # create bound box geometry from map bounds readout\n",
    "    bounds_box = shapely.geometry.box(bounds[0][1], bounds[0][0],\n",
    "                                      bounds[1][1], bounds[1][0])\n",
    "\n",
    "    # display bounds box\n",
    "    bounds_feature = {\n",
    "        'geometry':mapping(bounds_box),\n",
    "        \"properties\":{\n",
    "                'style':{'color': 'red', 'fillOpacity': 0.0, 'weight': 1}},\n",
    "        'type':u\"Feature\"}\n",
    "\n",
    "    bounds_layer = ipyl.GeoJSON(data=bounds_feature)\n",
    "    filtered_map.add_layer(bounds_layer)\n",
    "\n",
    "    # filter to bounds\n",
    "    display_features = [f for f in features if shape(f['geometry']).within(bounds_box)]\n",
    "    \n",
    "else:\n",
    "    display_features = features\n",
    "\n",
    "feature_collection = {\n",
    "    \"type\": \"FeatureCollection\",\n",
    "    \"features\": display_features\n",
    "}\n",
    "\n",
    "for f in feature_collection['features']:\n",
    "    feature_color = get_color(f['properties']['CLASS1'])\n",
    "    f['properties']['style'] = {\n",
    "        'weight': 0,\n",
    "        'fillColor': feature_color,\n",
    "        'fillOpacity': 1}\n",
    "\n",
    "feature_layer = ipyl.GeoJSON(data=feature_collection)\n",
    "\n",
    "# Display class as label\n",
    "label = ipyw.Label(layout=ipyw.Layout(width='100%'))\n",
    "def hover_handler(event=None, id=None, properties=None):\n",
    "    label.value = 'class: {}'.format(properties['CLASS1'])\n",
    "\n",
    "feature_layer.on_hover(hover_handler)\n",
    "filtered_map.add_layer(feature_layer)   \n",
    "\n",
    "# Display\n",
    "ipyw.VBox([filtered_map, label])\n",
    "\n",
    "# NOTE: it may take a little while for this to display"
   ]
  },
  {
   "cell_type": "markdown",
   "metadata": {},
   "source": [
    "<a id='aoi'></a>\n",
    "\n",
    "## Identify Area of Interest\n",
    "\n",
    "Selection of the area of interest for our study is based on the following:\n",
    "1. compact representation of many crop classes\n",
    "2. availability of imagery\n",
    "3. as large as possible but smaller than a planet image (to allow for in-scene analysis)"
   ]
  },
  {
   "cell_type": "markdown",
   "metadata": {},
   "source": [
    "### Criteria 1: compact representation of many crop classes\n",
    "\n",
    "Let's start by identifying a region of compact representation of many crop classes. We will do so by drawing a box over the map of the crops and then displaying the number of unique classes represented in the box."
   ]
  },
  {
   "cell_type": "code",
   "execution_count": 11,
   "metadata": {
    "collapsed": true
   },
   "outputs": [],
   "source": [
    "# Initialize map using parameters from above map\n",
    "# and deleting map instance if it exists\n",
    "try:\n",
    "    del aoi_map\n",
    "except NameError:\n",
    "    pass\n",
    "\n",
    "center = filtered_map.center\n",
    "zoom = filtered_map.zoom\n",
    "bounds = filtered_map.bounds\n",
    "default_tiles = filtered_map.default_tiles"
   ]
  },
  {
   "cell_type": "code",
   "execution_count": 12,
   "metadata": {},
   "outputs": [
    {
     "name": "stderr",
     "output_type": "stream",
     "text": [
      "Widget Javascript not detected.  It may not be installed or enabled properly.\n"
     ]
    },
    {
     "data": {
      "application/vnd.jupyter.widget-view+json": {
       "model_id": "e902fd0961ba4158a88eb711afa96ea5"
      }
     },
     "metadata": {},
     "output_type": "display_data"
    }
   ],
   "source": [
    "# Create map, adding box drawing controls\n",
    "# Reuse parameters if map already exists\n",
    "try:\n",
    "    center = aoi_map.center\n",
    "    zoom = aoi_map.zoom\n",
    "    bounds = aoi_map.bounds\n",
    "except NameError:\n",
    "    pass\n",
    "\n",
    "# Create the map\n",
    "aoi_map = ipyl.Map(\n",
    "        center=center, \n",
    "        zoom=zoom,\n",
    "        default_tiles = map_tiles\n",
    "    )\n",
    "\n",
    "# Add box drawing control\n",
    "# refs:\n",
    "# https://github.com/kscottz/PythonFromSpace/blob/master/TheBasics.ipynb\n",
    "# https://github.com/ellisonbg/ipyleaflet/blob/master/examples/DrawControl.ipynb\n",
    "rectangle = {'shapeOptions': {'color': 'blue'}} \n",
    "dc = ipyl.DrawControl(\n",
    "    polygon={}, polyline={}, # disable polygons and polylines\n",
    "    rectangle={'shapeOptions': {'color': 'blue'}}\n",
    ")\n",
    "\n",
    "# When a box is drawn, update the label with the number of unique classes\n",
    "# and save the box geometry as AOI\n",
    "total_unique_classes = len(set([f['properties']['CLASS1'] for f in features]))\n",
    "label = ipyw.Label(layout=ipyw.Layout(width='100%'))\n",
    "aoi = None\n",
    "def handle_draw(self, action, geo_json):\n",
    "    box_shape = shape(geo_json['geometry'])\n",
    "    contained_features = [f for f in features\n",
    "                          if shape(f['geometry']).within(box_shape)]\n",
    "    unique_classes = set([f['properties']['CLASS1'] for f in contained_features])\n",
    "    label.value = '{} unique classes out of {} total'.format(\n",
    "        len(unique_classes), total_unique_classes)\n",
    "    global aoi\n",
    "    aoi = geo_json\n",
    "    \n",
    "dc.on_draw(handle_draw)\n",
    "aoi_map.add_control(dc)\n",
    "\n",
    "# Add crop type features\n",
    "feature_collection = {\n",
    "    \"type\": \"FeatureCollection\",\n",
    "    \"features\": features\n",
    "}\n",
    "\n",
    "for f in feature_collection['features']:\n",
    "    feature_color = get_color(f['properties']['CLASS1'])\n",
    "    f['properties']['style'] = {\n",
    "        'weight': 0,\n",
    "        'fillColor': feature_color,\n",
    "        'fillOpacity': 1}\n",
    "\n",
    "feature_layer = ipyl.GeoJSON(data=feature_collection)\n",
    "aoi_map.add_layer(feature_layer)   \n",
    "\n",
    "# Display map and label\n",
    "ipyw.VBox([aoi_map, label])"
   ]
  },
  {
   "cell_type": "code",
   "execution_count": 13,
   "metadata": {
    "collapsed": true
   },
   "outputs": [],
   "source": [
    "# Run this to use cached aoi\n",
    "aoi = {u'geometry': {u'type': u'Polygon', u'coordinates': [[[-121.58460974693298, 38.29170496647727], [-121.58460974693298, 38.32726528409606], [-121.5248715877533, 38.32726528409606], [-121.5248715877533, 38.29170496647727], [-121.58460974693298, 38.29170496647727]]]}, u'type': u'Feature', u'properties': {u'style': {u'opacity': 0.5, u'noClip': False, u'weight': 4, u'fillColor': None, u'color': u'blue', u'lineCap': None, u'stroke': True, u'smoothFactor': 1, u'dashArray': None, u'fillOpacity': 0.2, u'clickable': True, u'lineJoin': None, u'fill': True}}}"
   ]
  },
  {
   "cell_type": "markdown",
   "metadata": {},
   "source": [
    "### Criteria 2: availability of imagery\n",
    "\n",
    "How many PL images cover the AOI defined above?\n",
    "\n",
    "We will answer this question by querying the planet API. This requires a user-specific planet api key. The planet api key is pulled from the environment variable PLANET_API_KEY.\n",
    "\n",
    "The client is how we interact with the planet api. It is created with the user-specific api key, which is pulled from $PL_API_KEY\n",
    "\n",
    "[planet client documentation](https://planetlabs.github.io/planet-client-python/index.html) \n",
    "\n",
    "Much of this code is pulled from [PythonFromSpace/TheBasics.ipynb](https://github.com/kscottz/PythonFromSpace/blob/master/TheBasics.ipynb)"
   ]
  },
  {
   "cell_type": "code",
   "execution_count": 14,
   "metadata": {
    "collapsed": true
   },
   "outputs": [],
   "source": [
    "planet_api_key = os.environ['PL_API_KEY']\n",
    "\n",
    "# quick check that key is defined\n",
    "assert planet_api_key, \"PL_API_KEY not defined.\"\n",
    "\n",
    "client = api.ClientV1(api_key=planet_api_key)"
   ]
  },
  {
   "cell_type": "markdown",
   "metadata": {},
   "source": [
    "Query Planet API"
   ]
  },
  {
   "cell_type": "code",
   "execution_count": 15,
   "metadata": {},
   "outputs": [
    {
     "name": "stdout",
     "output_type": "stream",
     "text": [
      "211\n"
     ]
    }
   ],
   "source": [
    "# build a query using the AOI and\n",
    "# a cloud_cover filter that excludes 'cloud free' scenes\n",
    "old = datetime.datetime(year=2015,month=1,day=1)\n",
    "\n",
    "search_aoi = aoi['geometry']\n",
    "query = filters.and_filter(\n",
    "    filters.geom_filter(search_aoi),\n",
    "    filters.range_filter('cloud_cover', lt=50),\n",
    "    filters.date_range('acquired', gt=old)\n",
    ")\n",
    "\n",
    "# build a request for only PlanetScope imagery\n",
    "request = filters.build_search_request(\n",
    "    query, item_types=['PSScene4Band']\n",
    ")\n",
    "\n",
    "# run search\n",
    "# if you don't have an API key configured, this will raise an exception\n",
    "result = client.quick_search(request)\n",
    "scenes = []\n",
    "planet_map = {}\n",
    "for item in result.items_iter(limit=500):\n",
    "    planet_map[item['id']]=item\n",
    "    props = item['properties']\n",
    "    props[\"id\"] = item['id']\n",
    "    props[\"geometry\"] = item[\"geometry\"]\n",
    "    props[\"thumbnail\"] = item[\"_links\"][\"thumbnail\"]\n",
    "    scenes.append(props)\n",
    "scenes = pd.DataFrame(data=scenes)\n",
    "print(len(scenes))"
   ]
  },
  {
   "cell_type": "markdown",
   "metadata": {},
   "source": [
    "Cleanup and calculate overlap"
   ]
  },
  {
   "cell_type": "code",
   "execution_count": 16,
   "metadata": {
    "collapsed": true
   },
   "outputs": [],
   "source": [
    "# now let's clean up the datetime stuff\n",
    "# make a shapely shape from our aoi\n",
    "aoi_shape = shape(search_aoi)\n",
    "footprints = []\n",
    "overlaps = []\n",
    "# go through the geometry from our api call, convert to a shape and calculate overlap area.\n",
    "# also save the shape for safe keeping\n",
    "for footprint in scenes[\"geometry\"].tolist():\n",
    "    s = shape(footprint)\n",
    "    footprints.append(s)\n",
    "    overlap = 100.0*(aoi_shape.intersection(s).area / aoi_shape.area)\n",
    "    overlaps.append(overlap)\n",
    "# take our lists and add them back to our dataframe\n",
    "scenes['overlap'] = pd.Series(overlaps, index=scenes.index)\n",
    "scenes['footprint'] = pd.Series(footprints, index=scenes.index)\n",
    "# now make sure pandas knows about our date/time columns.\n",
    "scenes[\"acquired\"] = pd.to_datetime(scenes[\"acquired\"])\n",
    "scenes[\"published\"] = pd.to_datetime(scenes[\"published\"])\n",
    "scenes[\"updated\"] = pd.to_datetime(scenes[\"updated\"])\n",
    "# scenes.head()"
   ]
  },
  {
   "cell_type": "markdown",
   "metadata": {},
   "source": [
    "Filter to scenes that contain AOI\n",
    "\n",
    "If the number is zero, go back and redefine the AOI to be smaller."
   ]
  },
  {
   "cell_type": "code",
   "execution_count": 17,
   "metadata": {},
   "outputs": [
    {
     "name": "stdout",
     "output_type": "stream",
     "text": [
      "34\n"
     ]
    }
   ],
   "source": [
    "full_coverage = scenes[\"overlap\"] > 99\n",
    "good_scenes = scenes[(full_coverage)]\n",
    "print(len(good_scenes))"
   ]
  },
  {
   "cell_type": "code",
   "execution_count": 18,
   "metadata": {},
   "outputs": [
    {
     "name": "stdout",
     "output_type": "stream",
     "text": [
      "data/aoi.geojson\n"
     ]
    }
   ],
   "source": [
    "# write aoi to geojson file\n",
    "aoi_file = os.path.join('data', 'aoi.geojson')\n",
    "with open(aoi_file,\"w\") as f:\n",
    "    f.write(json.dumps(aoi))\n",
    "print(aoi_file)"
   ]
  },
  {
   "cell_type": "markdown",
   "metadata": {},
   "source": [
    "Visualize footprints"
   ]
  },
  {
   "cell_type": "code",
   "execution_count": 19,
   "metadata": {},
   "outputs": [
    {
     "name": "stderr",
     "output_type": "stream",
     "text": [
      "Widget Javascript not detected.  It may not be installed or enabled properly.\n"
     ]
    },
    {
     "data": {
      "application/vnd.jupyter.widget-view+json": {
       "model_id": "0e80bd62cc7f4ff6ad1188aab0a176d9"
      }
     },
     "metadata": {},
     "output_type": "display_data"
    }
   ],
   "source": [
    "center = aoi_map.center\n",
    "zoom = aoi_map.zoom - 1\n",
    "bounds = aoi_map.bounds\n",
    "default_tiles = aoi_map.default_tiles\n",
    "\n",
    "# Create the map\n",
    "footprints_map = ipyl.Map(\n",
    "        center=center, \n",
    "        zoom=zoom,\n",
    "        default_tiles = default_tiles\n",
    "    )\n",
    "\n",
    "\n",
    "# Add footprint features as layer\n",
    "footprints = good_scenes[\"geometry\"].tolist()\n",
    "footprint_collection = {\n",
    "    \"type\": \"FeatureCollection\",\n",
    "    \"features\": footprints\n",
    "}\n",
    "\n",
    "footprint_layer = ipyl.GeoJSON(data=footprint_collection)\n",
    "footprints_map.add_layer(footprint_layer)  \n",
    "\n",
    "# Add aoi as layer, make it a different color and with opaque fill\n",
    "aoi_feature = copy.deepcopy(aoi)\n",
    "aoi_feature['properties']['style'] = {\n",
    "    'color': 'red',\n",
    "    'fillOpacity':0.1\n",
    "}\n",
    "aoi_layer = ipyl.GeoJSON(data=aoi_feature)\n",
    "footprints_map.add_layer(aoi_layer)   \n",
    "\n",
    "# Display map and label\n",
    "ipyw.VBox([footprints_map])"
   ]
  },
  {
   "cell_type": "markdown",
   "metadata": {},
   "source": [
    "Visualize subest of scene thumbnails\n",
    "\n",
    "If all you see are broken image icons, click one of the urls and log into the site."
   ]
  },
  {
   "cell_type": "code",
   "execution_count": 20,
   "metadata": {
    "scrolled": false
   },
   "outputs": [
    {
     "data": {
      "text/html": [
       "<img src=\"https://api.planet.com/data/v1/item-types/PSScene4Band/items/20170709_180702_100e/thumb\"/>"
      ],
      "text/plain": [
       "<IPython.core.display.Image object>"
      ]
     },
     "metadata": {},
     "output_type": "display_data"
    },
    {
     "name": "stdout",
     "output_type": "stream",
     "text": [
      "https://api.planet.com/data/v1/item-types/PSScene4Band/items/20170709_180702_100e/thumb\n"
     ]
    },
    {
     "data": {
      "text/html": [
       "<img src=\"https://api.planet.com/data/v1/item-types/PSScene4Band/items/20170702_180740_0f10/thumb\"/>"
      ],
      "text/plain": [
       "<IPython.core.display.Image object>"
      ]
     },
     "metadata": {},
     "output_type": "display_data"
    },
    {
     "name": "stdout",
     "output_type": "stream",
     "text": [
      "https://api.planet.com/data/v1/item-types/PSScene4Band/items/20170702_180740_0f10/thumb\n"
     ]
    },
    {
     "data": {
      "text/html": [
       "<img src=\"https://api.planet.com/data/v1/item-types/PSScene4Band/items/20170701_180629_101e/thumb\"/>"
      ],
      "text/plain": [
       "<IPython.core.display.Image object>"
      ]
     },
     "metadata": {},
     "output_type": "display_data"
    },
    {
     "name": "stdout",
     "output_type": "stream",
     "text": [
      "https://api.planet.com/data/v1/item-types/PSScene4Band/items/20170701_180629_101e/thumb\n"
     ]
    }
   ],
   "source": [
    "imgs = []\n",
    "# loop through our thumbnails and add display them\n",
    "for thumb_url in good_scenes['thumbnail'].tolist()[:3]:\n",
    "    img_image = Image(url=thumb_url)\n",
    "    display(img_image)\n",
    "    print(thumb_url)"
   ]
  },
  {
   "cell_type": "markdown",
   "metadata": {},
   "source": [
    "<a id='pl_scene'></a>\n",
    "\n",
    "## Download Planet Scene\n",
    "\n",
    "The scene with id [20160831_180231_0e0e](https://api.planet.com/data/v1/item-types/PSScene4Band/items/20160831_180231_0e0e/thumb) looks pretty good. It is from August 2016 and looks pretty clear. \n",
    "\n",
    "We will download this scene and its metadata using the planet client cli. This approach requires much less code than using the python bindings."
   ]
  },
  {
   "cell_type": "code",
   "execution_count": 21,
   "metadata": {
    "collapsed": true
   },
   "outputs": [],
   "source": [
    "analysis_thumbnail = 'https://api.planet.com/data/v1/item-types/PSScene4Band/items/20160831_180231_0e0e/thumb'"
   ]
  },
  {
   "cell_type": "code",
   "execution_count": 22,
   "metadata": {},
   "outputs": [
    {
     "data": {
      "text/html": [
       "<img src=\"https://api.planet.com/data/v1/item-types/PSScene4Band/items/20160831_180231_0e0e/thumb\"/>"
      ],
      "text/plain": [
       "<IPython.core.display.Image object>"
      ]
     },
     "metadata": {},
     "output_type": "display_data"
    }
   ],
   "source": [
    "img_image = Image(url=analysis_thumbnail)\n",
    "display(img_image)"
   ]
  },
  {
   "cell_type": "code",
   "execution_count": 23,
   "metadata": {},
   "outputs": [
    {
     "name": "stdout",
     "output_type": "stream",
     "text": [
      "\u001b[2J\u001b[1;1H\u001b[2J\u001b[1;1H\u001b[30;47mactivating: 0            complete: 0              elapsed: 0                    \n",
      "paging: False            pending: 0                                             \u001b[39;49m\n",
      "\n",
      "\u001b[2J\u001b[1;1H\u001b[30;47mactivating: 1            complete: 0              downloaded: 0.00MB            \n",
      "downloading: 0           elapsed: 1               paging: True                  \n",
      "pending: 0                                                                      \u001b[39;49m\n",
      "\n",
      "\u001b[2J\u001b[1;1H\u001b[30;47mactivating: 1            complete: 0              downloaded: 0.00MB            \n",
      "downloading: 0           elapsed: 2               paging: False                 \n",
      "pending: 0                                                                      \u001b[39;49m\n",
      "\n",
      "\u001b[2J\u001b[1;1H\u001b[30;47mactivating: 0            complete: 0              downloaded: 0.00MB            \n",
      "downloading: 1           elapsed: 3               paging: False                 \n",
      "pending: 1                                                                      \u001b[39;49m\n",
      "\n",
      "\u001b[2J\u001b[1;1H\u001b[30;47mactivating: 0            complete: 0              downloaded: 0.00MB            \n",
      "downloading: 2           elapsed: 4               paging: False                 \n",
      "pending: 0                                                                      \u001b[39;49m\n",
      "\n",
      "\u001b[2J\u001b[1;1H\u001b[30;47mactivating: 0            complete: 1              downloaded: 0.00MB            \n",
      "downloading: 1           elapsed: 5               paging: False                 \n",
      "pending: 0                                                                      \u001b[39;49m\n",
      "\n",
      "\u001b[2J\u001b[1;1H\u001b[30;47mactivating: 0            complete: 0              downloaded: 0.00MB            \n",
      "downloading: 1           elapsed: 6               paging: False                 \n",
      "pending: 0                                                                      \u001b[39;49m\n",
      "\n",
      "\u001b[2J\u001b[1;1H\u001b[30;47mactivating: 0            complete: 0              downloaded: 0.00MB            \n",
      "downloading: 1           elapsed: 6               paging: False                 \n",
      "pending: 0                                                                      \u001b[39;49m\n",
      "\n"
     ]
    }
   ],
   "source": [
    "!planet data download --item-type PSScene4Band --dest data \\\n",
    "    --asset-type analytic,analytic_xml --string-in id 20160831_180231_0e0e"
   ]
  },
  {
   "cell_type": "markdown",
   "metadata": {},
   "source": [
    "The image and metadata are now saved and are ready to be processed in other notebooks."
   ]
  }
 ],
 "metadata": {
  "kernelspec": {
   "display_name": "Python 2",
   "language": "python",
   "name": "python2"
  },
  "language_info": {
   "codemirror_mode": {
    "name": "ipython",
    "version": 2
   },
   "file_extension": ".py",
   "mimetype": "text/x-python",
   "name": "python",
   "nbconvert_exporter": "python",
   "pygments_lexer": "ipython2",
   "version": "2.7.13"
  }
 },
 "nbformat": 4,
 "nbformat_minor": 2
}
