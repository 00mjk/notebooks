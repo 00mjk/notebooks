{
 "cells": [
  {
   "cell_type": "markdown",
   "metadata": {},
   "source": [
    "# Deriving a vegetation index from PlanetScope imagery"
   ]
  },
  {
   "cell_type": "markdown",
   "metadata": {},
   "source": [
    "Researchers often use a vegetation index called NDVI to measure the \"greeenness\" or density of vegetation across a landscape. In addition to monitoring vegetation health, NDVI (Normalized Difference Vegetation Index), can be used to track climate change, agricultural production, desertification, fire prediction, and land cover change. Developed by a NASA scientist Compton Tucker in 1977, NDVI is derived from satellite imagery and compares reflected near-infrared light to reflected visible red light. It is expressed as the following equation:"
   ]
  },
  {
   "cell_type": "markdown",
   "metadata": {},
   "source": [
    "![ndvi-equation.png](ndvi-equation.png)"
   ]
  },
  {
   "cell_type": "markdown",
   "metadata": {},
   "source": [
    "In general, healthy and/or dense vegetation reflects more near-infrared light than red visible light. Conversely, when vegetation is sparse or not-so-healthy, we see a decrease in near-infrared reflectance and an increase in red reflectance. You can read more about how NDVI is used to study cyclical, seasonal, and long-term changes in plant health and climate from [NASA researchers](https://earthobservatory.nasa.gov/Features/MeasuringVegetation/measuring_vegetation_1.php) and from [USGS researchers](https://phenology.cr.usgs.gov/ndvi_foundation.php). "
   ]
  },
  {
   "cell_type": "markdown",
   "metadata": {},
   "source": [
    "**In this guide, we'll walk you through a several-step process of using Python's numpy library to perform a basic NDVI calculation on PlanetScope 4-band imagery:**\n",
    "\n",
    "1. Download a 4-Band image\n",
    "2. Extract the Visible Red, and NIR bands\n",
    "3. Normalize to Top of Atmosphere Reflectance\n",
    "4. Perform the NDVI calculation\n",
    "5. Save the NDVI image\n",
    "6. Apply a color map\n",
    "7. Generate a histogram of NDVI values "
   ]
  },
  {
   "cell_type": "markdown",
   "metadata": {},
   "source": [
    "### Requirements\n",
    "- Python 2.7 or 3+\n",
    "- [Planet's Python Client](https://www.planet.com/docs/api-quickstart-examples/cli/)\n",
    "- rasterio\n",
    "- numpy\n",
    "- matplotlib\n",
    "- A Planet API Key, stored as environment variable `$PL_API_KEY`.\n",
    "- Planet 4-Band Imagery with the following specificatios: `item-type`: PSOrthoTile, REOrthoTile, PSScene4Band; `asset-type`: analytic, basic_analytic"
   ]
  },
  {
   "cell_type": "markdown",
   "metadata": {},
   "source": [
    "## Step 1. Download a 4-Band image "
   ]
  },
  {
   "cell_type": "markdown",
   "metadata": {},
   "source": [
    "First, we're going to download a 4-band PlanetScope satellite image of agricultural land in California's Central Valley, captured in late August 2016 (id: 20160831_180302_0e26). You can do this using [Planet's Python client](https://www.planet.com/docs/api-quickstart-examples/cli/) to interact with our Data API, or by browsing [Planet Explorer](https://www.planet.com/products/explorer/), filtering for '4 Band PlanetScope scene' (`PSScene4Band`) or 'Planetscope ortho tile' (`PSOrthoTile`), and downloading an `analytic` asset.\n",
    "\n",
    "Before we download the full image, we can preview a thumbnail of the image via Planet's Data API. (The thumbnails are 256x256 by default, and can be scaled up to 512x512 by passing in a `width` parameter.) "
   ]
  },
  {
   "cell_type": "code",
   "execution_count": 11,
   "metadata": {},
   "outputs": [
    {
     "data": {
      "text/html": [
       "<img src=\"https://api.planet.com/data/v1/item-types/PSScene4Band/items/20160831_180302_0e26/thumb?width=512\"/>"
      ],
      "text/plain": [
       "<IPython.core.display.Image object>"
      ]
     },
     "execution_count": 11,
     "metadata": {},
     "output_type": "execute_result"
    }
   ],
   "source": [
    "from IPython.display import Image\n",
    "Image(url=\"https://api.planet.com/data/v1/item-types/PSScene4Band/items/20160831_180302_0e26/thumb?width=512\")"
   ]
  },
  {
   "cell_type": "markdown",
   "metadata": {},
   "source": [
    "Next we're going to use the Planet's Python client to download the image. *Note: when you run this command, you'll get a stream of messages in your Jupyter notebook as the client polls the Data API to determine if the image is activated and ready to download.*"
   ]
  },
  {
   "cell_type": "code",
   "execution_count": null,
   "metadata": {
    "scrolled": true
   },
   "outputs": [],
   "source": [
    "!planet data download --item-type PSScene4Band --asset-type analytic,analytic_xml --string-in id 20160831_180302_0e26"
   ]
  },
  {
   "cell_type": "markdown",
   "metadata": {},
   "source": [
    "**Congratulations!** You now have two files in your download directory: `20160831_180302_0e26_3B_AnalyticMS.tif` and `20160831_180302_0e26_3B_AnalyticMS_metadata.xml`. "
   ]
  },
  {
   "cell_type": "markdown",
   "metadata": {},
   "source": [
    "## Step 2. Extract the Visible and NIR bands "
   ]
  },
  {
   "cell_type": "markdown",
   "metadata": {},
   "source": [
    "In this step, we're going to open the raster image we downloaded (the .tif file), extract the data from the red and near-infrared bands, and load the band data into numpy arrays. In PlanetScope 4-band images, the band order is BGRN: (1) Blue, (2) Green, (3) Red, (4) Near-infrared."
   ]
  },
  {
   "cell_type": "code",
   "execution_count": 13,
   "metadata": {
    "collapsed": true
   },
   "outputs": [],
   "source": [
    "import rasterio\n",
    "import numpy as np\n",
    "\n",
    "filename = \"20160831_180302_0e26_3B_AnalyticMS.tif\"\n",
    "\n",
    "# Load red and NIR bands - note all PlanetScope 4-band images have band order BGRN\n",
    "with rasterio.open(filename) as src:\n",
    "    band_red = src.read(3)\n",
    "\n",
    "with rasterio.open(filename) as src:\n",
    "    band_nir = src.read(4)"
   ]
  },
  {
   "cell_type": "markdown",
   "metadata": {},
   "source": [
    "## Step 3. Normalize to Top of Atmosphere Reflectance"
   ]
  },
  {
   "cell_type": "markdown",
   "metadata": {},
   "source": [
    "We must normalize the values in the bands so that the NDVI calculation yield values in the expected range of -1 to 1. Values closer to 1 indicate a greater density of vegetation or higher level of \"greenness.\""
   ]
  },
  {
   "cell_type": "code",
   "execution_count": 14,
   "metadata": {
    "collapsed": true
   },
   "outputs": [],
   "source": [
    "from xml.dom import minidom\n",
    "\n",
    "xmldoc = minidom.parse(\"20160831_180302_0e26_3B_AnalyticMS_metadata.xml\")\n",
    "nodes = xmldoc.getElementsByTagName(\"ps:bandSpecificMetadata\")\n",
    "\n",
    "# XML parser refers to bands by numbers 1-4\n",
    "coeffs = {}\n",
    "for node in nodes:\n",
    "    bn = node.getElementsByTagName(\"ps:bandNumber\")[0].firstChild.data\n",
    "    if bn in ['1', '2', '3', '4']:\n",
    "        i = int(bn)\n",
    "        value = node.getElementsByTagName(\"ps:reflectanceCoefficient\")[0].firstChild.data\n",
    "        coeffs[i] = float(value)\n",
    "        \n",
    "# Multiply the band values by the TOA reflectance coefficients\n",
    "band_red = band_red * coeffs[3]\n",
    "band_nir = band_nir * coeffs[4]"
   ]
  },
  {
   "cell_type": "markdown",
   "metadata": {},
   "source": [
    "## Step 4. Perform the NDVI calculation"
   ]
  },
  {
   "cell_type": "markdown",
   "metadata": {},
   "source": [
    "Next we perform the NDVI calculation through subtraction and division of the pixel values."
   ]
  },
  {
   "cell_type": "code",
   "execution_count": 16,
   "metadata": {},
   "outputs": [],
   "source": [
    "# Allow division by zero\n",
    "np.seterr(divide='ignore', invalid='ignore')\n",
    "\n",
    "# Calculate NDVI. This is the equation at the top of this guide expressed in code\n",
    "ndvi = (band_nir.astype(float) - band_red.astype(float)) / (band_nir + band_red)\n"
   ]
  },
  {
   "cell_type": "markdown",
   "metadata": {},
   "source": [
    "## Step 5. Save the NDVI image "
   ]
  },
  {
   "cell_type": "markdown",
   "metadata": {},
   "source": [
    "Finally we output these new pixel values to a new image file, making sure we mirror the GeoTIFF spatial metadata:"
   ]
  },
  {
   "cell_type": "code",
   "execution_count": 17,
   "metadata": {},
   "outputs": [],
   "source": [
    "# Set spatial characteristics of the output object to mirror the input\n",
    "kwargs = src.meta\n",
    "kwargs.update(\n",
    "    dtype=rasterio.float32,\n",
    "    count = 1)\n",
    "\n",
    "# Write band calculations to a new raster file\n",
    "with rasterio.open('ndvi.tif', 'w', **kwargs) as dst:\n",
    "        dst.write_band(1, ndvi.astype(rasterio.float32))"
   ]
  },
  {
   "cell_type": "markdown",
   "metadata": {},
   "source": [
    "## Step 6. Apply a color map"
   ]
  },
  {
   "cell_type": "code",
   "execution_count": 18,
   "metadata": {},
   "outputs": [],
   "source": [
    "import matplotlib.pyplot as plt\n",
    "img = plt.imsave(\"ndvi_cmap.png\", ndvi, cmap=plt.cm.RdYlGn)"
   ]
  },
  {
   "cell_type": "code",
   "execution_count": 19,
   "metadata": {},
   "outputs": [
    {
     "data": {
      "text/html": [
       "<img src=\"ndvi_cmap.png\" width=75%>"
      ],
      "text/plain": [
       "<IPython.core.display.HTML object>"
      ]
     },
     "execution_count": 19,
     "metadata": {},
     "output_type": "execute_result"
    }
   ],
   "source": [
    "from IPython.display import HTML \n",
    "HTML('<img src=\"ndvi_cmap.png\" width=75%>') "
   ]
  },
  {
   "cell_type": "markdown",
   "metadata": {
    "collapsed": true
   },
   "source": [
    "## 7. Show a histogram of NDVI values"
   ]
  },
  {
   "cell_type": "code",
   "execution_count": 20,
   "metadata": {},
   "outputs": [
    {
     "data": {
      "text/plain": [
       "<matplotlib.figure.Figure at 0x1099cffd0>"
      ]
     },
     "metadata": {},
     "output_type": "display_data"
    },
    {
     "data": {
      "image/png": "[encoded data removed]",
      "text/plain": [
       "<matplotlib.figure.Figure at 0x111f375d0>"
      ]
     },
     "metadata": {},
     "output_type": "display_data"
    }
   ],
   "source": [
    "import pylab\n",
    "\n",
    "pylab.figure()\n",
    "pylab.hist(ndvi[~np.isnan(ndvi)])\n",
    "pylab.show()"
   ]
  },
  {
   "cell_type": "code",
   "execution_count": null,
   "metadata": {
    "collapsed": true
   },
   "outputs": [],
   "source": []
  }
 ],
 "metadata": {
  "kernelspec": {
   "display_name": "Python 2",
   "language": "python",
   "name": "python2"
  },
  "language_info": {
   "codemirror_mode": {
    "name": "ipython",
    "version": 2
   },
   "file_extension": ".py",
   "mimetype": "text/x-python",
   "name": "python",
   "nbconvert_exporter": "python",
   "pygments_lexer": "ipython2",
   "version": "2.7.13"
  }
 },
 "nbformat": 4,
 "nbformat_minor": 2
}
