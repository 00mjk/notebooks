{
 "cells": [
  {
   "cell_type": "markdown",
   "metadata": {},
   "source": [
    "# Deriving a vegetation index from PlanetScope imagery"
   ]
  },
  {
   "cell_type": "markdown",
   "metadata": {},
   "source": [
    "Researchers often use a vegetation index called NDVI to measure a landscape's \"greeenness\" or density of healthy vegetation. NDVI (Normalized Difference Vegetation Index), developed by a NASA scientist named Compton Tucker in 1977, can show the difference between water and plants, bare soil and grass, whether plants are under stress, and what lifecycle stage a crop is in. It compares how much more near-infrared light is reflected by chlorophyll vs visible red light. NDVI is expressed as the following equation:"
   ]
  },
  {
   "attachments": {
    "ndvi-equation.png": {
     "image/png": "[encoded data removed]"
    }
   },
   "cell_type": "markdown",
   "metadata": {},
   "source": [
    "![ndvi-equation.png](attachment:ndvi-equation.png)"
   ]
  },
  {
   "cell_type": "markdown",
   "metadata": {},
   "source": [
    "NDVI values are derived from satellite imagery that captures data in visibile and near-infrared wavelengths. \"If there is much more reflected light in near-infrared wavelengths than in visible wavelengths, then the vegetation in that pixel is likely to be dense,\" [according to NASA researchers](https://earthobservatory.nasa.gov/Features/MeasuringVegetation/measuring_vegetation_1.php). You can [read more](https://phenology.cr.usgs.gov/ndvi_foundation.php) about how NDVI is used by scientists to study cyclical, seasonal, and long-term changes in plant health and climate. \n",
    "\n",
    "In this guide, we'll use Python's numpy library to perform a basic NDVI calculation on PlanetScope 4-band imagery."
   ]
  },
  {
   "cell_type": "markdown",
   "metadata": {},
   "source": [
    "### Here are the steps we'll take:\n",
    "\n",
    "1. Download a 4-Band image\n",
    "2. Extract the Visible Red, and NIR bands\n",
    "3. Normalize to Top of Atmosphere Reflectance\n",
    "4. Perform the NDVI calculation\n",
    "5. Save the NDVI image\n",
    "6. Apply a color map"
   ]
  },
  {
   "cell_type": "markdown",
   "metadata": {},
   "source": [
    "### Requirements\n",
    "- Python 2.7 or 3+\n",
    "- [Planet's Python Client](https://www.planet.com/docs/api-quickstart-examples/cli/)\n",
    "- rasterio\n",
    "- numpy\n",
    "- matplotlib\n",
    "- retrying\n",
    "- requests\n",
    "- A Planet API Key, stored as environment variable `$PL_API_KEY`.\n",
    "- Planet 4-Band Imagery with the following specificatios: `item-type`: PSOrthoTile, REOrthoTile, PSScene4Band; `asset-type`: analytic, basic_analytic"
   ]
  },
  {
   "cell_type": "markdown",
   "metadata": {},
   "source": [
    "## Step 1. Download a 4-Band image "
   ]
  },
  {
   "cell_type": "markdown",
   "metadata": {},
   "source": [
    "First, we're going to download a 4-band PlanetScope satellite image of agricultural land in California's Central Valley, captured in late August 2016 (id: 20160831_180302_0e26). \n",
    "\n",
    "You can do this using [Planet's Python client](https://www.planet.com/docs/api-quickstart-examples/cli/) to interact with our Data API, or by browsing [Planet Explorer](https://www.planet.com/products/explorer/), filtering for '4 Band PlanetScope scene' (PSScene4Band) or 'Planetscope ortho tile' (PSOrthoTile), and downloading an 'analytic' asset.\n",
    "\n",
    "Before we download the image, we're going to preview a thumbnail via Planet's Data API. (The thumbnails are 256x256 by default, and can be scaled up to 512x512 by passing in a `width` parameter.) "
   ]
  },
  {
   "cell_type": "code",
   "execution_count": 6,
   "metadata": {},
   "outputs": [
    {
     "data": {
      "text/html": [
       "<img src=\"https://api.planet.com/data/v1/item-types/PSScene4Band/items/20160831_180302_0e26/thumb?width=512\"/>"
      ],
      "text/plain": [
       "<IPython.core.display.Image object>"
      ]
     },
     "execution_count": 6,
     "metadata": {},
     "output_type": "execute_result"
    }
   ],
   "source": [
    "from IPython.display import Image\n",
    "Image(url=\"https://api.planet.com/data/v1/item-types/PSScene4Band/items/20160831_180302_0e26/thumb?width=512\")"
   ]
  },
  {
   "cell_type": "markdown",
   "metadata": {},
   "source": [
    "Next we're going to use the Planet's Python client to download the image. *Note: when you run this command, you'll get a stream of update messages in your Jupyter notebook as the client polls the Data API to see if the image is activated and ready to download.*"
   ]
  },
  {
   "cell_type": "code",
   "execution_count": null,
   "metadata": {
    "scrolled": true
   },
   "outputs": [
    {
     "name": "stdout",
     "output_type": "stream",
     "text": [
      "\u001b[2J\u001b[1;1H\u001b[2J\u001b[1;1H\u001b[30;47mactivating: 0            complete: 0              elapsed: 0                    \n",
      "paging: False            pending: 0                                             \u001b[39;49m\n",
      "\n",
      "\u001b[2J\u001b[1;1H\u001b[30;47mactivating: 0            complete: 0              elapsed: 1                    \n",
      "paging: False            pending: 0                                             \u001b[39;49m\n",
      "\n",
      "\u001b[2J\u001b[1;1H\u001b[30;47mactivating: 0            complete: 0              elapsed: 2                    \n",
      "paging: False            pending: 0                                             \u001b[39;49m\n",
      "\n",
      "\u001b[2J\u001b[1;1H\u001b[30;47mactivating: 0            complete: 0              elapsed: 3                    \n",
      "paging: False            pending: 0                                             \u001b[39;49m\n",
      "\n",
      "\u001b[2J\u001b[1;1H\u001b[30;47mactivating: 0            complete: 0              elapsed: 4                    \n",
      "paging: False            pending: 0                                             \u001b[39;49m\n",
      "\n",
      "\u001b[2J\u001b[1;1H\u001b[30;47mactivating: 0            complete: 0              elapsed: 5                    \n",
      "paging: False            pending: 0                                             \u001b[39;49m\n",
      "\n",
      "\u001b[2J\u001b[1;1H\u001b[30;47mactivating: 0            complete: 0              elapsed: 6                    \n",
      "paging: False            pending: 0                                             \u001b[39;49m\n",
      "\n",
      "\u001b[2J\u001b[1;1H\u001b[30;47mactivating: 1            complete: 0              downloaded: 0.00MB            \n",
      "downloading: 0           elapsed: 7               paging: False                 \n",
      "pending: 0                                                                      \u001b[39;49m\n",
      "\n",
      "\u001b[2J\u001b[1;1H\u001b[30;47mactivating: 1            complete: 0              downloaded: 0.00MB            \n",
      "downloading: 0           elapsed: 8               paging: False                 \n",
      "pending: 0                                                                      \u001b[39;49m\n",
      "\n",
      "\u001b[2J\u001b[1;1H\u001b[30;47mactivating: 1            complete: 0              downloaded: 0.00MB            \n",
      "downloading: 0           elapsed: 9               paging: False                 \n",
      "pending: 0                                                                      \u001b[39;49m\n",
      "\n",
      "\u001b[2J\u001b[1;1H\u001b[30;47mactivating: 1            complete: 0              downloaded: 0.00MB            \n",
      "downloading: 0           elapsed: 10              paging: False                 \n",
      "pending: 0                                                                      \u001b[39;49m\n",
      "\n",
      "\u001b[2J\u001b[1;1H\u001b[30;47mactivating: 1            complete: 0              downloaded: 0.00MB            \n",
      "downloading: 0           elapsed: 11              paging: False                 \n",
      "pending: 0                                                                      \u001b[39;49m\n",
      "\n",
      "\u001b[2J\u001b[1;1H\u001b[30;47mactivating: 1            complete: 0              downloaded: 0.00MB            \n",
      "downloading: 0           elapsed: 12              paging: False                 \n",
      "pending: 0                                                                      \u001b[39;49m\n",
      "\n",
      "\u001b[2J\u001b[1;1H\u001b[30;47mactivating: 1            complete: 0              downloaded: 0.00MB            \n",
      "downloading: 0           elapsed: 13              paging: False                 \n",
      "pending: 0                                                                      \u001b[39;49m\n",
      "\n",
      "\u001b[2J\u001b[1;1H\u001b[30;47mactivating: 1            complete: 0              downloaded: 0.00MB            \n",
      "downloading: 0           elapsed: 14              paging: False                 \n",
      "pending: 0                                                                      \u001b[39;49m\n",
      "\n",
      "\u001b[2J\u001b[1;1H\u001b[30;47mactivating: 1            complete: 0              downloaded: 0.00MB            \n",
      "downloading: 0           elapsed: 15              paging: False                 \n",
      "pending: 0                                                                      \u001b[39;49m\n",
      "\n",
      "\u001b[2J\u001b[1;1H\u001b[30;47mactivating: 1            complete: 0              downloaded: 0.00MB            \n",
      "downloading: 0           elapsed: 16              paging: False                 \n",
      "pending: 0                                                                      \u001b[39;49m\n",
      "\n",
      "\u001b[2J\u001b[1;1H\u001b[30;47mactivating: 1            complete: 0              downloaded: 0.00MB            \n",
      "downloading: 0           elapsed: 17              paging: False                 \n",
      "pending: 0                                                                      \u001b[39;49m\n",
      "\n",
      "\u001b[2J\u001b[1;1H\u001b[30;47mactivating: 1            complete: 0              downloaded: 0.00MB            \n",
      "downloading: 0           elapsed: 18              paging: False                 \n",
      "pending: 0                                                                      \u001b[39;49m\n",
      "\n",
      "\u001b[2J\u001b[1;1H\u001b[30;47mactivating: 1            complete: 0              downloaded: 0.00MB            \n",
      "downloading: 0           elapsed: 19              paging: False                 \n",
      "pending: 0                                                                      \u001b[39;49m\n",
      "\n",
      "\u001b[2J\u001b[1;1H\u001b[30;47mactivating: 1            complete: 0              downloaded: 0.00MB            \n",
      "downloading: 0           elapsed: 20              paging: False                 \n",
      "pending: 0                                                                      \u001b[39;49m\n",
      "\n",
      "\u001b[2J\u001b[1;1H\u001b[30;47mactivating: 1            complete: 0              downloaded: 0.00MB            \n",
      "downloading: 0           elapsed: 21              paging: False                 \n",
      "pending: 0                                                                      \u001b[39;49m\n",
      "\n",
      "\u001b[2J\u001b[1;1H\u001b[30;47mactivating: 1            complete: 0              downloaded: 0.00MB            \n",
      "downloading: 0           elapsed: 22              paging: False                 \n",
      "pending: 0                                                                      \u001b[39;49m\n",
      "\n",
      "\u001b[2J\u001b[1;1H\u001b[30;47mactivating: 1            complete: 0              downloaded: 0.00MB            \n",
      "downloading: 0           elapsed: 23              paging: False                 \n",
      "pending: 0                                                                      \u001b[39;49m\n",
      "\n",
      "\u001b[2J\u001b[1;1H\u001b[30;47mactivating: 1            complete: 0              downloaded: 0.00MB            \n",
      "downloading: 0           elapsed: 24              paging: False                 \n",
      "pending: 0                                                                      \u001b[39;49m\n",
      "\n",
      "\u001b[2J\u001b[1;1H\u001b[30;47mactivating: 1            complete: 0              downloaded: 0.00MB            \n",
      "downloading: 0           elapsed: 25              paging: False                 \n",
      "pending: 0                                                                      \u001b[39;49m\n",
      "\n",
      "\u001b[2J\u001b[1;1H\u001b[30;47mactivating: 1            complete: 0              downloaded: 0.00MB            \n",
      "downloading: 0           elapsed: 26              paging: False                 \n",
      "pending: 0                                                                      \u001b[39;49m\n",
      "\n",
      "\u001b[2J\u001b[1;1H\u001b[30;47mactivating: 1            complete: 0              downloaded: 0.00MB            \n",
      "downloading: 0           elapsed: 27              paging: False                 \n",
      "pending: 0                                                                      \u001b[39;49m\n",
      "\n",
      "\u001b[2J\u001b[1;1H\u001b[30;47mactivating: 0            complete: 0              downloaded: 0.00MB            \n",
      "downloading: 1           elapsed: 28              paging: False                 \n",
      "pending: 1                                                                      \u001b[39;49m\n",
      "\n",
      "\u001b[2J\u001b[1;1H\u001b[30;47mactivating: 0            complete: 0              downloaded: 0.00MB            \n",
      "downloading: 2           elapsed: 29              paging: False                 \n",
      "pending: 0                                                                      \u001b[39;49m\n",
      "\n",
      "\u001b[2J\u001b[1;1H\u001b[30;47mactivating: 0            complete: 0              downloaded: 0.00MB            \n",
      "downloading: 2           elapsed: 30              paging: False                 \n",
      "pending: 0                                                                      \u001b[39;49m\n",
      "\n",
      "\u001b[2J\u001b[1;1H\u001b[30;47mactivating: 0            complete: 0              downloaded: 0.00MB            \n",
      "downloading: 2           elapsed: 31              paging: False                 \n",
      "pending: 0                                                                      \u001b[39;49m\n",
      "\n",
      "\u001b[2J\u001b[1;1H\u001b[30;47mactivating: 0            complete: 0              downloaded: 0.00MB            \n",
      "downloading: 2           elapsed: 32              paging: False                 \n",
      "pending: 0                                                                      \u001b[39;49m\n",
      "\n"
     ]
    },
    {
     "name": "stdout",
     "output_type": "stream",
     "text": [
      "\u001b[2J\u001b[1;1H\u001b[30;47mactivating: 0            complete: 0              downloaded: 0.00MB            \n",
      "downloading: 2           elapsed: 33              paging: False                 \n",
      "pending: 0                                                                      \u001b[39;49m\n",
      "\n",
      "\u001b[2J\u001b[1;1H\u001b[30;47mactivating: 0            complete: 0              downloaded: 0.00MB            \n",
      "downloading: 2           elapsed: 34              paging: False                 \n",
      "pending: 0                                                                      \u001b[39;49m\n",
      "\n",
      "\u001b[2J\u001b[1;1H\u001b[30;47mactivating: 0            complete: 0              downloaded: 0.00MB            \n",
      "downloading: 2           elapsed: 35              paging: False                 \n",
      "pending: 0                                                                      \u001b[39;49m\n",
      "\n",
      "\u001b[2J\u001b[1;1H\u001b[30;47mactivating: 0            complete: 0              downloaded: 0.00MB            \n",
      "downloading: 2           elapsed: 36              paging: False                 \n",
      "pending: 0                                                                      \u001b[39;49m\n",
      "\n",
      "\u001b[2J\u001b[1;1H\u001b[30;47mactivating: 0            complete: 0              downloaded: 0.00MB            \n",
      "downloading: 2           elapsed: 37              paging: False                 \n",
      "pending: 0                                                                      \u001b[39;49m\n",
      "\n",
      "\u001b[2J\u001b[1;1H\u001b[30;47mactivating: 0            complete: 0              downloaded: 0.00MB            \n",
      "downloading: 2           elapsed: 38              paging: False                 \n",
      "pending: 0                                                                      \u001b[39;49m\n",
      "\n",
      "\u001b[2J\u001b[1;1H\u001b[30;47mactivating: 0            complete: 0              downloaded: 0.00MB            \n",
      "downloading: 2           elapsed: 39              paging: False                 \n",
      "pending: 0                                                                      \u001b[39;49m\n",
      "\n",
      "\u001b[2J\u001b[1;1H\u001b[30;47mactivating: 0            complete: 0              downloaded: 0.00MB            \n",
      "downloading: 2           elapsed: 40              paging: False                 \n",
      "pending: 0                                                                      \u001b[39;49m\n",
      "\n",
      "\u001b[2J\u001b[1;1H\u001b[30;47mactivating: 0            complete: 0              downloaded: 0.00MB            \n",
      "downloading: 2           elapsed: 41              paging: False                 \n",
      "pending: 0                                                                      \u001b[39;49m\n",
      "\n",
      "\u001b[2J\u001b[1;1H\u001b[30;47mactivating: 0            complete: 0              downloaded: 0.00MB            \n",
      "downloading: 2           elapsed: 42              paging: False                 \n",
      "pending: 0                                                                      \u001b[39;49m\n",
      "\n",
      "\u001b[2J\u001b[1;1H\u001b[30;47mactivating: 0            complete: 0              downloaded: 0.00MB            \n",
      "downloading: 2           elapsed: 43              paging: False                 \n",
      "pending: 0                                                                      \u001b[39;49m\n",
      "\n",
      "\u001b[2J\u001b[1;1H\u001b[30;47mactivating: 0            complete: 0              downloaded: 0.00MB            \n",
      "downloading: 2           elapsed: 44              paging: False                 \n",
      "pending: 0                                                                      \u001b[39;49m\n",
      "\n",
      "\u001b[2J\u001b[1;1H\u001b[30;47mactivating: 0            complete: 0              downloaded: 0.00MB            \n",
      "downloading: 2           elapsed: 45              paging: False                 \n",
      "pending: 0                                                                      \u001b[39;49m\n",
      "\n",
      "\u001b[2J\u001b[1;1H\u001b[30;47mactivating: 0            complete: 0              downloaded: 0.00MB            \n",
      "downloading: 2           elapsed: 46              paging: False                 \n",
      "pending: 0                                                                      \u001b[39;49m\n",
      "\n",
      "\u001b[2J\u001b[1;1H\u001b[30;47mactivating: 0            complete: 0              downloaded: 0.00MB            \n",
      "downloading: 2           elapsed: 47              paging: False                 \n",
      "pending: 0                                                                      \u001b[39;49m\n",
      "\n",
      "\u001b[2J\u001b[1;1H\u001b[30;47mactivating: 0            complete: 0              downloaded: 0.00MB            \n",
      "downloading: 2           elapsed: 48              paging: False                 \n",
      "pending: 0                                                                      \u001b[39;49m\n",
      "\n",
      "\u001b[2J\u001b[1;1H\u001b[30;47mactivating: 0            complete: 0              downloaded: 0.00MB            \n",
      "downloading: 2           elapsed: 49              paging: False                 \n",
      "pending: 0                                                                      \u001b[39;49m\n",
      "\n",
      "\u001b[2J\u001b[1;1H\u001b[30;47mactivating: 0            complete: 0              downloaded: 0.00MB            \n",
      "downloading: 2           elapsed: 50              paging: False                 \n",
      "pending: 0                                                                      \u001b[39;49m\n",
      "\n",
      "\u001b[2J\u001b[1;1H\u001b[30;47mactivating: 0            complete: 0              downloaded: 0.00MB            \n",
      "downloading: 2           elapsed: 51              paging: False                 \n",
      "pending: 0                                                                      \u001b[39;49m\n",
      "\n",
      "\u001b[2J\u001b[1;1H\u001b[30;47mactivating: 0            complete: 0              downloaded: 0.00MB            \n",
      "downloading: 2           elapsed: 52              paging: False                 \n",
      "pending: 0                                                                      \u001b[39;49m\n",
      "\n",
      "\u001b[2J\u001b[1;1H\u001b[30;47mactivating: 0            complete: 0              downloaded: 0.00MB            \n",
      "downloading: 2           elapsed: 53              paging: False                 \n",
      "pending: 0                                                                      \u001b[39;49m\n",
      "\n",
      "\u001b[2J\u001b[1;1H\u001b[30;47mactivating: 0            complete: 0              downloaded: 0.00MB            \n",
      "downloading: 2           elapsed: 54              paging: False                 \n",
      "pending: 0                                                                      \u001b[39;49m\n",
      "\n"
     ]
    }
   ],
   "source": [
    "!planet data download --item-type PSScene4Band --asset-type analytic,analytic_xml --string-in id 20160831_180302_0e26"
   ]
  },
  {
   "cell_type": "markdown",
   "metadata": {},
   "source": [
    "**Congratulations!** You now have two files in your download directory: `20160831_180302_0e26_3B_AnalyticMS.tif` and `20160831_180302_0e26_3B_AnalyticMS_metadata.xml`. "
   ]
  },
  {
   "cell_type": "markdown",
   "metadata": {},
   "source": [
    "## Step 2. Extract the Visible and NIR bands "
   ]
  },
  {
   "cell_type": "markdown",
   "metadata": {},
   "source": [
    "In this step, we're going to open the raster image we downloaded (the .tif file), extract the visible and near-infrared bands, and return a numpy array. In PlanetScope 4-band images, the band order is BGRN: Blue, Green, Red, Near-infrared."
   ]
  },
  {
   "cell_type": "code",
   "execution_count": null,
   "metadata": {
    "collapsed": true
   },
   "outputs": [],
   "source": [
    "import rasterio\n",
    "import numpy\n",
    "\n",
    "filename = \"20160831_180302_0e26_3B_AnalyticMS.tif\"\n",
    "\n",
    "# Load red and NIR bands - note all PlanetScope 4-band images have band order BGRN\n",
    "with rasterio.open(filename) as src:\n",
    "    band_red = src.read(3)\n",
    "\n",
    "with rasterio.open(filename) as src:\n",
    "    band_nir = src.read(4)"
   ]
  },
  {
   "cell_type": "markdown",
   "metadata": {},
   "source": [
    "## Step 3. Normalize to Top of Atmosphere Reflectance"
   ]
  },
  {
   "cell_type": "markdown",
   "metadata": {},
   "source": [
    "We must normalize the values in the bands so that the NDVI calculation yield values in the expected range. "
   ]
  },
  {
   "cell_type": "code",
   "execution_count": null,
   "metadata": {
    "collapsed": true
   },
   "outputs": [],
   "source": [
    "from xml.dom import minidom\n",
    "\n",
    "xmldoc = minidom.parse(\"20160831_180302_0e26_3B_AnalyticMS_metadata.xml\")\n",
    "nodes = xmldoc.getElementsByTagName(\"ps:bandSpecificMetadata\")\n",
    "\n",
    "# XML parser refers to bands by numbers 1-4\n",
    "coeffs = {}\n",
    "for node in nodes:\n",
    "    bn = node.getElementsByTagName(\"ps:bandNumber\")[0].firstChild.data\n",
    "    if bn in ['1', '2', '3', '4']:\n",
    "        i = int(bn)\n",
    "        value = node.getElementsByTagName(\"ps:reflectanceCoefficient\")[0].firstChild.data\n",
    "        coeffs[i] = float(value)\n",
    "        \n",
    "# Multiply the band values by the TOA reflectance coefficients\n",
    "band_red = band_red * coeffs[3]\n",
    "band_nir = band_nir * coeffs[4]"
   ]
  },
  {
   "cell_type": "markdown",
   "metadata": {},
   "source": [
    "## Step 4. Perform the NDVI calculation"
   ]
  },
  {
   "cell_type": "markdown",
   "metadata": {},
   "source": [
    "Next we perform the NDVI calculation through subtraction and division of the pixel values."
   ]
  },
  {
   "cell_type": "code",
   "execution_count": null,
   "metadata": {
    "collapsed": true
   },
   "outputs": [],
   "source": [
    "# Allow division by zero\n",
    "numpy.seterr(divide='ignore', invalid='ignore')\n",
    "\n",
    "# Calculate NDVI. This is the equation at the top of this guide expressed in code\n",
    "ndvi = (band_nir.astype(float) - band_red.astype(float)) / (band_nir + band_red)\n"
   ]
  },
  {
   "cell_type": "markdown",
   "metadata": {},
   "source": [
    "## Step 5. Save the NDVI image "
   ]
  },
  {
   "cell_type": "markdown",
   "metadata": {},
   "source": [
    "Finally we output these new pixel values to a new image file, making sure we mirror the GeoTIFF spatial metadata:"
   ]
  },
  {
   "cell_type": "code",
   "execution_count": null,
   "metadata": {
    "collapsed": true
   },
   "outputs": [],
   "source": [
    "# Set spatial characteristics of the output object to mirror the input\n",
    "kwargs = src.meta\n",
    "kwargs.update(\n",
    "    dtype=rasterio.float32,\n",
    "    count = 1)\n",
    "\n",
    "# Write band calculations to a new raster file\n",
    "with rasterio.open('ndvi.tif', 'w', **kwargs) as dst:\n",
    "        dst.write_band(1, ndvi.astype(rasterio.float32))"
   ]
  },
  {
   "cell_type": "markdown",
   "metadata": {},
   "source": [
    "## Step 6. Apply a color map"
   ]
  },
  {
   "cell_type": "code",
   "execution_count": null,
   "metadata": {},
   "outputs": [],
   "source": [
    "import matplotlib.pyplot as plt\n",
    "img = plt.imsave(\"ndvi_cmap.png\", ndvi, cmap=plt.cm.summer)"
   ]
  },
  {
   "cell_type": "code",
   "execution_count": null,
   "metadata": {},
   "outputs": [],
   "source": [
    "from IPython.display import HTML \n",
    "HTML('<img src=\"ndvi_cmap.png\" width=75%>') "
   ]
  },
  {
   "cell_type": "markdown",
   "metadata": {
    "collapsed": true
   },
   "source": [
    "## 7. Show a histogram of NDVI values"
   ]
  },
  {
   "cell_type": "markdown",
   "metadata": {
    "collapsed": true
   },
   "source": [
    "### How can we interpret NDVI values?\n",
    "* Values are typicalled scaled to range from -1.0 to 1.0:\n",
    "* water ~ -1.0\n",
    "* barren area ~ 0.0\n",
    "* shrub/grass ~ 0.2-0.4\n",
    "* forest ~ 1.0"
   ]
  },
  {
   "cell_type": "code",
   "execution_count": 11,
   "metadata": {
    "collapsed": true
   },
   "outputs": [],
   "source": [
    "import numpy.ma as ma\n",
    "\n",
    "# Create a histogram function\n",
    "def rasterHistogram(raster_matrix):\n",
    "    '''Accepts matrix and generates histogram'''\n",
    "     \n",
    "    # Line above is function docstring\n",
    "    # Flatten 2d-matrix\n",
    "    flat_raster = ma.compressed(raster_matrix)\n",
    "     \n",
    "    # Setup the plot (see matplotlib.sourceforge.net)\n",
    "    fig = plt.figure(figsize=(8,11))\n",
    "    ax = fig.add_subplot(1,1,1)\n",
    "     \n",
    "    # Plot histogram\n",
    "    ax.hist(flat_raster, 10, normed=0, histtype='bar',\n",
    "            align='mid')\n",
    "    # Show the plot on screen\n",
    "    plt.show()"
   ]
  },
  {
   "cell_type": "code",
   "execution_count": 12,
   "metadata": {},
   "outputs": [
    {
     "data": {
      "image/png": "[encoded data removed]",
      "text/plain": [
       "<matplotlib.figure.Figure at 0x11947ab10>"
      ]
     },
     "metadata": {},
     "output_type": "display_data"
    }
   ],
   "source": [
    "# Pass matrix representation of raster to function\n",
    "rasterHistogram(band_red)\n",
    "# Shows histogram on screen"
   ]
  },
  {
   "cell_type": "code",
   "execution_count": null,
   "metadata": {
    "collapsed": true
   },
   "outputs": [],
   "source": []
  }
 ],
 "metadata": {
  "kernelspec": {
   "display_name": "Python 2",
   "language": "python",
   "name": "python2"
  },
  "language_info": {
   "codemirror_mode": {
    "name": "ipython",
    "version": 2
   },
   "file_extension": ".py",
   "mimetype": "text/x-python",
   "name": "python",
   "nbconvert_exporter": "python",
   "pygments_lexer": "ipython2",
   "version": "2.7.13"
  }
 },
 "nbformat": 4,
 "nbformat_minor": 2
}
