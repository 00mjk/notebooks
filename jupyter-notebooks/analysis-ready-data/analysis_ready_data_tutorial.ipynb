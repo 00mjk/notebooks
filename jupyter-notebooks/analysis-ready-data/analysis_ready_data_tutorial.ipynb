{
 "cells": [
  {
   "cell_type": "markdown",
   "metadata": {},
   "source": [
    "# Analysis Ready Data Tutorial\n",
    "\n",
    "Time-series analysis (e.g. change detection and trend detection) is a powerful application of satellite imagery. However, a great deal of processing is required to prepare imagery for analysis. Analysis Ready Data (ARD), preprocessed time-series stacks of overhead imagery, allow for time-series analysis without any additional processing of the imagery. See [Analysis Data Defined](https://medium.com/planet-stories/analysis-ready-data-defined-5694f6f48815) for an excellent introduction and discussion on ARD.\n",
    "\n",
    "This tutorial shows how [Planet APIs](https://developers.planet.com/docs/apis/) can simplify production of ARD by working through two real-world use cases. This tutorial is targeted to users who have little to no geospatial knowledge but have experience working with APIs. The goal of this tutorial is to teach the user the how and whys of using the Data and Orders APIs to create and interpret ARD for both use cases. The use cases addressed in this tutorial are:\n",
    "\n",
    "* As a software engineer at an ag-tech company, I'd like to be able to order Planet imagery programmatically in a way that enables the data scientist at my organization to create time-series algorithms (e.g. monitoring ndvi curves over time) without further data cleaning and processing.\n",
    "* As a tropical forest monitoring analyst, I'd like to create an imagery pipeline that delivers analysis-ready imagery over a protected area so I can create simple change detection (ndvi_xdate - ndvi_ydate) analyses. I'd like to do minimal custom (non-Planet) data processing to get the imagery in a format that supports a change-detection analysis because my technical skills are limited.\n",
    "\n",
    "## APIs\n",
    "\n",
    "The two Planet APIs that are used in creation of ARD are the [Data API](https://developers.planet.com/docs/data/) and the [Orders API](https://developers.planet.com/docs/orders/). The Data API is used to search for imagery according to certain criteria based on the use case, and the Orders API is used to process that imagery into ARD that can be fed directly into time-series analysis.\n",
    "\n",
    "### Data API\n",
    "\n",
    "The first step in using the Data API is identifying the search criteria. This is specifying answers to the following questions regarding the use case time-series analysis:\n",
    "* What is the time range?\n",
    "* What product item type is desired?\n",
    "* What is the area of interest (geographic region)?\n",
    "* What percentage of pixels need to be usable?\n",
    "* etc.\n",
    "\n",
    "While time range is likely pretty trivial to determine, product item, area of interest, and usable pixels may take a little bit of work. Let's dive into each further\n",
    "\n",
    "#### Product Item Type\n",
    "\n",
    "The [product item type](https://developers.planet.com/docs/data/items-assets/) refers to the sensor source (aka satellite type) and basic processing desired. This decision is highly dependent on application, as coverage, revisit rate, spectral bands, and resolution differ between products. A good overview of the products available in the Planet Data API is provided on the [Planet Imagery and Archive](https://www.planet.com/products/planet-imagery/) page (look for the link to product specs for details). For most frequent revisit rate, we will use the PS satellite. Experience has shown that customers most often use the scene (vs the orthotile) product. Therefore, this tutorial will focus on the `PSScene4Band` product.\n",
    "\n",
    "#### Area of Interest\n",
    "\n",
    "The area of interest is the geographic region for the analysis, given as GeoJSON. If you are familiar with JSON, the format of GeoJSON will likely be easy to grasp. According to <geojson.org>, \"GeoJSON is a format for encoding a variety of geographic data structures.\" The specific geographic data structure we are interested is a `Polygon`. The [GeoJSON wikipedia page](https://en.wikipedia.org/wiki/GeoJSON) gives some great examples of the data structures for the various GeoJSON data structures. \n",
    "\n",
    "Some care needs to be given to describing the [position](https://tools.ietf.org/html/rfc7946#section-3.1.1) for each coordinate in a GeoJSON geometry. Each position is specified as `(longitude, latitude)` or `(easting, northing)` (order really matters here!). Also, this may be a surprise, but the same point on earth can have different `(longitude, latitude)` values based on the spatial reference system. Basically, a spatial reference system describes where something is in the real world. But there are thousands of different spatial reference systems. These are separated into two categories: geographic and projected. Geographic coordinate systems model the earth as an ellipsoid (this model is called the `datum`) and describe positions on the surface of the earth (coordinates) in terms of the prime meridian and angle of measure. Projected coordinate systems take this a step further by projecting the geographic coordinates (quite three-dimensional) into two dimensions (the `projection`). Different projections preserve different properties, such as area, angles, or direction for north. There is a rich area of discovery, discussion, and even a little [teasing](https://xkcd.com/977/) (thanks xkcd!) in the world of spatial reference systems.\n",
    "\n",
    "GeoJSON only supports one spatial reference system, [WGS84](https://spatialreference.org/ref/epsg/wgs-84/). This is a geographic coordinate system describing locations in latitude, longitude. However, many web mapping applications use the Web Mercator projected coordinate system to to describe locations. Confusingly, Web Mercator also describes locations in latitude, longitude. But a `(longitude, latitude)` GeoJSON position given in Web Mercator will **not** end up where you expect if it is not first projected into WGS84. The easiest way to define an aoi that is described in WGS84 is to draw it in [Planet Explorer](https://www.planet.com/explorer) and click the little button \"Download AOI as GeoJSON.\"\n",
    "\n",
    "#### Usable Pixels\n",
    "\n",
    "Taking pictures of the earth from space ain't easy. There are a lot of steps and a lot of things have to go right to get a clear shot. Therefore, not every pixel in every image taken from space is useful for analysis. For one, images taken from space are projected into a spatial reference system (discussed briefly above), a process that introduces some NoData (aka outside of the image footprint) pixels into the resulting image. Additionally, clouds cover a great deal of the earth and create cloudy pixels when imaged. While some applications can use cloudy pixels, others cannot. Therefore, the type of pixels that are determined to be 'usable' are often application-specific. To support definition of usable pixels, and filtering based on that definition, Planet provides Usable Data Masks along with Usable Data entries in the imagery metadata. For more details on the Usable Data Mask, check out (Clear for Analysis with Planet’s New Usable Data Masks)[https://www.planet.com/pulse/planets-new-usable-data-masks/]. For more information on the Usable Data metadata entries, see (Usable Data in Planet imagery)[https://developers.planet.com/planetschool/usable-data-in-planet-imagery/].\n",
    "\n",
    "### Orders API\n",
    "\n",
    "The core decision around using the orders api is which [product bundle](https://developers.planet.com/docs/orders/product-bundles-reference/) to use. This is the starting point for all processing and there are a lot of options. Once the product is determined, the processing steps (aka tools and toolchains) are defined. Finally, the logistics of the delivery of the imagery are ironed out.\n",
    "\n",
    "#### Product Bundle\n",
    "\n",
    "To enable time-series analysis, ARD imagery must be processed so that imagery is consistant across days, months, and possibly years. This means correcting for differences in camera sensitivities, the relative location of the sun, and the atmospheric conditions. The Analytic Radiance (`analytic`) product bundle provides imagery corrected for difference in camera sensitivities and location of the sun (as radiance) and can also remove the effect of the sun's spectrum by applying the `reflectanceCoefficient` value given in the imagery metadata. However, the Analytic Surface Reflectance (`analytic_sr`) product bundle removes the effect of atmospheric conditions while also converting to reflectance. Therefore, the Analytic Surface Reflectance is the ideal product for ARD and the one we will use here.\n",
    "\n",
    "#### Tools and Toolchains\n",
    "\n",
    "The [Tools and Toolchains](https://developers.planet.com/docs/orders/tools-toolchains/) functionality in the Orders API are the key to seamlessly creating ARD. Through the API, one can define the pre-processing steps for the data before it is delivered. Given proper definition of the tools and toolchains, data that is delivered is analysis-ready.\n",
    "\n",
    "#### Delivery\n",
    "\n",
    "There are a few options for delivery that cater to different use cases. Imagery can be downloaded directly or delivered to [cloud storage](https://developers.planet.com/docs/orders/ordering-delivery/#delivery-to-cloud-storage). When imagery is downloaded, the user can poll for when the order is ready or notifications ([e-mail](https://developers.planet.com/docs/orders/ordering-delivery/#email-notification) or [webhooks](https://developers.planet.com/docs/orders/ordering-delivery/#using-webhooks)) can be used. Additionally, the imagery can be delivered as a [zip archive](https://developers.planet.com/docs/orders/ordering-delivery/#zipping-results).\n",
    "\n",
    "## Use Cases\n",
    "\n",
    "Now that we have a basic understanding of the Data and Orders APIs, let's put them to use creating ARD for real-world two use cases.\n",
    "\n",
    "#### ARCHIVE: Use Case 2\n",
    "\n",
    "The second use case we will cover is: *As a tropical forest monitoring analyst, I'd like to create an imagery pipeline that delivers analysis-ready imagery over a [LARGE] protected area so I can create simple change detection (ndvi_xdate - ndvi_ydate) analyses. I'd like to do minimal custom (non-Planet) data processing to get the imagery in a format that supports a change-detection analysis because my technical skills are limited.*\n",
    "\n",
    "This case is similar to the last use case, but introduces the need for gridding to handle a large area of interest.\n",
    "\n",
    "\n",
    "### Use Case 1\n",
    "\n",
    "The first use case we will cover is: *As a software engineer at an ag-tech company, I'd like to be able to order Planet imagery programmatically in a way that enables the data scientist at my organization to create time-series algorithms (e.g. monitoring ndvi curves over time) without further data cleaning and processing.*\n",
    "\n",
    "For this use case, the area of interest and time range are not specified. The need for no further processing indicates we should specify a strict usable pixel data filter. For time-series analysis the daily coverage of PS satellites is ideal. The requirement for a programmatic interface implies creation of a function. Therefore, we will create a function that takes as inputs the area of interest, time range, and satellite and returns ndvi. For simplicity, we will \n",
    "\n",
    "\n",
    "#### Implementation\n",
    "\n",
    "For this tutorial we will use the [planet python client](https://github.com/planetlabs/planet-client-python) ([documentation](https://planetlabs.github.io/planet-client-python/index.html)). This client simplifies interactions with the various Planet APIs and also includes a command-line interface.\n",
    "\n",
    "The first step in using the planet python client is initializing the client with the user API key. Each user (or organization) has their own unique API key. Information on finding the API key and running Docker so that the API key is available in the notebooks is given in this repository's [README](https://github.com/planetlabs/notebooks#install-and-use-these-notebooks).\n",
    "\n",
    "The next step is building functionality for searching the Data API with the client. This consists of building the search query and then running the search. In building this functionality, we will use test information for data ranges and AOIs to test the functionality, but we will build the functions so those pieces can be changed by the end user.\n",
    "\n",
    "The last step is building functionality for processing and delivery with the Orders API. At the time of the creation of this tutorial (mid-2019), the Orders API functionality best supported (e.g. [documented](https://planetlabs.github.io/planet-client-python/cli/examples.html#orders-examples)) in the command-line interface (CLI). Therefore, we will use the client CLI for this portion of the tutorial.\n",
    "\n",
    "**TODO** Update above a bit based on new orders download implementation. Also talk about processing and verifying results.\n",
    "\n",
    "To summarize, these are the steps:\n",
    "1. Initialize API client\n",
    "2. Create Data API Search\n",
    "3. Create Orders API Toolchain\n",
    "4. Process and Verify Results\n",
    "\n",
    "#### Step 1: Initialize API client"
   ]
  },
  {
   "cell_type": "code",
   "execution_count": 114,
   "metadata": {},
   "outputs": [],
   "source": [
    "import os\n",
    "\n",
    "from planet import api"
   ]
  },
  {
   "cell_type": "code",
   "execution_count": 115,
   "metadata": {},
   "outputs": [],
   "source": [
    "# if your Planet API Key is not set as an environment variable, you can paste it below\n",
    "API_KEY = os.environ.get('PL_API_KEY', 'PASTE_YOUR_KEY_HERE')\n",
    "\n",
    "client = api.ClientV1(api_key=API_KEY)"
   ]
  },
  {
   "cell_type": "markdown",
   "metadata": {},
   "source": [
    "#### Step 2: Create Data API Search\n",
    "\n",
    "The goal of this step is to get the scene ids that meet the search criteria for this use case."
   ]
  },
  {
   "cell_type": "code",
   "execution_count": 116,
   "metadata": {},
   "outputs": [],
   "source": [
    "import datetime\n",
    "from pprint import pprint\n",
    "\n",
    "from planet.api import filters"
   ]
  },
  {
   "cell_type": "code",
   "execution_count": 117,
   "metadata": {},
   "outputs": [],
   "source": [
    "# define test data for the filter\n",
    "test_start_date = datetime.datetime(year=2019,month=4,day=1)\n",
    "test_stop_date = datetime.datetime(year=2019,month=5,day=1)\n",
    "\n",
    "# iowa crops aoi\n",
    "test_aoi_geom = {\n",
    "    \"type\": \"Polygon\",\n",
    "    \"coordinates\": [\n",
    "        [\n",
    "            [-93.299129, 42.699599],\n",
    "            [-93.299674, 42.812757],\n",
    "            [-93.288436, 42.861921],\n",
    "            [-93.265332, 42.924817],\n",
    "            [-92.993873, 42.925124],\n",
    "            [-92.993888, 42.773637],\n",
    "            [-92.998396, 42.754529],\n",
    "            [-93.019154, 42.699988],\n",
    "            [-93.299129, 42.699599]\n",
    "        ]\n",
    "    ]\n",
    "}"
   ]
  },
  {
   "cell_type": "code",
   "execution_count": 118,
   "metadata": {},
   "outputs": [
    {
     "name": "stdout",
     "output_type": "stream",
     "text": [
      "{'item_types': ['PSScene4Band'], 'filter': {'type': 'AndFilter', 'config': ({'field_name': 'geometry', 'type': 'GeometryFilter', 'config': {'type': 'Polygon', 'coordinates': [[[-93.299129, 42.699599], [-93.299674, 42.812757], [-93.288436, 42.861921], [-93.265332, 42.924817], [-92.993873, 42.925124], [-92.993888, 42.773637], [-92.998396, 42.754529], [-93.019154, 42.699988], [-93.299129, 42.699599]]]}}, {'field_name': 'clear_percent', 'type': 'RangeFilter', 'config': {'gte': 90}}, {'field_name': 'acquired', 'type': 'DateRangeFilter', 'config': {'gt': '2019-04-01T00:00:00Z'}}, {'field_name': 'acquired', 'type': 'DateRangeFilter', 'config': {'lt': '2019-05-01T00:00:00Z'}})}}\n"
     ]
    }
   ],
   "source": [
    "# create an api request from the search specifications\n",
    "def build_request(aoi_geom, start_date, stop_date):\n",
    "    '''build a data api search request for clear PSScene4Band imagery'''\n",
    "    item_type = 'PSScene4Band'\n",
    "    query = filters.and_filter(\n",
    "        filters.geom_filter(aoi_geom),\n",
    "        filters.range_filter('clear_percent', gte=90),\n",
    "        filters.date_range('acquired', gt=start_date),\n",
    "        filters.date_range('acquired', lt=stop_date)\n",
    "    )\n",
    "    return filters.build_search_request(query, ['PSScene4Band'])\n",
    "\n",
    "request = build_request(test_aoi_geom, test_start_date, test_stop_date)\n",
    "print(request)"
   ]
  },
  {
   "cell_type": "code",
   "execution_count": 119,
   "metadata": {},
   "outputs": [
    {
     "name": "stdout",
     "output_type": "stream",
     "text": [
      "80\n"
     ]
    }
   ],
   "source": [
    "# search the data api\n",
    "def search_data_api(request, client, limit=500):\n",
    "    result = client.quick_search(request)\n",
    "    \n",
    "    # this returns a generator\n",
    "    return result.items_iter(limit=limit)\n",
    "\n",
    "items = list(search_data_api(request, client))\n",
    "print(len(items))"
   ]
  },
  {
   "cell_type": "code",
   "execution_count": 121,
   "metadata": {},
   "outputs": [],
   "source": [
    "# check out an item just for fun\n",
    "# pprint(items[0])"
   ]
  },
  {
   "cell_type": "markdown",
   "metadata": {},
   "source": [
    "#### Step 3: Create Orders API Toolchain\n",
    "\n",
    "Now that we have the scene ids, we can create the order. The output of this step is a single zip file that contains all of the scenes that meet our criteria.\n",
    "\n",
    "Because this is a demo, we don't download all of the scene ids. \n",
    "\n",
    "**TODO**: implement a better filtering criteria than just the first 4 scenes. we want to make sure we get full coverage of the aoi (which may take a few scenes) for at least 4 collect dates."
   ]
  },
  {
   "cell_type": "code",
   "execution_count": 123,
   "metadata": {},
   "outputs": [],
   "source": [
    "# work with just a subset of the items in the interest of bandwidth\n",
    "test_items = items[:4]"
   ]
  },
  {
   "cell_type": "code",
   "execution_count": 124,
   "metadata": {},
   "outputs": [
    {
     "data": {
      "text/plain": [
       "['20190415_170304_85_1068',\n",
       " '20190415_170302_79_1068',\n",
       " '20190426_170322_82_105c',\n",
       " '20190426_170320_32_105c']"
      ]
     },
     "execution_count": 124,
     "metadata": {},
     "output_type": "execute_result"
    }
   ],
   "source": [
    "# filter to item ids\n",
    "ids = [i['id'] for i in test_items]\n",
    "ids"
   ]
  },
  {
   "cell_type": "code",
   "execution_count": 125,
   "metadata": {},
   "outputs": [],
   "source": [
    "# specify the psscene4band surface reflectance product\n",
    "# note: capitalization really matters in item_type when using planet client orders api\n",
    "item_type = 'PSScene4Band'\n",
    "bundle = 'analytic_sr'"
   ]
  },
  {
   "cell_type": "markdown",
   "metadata": {},
   "source": [
    "##### Step 3.1: Build Orders API Request"
   ]
  },
  {
   "cell_type": "code",
   "execution_count": null,
   "metadata": {},
   "outputs": [],
   "source": [
    "import json"
   ]
  },
  {
   "cell_type": "code",
   "execution_count": 13,
   "metadata": {},
   "outputs": [
    {
     "name": "stdout",
     "output_type": "stream",
     "text": [
      "[{'clip': {'aoi': {'coordinates': [[[-93.299129, 42.699599],\n",
      "                                    [-93.299674, 42.812757],\n",
      "                                    [-93.288436, 42.861921],\n",
      "                                    [-93.265332, 42.924817],\n",
      "                                    [-92.993873, 42.925124],\n",
      "                                    [-92.993888, 42.773637],\n",
      "                                    [-92.998396, 42.754529],\n",
      "                                    [-93.019154, 42.699988],\n",
      "                                    [-93.299129, 42.699599]]],\n",
      "                   'type': 'Polygon'}}},\n",
      " {'bandmath': {'b1': '(b4 - b3) / (b4+b3)', 'pixel_type': '32R'}}]\n"
     ]
    }
   ],
   "source": [
    "# specify tools\n",
    "\n",
    "# clip to AOI\n",
    "clip_tool = {'clip': {'aoi': test_aoi_geom}}\n",
    "\n",
    "# convert to NDVI\n",
    "bandmath_tool = {'bandmath': {\n",
    "    \"pixel_type\": \"32R\",\n",
    "    \"b1\": \"(b4 - b3) / (b4+b3)\"\n",
    "}}\n",
    "\n",
    "tools = [clip_tool, bandmath_tool]\n",
    "pprint(tools)"
   ]
  },
  {
   "cell_type": "code",
   "execution_count": 14,
   "metadata": {},
   "outputs": [],
   "source": [
    "# specify a name\n",
    "name = 'tutorial_order'"
   ]
  },
  {
   "cell_type": "markdown",
   "metadata": {},
   "source": [
    "##### Option 1: Client Python API\n",
    "\n",
    "The first option for submitting an order is using the planet client python api."
   ]
  },
  {
   "cell_type": "code",
   "execution_count": 126,
   "metadata": {},
   "outputs": [],
   "source": [
    "orders_request = {\n",
    "    'name': name,\n",
    "    'products': [{\n",
    "        'item_ids': ids,\n",
    "        'item_type': item_type,\n",
    "        'product_bundle': bundle\n",
    "    }],\n",
    "    'tools': tools,\n",
    "    'delivery': {\n",
    "        'single_archive': True,\n",
    "        'archive_filename':'{{name}}_{{order_id}}.zip',\n",
    "        'archive_type':'zip'\n",
    "    },\n",
    "        'notifications': {\n",
    "                   'email': False\n",
    "    },\n",
    "}\n",
    "\n",
    "# pprint(orders_request, indent=4)"
   ]
  },
  {
   "cell_type": "code",
   "execution_count": 127,
   "metadata": {},
   "outputs": [
    {
     "data": {
      "text/plain": [
       "'48ee448c-317c-49ce-ad49-843cb3e4a9ef'"
      ]
     },
     "execution_count": 127,
     "metadata": {},
     "output_type": "execute_result"
    }
   ],
   "source": [
    "order_info = client.create_order(orders_request).get()\n",
    "\n",
    "order_id = order_info['id']\n",
    "order_id"
   ]
  },
  {
   "cell_type": "markdown",
   "metadata": {},
   "source": [
    "##### Option 2: Client CLI\n",
    "\n",
    "In some instances, using the CLI to submit orders may be desired."
   ]
  },
  {
   "cell_type": "code",
   "execution_count": 139,
   "metadata": {},
   "outputs": [],
   "source": [
    "# zip up entire order into one file\n",
    "zip = 'order'\n",
    "\n",
    "# format the ids for use with the CLI\n",
    "cli_ids = ','.join([i['id'] for i in test_items])\n",
    "\n",
    "# save tools definition to file\n",
    "tools_file = 'tools.json'\n",
    "with open(tools_file, 'w') as dst:\n",
    "    dst.write(json.dumps(tools))\n",
    "    \n",
    "order_info_file = 'order.json'"
   ]
  },
  {
   "cell_type": "code",
   "execution_count": 140,
   "metadata": {},
   "outputs": [
    {
     "name": "stdout",
     "output_type": "stream",
     "text": [
      "{\"_links\": {\"_self\": \"https://api.planet.com/compute/ops/orders/v2/8e1f183d-2bf6-4f6b-8827-b17d229b3dc9\"}, \"created_on\": \"2020-06-05T00:10:24.717Z\", \"delivery\": {\"archive_filename\": \"{{name}}_{{order_id}}.zip\", \"archive_type\": \"zip\", \"single_archive\": true}, \"error_hints\": [], \"id\": \"8e1f183d-2bf6-4f6b-8827-b17d229b3dc9\", \"last_message\": \"Preparing order\", \"last_modified\": \"2020-06-05T00:10:24.717Z\", \"name\": \"tutorial_order\", \"notifications\": {}, \"products\": [{\"item_ids\": [\"20190415_170304_85_1068\", \"20190415_170302_79_1068\", \"20190426_170322_82_105c\", \"20190426_170320_32_105c\"], \"item_type\": \"PSScene4Band\", \"product_bundle\": \"analytic_sr\"}], \"state\": \"queued\", \"tools\": [{\"clip\": {\"aoi\": {\"coordinates\": [[[-93.299129, 42.699599], [-93.299674, 42.812757], [-93.288436, 42.861921], [-93.265332, 42.924817], [-92.993873, 42.925124], [-92.993888, 42.773637], [-92.998396, 42.754529], [-93.019154, 42.699988], [-93.299129, 42.699599]]], \"type\": \"Polygon\"}}}, {\"bandmath\": {\"b1\": \"(b4 - b3) / (b4+b3)\", \"pixel_type\": \"32R\"}}]}\r\n"
     ]
    }
   ],
   "source": [
    "!planet orders create \\\n",
    "    --id $cli_ids \\\n",
    "    --item-type $item_type \\\n",
    "    --bundle $bundle \\\n",
    "    --zip $zip \\\n",
    "    --tools $tools_file \\\n",
    "    --name $name | tee $order_info_file"
   ]
  },
  {
   "cell_type": "code",
   "execution_count": 143,
   "metadata": {},
   "outputs": [
    {
     "data": {
      "text/plain": [
       "'8e1f183d-2bf6-4f6b-8827-b17d229b3dc9'"
      ]
     },
     "execution_count": 143,
     "metadata": {},
     "output_type": "execute_result"
    }
   ],
   "source": [
    "with open(order_info_file, 'r') as src:\n",
    "    order_info = json.load(src)\n",
    "    \n",
    "order_info['id']"
   ]
  },
  {
   "cell_type": "markdown",
   "metadata": {},
   "source": [
    "#### Step 4: Download Order\n",
    "\n",
    "To download the order from the orders api, we will use the planet python client CLI. It would be nice to use the python client python api for this step but, as of the writing of this tutorial, support for the orders api in the planet client python api has been [confusing](https://github.com/planetlabs/planet-client-python/issues/217). The CLI download status output is also [confusing and possibly wrong](https://github.com/planetlabs/planet-client-python/issues/218) but the CLI does easily and successfully download the order.\n",
    "\n",
    "When we download an order, we always get a `manifest.json` file. Therefore, while we only ordered one file (an order zip), we will download two files. The manifest is [very useful](https://developers.planet.com/docs/orders/ordering-delivery/#why-you-should-depend-on-the-manifest-file) and we will use it to locate the zip file we ordered and downloaded.\n",
    "\n",
    "##### Step 4.1: Wait Until Order is Successful\n",
    "\n",
    "Before we can download the order, the order has to be prepared on the server. Though it would be ideal if the CLI download functionality took care of this, right now it will [error out](https://github.com/planetlabs/planet-client-python/issues/219) if the order hasn't already been run successfully. So, for now, we will do our own polling and waiting until the order is successful."
   ]
  },
  {
   "cell_type": "code",
   "execution_count": 107,
   "metadata": {},
   "outputs": [],
   "source": [
    "import time"
   ]
  },
  {
   "cell_type": "code",
   "execution_count": 108,
   "metadata": {},
   "outputs": [
    {
     "name": "stdout",
     "output_type": "stream",
     "text": [
      "success\n"
     ]
    }
   ],
   "source": [
    "def poll_for_success(order_id, client, num_loops=50):\n",
    "    count = 0\n",
    "    while(count < num_loops):\n",
    "        count += 1\n",
    "        order_info = client.get_individual_order(order_id).get()\n",
    "        state = order_info['state']\n",
    "        print(state)\n",
    "        success_states = ['success', 'partial']\n",
    "        if state == 'failed':\n",
    "            raise Exception(response)\n",
    "        elif state in success_states:\n",
    "            break\n",
    "        \n",
    "        time.sleep(10)\n",
    "        \n",
    "poll_for_success(order_id, client)"
   ]
  },
  {
   "cell_type": "markdown",
   "metadata": {},
   "source": [
    "##### Step 4.2: Run Download"
   ]
  },
  {
   "cell_type": "code",
   "execution_count": 109,
   "metadata": {},
   "outputs": [
    {
     "name": "stdout",
     "output_type": "stream",
     "text": [
      "\u001b[2J\u001b[1;1H\u001b[2J\u001b[1;1H\u001b[30;47mactivating: 0            complete: 0              downloaded: 0.0MB             \n",
      "downloading: 0           elapsed: 0               paging: False                 \n",
      "pending: 0                                                                      \u001b[39;49m\n",
      "\n",
      "\u001b[2J\u001b[1;1H\u001b[30;47mactivating: 0            complete: 2              downloaded: 0.00MB            \n",
      "downloading: 0           elapsed: 1               paging: False                 \n",
      "pending: 0                                                                      \u001b[39;49m\n",
      "\n",
      "\u001b[2J\u001b[1;1H\u001b[30;47mactivating: 0            complete: 0              downloaded: 0.0MB             \n",
      "downloading: 0           elapsed: 2               paging: False                 \n",
      "pending: 0                                                                      \u001b[39;49m\n",
      "\n",
      "\u001b[2J\u001b[1;1H\u001b[30;47mactivating: 0            complete: 0              downloaded: 0.0MB             \n",
      "downloading: 0           elapsed: 2               paging: False                 \n",
      "pending: 0                                                                      \u001b[39;49m\n",
      "\n"
     ]
    }
   ],
   "source": [
    "!planet orders download --dest data $order_id"
   ]
  },
  {
   "cell_type": "markdown",
   "metadata": {},
   "source": [
    "##### Step 4.3: Get Downloaded File Location(s)"
   ]
  },
  {
   "cell_type": "code",
   "execution_count": 100,
   "metadata": {},
   "outputs": [
    {
     "name": "stdout",
     "output_type": "stream",
     "text": [
      "{'files': [{'annotations': {},\n",
      "            'digests': {'md5': '45a54c68732627a4c4134e114c5ee27b',\n",
      "                        'sha256': 'e48094967b9a70e5ef211dd923e36bf6c2d7122e3235900604f92bd89d439a9b'},\n",
      "            'media_type': 'application/zip',\n",
      "            'path': 'test_9d965b58-5481-4825-97cf-806eef3a5d68.zip',\n",
      "            'size': 327790670}],\n",
      " 'name': ''}\n"
     ]
    }
   ],
   "source": [
    "with open('data/manifest.json', 'r') as src:\n",
    "    download_info = json.load(src)\n",
    "    \n",
    "pprint(download_info)"
   ]
  },
  {
   "cell_type": "code",
   "execution_count": 102,
   "metadata": {},
   "outputs": [
    {
     "data": {
      "text/plain": [
       "['test_9d965b58-5481-4825-97cf-806eef3a5d68.zip']"
      ]
     },
     "execution_count": 102,
     "metadata": {},
     "output_type": "execute_result"
    }
   ],
   "source": [
    "locations = [f['path'] for f in download_info['files']]\n",
    "locations"
   ]
  },
  {
   "cell_type": "markdown",
   "metadata": {
    "collapsed": true
   },
   "source": [
    "#### WIP - Step 4: Process Results\n",
    "\n",
    "Open up the zip, check out the files, do a time series analysis over the entire aoi."
   ]
  },
  {
   "cell_type": "code",
   "execution_count": null,
   "metadata": {},
   "outputs": [],
   "source": []
  }
 ],
 "metadata": {
  "kernelspec": {
   "display_name": "Python 3",
   "language": "python",
   "name": "python3"
  },
  "language_info": {
   "codemirror_mode": {
    "name": "ipython",
    "version": 3
   },
   "file_extension": ".py",
   "mimetype": "text/x-python",
   "name": "python",
   "nbconvert_exporter": "python",
   "pygments_lexer": "ipython3",
   "version": "3.7.6"
  }
 },
 "nbformat": 4,
 "nbformat_minor": 4
}
