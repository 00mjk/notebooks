{
 "cells": [
  {
   "cell_type": "markdown",
   "metadata": {},
   "source": [
    "# Analysis Ready Data Tutorial\n",
    "\n",
    "Time-series analysis (e.g. change detection and trend detection) is a powerful application of satellite imagery. However, a great deal of processing is required to prepare imagery for analysis. Analysis Ready Data (ARD), preprocessed time-series stacks of overhead imagery, allow for time-series analysis without any additional processing of the imagery. See [Analysis Data Defined](https://medium.com/planet-stories/analysis-ready-data-defined-5694f6f48815) for an excellent introduction and discussion on ARD.\n",
    "\n",
    "This tutorial shows how [Planet APIs](https://developers.planet.com/docs/apis/) can simplify production of ARD by working through two real-world use cases. This tutorial is targeted to users who have little to no geospatial knowledge but have experience working with APIs. The goal of this tutorial is to teach the user the how and whys of using the Data and Orders APIs to create and interpret ARD for both use cases. The use cases addressed in this tutorial are:\n",
    "\n",
    "* As a software engineer at an ag-tech company, I'd like to be able to order Planet imagery programmatically in a way that enables the data scientist at my organization to create time-series algorithms (e.g. monitoring ndvi curves over time) without further data cleaning and processing.\n",
    "* As a tropical forest monitoring analyst, I'd like to create an imagery pipeline that delivers analysis-ready imagery over a protected area so I can create simple change detection (ndvi_xdate - ndvi_ydate) analyses. I'd like to do minimal custom (non-Planet) data processing to get the imagery in a format that supports a change-detection analysis because my technical skills are limited."
   ]
  },
  {
   "cell_type": "markdown",
   "metadata": {},
   "source": [
    "## APIs\n",
    "\n",
    "The two Planet APIs that are used in creation of ARD are the [Data API](https://developers.planet.com/docs/data/) and the [Orders API](https://developers.planet.com/docs/orders/). The Data API is used to search for imagery according to certain criteria based on the use case, and the Orders API is used to process that imagery into ARD that can be fed directly into time-series analysis.\n",
    "\n",
    "### Data API\n",
    "\n",
    "The first step in using the Data API is identifying the search criteria. This is specifying answers to the following questions regarding the use case time-series analysis:\n",
    "* What is the time range?\n",
    "* What product item type is desired?\n",
    "* What is the area of interest (geographic region)?\n",
    "* What percentage of pixels need to be usable?\n",
    "* etc.\n",
    "\n",
    "While time range is likely pretty trivial to determine, product item, area of interest, and usable pixels may take a little bit of work. Let's dive into each further\n",
    "\n",
    "#### Product Item Type\n",
    "\n",
    "The [product item type](https://developers.planet.com/docs/data/items-assets/) refers to the sensor source (aka satellite type) and basic processing desired. This decision is highly dependent on application, as coverage, revisit rate, spectral bands, and resolution differ between products. A good overview of the products available in the Planet Data API is provided on the [Planet Imagery and Archive](https://www.planet.com/products/planet-imagery/) page (look for the link to product specs for details). For most frequent revisit rate, we will use the PS satellite. Experience has shown that customers most often use the scene (vs the orthotile) product. Therefore, this tutorial will focus on the `PSScene4Band` product.\n",
    "\n",
    "#### Area of Interest\n",
    "\n",
    "The area of interest is the geographic region for the analysis, given as GeoJSON. If you are familiar with JSON, the format of GeoJSON will likely be easy to grasp. According to <geojson.org>, \"GeoJSON is a format for encoding a variety of geographic data structures.\" The specific geographic data structure we are interested is a `Polygon`. The [GeoJSON wikipedia page](https://en.wikipedia.org/wiki/GeoJSON) gives some great examples of the data structures for the various GeoJSON data structures. \n",
    "\n",
    "Some care needs to be given to describing the [position](https://tools.ietf.org/html/rfc7946#section-3.1.1) for each coordinate in a GeoJSON geometry. Each position is specified as `(longitude, latitude)` or `(easting, northing)` (order really matters here!). Also, this may be a surprise, but the same point on earth can have different `(longitude, latitude)` values based on the spatial reference system. Basically, a spatial reference system describes where something is in the real world. But there are thousands of different spatial reference systems. These are separated into two categories: geographic and projected. Geographic coordinate systems model the earth as an ellipsoid (this model is called the `datum`) and describe positions on the surface of the earth (coordinates) in terms of the prime meridian and angle of measure. Projected coordinate systems take this a step further by projecting the geographic coordinates (quite three-dimensional) into two dimensions (the `projection`). Different projections preserve different properties, such as area, angles, or direction for north. There is a rich area of discovery, discussion, and even a little [teasing](https://xkcd.com/977/) (thanks xkcd!) in the world of spatial reference systems.\n",
    "\n",
    "GeoJSON only supports one spatial reference system, [WGS84](https://spatialreference.org/ref/epsg/wgs-84/). This is a geographic coordinate system describing locations in latitude, longitude. However, many web mapping applications use the Web Mercator projected coordinate system to to describe locations. Confusingly, Web Mercator also describes locations in latitude, longitude. But a `(longitude, latitude)` GeoJSON position given in Web Mercator will **not** end up where you expect if it is not first projected into WGS84. The easiest way to define an aoi that is described in WGS84 is to draw it in [Planet Explorer](https://www.planet.com/explorer) and click the little button \"Download AOI as GeoJSON.\"\n",
    "\n",
    "#### Usable Pixels\n",
    "\n",
    "Taking pictures of the earth from space ain't easy. There are a lot of steps and a lot of things have to go right to get a clear shot. Therefore, not every pixel in every image taken from space is useful for analysis. For one, images taken from space are projected into a spatial reference system (discussed briefly above), a process that introduces some NoData (aka outside of the image footprint) pixels into the resulting image. Additionally, clouds cover a great deal of the earth and create cloudy pixels when imaged. While some applications can use cloudy pixels, others cannot. Therefore, the type of pixels that are determined to be 'usable' are often application-specific. To support definition of usable pixels, and filtering based on that definition, Planet provides Usable Data Masks along with Usable Data entries in the imagery metadata. For more details on the Usable Data Mask, check out (Clear for Analysis with Planet’s New Usable Data Masks)[https://www.planet.com/pulse/planets-new-usable-data-masks/]. For more information on the Usable Data metadata entries, see (Usable Data in Planet imagery)[https://developers.planet.com/planetschool/usable-data-in-planet-imagery/].\n",
    "\n",
    "### Orders API\n",
    "\n",
    "The core decision around using the orders api is which [product bundle](https://developers.planet.com/docs/orders/product-bundles-reference/) to use. This is the starting point for all processing and there are a lot of options. Once the product is determined, the processing steps (aka tools and toolchains) are defined. Finally, the logistics of the delivery of the imagery are ironed out.\n",
    "\n",
    "#### Product Bundle\n",
    "\n",
    "To enable time-series analysis, ARD imagery must be processed so that imagery is consistant across days, months, and possibly years. This means correcting for differences in camera sensitivities, the relative location of the sun, and the atmospheric conditions. The Analytic Radiance (`analytic`) product bundle provides imagery corrected for difference in camera sensitivities and location of the sun (as radiance) and can also remove the effect of the sun's spectrum by applying the `reflectanceCoefficient` value given in the imagery metadata. However, the Analytic Surface Reflectance (`analytic_sr`) product bundle removes the effect of atmospheric conditions while also converting to reflectance. Therefore, the Analytic Surface Reflectance is the ideal product for ARD and the one we will use here.\n",
    "\n",
    "#### Tools and Toolchains\n",
    "\n",
    "The [Tools and Toolchains](https://developers.planet.com/docs/orders/tools-toolchains/) functionality in the Orders API are the key to seamlessly creating ARD. Through the API, one can define the pre-processing steps for the data before it is delivered. Given proper definition of the tools and toolchains, data that is delivered is analysis-ready.\n",
    "\n",
    "#### Delivery\n",
    "\n",
    "There are a few options for delivery that cater to different use cases. Imagery can be downloaded directly or delivered to [cloud storage](https://developers.planet.com/docs/orders/ordering-delivery/#delivery-to-cloud-storage). When imagery is downloaded, the user can poll for when the order is ready or notifications ([e-mail](https://developers.planet.com/docs/orders/ordering-delivery/#email-notification) or [webhooks](https://developers.planet.com/docs/orders/ordering-delivery/#using-webhooks)) can be used. Additionally, the imagery can be delivered as a [zip archive](https://developers.planet.com/docs/orders/ordering-delivery/#zipping-results)."
   ]
  },
  {
   "cell_type": "markdown",
   "metadata": {},
   "source": [
    "## Use Cases\n",
    "\n",
    "Now that we have a basic understanding of the Data and Orders APIs, let's put them to use creating ARD for real-world two use cases.\n",
    "\n",
    "#### ARCHIVE: Use Case 2\n",
    "\n",
    "The second use case we will cover is: *As a tropical forest monitoring analyst, I'd like to create an imagery pipeline that delivers analysis-ready imagery over a [LARGE] protected area so I can create simple change detection (ndvi_xdate - ndvi_ydate) analyses. I'd like to do minimal custom (non-Planet) data processing to get the imagery in a format that supports a change-detection analysis because my technical skills are limited.*\n",
    "\n",
    "This case is similar to the last use case, but introduces the need for gridding to handle a large area of interest.\n",
    "\n",
    "\n",
    "### Use Case 1\n",
    "\n",
    "The first use case we will cover is: *As a software engineer at an ag-tech company, I'd like to be able to order Planet imagery programmatically in a way that enables the data scientist at my organization to create time-series algorithms (e.g. monitoring ndvi curves over time) without further data cleaning and processing.*\n",
    "\n",
    "For this use case, the area of interest and time range are not specified. The need for no further processing indicates we should specify a strict usable pixel data filter. For time-series analysis the daily coverage of PS satellites is ideal. The requirement for a programmatic interface implies creation of a function. Therefore, we will create a function that takes as inputs the area of interest, time range, and satellite and returns ndvi. For simplicity, we will \n",
    "\n",
    "\n",
    "#### Implementation\n",
    "\n",
    "For this tutorial we will use the [planet python client](https://github.com/planetlabs/planet-client-python) ([documentation](https://planetlabs.github.io/planet-client-python/index.html)). This client simplifies interactions with the various Planet APIs and also includes a command-line interface.\n",
    "\n",
    "The first step in using the planet python client is initializing the client with the user API key. Each user (or organization) has their own unique API key. Information on finding the API key and running Docker so that the API key is available in the notebooks is given in this repository's [README](https://github.com/planetlabs/notebooks#install-and-use-these-notebooks).\n",
    "\n",
    "The next step is building functionality for searching the Data API with the client. This consists of building the search query and then running the search. In building this functionality, we will use test information for data ranges and AOIs to test the functionality, but we will build the functions so those pieces can be changed by the end user.\n",
    "\n",
    "The last step is building functionality for processing and delivery with the Orders API. At the time of the creation of this tutorial (mid-2019), the Orders API functionality best supported (e.g. [documented](https://planetlabs.github.io/planet-client-python/cli/examples.html#orders-examples)) in the command-line interface (CLI). Therefore, we will use the client CLI for this portion of the tutorial. For delivery logistics, we will \n",
    "\n",
    "To summarize, these are the steps:\n",
    "1. Initialize API client\n",
    "2. Create Data API Search\n",
    "3. Create Orders API Toolchain\n",
    "\n",
    "#### Step 1: Initialize API client"
   ]
  },
  {
   "cell_type": "code",
   "execution_count": 2,
   "metadata": {},
   "outputs": [],
   "source": [
    "import os\n",
    "\n",
    "from planet import api"
   ]
  },
  {
   "cell_type": "code",
   "execution_count": 3,
   "metadata": {},
   "outputs": [],
   "source": [
    "# if your Planet API Key is not set as an environment variable, you can paste it below\n",
    "API_KEY = os.environ.get('PL_API_KEY', 'PASTE_YOUR_KEY_HERE')\n",
    "\n",
    "client = api.ClientV1(api_key=API_KEY)"
   ]
  },
  {
   "cell_type": "markdown",
   "metadata": {},
   "source": [
    "#### Step 2: Create Data API Search"
   ]
  },
  {
   "cell_type": "code",
   "execution_count": 4,
   "metadata": {},
   "outputs": [],
   "source": [
    "import datetime\n",
    "from pprint import pprint\n",
    "\n",
    "from planet.api import filters"
   ]
  },
  {
   "cell_type": "code",
   "execution_count": 5,
   "metadata": {},
   "outputs": [],
   "source": [
    "# define test data for the filter\n",
    "test_start_date = datetime.datetime(year=2019,month=4,day=1)\n",
    "test_stop_date = datetime.datetime(year=2019,month=5,day=1)\n",
    "\n",
    "# iowa crops aoi\n",
    "test_aoi_geom = {\n",
    "    \"type\": \"Polygon\",\n",
    "    \"coordinates\": [\n",
    "        [\n",
    "            [-93.299129, 42.699599],\n",
    "            [-93.299674, 42.812757],\n",
    "            [-93.288436, 42.861921],\n",
    "            [-93.265332, 42.924817],\n",
    "            [-92.993873, 42.925124],\n",
    "            [-92.993888, 42.773637],\n",
    "            [-92.998396, 42.754529],\n",
    "            [-93.019154, 42.699988],\n",
    "            [-93.299129, 42.699599]\n",
    "        ]\n",
    "    ]\n",
    "}"
   ]
  },
  {
   "cell_type": "code",
   "execution_count": 6,
   "metadata": {},
   "outputs": [
    {
     "name": "stdout",
     "output_type": "stream",
     "text": [
      "{'item_types': ['PSScene4Band'], 'filter': {'type': 'AndFilter', 'config': ({'field_name': 'geometry', 'type': 'GeometryFilter', 'config': {'type': 'Polygon', 'coordinates': [[[-93.299129, 42.699599], [-93.299674, 42.812757], [-93.288436, 42.861921], [-93.265332, 42.924817], [-92.993873, 42.925124], [-92.993888, 42.773637], [-92.998396, 42.754529], [-93.019154, 42.699988], [-93.299129, 42.699599]]]}}, {'field_name': 'clear_percent', 'type': 'RangeFilter', 'config': {'gte': 90}}, {'field_name': 'acquired', 'type': 'DateRangeFilter', 'config': {'gt': '2019-04-01T00:00:00Z'}}, {'field_name': 'acquired', 'type': 'DateRangeFilter', 'config': {'lt': '2019-05-01T00:00:00Z'}})}}\n"
     ]
    }
   ],
   "source": [
    "# create an api request from the search specifications\n",
    "def build_request(aoi_geom, start_date, stop_date):\n",
    "    '''build a data api search request for clear PSScene4Band imagery'''\n",
    "    item_type = 'PSScene4Band'\n",
    "    query = filters.and_filter(\n",
    "        filters.geom_filter(aoi_geom),\n",
    "        filters.range_filter('clear_percent', gte=90),\n",
    "        filters.date_range('acquired', gt=start_date),\n",
    "        filters.date_range('acquired', lt=stop_date)\n",
    "    )\n",
    "    return filters.build_search_request(query, ['PSScene4Band'])\n",
    "\n",
    "request = build_request(test_aoi_geom, test_start_date, test_stop_date)\n",
    "print(request)"
   ]
  },
  {
   "cell_type": "code",
   "execution_count": 7,
   "metadata": {},
   "outputs": [
    {
     "name": "stdout",
     "output_type": "stream",
     "text": [
      "80\n"
     ]
    }
   ],
   "source": [
    "# search the data api\n",
    "def search_data_api(request, client, limit=500):\n",
    "    result = client.quick_search(request)\n",
    "    \n",
    "    # this returns a generator\n",
    "    return result.items_iter(limit=limit)\n",
    "\n",
    "items = list(search_data_api(request, client))\n",
    "print(len(items))"
   ]
  },
  {
   "cell_type": "code",
   "execution_count": 8,
   "metadata": {},
   "outputs": [
    {
     "name": "stdout",
     "output_type": "stream",
     "text": [
      "{'_links': {'_self': 'https://api.planet.com/data/v1/item-types/PSScene4Band/items/20190415_170304_85_1068',\n",
      "            'assets': 'https://api.planet.com/data/v1/item-types/PSScene4Band/items/20190415_170304_85_1068/assets/',\n",
      "            'thumbnail': 'https://tiles.planet.com/data/v1/item-types/PSScene4Band/items/20190415_170304_85_1068/thumb'},\n",
      " '_permissions': ['assets.udm:download',\n",
      "                  'assets.analytic:download',\n",
      "                  'assets.analytic_xml:download',\n",
      "                  'assets.analytic_dn:download',\n",
      "                  'assets.analytic_dn_xml:download',\n",
      "                  'assets.basic_analytic:download',\n",
      "                  'assets.basic_analytic_rpc:download',\n",
      "                  'assets.basic_analytic_dn:download',\n",
      "                  'assets.basic_analytic_dn_rpc:download',\n",
      "                  'assets.basic_analytic_xml:download',\n",
      "                  'assets.basic_analytic_dn_xml:download',\n",
      "                  'assets.basic_analytic_dn_nitf:download',\n",
      "                  'assets.basic_analytic_dn_rpc_nitf:download',\n",
      "                  'assets.basic_analytic_dn_xml_nitf:download',\n",
      "                  'assets.basic_analytic_nitf:download',\n",
      "                  'assets.basic_analytic_rpc_nitf:download',\n",
      "                  'assets.basic_analytic_xml_nitf:download',\n",
      "                  'assets.basic_udm:download',\n",
      "                  'assets.analytic_sr:download',\n",
      "                  'assets.basic_udm2:download',\n",
      "                  'assets.udm2:download'],\n",
      " 'geometry': {'coordinates': [[[-93.16236331498527, 43.03253941793751],\n",
      "                               [-93.1151161266578, 42.87421683090821],\n",
      "                               [-92.7895777528176, 42.9255866972523],\n",
      "                               [-92.83627007493584, 43.08487267583478],\n",
      "                               [-93.16236331498527, 43.03253941793751]]],\n",
      "              'type': 'Polygon'},\n",
      " 'id': '20190415_170304_85_1068',\n",
      " 'properties': {'acquired': '2019-04-15T17:03:04.8593Z',\n",
      "                'anomalous_pixels': 0,\n",
      "                'clear_confidence_percent': 98,\n",
      "                'clear_percent': 100,\n",
      "                'cloud_cover': 0,\n",
      "                'cloud_percent': 0,\n",
      "                'columns': 10134,\n",
      "                'epsg_code': 32615,\n",
      "                'ground_control': True,\n",
      "                'gsd': 4.1,\n",
      "                'heavy_haze_percent': 0,\n",
      "                'instrument': 'PS2.SD',\n",
      "                'item_type': 'PSScene4Band',\n",
      "                'light_haze_percent': 0,\n",
      "                'origin_x': 486771,\n",
      "                'origin_y': 4770255,\n",
      "                'pixel_resolution': 3,\n",
      "                'provider': 'planetscope',\n",
      "                'published': '2019-09-11T08:02:06Z',\n",
      "                'quality_category': 'standard',\n",
      "                'rows': 7801,\n",
      "                'satellite_id': '1068',\n",
      "                'shadow_percent': 0,\n",
      "                'snow_ice_percent': 0,\n",
      "                'strip_id': '2287410',\n",
      "                'sun_azimuth': 149.7,\n",
      "                'sun_elevation': 53.5,\n",
      "                'updated': '2019-09-11T08:14:30Z',\n",
      "                'view_angle': 5,\n",
      "                'visible_confidence_percent': 98,\n",
      "                'visible_percent': 100},\n",
      " 'type': 'Feature'}\n"
     ]
    }
   ],
   "source": [
    "# check out an item just for fun\n",
    "pprint(items[0])"
   ]
  },
  {
   "cell_type": "markdown",
   "metadata": {},
   "source": [
    "#### Step 3: TESTING ORDERS Python"
   ]
  },
  {
   "cell_type": "code",
   "execution_count": null,
   "metadata": {},
   "outputs": [],
   "source": []
  },
  {
   "cell_type": "markdown",
   "metadata": {},
   "source": [
    "#### Step 3: Create Orders API Toolchain"
   ]
  },
  {
   "cell_type": "code",
   "execution_count": 24,
   "metadata": {},
   "outputs": [],
   "source": [
    "# work with just a subset of the items in the interest of bandwidth\n",
    "test_items = items[:4]"
   ]
  },
  {
   "cell_type": "code",
   "execution_count": 25,
   "metadata": {},
   "outputs": [
    {
     "data": {
      "text/plain": [
       "'20190415_170304_85_1068,20190415_170302_79_1068,20190426_170322_82_105c,20190426_170320_32_105c'"
      ]
     },
     "execution_count": 25,
     "metadata": {},
     "output_type": "execute_result"
    }
   ],
   "source": [
    "# filter to item ids then format the ids for use with the CLI\n",
    "ids = ','.join([i['id'] for i in test_items])\n",
    "ids"
   ]
  },
  {
   "cell_type": "code",
   "execution_count": 26,
   "metadata": {},
   "outputs": [],
   "source": [
    "# specify the psscene4band surface reflectance product\n",
    "item_type = 'psscene4band'\n",
    "bundle = 'analytic_sr'"
   ]
  },
  {
   "cell_type": "code",
   "execution_count": 27,
   "metadata": {},
   "outputs": [],
   "source": [
    "# zip up each bundle\n",
    "# this was originally going to be per-order, but it looks like per-order isn't working right now\n",
    "# https://github.com/planetlabs/planet-client-python/issues/216\n",
    "zip = 'bundle'"
   ]
  },
  {
   "cell_type": "code",
   "execution_count": 28,
   "metadata": {},
   "outputs": [],
   "source": [
    "import json"
   ]
  },
  {
   "cell_type": "code",
   "execution_count": 48,
   "metadata": {},
   "outputs": [
    {
     "name": "stdout",
     "output_type": "stream",
     "text": [
      "[{'clip': {'aoi': {'coordinates': [[[-93.299129, 42.699599],\n",
      "                                    [-93.299674, 42.812757],\n",
      "                                    [-93.288436, 42.861921],\n",
      "                                    [-93.265332, 42.924817],\n",
      "                                    [-92.993873, 42.925124],\n",
      "                                    [-92.993888, 42.773637],\n",
      "                                    [-92.998396, 42.754529],\n",
      "                                    [-93.019154, 42.699988],\n",
      "                                    [-93.299129, 42.699599]]],\n",
      "                   'type': 'Polygon'}}},\n",
      " {'bandmath': {'b1': '(b4 - b3) / (b4+b3)', 'pixel_type': '32R'}}]\n"
     ]
    }
   ],
   "source": [
    "# specify tools\n",
    "\n",
    "# clip to AOI\n",
    "clip_tool = {'clip': {'aoi': test_aoi_geom}}\n",
    "\n",
    "# convert to NDVI\n",
    "bandmath_tool = {'bandmath': {\n",
    "    \"pixel_type\": \"32R\",\n",
    "    \"b1\": \"(b4 - b3) / (b4+b3)\"\n",
    "}}\n",
    "\n",
    "tools = [clip_tool, bandmath_tool]\n",
    "pprint(tools)\n",
    "tools_file = 'tools.json'\n",
    "with open(tools_file, 'w') as dst:\n",
    "    dst.write(json.dumps(tools))"
   ]
  },
  {
   "cell_type": "code",
   "execution_count": 49,
   "metadata": {},
   "outputs": [],
   "source": [
    "# specify a name\n",
    "name = 'tutorial_order'"
   ]
  },
  {
   "cell_type": "code",
   "execution_count": 61,
   "metadata": {},
   "outputs": [
    {
     "name": "stdout",
     "output_type": "stream",
     "text": [
      "planet orders create --id 20190415_170304_85_1068,20190415_170302_79_1068,20190426_170322_82_105c,20190426_170320_32_105c --item-type psscene4band --bundle analytic_sr --zip order --tools tools.json --name tutorial_order\r\n"
     ]
    }
   ],
   "source": [
    "!echo planet orders create \\\n",
    "    --id $ids \\\n",
    "    --item-type $item_type \\\n",
    "    --bundle $bundle \\\n",
    "    --zip $zip \\\n",
    "    --tools $tools_file \\\n",
    "    --name $name"
   ]
  },
  {
   "cell_type": "code",
   "execution_count": 52,
   "metadata": {},
   "outputs": [
    {
     "name": "stdout",
     "output_type": "stream",
     "text": [
      "{\r\n",
      "  \"_links\": {\r\n",
      "    \"_self\": \"https://api.planet.com/compute/ops/orders/v2/2eb5f55e-d260-4ee5-b1b5-7d32ff389dc6\"\r\n",
      "  },\r\n",
      "  \"created_on\": \"2020-05-28T23:46:22.644Z\",\r\n",
      "  \"delivery\": {\r\n",
      "    \"archive_filename\": \"{{name}}_{{order_id}}.zip\",\r\n",
      "    \"archive_type\": \"zip\"\r\n",
      "  },\r\n",
      "  \"error_hints\": [],\r\n",
      "  \"id\": \"2eb5f55e-d260-4ee5-b1b5-7d32ff389dc6\",\r\n",
      "  \"last_message\": \"Preparing order\",\r\n",
      "  \"last_modified\": \"2020-05-28T23:46:22.644Z\",\r\n",
      "  \"name\": \"tutorial_order\",\r\n",
      "  \"notifications\": {},\r\n",
      "  \"products\": [\r\n",
      "    {\r\n",
      "      \"item_ids\": [\r\n",
      "        \"20190426_170320_32_105c\",\r\n",
      "        \"20190415_170304_85_1068\",\r\n",
      "        \"20190415_170302_79_1068\",\r\n",
      "        \"20190426_170322_82_105c\"\r\n",
      "      ],\r\n",
      "      \"item_type\": \"PSScene4Band\",\r\n",
      "      \"product_bundle\": \"analytic_sr\"\r\n",
      "    }\r\n",
      "  ],\r\n",
      "  \"state\": \"queued\",\r\n",
      "  \"tools\": [\r\n",
      "    {\r\n",
      "      \"clip\": {\r\n",
      "        \"aoi\": {\r\n",
      "          \"coordinates\": [\r\n",
      "            [\r\n",
      "              [\r\n",
      "                -93.299129,\r\n",
      "                42.699599\r\n",
      "              ],\r\n",
      "              [\r\n",
      "                -93.299674,\r\n",
      "                42.812757\r\n",
      "              ],\r\n",
      "              [\r\n",
      "                -93.288436,\r\n",
      "                42.861921\r\n",
      "              ],\r\n",
      "              [\r\n",
      "                -93.265332,\r\n",
      "                42.924817\r\n",
      "              ],\r\n",
      "              [\r\n",
      "                -92.993873,\r\n",
      "                42.925124\r\n",
      "              ],\r\n",
      "              [\r\n",
      "                -92.993888,\r\n",
      "                42.773637\r\n",
      "              ],\r\n",
      "              [\r\n",
      "                -92.998396,\r\n",
      "                42.754529\r\n",
      "              ],\r\n",
      "              [\r\n",
      "                -93.019154,\r\n",
      "                42.699988\r\n",
      "              ],\r\n",
      "              [\r\n",
      "                -93.299129,\r\n",
      "                42.699599\r\n",
      "              ]\r\n",
      "            ]\r\n",
      "          ],\r\n",
      "          \"type\": \"Polygon\"\r\n",
      "        }\r\n",
      "      }\r\n",
      "    },\r\n",
      "    {\r\n",
      "      \"bandmath\": {\r\n",
      "        \"b1\": \"(b4 - b3) / (b4+b3)\",\r\n",
      "        \"pixel_type\": \"32R\"\r\n",
      "      }\r\n",
      "    }\r\n",
      "  ]\r\n",
      "}\r\n",
      "\r\n"
     ]
    }
   ],
   "source": [
    "!planet orders create \\\n",
    "    --id $ids \\\n",
    "    --item-type $item_type \\\n",
    "    --bundle $bundle \\\n",
    "    --zip $zip \\\n",
    "    --tools $tools_file \\\n",
    "    --name $name"
   ]
  },
  {
   "cell_type": "markdown",
   "metadata": {},
   "source": [
    "#### Step 4: Download Order"
   ]
  },
  {
   "cell_type": "code",
   "execution_count": 55,
   "metadata": {},
   "outputs": [],
   "source": [
    "# order id pulled from response\n",
    "order_id = '2eb5f55e-d260-4ee5-b1b5-7d32ff389dc6'"
   ]
  },
  {
   "cell_type": "code",
   "execution_count": 56,
   "metadata": {
    "collapsed": true
   },
   "outputs": [
    {
     "name": "stdout",
     "output_type": "stream",
     "text": [
      "{\r\n",
      "  \"_links\": {\r\n",
      "    \"_self\": \"https://api.planet.com/compute/ops/orders/v2/2eb5f55e-d260-4ee5-b1b5-7d32ff389dc6\",\r\n",
      "    \"results\": [\r\n",
      "      {\r\n",
      "        \"delivery\": \"success\",\r\n",
      "        \"expires_at\": \"2020-05-29T23:52:19.210Z\",\r\n",
      "        \"location\": \"https://api.planet.com/compute/ops/download/?token=eyJhbGciOiJIUzUxMiIsInR5cCI6IkpXVCJ9.eyJleHAiOjE1OTA3OTYzMzksInN1YiI6IlhsWnBZSjdBTW53bWlnUHN0THFPbS9vNkpkSDJ0OWF4K2JoK0FPcW5nVFNnajRZdDRrRTl1allqV1h2SHROQ1FhMjFuMnBydkc4OU55OXp6T242REVBPT0iLCJ0b2tlbl90eXBlIjoiZG93bmxvYWQtYXNzZXQtc3RhY2siLCJhb2kiOiIiLCJhc3NldHMiOlt7Iml0ZW1fdHlwZSI6IiIsImFzc2V0X3R5cGUiOiIiLCJpdGVtX2lkIjoiIn1dLCJ1cmwiOiJodHRwczovL3N0b3JhZ2UuZ29vZ2xlYXBpcy5jb20vY29tcHV0ZS1vcmRlcnMtbGl2ZS8yZWI1ZjU1ZS1kMjYwLTRlZTUtYjFiNS03ZDMyZmYzODlkYzYvUFNTY2VuZTRCYW5kXzIwMTkwNDI2XzE3MDMyMF8zMl8xMDVjX2FuYWx5dGljX3NyXzJlYjVmNTVlLWQyNjAtNGVlNS1iMWI1LTdkMzJmZjM4OWRjNi56aXA_RXhwaXJlcz0xNTkwNzk2MzM5XHUwMDI2R29vZ2xlQWNjZXNzSWQ9Y29tcHV0ZS1nY3Mtc3ZjYWNjJTQwcGxhbmV0LWNvbXB1dGUtcHJvZC5pYW0uZ3NlcnZpY2VhY2NvdW50LmNvbVx1MDAyNlNpZ25hdHVyZT1URlZiVlZrdTlvQnl1QnBlQ2c0QzRTaGFBbExkYmdacldPelhnJTJGVEJMaXFwNkR0TlFZMkQxR2dhNHNyMFhqVTZuYWFJS1JvTmc5clF6dDQ1ZWRUZGxUOE52QWdLZVNMJTJGREFvWUJnbTc3blBzUlJVZW5QaDllOSUyQnpKVDZiNU55TnE0JTJGNyUyRk8zN093OFNDVVVoQyUyQjVtZHBiTXV4Z0JRY0tTUFhuUDJLbVZxOVdmYnBIUndHQzB2R3dxUThVQVAzckZsaHJJUHltVU9mV0dzY0I1Qm9RcnhtTVFBUmk0OXloTEFmRSUyQnN5Q0dQRUNqWjJ6dWdIdHVlZDAyQjlrd21MQkxSdmFSRFpkZlZ4Z1pSWGo2eHllTXhJOFo0WlJYdzFCZ3g1VFZtOWVDODFvbVNCR05RY1dlMERUVFAxcnNNWXlnRmJFSU01dmdabkRISFhvSk5hVXo3ZyUzRCUzRCIsInNvdXJjZSI6Ik9yZGVycyBTZXJ2aWNlIn0.GTLiQlakyhqFnRgAo4JJFX2g1qafitclmmhL5g9u9StsYd7dBu0k2TxrCK2hqZJ5SSLiELZEuTSsBEKGI87m7w\",\r\n",
      "        \"name\": \"2eb5f55e-d260-4ee5-b1b5-7d32ff389dc6/PSScene4Band_20190426_170320_32_105c_analytic_sr_2eb5f55e-d260-4ee5-b1b5-7d32ff389dc6.zip\"\r\n",
      "      },\r\n",
      "      {\r\n",
      "        \"delivery\": \"success\",\r\n",
      "        \"expires_at\": \"2020-05-29T23:52:11.983Z\",\r\n",
      "        \"location\": \"https://api.planet.com/compute/ops/download/?token=eyJhbGciOiJIUzUxMiIsInR5cCI6IkpXVCJ9.eyJleHAiOjE1OTA3OTYzMzEsInN1YiI6IlVuaG5yc1pkN2UzYmpTOEYvRjFOY2N1QTA2dnNOekt5ZnlOcVJ1Q3o4YW94Qmx3WVZ4NWQ2bi84ZllTbzdXOVk0N3JnL0RxY0JTQm5ZdStCNXhsaFh3PT0iLCJ0b2tlbl90eXBlIjoiZG93bmxvYWQtYXNzZXQtc3RhY2siLCJhb2kiOiIiLCJhc3NldHMiOlt7Iml0ZW1fdHlwZSI6IiIsImFzc2V0X3R5cGUiOiIiLCJpdGVtX2lkIjoiIn1dLCJ1cmwiOiJodHRwczovL3N0b3JhZ2UuZ29vZ2xlYXBpcy5jb20vY29tcHV0ZS1vcmRlcnMtbGl2ZS8yZWI1ZjU1ZS1kMjYwLTRlZTUtYjFiNS03ZDMyZmYzODlkYzYvUFNTY2VuZTRCYW5kXzIwMTkwNDE1XzE3MDMwNF84NV8xMDY4X2FuYWx5dGljX3NyXzJlYjVmNTVlLWQyNjAtNGVlNS1iMWI1LTdkMzJmZjM4OWRjNi56aXA_RXhwaXJlcz0xNTkwNzk2MzMxXHUwMDI2R29vZ2xlQWNjZXNzSWQ9Y29tcHV0ZS1nY3Mtc3ZjYWNjJTQwcGxhbmV0LWNvbXB1dGUtcHJvZC5pYW0uZ3NlcnZpY2VhY2NvdW50LmNvbVx1MDAyNlNpZ25hdHVyZT1GUTNTNUpIZzBvaFpqMVliZ3NJVkh1YmNWU2NpMCUyQiUyQjI4TGJTd3F4Y3dkamR0am1wNXdacEI0T282SEJUanZNRkZYRFd3WktteUg0Wk41dDlGU09XcHRTazN4RmhaWm1hVHQlMkZlJTJCczdud0JINElBZmJOJTJCektReiUyRkZvQ1hPWUNYYmVLenJxckZsOHU3QThyTWYxaFZGeFAxRGFpWVBEUENSUlY5SURIc2thSHRwRDJBTjNwa29wZmVBcmlsY291ak9FJTJGQlAxOHhPbGFpWUdLOGlaeXNOQzNoMTNVJTJGZnQycDhpREo1NGtRbjY0JTJGQ2NVYzl5bTJvSkpDbEtlVmFiY29IdHZCJTJGcktpY29PdXZUbjc3S0NlQ09TcWN6Q29kREFXUUE5ZzhnTlE1TXVXZGZZcjRCUTh5WnFZcmdMYmlmR084VEVSM083aFVjcVVGYzRxODdTQVIwUSUzRCUzRCIsInNvdXJjZSI6Ik9yZGVycyBTZXJ2aWNlIn0.UhBEFqZeMs-00whUzYjRGGeRSD8OIMcLVoZluBp7IrWzPopoEslbDB0UtTHhK_H5Iy9y0a6LTv-k9N6Wh9t5ZQ\",\r\n",
      "        \"name\": \"2eb5f55e-d260-4ee5-b1b5-7d32ff389dc6/PSScene4Band_20190415_170304_85_1068_analytic_sr_2eb5f55e-d260-4ee5-b1b5-7d32ff389dc6.zip\"\r\n",
      "      },\r\n",
      "      {\r\n",
      "        \"delivery\": \"success\",\r\n",
      "        \"expires_at\": \"2020-05-29T23:52:17.050Z\",\r\n",
      "        \"location\": \"https://api.planet.com/compute/ops/download/?token=eyJhbGciOiJIUzUxMiIsInR5cCI6IkpXVCJ9.eyJleHAiOjE1OTA3OTYzMzcsInN1YiI6ImhqWlUvczVwYk1OWEVwSTMwR21ETmNFV2NDemZ5MlBQdDg3Ti8raG55UTRuQ3hXWmg3TlhlSEl2d3FTWlJHVHp0U2NWRHhneVZvWXlGMWUzOEFjRnpnPT0iLCJ0b2tlbl90eXBlIjoiZG93bmxvYWQtYXNzZXQtc3RhY2siLCJhb2kiOiIiLCJhc3NldHMiOlt7Iml0ZW1fdHlwZSI6IiIsImFzc2V0X3R5cGUiOiIiLCJpdGVtX2lkIjoiIn1dLCJ1cmwiOiJodHRwczovL3N0b3JhZ2UuZ29vZ2xlYXBpcy5jb20vY29tcHV0ZS1vcmRlcnMtbGl2ZS8yZWI1ZjU1ZS1kMjYwLTRlZTUtYjFiNS03ZDMyZmYzODlkYzYvUFNTY2VuZTRCYW5kXzIwMTkwNDE1XzE3MDMwMl83OV8xMDY4X2FuYWx5dGljX3NyXzJlYjVmNTVlLWQyNjAtNGVlNS1iMWI1LTdkMzJmZjM4OWRjNi56aXA_RXhwaXJlcz0xNTkwNzk2MzM3XHUwMDI2R29vZ2xlQWNjZXNzSWQ9Y29tcHV0ZS1nY3Mtc3ZjYWNjJTQwcGxhbmV0LWNvbXB1dGUtcHJvZC5pYW0uZ3NlcnZpY2VhY2NvdW50LmNvbVx1MDAyNlNpZ25hdHVyZT1pdEVvMjFucE1DRzc2JTJGN1p2amdJUEVOd01KYmF2cEJVdm9pNFRmZDB4bTBTSGFDdWRpbVNrbXFPRGRGNTRlU08yam0lMkJFQ0xpd1pYa0Q1N0FONUNvRHlGUEpyVjYlMkJRYmw2T1VLUVc3TDVab1FoUUtBN0hJSzZvQ2xjaGlTN3lHZndwalhac1JaJTJGVU8zM2JzbWZiaEtWaVFUV25FTGslMkZCZFZFOTFzdUklMkZSY2RKZmI0b2xEMU4lMkZsM21jUzBHWU4wTU1kSWluTiUyRm43JTJGWmNGNHF4VHJWWGpwRXY3MEhWNGs3NG5YYXdncjJsOGJmdiUyQmRuWjIySmE0RnkxUkVmWDQ0SjBvTWI5Mk9zTlZYbU5ZcU14SVZ2Q3lEUTZrTnRQRGk5T0lCUHFzYk5OYmRwciUyRjZOaks1d2lXcEklMkZqck1nTlhRaXZLQTA1R1EyQllkTVQzTXBDZWkyOFElM0QlM0QiLCJzb3VyY2UiOiJPcmRlcnMgU2VydmljZSJ9.Mr87G8Wyp4Vr1JCXsyXl1YdRbEz6QdWgY51v_uLnUYJePcyyzBkQsn3ZNGfraykj2SVaHHMKMzl6qmXDYrqQbA\",\r\n",
      "        \"name\": \"2eb5f55e-d260-4ee5-b1b5-7d32ff389dc6/PSScene4Band_20190415_170302_79_1068_analytic_sr_2eb5f55e-d260-4ee5-b1b5-7d32ff389dc6.zip\"\r\n",
      "      },\r\n",
      "      {\r\n",
      "        \"delivery\": \"success\",\r\n",
      "        \"expires_at\": \"2020-05-29T23:52:19.211Z\",\r\n",
      "        \"location\": \"https://api.planet.com/compute/ops/download/?token=eyJhbGciOiJIUzUxMiIsInR5cCI6IkpXVCJ9.eyJleHAiOjE1OTA3OTYzMzksInN1YiI6Ik1hajZRYmdvOHJCbGxYYmhYUFBwa2tWNlc0N0kzMHdDeDZFS0dEWVFXa2xNbFRCZ1laRWwxYmVXMlVOamJJOWNsSjgwYjM4b1dGTUhad1VTSWhmMzZRPT0iLCJ0b2tlbl90eXBlIjoiZG93bmxvYWQtYXNzZXQtc3RhY2siLCJhb2kiOiIiLCJhc3NldHMiOlt7Iml0ZW1fdHlwZSI6IiIsImFzc2V0X3R5cGUiOiIiLCJpdGVtX2lkIjoiIn1dLCJ1cmwiOiJodHRwczovL3N0b3JhZ2UuZ29vZ2xlYXBpcy5jb20vY29tcHV0ZS1vcmRlcnMtbGl2ZS8yZWI1ZjU1ZS1kMjYwLTRlZTUtYjFiNS03ZDMyZmYzODlkYzYvUFNTY2VuZTRCYW5kXzIwMTkwNDI2XzE3MDMyMl84Ml8xMDVjX2FuYWx5dGljX3NyXzJlYjVmNTVlLWQyNjAtNGVlNS1iMWI1LTdkMzJmZjM4OWRjNi56aXA_RXhwaXJlcz0xNTkwNzk2MzM5XHUwMDI2R29vZ2xlQWNjZXNzSWQ9Y29tcHV0ZS1nY3Mtc3ZjYWNjJTQwcGxhbmV0LWNvbXB1dGUtcHJvZC5pYW0uZ3NlcnZpY2VhY2NvdW50LmNvbVx1MDAyNlNpZ25hdHVyZT1vJTJCWEVENWxqUHUlMkJraktrYVJtVGtNYkFBR0pjRHRSQTdCSkxDNHJRNkJsQUNxc2dWaFdrJTJCb2RydlVZUVFYakZFVUVVVnBmOTZrT2FYZSUyRkRTejM2UEZkZERxJTJCR0R4VUlGb2FCVW5QbTJDa1cwYnNsZmtRS1NMdlozRGhGcmNrbWpic2FXWnJZSlc1OFFoemZWYW9FcVMlMkZRNUJodVFIU05LVFR0dDJrJTJGMWlGZWc5N0ZZUkNBWDk0MEJxRHhickVDU2RqeUtpTyUyQmNEVXR2b0tleXYlMkY2JTJCSUozZ0FpMlJ0SjhxWVNRJTJCcVVPNkdvOWFnaTh3dk1SbmpPVkUlMkZBSUdoR2FkdCUyRk5NSmw5a2xFUlNwSyUyQlJkQ0oyNXBObmM2SzRZZko5cU03d0pjRmViUDBaZjJFMm1wViUyRkJzbmV5RDI1MzRPRDNRZlNsajFoVVMzSHNBd1pmRU1pNXclM0QlM0QiLCJzb3VyY2UiOiJPcmRlcnMgU2VydmljZSJ9.ILFOSxXpxiFzm09OCkj_p4fDMIeMtdHt6fz3v_7tvlrbExNE1r6baRLe1DpxAKT9VjY5mXe57UcsLlzFgkWrDw\",\r\n",
      "        \"name\": \"2eb5f55e-d260-4ee5-b1b5-7d32ff389dc6/PSScene4Band_20190426_170322_82_105c_analytic_sr_2eb5f55e-d260-4ee5-b1b5-7d32ff389dc6.zip\"\r\n",
      "      },\r\n",
      "      {\r\n",
      "        \"delivery\": \"success\",\r\n",
      "        \"expires_at\": \"2020-05-29T23:53:26.941Z\",\r\n",
      "        \"location\": \"https://api.planet.com/compute/ops/download/?token=eyJhbGciOiJIUzUxMiIsInR5cCI6IkpXVCJ9.eyJleHAiOjE1OTA3OTY0MDYsInN1YiI6InNoRmw5T3hIWGxzdDNQMUVkZEpxZUUxanhVUzhOTjFZY0ZEb1JVZ3ZiVmtLdHVMYVliVHR5aUI5SHY0RzR4WE5GSTBGRlRlVmYzOGNuWU8vRkd2Ym1RPT0iLCJ0b2tlbl90eXBlIjoiZG93bmxvYWQtYXNzZXQtc3RhY2siLCJhb2kiOiIiLCJhc3NldHMiOlt7Iml0ZW1fdHlwZSI6IiIsImFzc2V0X3R5cGUiOiIiLCJpdGVtX2lkIjoiIn1dLCJ1cmwiOiJodHRwczovL3N0b3JhZ2UuZ29vZ2xlYXBpcy5jb20vY29tcHV0ZS1vcmRlcnMtbGl2ZS8yZWI1ZjU1ZS1kMjYwLTRlZTUtYjFiNS03ZDMyZmYzODlkYzYvbWFuaWZlc3QuanNvbj9FeHBpcmVzPTE1OTA3OTY0MDZcdTAwMjZHb29nbGVBY2Nlc3NJZD1jb21wdXRlLWdjcy1zdmNhY2MlNDBwbGFuZXQtY29tcHV0ZS1wcm9kLmlhbS5nc2VydmljZWFjY291bnQuY29tXHUwMDI2U2lnbmF0dXJlPVhjMDFwJTJCSHZIOTFqWFYzdWVtbEVQNnpoaVFPYTl4bzdqdVFGendjbzh2Rmk5U1QlMkJLTU5xNjBQVUF5TjYyUVY0MUc2V3VnZzJVbEFHJTJGJTJCUW4wOERNMlliYUhOR0dEZ1JlMlJIbjZnMzZmWiUyQllCJTJCZmFkaFFuekxsRU1sbXpjNWxWQWJyT3NvaWFSJTJCZUU4NGJydGVtN1V5bGFrWXhhdWNhbXV3WHNYaXVKV3g1S3RDOVh4ajhnRWhMWlRObmpOVGwlMkZTN3dROCUyQlFHJTJCcVdITkZHN1NiaElUMm00Qkp3ZUFtbGo3UGt3TlZIVHU3OGxnTkhsc21GeFFLRnNGaG43TzlZQTgxa21WVXJWODZFMVpWZDhkJTJGdmg4czNRTXI3YmpHZ2ZHZElPTjNqbVdySWtvRVpoRnQ0dzFPRnNvcFlLZUs1clZqU08xOUM3UUZyMk1WYXJDOEJKMHclM0QlM0QiLCJzb3VyY2UiOiJPcmRlcnMgU2VydmljZSJ9.2OL0Iayxqa0eyuFz7B6r4C-AopILuemrDk_ZWLkbvslGoLbB_XGZOXab2qJiBP16VikFS_yxwqQnoubSSyYDLg\",\r\n",
      "        \"name\": \"2eb5f55e-d260-4ee5-b1b5-7d32ff389dc6/manifest.json\"\r\n",
      "      }\r\n",
      "    ]\r\n",
      "  },\r\n",
      "  \"created_on\": \"2020-05-28T23:46:22.644Z\",\r\n",
      "  \"delivery\": {\r\n",
      "    \"archive_filename\": \"{{name}}_{{order_id}}.zip\",\r\n",
      "    \"archive_type\": \"zip\"\r\n",
      "  },\r\n",
      "  \"error_hints\": [],\r\n",
      "  \"id\": \"2eb5f55e-d260-4ee5-b1b5-7d32ff389dc6\",\r\n",
      "  \"last_message\": \"Manifest delivery completed\",\r\n",
      "  \"last_modified\": \"2020-05-28T23:53:48.887Z\",\r\n",
      "  \"name\": \"tutorial_order\",\r\n",
      "  \"notifications\": {},\r\n",
      "  \"products\": [\r\n",
      "    {\r\n",
      "      \"item_ids\": [\r\n",
      "        \"20190426_170320_32_105c\",\r\n",
      "        \"20190415_170304_85_1068\",\r\n",
      "        \"20190415_170302_79_1068\",\r\n",
      "        \"20190426_170322_82_105c\"\r\n",
      "      ],\r\n",
      "      \"item_type\": \"PSScene4Band\",\r\n",
      "      \"product_bundle\": \"analytic_sr\"\r\n",
      "    }\r\n",
      "  ],\r\n",
      "  \"state\": \"success\",\r\n",
      "  \"tools\": [\r\n",
      "    {\r\n",
      "      \"clip\": {\r\n",
      "        \"aoi\": {\r\n",
      "          \"coordinates\": [\r\n",
      "            [\r\n",
      "              [\r\n",
      "                -93.299129,\r\n",
      "                42.699599\r\n",
      "              ],\r\n",
      "              [\r\n",
      "                -93.299674,\r\n",
      "                42.812757\r\n",
      "              ],\r\n",
      "              [\r\n",
      "                -93.288436,\r\n",
      "                42.861921\r\n",
      "              ],\r\n",
      "              [\r\n",
      "                -93.265332,\r\n",
      "                42.924817\r\n",
      "              ],\r\n",
      "              [\r\n",
      "                -92.993873,\r\n",
      "                42.925124\r\n",
      "              ],\r\n",
      "              [\r\n",
      "                -92.993888,\r\n",
      "                42.773637\r\n",
      "              ],\r\n",
      "              [\r\n",
      "                -92.998396,\r\n",
      "                42.754529\r\n",
      "              ],\r\n",
      "              [\r\n",
      "                -93.019154,\r\n",
      "                42.699988\r\n",
      "              ],\r\n",
      "              [\r\n",
      "                -93.299129,\r\n",
      "                42.699599\r\n",
      "              ]\r\n",
      "            ]\r\n",
      "          ],\r\n",
      "          \"type\": \"Polygon\"\r\n",
      "        }\r\n",
      "      }\r\n",
      "    },\r\n",
      "    {\r\n",
      "      \"bandmath\": {\r\n",
      "        \"b1\": \"(b4 - b3) / (b4+b3)\",\r\n",
      "        \"pixel_type\": \"32R\"\r\n",
      "      }\r\n",
      "    }\r\n",
      "  ]\r\n",
      "}\r\n",
      "\r\n"
     ]
    }
   ],
   "source": [
    "# check on order status\n",
    "!planet orders get $order_id"
   ]
  },
  {
   "cell_type": "code",
   "execution_count": 57,
   "metadata": {
    "collapsed": true
   },
   "outputs": [
    {
     "name": "stdout",
     "output_type": "stream",
     "text": [
      "\u001b[2J\u001b[1;1H\u001b[2J\u001b[1;1H\u001b[30;47mactivating: 0            complete: 0              downloaded: 0.0MB             \n",
      "downloading: 0           elapsed: 0               paging: False                 \n",
      "pending: 0                                                                      \u001b[39;49m\n",
      "\n",
      "\u001b[2J\u001b[1;1H\u001b[30;47mactivating: 0            complete: 0              downloaded: 0.0MB             \n",
      "downloading: 0           elapsed: 0               paging: False                 \n",
      "pending: 0                                                                      \u001b[39;49m\n",
      "2020-05-28 23:59:30,850 - FuturesSession - WARNING - `background_callback` is\n",
      "deprecated and will be removed in 1.0, use `hooks` instead\n",
      "\u001b[2J\u001b[1;1H\u001b[30;47mactivating: 0            complete: 0              downloaded: 0.0MB             \n",
      "downloading: 0           elapsed: 0               paging: False                 \n",
      "pending: 0                                                                      \u001b[39;49m\n",
      "2020-05-28 23:59:30,850 - FuturesSession - WARNING - `background_callback` is\n",
      "deprecated and will be removed in 1.0, use `hooks` instead\n",
      "2020-05-28 23:59:31,350 - FuturesSession - WARNING - `background_callback` is\n",
      "deprecated and will be removed in 1.0, use `hooks` instead\n",
      "\u001b[2J\u001b[1;1H\u001b[30;47mactivating: 0            complete: 2              downloaded: 1.84MB            \n",
      "downloading: 0           elapsed: 1               paging: False                 \n",
      "pending: 3                                                                      \u001b[39;49m\n",
      "2020-05-28 23:59:30,850 - FuturesSession - WARNING - `background_callback` is\n",
      "deprecated and will be removed in 1.0, use `hooks` instead\n",
      "2020-05-28 23:59:31,350 - FuturesSession - WARNING - `background_callback` is\n",
      "deprecated and will be removed in 1.0, use `hooks` instead\n",
      "\u001b[2J\u001b[1;1H\u001b[30;47mactivating: 0            complete: 2              downloaded: 1.84MB            \n",
      "downloading: 0           elapsed: 1               paging: False                 \n",
      "pending: 3                                                                      \u001b[39;49m\n",
      "2020-05-28 23:59:30,850 - FuturesSession - WARNING - `background_callback` is\n",
      "deprecated and will be removed in 1.0, use `hooks` instead\n",
      "2020-05-28 23:59:31,350 - FuturesSession - WARNING - `background_callback` is\n",
      "deprecated and will be removed in 1.0, use `hooks` instead\n",
      "2020-05-28 23:59:31,851 - FuturesSession - WARNING - `background_callback` is\n",
      "deprecated and will be removed in 1.0, use `hooks` instead\n",
      "\u001b[2J\u001b[1;1H\u001b[30;47mactivating: 0            complete: 2              downloaded: 1.84MB            \n",
      "downloading: 0           elapsed: 1               paging: False                 \n",
      "pending: 3                                                                      \u001b[39;49m\n",
      "2020-05-28 23:59:30,850 - FuturesSession - WARNING - `background_callback` is\n",
      "deprecated and will be removed in 1.0, use `hooks` instead\n",
      "2020-05-28 23:59:31,350 - FuturesSession - WARNING - `background_callback` is\n",
      "deprecated and will be removed in 1.0, use `hooks` instead\n",
      "2020-05-28 23:59:31,851 - FuturesSession - WARNING - `background_callback` is\n",
      "deprecated and will be removed in 1.0, use `hooks` instead\n",
      "2020-05-28 23:59:32,351 - FuturesSession - WARNING - `background_callback` is\n",
      "deprecated and will be removed in 1.0, use `hooks` instead\n",
      "\u001b[2J\u001b[1;1H\u001b[30;47mactivating: 0            complete: 4              downloaded: 13.94MB           \n",
      "downloading: 0           elapsed: 2               paging: False                 \n",
      "pending: 1                                                                      \u001b[39;49m\n",
      "2020-05-28 23:59:30,850 - FuturesSession - WARNING - `background_callback` is\n",
      "deprecated and will be removed in 1.0, use `hooks` instead\n",
      "2020-05-28 23:59:31,350 - FuturesSession - WARNING - `background_callback` is\n",
      "deprecated and will be removed in 1.0, use `hooks` instead\n",
      "2020-05-28 23:59:31,851 - FuturesSession - WARNING - `background_callback` is\n",
      "deprecated and will be removed in 1.0, use `hooks` instead\n",
      "2020-05-28 23:59:32,351 - FuturesSession - WARNING - `background_callback` is\n",
      "deprecated and will be removed in 1.0, use `hooks` instead\n",
      "\u001b[2J\u001b[1;1H\u001b[30;47mactivating: 0            complete: 4              downloaded: 13.94MB           \n",
      "downloading: 0           elapsed: 2               paging: False                 \n",
      "pending: 1                                                                      \u001b[39;49m\n",
      "2020-05-28 23:59:30,850 - FuturesSession - WARNING - `background_callback` is\n",
      "deprecated and will be removed in 1.0, use `hooks` instead\n",
      "2020-05-28 23:59:31,350 - FuturesSession - WARNING - `background_callback` is\n",
      "deprecated and will be removed in 1.0, use `hooks` instead\n",
      "2020-05-28 23:59:31,851 - FuturesSession - WARNING - `background_callback` is\n",
      "deprecated and will be removed in 1.0, use `hooks` instead\n",
      "2020-05-28 23:59:32,351 - FuturesSession - WARNING - `background_callback` is\n",
      "deprecated and will be removed in 1.0, use `hooks` instead\n",
      "2020-05-28 23:59:32,851 - FuturesSession - WARNING - `background_callback` is\n",
      "deprecated and will be removed in 1.0, use `hooks` instead\n",
      "\u001b[2J\u001b[1;1H\u001b[30;47mactivating: 0            complete: 0              downloaded: 0.0MB             \n",
      "downloading: 0           elapsed: 3               paging: False                 \n",
      "pending: 0                                                                      \u001b[39;49m\n",
      "2020-05-28 23:59:30,850 - FuturesSession - WARNING - `background_callback` is\n",
      "deprecated and will be removed in 1.0, use `hooks` instead\n",
      "2020-05-28 23:59:31,350 - FuturesSession - WARNING - `background_callback` is\n",
      "deprecated and will be removed in 1.0, use `hooks` instead\n",
      "2020-05-28 23:59:31,851 - FuturesSession - WARNING - `background_callback` is\n",
      "deprecated and will be removed in 1.0, use `hooks` instead\n",
      "2020-05-28 23:59:32,351 - FuturesSession - WARNING - `background_callback` is\n",
      "deprecated and will be removed in 1.0, use `hooks` instead\n",
      "2020-05-28 23:59:32,851 - FuturesSession - WARNING - `background_callback` is\n",
      "deprecated and will be removed in 1.0, use `hooks` instead\n",
      "\u001b[2J\u001b[1;1H\u001b[30;47mactivating: 0            complete: 0              downloaded: 0.0MB             \n",
      "downloading: 0           elapsed: 3               paging: False                 \n",
      "pending: 0                                                                      \u001b[39;49m\n",
      "2020-05-28 23:59:30,850 - FuturesSession - WARNING - `background_callback` is\n",
      "deprecated and will be removed in 1.0, use `hooks` instead\n",
      "2020-05-28 23:59:31,350 - FuturesSession - WARNING - `background_callback` is\n",
      "deprecated and will be removed in 1.0, use `hooks` instead\n",
      "2020-05-28 23:59:31,851 - FuturesSession - WARNING - `background_callback` is\n",
      "deprecated and will be removed in 1.0, use `hooks` instead\n",
      "2020-05-28 23:59:32,351 - FuturesSession - WARNING - `background_callback` is\n",
      "deprecated and will be removed in 1.0, use `hooks` instead\n",
      "2020-05-28 23:59:32,851 - FuturesSession - WARNING - `background_callback` is\n",
      "deprecated and will be removed in 1.0, use `hooks` instead\n"
     ]
    }
   ],
   "source": [
    "!planet orders download $order_id"
   ]
  },
  {
   "cell_type": "code",
   "execution_count": 60,
   "metadata": {},
   "outputs": [
    {
     "name": "stdout",
     "output_type": "stream",
     "text": [
      "analysis_ready_data_tutorial.ipynb\r\n",
      "manifest.json\r\n",
      "PSScene4Band_20190415_170302_79_1068_analytic_sr_2eb5f55e-d260-4ee5-b1b5-7d32ff389dc6.zip\r\n",
      "PSScene4Band_20190415_170304_85_1068_analytic_sr_2eb5f55e-d260-4ee5-b1b5-7d32ff389dc6.zip\r\n",
      "PSScene4Band_20190426_170320_32_105c_analytic_sr_2eb5f55e-d260-4ee5-b1b5-7d32ff389dc6.zip\r\n",
      "PSScene4Band_20190426_170322_82_105c_analytic_sr_2eb5f55e-d260-4ee5-b1b5-7d32ff389dc6.zip\r\n",
      "tools.json\r\n"
     ]
    }
   ],
   "source": [
    "!ls"
   ]
  },
  {
   "cell_type": "code",
   "execution_count": 62,
   "metadata": {},
   "outputs": [
    {
     "name": "stdout",
     "output_type": "stream",
     "text": [
      "{\"name\":\"\",\"files\":[{\"path\":\"PSScene4Band_20190426_170322_82_105c_analytic_sr_2eb5f55e-d260-4ee5-b1b5-7d32ff389dc6.zip\",\"media_type\":\"application/zip\",\"size\":127864659,\"digests\":{\"md5\":\"7a765d80bb25814ce1a936158e122e4c\",\"sha256\":\"2730b023572baee45ccfede9cfd2485b4cb0436b41da08f5958eb70fe9d778d8\"},\"annotations\":{}},{\"path\":\"PSScene4Band_20190426_170320_32_105c_analytic_sr_2eb5f55e-d260-4ee5-b1b5-7d32ff389dc6.zip\",\"media_type\":\"application/zip\",\"size\":101456331,\"digests\":{\"md5\":\"c634da295187067125a21ce62f516e62\",\"sha256\":\"24d550356e1f2d5cce586b55cb458bc3a05f1856936a09a9e2a0990186a0f441\"},\"annotations\":{}},{\"path\":\"PSScene4Band_20190415_170302_79_1068_analytic_sr_2eb5f55e-d260-4ee5-b1b5-7d32ff389dc6.zip\",\"media_type\":\"application/zip\",\"size\":75301112,\"digests\":{\"md5\":\"9d8270c980d98a3048f53d32edb3d4e4\",\"sha256\":\"3474efc28794d8362baeda1f95bc124da7636bf4c596464a600e4f109fc50a03\"},\"annotations\":{}},{\"path\":\"PSScene4Band_20190415_170304_85_1068_analytic_sr_2eb5f55e-d260-4ee5-b1b5-7d32ff389dc6.zip\",\"media_type\":\"application/zip\",\"size\":23169108,\"digests\":{\"md5\":\"967596d34623a71b7a906543fcb0412a\",\"sha256\":\"67bd7e05bddd8b90cae77e7b7c818375361dca4b3c87971b0653f40a73a05f63\"},\"annotations\":{}}]}"
     ]
    }
   ],
   "source": [
    "!cat manifest.json"
   ]
  },
  {
   "cell_type": "markdown",
   "metadata": {},
   "source": [
    "#### Bonus Step: Checking out the Imagery\n",
    "\n",
    "\n",
    "#### Try using Python\n",
    "\n",
    "ok, so CLI is a PAIN to work with in regard to getting order ids, image files, unzipping and viewing.\n",
    "\n",
    "Lets *try* to use the python api to interact with orders"
   ]
  },
  {
   "cell_type": "code",
   "execution_count": 76,
   "metadata": {},
   "outputs": [
    {
     "data": {
      "text/plain": [
       "'2eb5f55e-d260-4ee5-b1b5-7d32ff389dc6'"
      ]
     },
     "execution_count": 76,
     "metadata": {},
     "output_type": "execute_result"
    }
   ],
   "source": [
    "# check on orders already submitted\n",
    "orders = client.get_orders().get()['orders']\n",
    "\n",
    "# lets get an id!\n",
    "orders[0]['id']"
   ]
  },
  {
   "cell_type": "code",
   "execution_count": null,
   "metadata": {},
   "outputs": [],
   "source": []
  }
 ],
 "metadata": {
  "kernelspec": {
   "display_name": "Python 3",
   "language": "python",
   "name": "python3"
  },
  "language_info": {
   "codemirror_mode": {
    "name": "ipython",
    "version": 3
   },
   "file_extension": ".py",
   "mimetype": "text/x-python",
   "name": "python",
   "nbconvert_exporter": "python",
   "pygments_lexer": "ipython3",
   "version": "3.7.6"
  }
 },
 "nbformat": 4,
 "nbformat_minor": 4
}
