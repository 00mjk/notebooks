{
 "cells": [
  {
   "cell_type": "code",
   "execution_count": 18,
   "metadata": {},
   "outputs": [],
   "source": [
    "import datetime\n",
    "import json\n",
    "import os\n",
    "from pathlib import Path\n",
    "from pprint import pprint\n",
    "import time\n",
    "from zipfile import ZipFile\n",
    "\n",
    "from planet import api\n",
    "from planet.api import filters\n",
    "import rasterio\n",
    "from rasterio import plot\n",
    "\n",
    "import json\n",
    "import os"
   ]
  },
  {
   "cell_type": "markdown",
   "metadata": {},
   "source": [
    "#### Step 1: Initialize API client"
   ]
  },
  {
   "cell_type": "code",
   "execution_count": 19,
   "metadata": {},
   "outputs": [],
   "source": [
    "# if your Planet API Key is not set as an environment variable, you can paste it below\n",
    "API_KEY = os.environ.get('PL_API_KEY', 'PASTE_YOUR_KEY_HERE')\n",
    "\n",
    "client = api.ClientV1(api_key=API_KEY)"
   ]
  },
  {
   "cell_type": "code",
   "execution_count": 20,
   "metadata": {},
   "outputs": [],
   "source": [
    "# iowa crops aoi\n",
    "test_aoi_geom = {\n",
    "    \"type\": \"Polygon\",\n",
    "    \"coordinates\": [\n",
    "        [\n",
    "            [-93.299129, 42.699599],\n",
    "            [-93.299674, 42.812757],\n",
    "            [-93.288436, 42.861921],\n",
    "            [-93.265332, 42.924817],\n",
    "            [-92.993873, 42.925124],\n",
    "            [-92.993888, 42.773637],\n",
    "            [-92.998396, 42.754529],\n",
    "            [-93.019154, 42.699988],\n",
    "            [-93.299129, 42.699599]\n",
    "        ]\n",
    "    ]\n",
    "}"
   ]
  },
  {
   "cell_type": "code",
   "execution_count": 21,
   "metadata": {},
   "outputs": [],
   "source": [
    "ids = ['20190415_170304_85_1068']"
   ]
  },
  {
   "cell_type": "code",
   "execution_count": 22,
   "metadata": {},
   "outputs": [],
   "source": [
    "# specify the psscene4band surface reflectance product\n",
    "# note: capitalization really matters in item_type when using planet client orders api\n",
    "item_type = 'PSScene4Band'\n",
    "bundle = 'analytic_sr_udm2'"
   ]
  },
  {
   "cell_type": "markdown",
   "metadata": {},
   "source": [
    "##### Step 3.1: Build Orders Toolchain"
   ]
  },
  {
   "cell_type": "code",
   "execution_count": 23,
   "metadata": {},
   "outputs": [
    {
     "name": "stdout",
     "output_type": "stream",
     "text": [
      "[{'clip': {'aoi': {'coordinates': [[[-93.299129, 42.699599],\n",
      "                                    [-93.299674, 42.812757],\n",
      "                                    [-93.288436, 42.861921],\n",
      "                                    [-93.265332, 42.924817],\n",
      "                                    [-92.993873, 42.925124],\n",
      "                                    [-92.993888, 42.773637],\n",
      "                                    [-92.998396, 42.754529],\n",
      "                                    [-93.019154, 42.699988],\n",
      "                                    [-93.299129, 42.699599]]],\n",
      "                   'type': 'Polygon'}}},\n",
      " {'bandmath': {'b1': '(b4 - b3) / (b4+b3)', 'pixel_type': '32R'}}]\n"
     ]
    }
   ],
   "source": [
    "# specify tools\n",
    "\n",
    "# clip to AOI\n",
    "clip_tool = {'clip': {'aoi': test_aoi_geom}}\n",
    "\n",
    "# convert to NDVI\n",
    "bandmath_tool = {'bandmath': {\n",
    "    \"pixel_type\": \"32R\",\n",
    "    \"b1\": \"(b4 - b3) / (b4+b3)\"\n",
    "}}\n",
    "\n",
    "tools = [clip_tool, bandmath_tool]\n",
    "pprint(tools)"
   ]
  },
  {
   "cell_type": "code",
   "execution_count": 24,
   "metadata": {},
   "outputs": [],
   "source": [
    "# specify a name\n",
    "name = 'tutorial_order'"
   ]
  },
  {
   "cell_type": "markdown",
   "metadata": {},
   "source": [
    "##### submit order"
   ]
  },
  {
   "cell_type": "code",
   "execution_count": 25,
   "metadata": {},
   "outputs": [],
   "source": [
    "# zip up entire order into one file\n",
    "ziptype = 'order'\n",
    "\n",
    "# format the ids for use with the CLI\n",
    "cli_ids = ','.join(ids)\n",
    "\n",
    "# save tools definition to file\n",
    "tools_file = 'tools.json'\n",
    "with open(tools_file, 'w') as dst:\n",
    "    dst.write(json.dumps(tools))\n",
    "    \n",
    "order_info_file = 'order.json'"
   ]
  },
  {
   "cell_type": "code",
   "execution_count": 26,
   "metadata": {},
   "outputs": [
    {
     "name": "stdout",
     "output_type": "stream",
     "text": [
      "{\"_links\": {\"_self\": \"https://api.planet.com/compute/ops/orders/v2/9084691e-93ad-4eb0-9746-8ac14ab0e54f\"}, \"created_on\": \"2020-06-23T20:28:53.405Z\", \"delivery\": {\"archive_filename\": \"{{name}}_{{order_id}}.zip\", \"archive_type\": \"zip\", \"single_archive\": true}, \"error_hints\": [], \"id\": \"9084691e-93ad-4eb0-9746-8ac14ab0e54f\", \"last_message\": \"Preparing order\", \"last_modified\": \"2020-06-23T20:28:53.405Z\", \"name\": \"tutorial_order\", \"notifications\": {}, \"products\": [{\"item_ids\": [\"20190415_170304_85_1068\"], \"item_type\": \"PSScene4Band\", \"product_bundle\": \"analytic_sr_udm2\"}], \"state\": \"queued\", \"tools\": [{\"clip\": {\"aoi\": {\"coordinates\": [[[-93.299129, 42.699599], [-93.299674, 42.812757], [-93.288436, 42.861921], [-93.265332, 42.924817], [-92.993873, 42.925124], [-92.993888, 42.773637], [-92.998396, 42.754529], [-93.019154, 42.699988], [-93.299129, 42.699599]]], \"type\": \"Polygon\"}}}, {\"bandmath\": {\"b1\": \"(b4 - b3) / (b4+b3)\", \"pixel_type\": \"32R\"}}]}\r\n"
     ]
    }
   ],
   "source": [
    "# submit the order and save the response to a file so we can get the order id\n",
    "!planet orders create \\\n",
    "    --id $cli_ids \\\n",
    "    --item-type $item_type \\\n",
    "    --bundle $bundle \\\n",
    "    --zip $ziptype \\\n",
    "    --tools $tools_file \\\n",
    "    --name $name | tee $order_info_file"
   ]
  },
  {
   "cell_type": "code",
   "execution_count": 31,
   "metadata": {},
   "outputs": [
    {
     "data": {
      "text/plain": [
       "'9084691e-93ad-4eb0-9746-8ac14ab0e54f'"
      ]
     },
     "execution_count": 31,
     "metadata": {},
     "output_type": "execute_result"
    }
   ],
   "source": [
    "# read the order id\n",
    "with open(order_info_file, 'r') as src:\n",
    "    order_info = json.load(src)\n",
    "    \n",
    "order_id = order_info['id']\n",
    "order_id"
   ]
  },
  {
   "cell_type": "code",
   "execution_count": 30,
   "metadata": {},
   "outputs": [
    {
     "name": "stdout",
     "output_type": "stream",
     "text": [
      "running\n",
      "running\n",
      "running\n",
      "running\n",
      "running\n",
      "running\n",
      "running\n",
      "running\n",
      "running\n",
      "running\n",
      "running\n",
      "running\n",
      "running\n",
      "running\n",
      "running\n",
      "running\n",
      "running\n",
      "running\n",
      "running\n",
      "running\n",
      "running\n",
      "running\n",
      "running\n",
      "running\n",
      "running\n",
      "running\n",
      "running\n",
      "running\n",
      "running\n",
      "running\n",
      "running\n",
      "running\n",
      "running\n",
      "running\n",
      "running\n",
      "running\n",
      "running\n",
      "running\n",
      "running\n",
      "running\n",
      "running\n",
      "success\n"
     ]
    }
   ],
   "source": [
    "def poll_for_success(order_id, client, num_loops=50):\n",
    "    count = 0\n",
    "    while(count < num_loops):\n",
    "        count += 1\n",
    "        order_info = client.get_individual_order(order_id).get()\n",
    "        state = order_info['state']\n",
    "        print(state)\n",
    "        success_states = ['success', 'partial']\n",
    "        if state == 'failed':\n",
    "            raise Exception(response)\n",
    "        elif state in success_states:\n",
    "            break\n",
    "        \n",
    "        time.sleep(10)\n",
    "        \n",
    "poll_for_success(order_id, client)"
   ]
  },
  {
   "cell_type": "code",
   "execution_count": 32,
   "metadata": {},
   "outputs": [],
   "source": [
    "demo_data_dir = os.path.join('data', 'demo')\n",
    "\n",
    "# make the download directory if it doesn't exist\n",
    "Path(demo_data_dir).mkdir(parents=True, exist_ok=True)"
   ]
  },
  {
   "cell_type": "code",
   "execution_count": 33,
   "metadata": {},
   "outputs": [
    {
     "name": "stdout",
     "output_type": "stream",
     "text": [
      "\u001b[2J\u001b[1;1H\u001b[2J\u001b[1;1H\u001b[30;47mactivating: 0            complete: 0              downloaded: 0.0MB             \n",
      "downloading: 0           elapsed: 0               paging: False                 \n",
      "pending: 0                                                                      \u001b[39;49m\n",
      "\n",
      "\u001b[2J\u001b[1;1H\u001b[30;47mactivating: 0            complete: 2              downloaded: 0.00MB            \n",
      "downloading: 0           elapsed: 1               paging: False                 \n",
      "pending: 0                                                                      \u001b[39;49m\n",
      "\n",
      "\u001b[2J\u001b[1;1H\u001b[30;47mactivating: 0            complete: 0              downloaded: 0.0MB             \n",
      "downloading: 0           elapsed: 2               paging: False                 \n",
      "pending: 0                                                                      \u001b[39;49m\n",
      "\n",
      "\u001b[2J\u001b[1;1H\u001b[30;47mactivating: 0            complete: 0              downloaded: 0.0MB             \n",
      "downloading: 0           elapsed: 2               paging: False                 \n",
      "pending: 0                                                                      \u001b[39;49m\n",
      "\n"
     ]
    }
   ],
   "source": [
    "!planet orders download --dest $demo_data_dir $order_id"
   ]
  },
  {
   "cell_type": "markdown",
   "metadata": {},
   "source": [
    "##### Step 4.3: Get Downloaded File Location(s)\n",
    "\n",
    "We use the downloaded order manifest to find the downloaded file locations. The manifest is saved in the download directory."
   ]
  },
  {
   "cell_type": "code",
   "execution_count": 40,
   "metadata": {},
   "outputs": [
    {
     "name": "stdout",
     "output_type": "stream",
     "text": [
      "tutorial_order_9084691e-93ad-4eb0-9746-8ac14ab0e54f.zip\r\n"
     ]
    }
   ],
   "source": [
    "!ls data/demo"
   ]
  },
  {
   "cell_type": "code",
   "execution_count": 41,
   "metadata": {},
   "outputs": [],
   "source": [
    "location = 'data/demo/tutorial_order_9084691e-93ad-4eb0-9746-8ac14ab0e54f.zip'"
   ]
  },
  {
   "cell_type": "markdown",
   "metadata": {
    "collapsed": true
   },
   "source": [
    "#### Step 5: Unzip and View Order\n",
    "\n",
    "In this step we will simply unzip the order and view the downloaded images and their usable data masks.\n",
    "\n",
    "##### 5.1: Unzip Order\n",
    "\n",
    "We will unzip the order into a directory named after the file, then we will find the downloaded files (they are in a `files` subdirectory)"
   ]
  },
  {
   "cell_type": "code",
   "execution_count": 42,
   "metadata": {},
   "outputs": [
    {
     "data": {
      "text/plain": [
       "PosixPath('data/demo/tutorial_order_9084691e-93ad-4eb0-9746-8ac14ab0e54f')"
      ]
     },
     "execution_count": 42,
     "metadata": {},
     "output_type": "execute_result"
    }
   ],
   "source": [
    "def unzip(filename):\n",
    "    location = Path(filename)\n",
    "    \n",
    "    zipdir = location.parent / location.stem\n",
    "    with ZipFile(location) as myzip:\n",
    "        myzip.extractall(zipdir)\n",
    "    return zipdir\n",
    "\n",
    "zipdir = unzip(location)\n",
    "zipdir"
   ]
  },
  {
   "cell_type": "code",
   "execution_count": 43,
   "metadata": {},
   "outputs": [
    {
     "name": "stdout",
     "output_type": "stream",
     "text": [
      "[PosixPath('data/demo/tutorial_order_9084691e-93ad-4eb0-9746-8ac14ab0e54f/files/20190415_170304_85_1068_3B_udm2_clip.tif'),\n",
      " PosixPath('data/demo/tutorial_order_9084691e-93ad-4eb0-9746-8ac14ab0e54f/files/20190415_170304_85_1068_3B_AnalyticMS_SR_clip_bandmath.tif'),\n",
      " PosixPath('data/demo/tutorial_order_9084691e-93ad-4eb0-9746-8ac14ab0e54f/files/20190415_170304_85_1068_3B_AnalyticMS_metadata_clip.xml'),\n",
      " PosixPath('data/demo/tutorial_order_9084691e-93ad-4eb0-9746-8ac14ab0e54f/files/20190415_170304_85_1068_3B_AnalyticMS_DN_udm_clip.tif'),\n",
      " PosixPath('data/demo/tutorial_order_9084691e-93ad-4eb0-9746-8ac14ab0e54f/files/20190415_170304_85_1068_metadata.json')]\n"
     ]
    }
   ],
   "source": [
    "def get_unzipped_files(zipdir):\n",
    "    filedir = zipdir / 'files'\n",
    "    filenames = os.listdir(filedir)\n",
    "    return [filedir / f for f in filenames]\n",
    "\n",
    "file_paths = get_unzipped_files(zipdir)\n",
    "pprint(file_paths)"
   ]
  },
  {
   "cell_type": "markdown",
   "metadata": {},
   "source": [
    "##### 5.2: Visualize Images\n",
    "\n",
    "In this section we will find the image files and their associated UDMs and we will visualize them."
   ]
  },
  {
   "cell_type": "code",
   "execution_count": 45,
   "metadata": {},
   "outputs": [
    {
     "name": "stdout",
     "output_type": "stream",
     "text": [
      "['data/demo/tutorial_order_9084691e-93ad-4eb0-9746-8ac14ab0e54f/files/20190415_170304_85_1068_3B_AnalyticMS_SR_clip_bandmath.tif']\n",
      "['data/demo/tutorial_order_9084691e-93ad-4eb0-9746-8ac14ab0e54f/files/20190415_170304_85_1068_3B_udm2_clip.tif']\n"
     ]
    }
   ],
   "source": [
    "def get_image_and_udm_files(file_paths):\n",
    "    files = [str(p) for p in file_paths]\n",
    "    \n",
    "    # the image files are tiffs and are identified with '_SR_' in the name\n",
    "    img_id = '_AnalyticMS_SR_'\n",
    "    imgfiles = [f for f in files\n",
    "                if f.endswith('.tif') and img_id in f]\n",
    "    \n",
    "    # get associated udm files for image files\n",
    "    # each image has a unique id at the beginning of the name\n",
    "    imgroots = [str(f).split(img_id)[0] for f in imgfiles]\n",
    "    \n",
    "    # the udm files are identified with '_udm2' in the name\n",
    "    udmfiles = [next(f for f in files if f.startswith(r + '_udm2'))\n",
    "                for r in imgroots]\n",
    "    \n",
    "    return imgfiles, udmfiles\n",
    "\n",
    "imgfiles, udmfiles = get_image_and_udm_files(file_paths)\n",
    "pprint(imgfiles)\n",
    "pprint(udmfiles)"
   ]
  },
  {
   "cell_type": "code",
   "execution_count": 46,
   "metadata": {},
   "outputs": [],
   "source": [
    "udmfile = udmfiles[0]\n",
    "imgfile = imgfiles[0]"
   ]
  },
  {
   "cell_type": "code",
   "execution_count": 47,
   "metadata": {},
   "outputs": [
    {
     "name": "stdout",
     "output_type": "stream",
     "text": [
      "Driver: GTiff/GeoTIFF\n",
      "Files: data/demo/tutorial_order_9084691e-93ad-4eb0-9746-8ac14ab0e54f/files/20190415_170304_85_1068_3B_udm2_clip.tif\n",
      "Size is 4632, 1946\n",
      "Coordinate System is:\n",
      "PROJCRS[\"WGS 84 / UTM zone 15N\",\n",
      "    BASEGEOGCRS[\"WGS 84\",\n",
      "        DATUM[\"World Geodetic System 1984\",\n",
      "            ELLIPSOID[\"WGS 84\",6378137,298.257223563,\n",
      "                LENGTHUNIT[\"metre\",1]]],\n",
      "        PRIMEM[\"Greenwich\",0,\n",
      "            ANGLEUNIT[\"degree\",0.0174532925199433]],\n",
      "        ID[\"EPSG\",4326]],\n",
      "    CONVERSION[\"UTM zone 15N\",\n",
      "        METHOD[\"Transverse Mercator\",\n",
      "            ID[\"EPSG\",9807]],\n",
      "        PARAMETER[\"Latitude of natural origin\",0,\n",
      "            ANGLEUNIT[\"degree\",0.0174532925199433],\n",
      "            ID[\"EPSG\",8801]],\n",
      "        PARAMETER[\"Longitude of natural origin\",-93,\n",
      "            ANGLEUNIT[\"degree\",0.0174532925199433],\n",
      "            ID[\"EPSG\",8802]],\n",
      "        PARAMETER[\"Scale factor at natural origin\",0.9996,\n",
      "            SCALEUNIT[\"unity\",1],\n",
      "            ID[\"EPSG\",8805]],\n",
      "        PARAMETER[\"False easting\",500000,\n",
      "            LENGTHUNIT[\"metre\",1],\n",
      "            ID[\"EPSG\",8806]],\n",
      "        PARAMETER[\"False northing\",0,\n",
      "            LENGTHUNIT[\"metre\",1],\n",
      "            ID[\"EPSG\",8807]]],\n",
      "    CS[Cartesian,2],\n",
      "        AXIS[\"(E)\",east,\n",
      "            ORDER[1],\n",
      "            LENGTHUNIT[\"metre\",1]],\n",
      "        AXIS[\"(N)\",north,\n",
      "            ORDER[2],\n",
      "            LENGTHUNIT[\"metre\",1]],\n",
      "    USAGE[\n",
      "        SCOPE[\"unknown\"],\n",
      "        AREA[\"World - N hemisphere - 96°W to 90°W - by country\"],\n",
      "        BBOX[0,-96,84,-90]],\n",
      "    ID[\"EPSG\",32615]]\n",
      "Data axis to CRS axis mapping: 1,2\n",
      "Origin = (486606.000000000000000,4752501.000000000000000)\n",
      "Pixel Size = (3.000000000000000,-3.000000000000000)\n",
      "Metadata:\n",
      "  AREA_OR_POINT=Area\n",
      "Image Structure Metadata:\n",
      "  COMPRESSION=LZW\n",
      "  INTERLEAVE=BAND\n",
      "Corner Coordinates:\n",
      "Upper Left  (  486606.000, 4752501.000) ( 93d 9'50.86\"W, 42d55'30.06\"N)\n",
      "Lower Left  (  486606.000, 4746663.000) ( 93d 9'50.36\"W, 42d52'20.79\"N)\n",
      "Upper Right (  500502.000, 4752501.000) ( 92d59'37.85\"W, 42d55'30.48\"N)\n",
      "Lower Right (  500502.000, 4746663.000) ( 92d59'37.87\"W, 42d52'21.22\"N)\n",
      "Center      (  493554.000, 4749582.000) ( 93d 4'44.24\"W, 42d53'55.75\"N)\n",
      "Band 1 Block=256x256 Type=Byte, ColorInterp=Red\n",
      "Band 2 Block=256x256 Type=Byte, ColorInterp=Green\n",
      "Band 3 Block=256x256 Type=Byte, ColorInterp=Blue\n",
      "Band 4 Block=256x256 Type=Byte, ColorInterp=Undefined\n",
      "Band 5 Block=256x256 Type=Byte, ColorInterp=Undefined\n",
      "Band 6 Block=256x256 Type=Byte, ColorInterp=Undefined\n",
      "Band 7 Block=256x256 Type=Byte, ColorInterp=Undefined\n",
      "Band 8 Block=256x256 Type=Byte, ColorInterp=Undefined\n"
     ]
    }
   ],
   "source": [
    "!gdalinfo $udmfile"
   ]
  },
  {
   "cell_type": "code",
   "execution_count": 48,
   "metadata": {},
   "outputs": [
    {
     "name": "stdout",
     "output_type": "stream",
     "text": [
      "Driver: GTiff/GeoTIFF\n",
      "Files: data/demo/tutorial_order_9084691e-93ad-4eb0-9746-8ac14ab0e54f/files/20190415_170304_85_1068_3B_AnalyticMS_SR_clip_bandmath.tif\n",
      "Size is 4633, 1946\n",
      "Coordinate System is:\n",
      "PROJCRS[\"WGS 84 / UTM zone 15N\",\n",
      "    BASEGEOGCRS[\"WGS 84\",\n",
      "        DATUM[\"World Geodetic System 1984\",\n",
      "            ELLIPSOID[\"WGS 84\",6378137,298.257223563,\n",
      "                LENGTHUNIT[\"metre\",1]]],\n",
      "        PRIMEM[\"Greenwich\",0,\n",
      "            ANGLEUNIT[\"degree\",0.0174532925199433]],\n",
      "        ID[\"EPSG\",4326]],\n",
      "    CONVERSION[\"UTM zone 15N\",\n",
      "        METHOD[\"Transverse Mercator\",\n",
      "            ID[\"EPSG\",9807]],\n",
      "        PARAMETER[\"Latitude of natural origin\",0,\n",
      "            ANGLEUNIT[\"degree\",0.0174532925199433],\n",
      "            ID[\"EPSG\",8801]],\n",
      "        PARAMETER[\"Longitude of natural origin\",-93,\n",
      "            ANGLEUNIT[\"degree\",0.0174532925199433],\n",
      "            ID[\"EPSG\",8802]],\n",
      "        PARAMETER[\"Scale factor at natural origin\",0.9996,\n",
      "            SCALEUNIT[\"unity\",1],\n",
      "            ID[\"EPSG\",8805]],\n",
      "        PARAMETER[\"False easting\",500000,\n",
      "            LENGTHUNIT[\"metre\",1],\n",
      "            ID[\"EPSG\",8806]],\n",
      "        PARAMETER[\"False northing\",0,\n",
      "            LENGTHUNIT[\"metre\",1],\n",
      "            ID[\"EPSG\",8807]]],\n",
      "    CS[Cartesian,2],\n",
      "        AXIS[\"(E)\",east,\n",
      "            ORDER[1],\n",
      "            LENGTHUNIT[\"metre\",1]],\n",
      "        AXIS[\"(N)\",north,\n",
      "            ORDER[2],\n",
      "            LENGTHUNIT[\"metre\",1]],\n",
      "    USAGE[\n",
      "        SCOPE[\"unknown\"],\n",
      "        AREA[\"World - N hemisphere - 96°W to 90°W - by country\"],\n",
      "        BBOX[0,-96,84,-90]],\n",
      "    ID[\"EPSG\",32615]]\n",
      "Data axis to CRS axis mapping: 1,2\n",
      "Origin = (486603.000000000000000,4752501.000000000000000)\n",
      "Pixel Size = (3.000000000000000,-3.000000000000000)\n",
      "Metadata:\n",
      "  AREA_OR_POINT=Area\n",
      "Image Structure Metadata:\n",
      "  COMPRESSION=LZW\n",
      "  INTERLEAVE=BAND\n",
      "Corner Coordinates:\n",
      "Upper Left  (  486603.000, 4752501.000) ( 93d 9'50.99\"W, 42d55'30.06\"N)\n",
      "Lower Left  (  486603.000, 4746663.000) ( 93d 9'50.49\"W, 42d52'20.79\"N)\n",
      "Upper Right (  500502.000, 4752501.000) ( 92d59'37.85\"W, 42d55'30.48\"N)\n",
      "Lower Right (  500502.000, 4746663.000) ( 92d59'37.87\"W, 42d52'21.22\"N)\n",
      "Center      (  493552.500, 4749582.000) ( 93d 4'44.30\"W, 42d53'55.75\"N)\n",
      "Band 1 Block=256x256 Type=Float32, ColorInterp=Gray\n"
     ]
    }
   ],
   "source": [
    "!gdalinfo $imgfile"
   ]
  },
  {
   "cell_type": "code",
   "execution_count": null,
   "metadata": {},
   "outputs": [],
   "source": []
  }
 ],
 "metadata": {
  "kernelspec": {
   "display_name": "Python 3",
   "language": "python",
   "name": "python3"
  },
  "language_info": {
   "codemirror_mode": {
    "name": "ipython",
    "version": 3
   },
   "file_extension": ".py",
   "mimetype": "text/x-python",
   "name": "python",
   "nbconvert_exporter": "python",
   "pygments_lexer": "ipython3",
   "version": "3.7.6"
  }
 },
 "nbformat": 4,
 "nbformat_minor": 4
}
