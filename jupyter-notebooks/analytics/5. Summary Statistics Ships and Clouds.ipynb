{
 "cells": [
  {
   "cell_type": "code",
   "execution_count": 1,
   "metadata": {},
   "outputs": [
    {
     "data": {
      "text/html": [
       "<style>#notebook-container {\n",
       "    font-family: 'Gotham SSm A','Gotham SSm B','Helvetica Neue',Helvetica,sans-serif; \n",
       "}\n",
       "#notebook-container a {\n",
       "    color:#009da5; \n",
       "}\n",
       "\n",
       "#notebook-container h1,\n",
       "#notebook-container h2,\n",
       "#notebook-container h3,\n",
       "#notebook-container h4,\n",
       "#notebook-container h5 {\n",
       "    color: #006266;\n",
       "    \n",
       "}\n",
       "\n",
       "#ps-header {\n",
       "    color: white; \n",
       "    padding: 20px; \n",
       "    position:relative;\n",
       "    z-index:2;\n",
       "    background: linear-gradient(to bottom, rgba(0,0,0,0.65) 0%,rgba(0,0,0,0) 100%);\n",
       "        background-color:red !important;\n",
       "}\n",
       "#ps-header:after {\n",
       "    content: '';\n",
       "    position: absolute;\n",
       "    top:0;\n",
       "    left:0;\n",
       "    right:0;\n",
       "    bottom:0;\n",
       "    z-index: -1;\n",
       "    background-image:url(\"https://developers.planet.com/theme/images/lake-okeechobee.jpg\");\n",
       "    background-color:black;\n",
       "    background-size:cover;\n",
       "}\n",
       "\n",
       "#ps-header a {\n",
       "    color:white;\n",
       "    text-decoration:none; \n",
       "}\n",
       "\n",
       "#ps-header h1 {\n",
       "    color: white;\n",
       "}\n",
       "#ps-header h3 {\n",
       "    color:#009da5; \n",
       "        font-weight:normal;\n",
       "}\n",
       "\n",
       ".content-block {\n",
       "    background-color:#f5f5f5; \n",
       "    padding: 10px 20px;\n",
       "} \n",
       "\n",
       ".callout {\n",
       "    border: 2px solid #4f5258;\n",
       "    padding:  10px 20px;\n",
       "}\n",
       ".callout-light {\n",
       "    border: 2px solid #f5f5f5; \n",
       "    padding: 10px 20px;\n",
       "}\n",
       "\n",
       ".callout-blue {\n",
       "    border: 2px solid #009da5; \n",
       "    padding:  10px 20px;\n",
       "    \n",
       "}\n",
       ".callout-filled {\n",
       "    padding:  10px 20px;\n",
       "    \n",
       "}\n",
       "\n",
       ".callout-red {\n",
       "    border: 2px solid #bf3b3b; \n",
       "    padding:  10px 20px;\n",
       "}\n",
       "\n",
       ".success {\n",
       "    color: #2ab26a;\n",
       "}\n",
       "\n",
       ".top-margin {\n",
       "    margin-top: 20px;\n",
       "}<style>"
      ],
      "text/plain": [
       "<IPython.core.display.HTML object>"
      ]
     },
     "execution_count": 1,
     "metadata": {},
     "output_type": "execute_result"
    }
   ],
   "source": [
    "# Setup CSS Styles\n",
    "from styles.plnbstyles import style_nb\n",
    "style_nb(\"./styles/styles.css\")"
   ]
  },
  {
   "cell_type": "markdown",
   "metadata": {},
   "source": [
    "<div id=\"ps-header\">\n",
    "    <a href=\"https://developers.planet.com/\" target=\"_blank\">\n",
    "<img src=\"https://www.planet.com/assets/logos/logo.svg\" style=\"display:inline-block; margin-right: 10px;\" width=\"100\"/> <span style=\"font-size:18px\">Developer Resource Center</span>\n",
    "</a>\n",
    "\n",
    "###  Planet Analytics API Tutorial\n",
    "\n",
    "<h1 style=\"margin-top:10px;\">Summary Statistics: Ships and Clouds</h1>\n",
    "</div>\n",
    "<div class=\"content-block\">\n",
    "    \n",
    "## Overview\n",
    "    \n",
    "1. [Introduction](#1.-Introduction)\n",
    "2. [Post a stats job request](#2.-Post-a-stats-job-request)\n",
    "3. [Poll the stats job endpoint](#3.-Poll-the-stats-job-endpoint)\n",
    "4. [Get the job report results](#4.-Get-the-job-report-results)\n",
    "5. [Restructure the results into a pandas dataframe](#5.-Restructure-the-results-into-a-pandas-dataframe)\n",
    "6. [Visualize the time series](#6.-Visualize-the-time-series)\n"
   ]
  },
  {
   "cell_type": "markdown",
   "metadata": {},
   "source": [
    "## 1. Introduction\n",
    "\n",
    "This notebook demonstrates how to request ship and cloud summary statistics for a subscription using the Anaytics Feeds Stats API and visualize them as time series, enabling further analyses including patterns of life, development trends and anomaly detection.\n",
    "\n",
    "The workflow involves:\n",
    "- Posting a stats job request\n",
    "- Polling the job stats endpoint\n",
    "- Getting the job report results\n",
    "- Restructuring the results into a pandas dataframe\n",
    "- Visualizing the time series"
   ]
  },
  {
   "cell_type": "markdown",
   "metadata": {},
   "source": [
    "## 2. Post a stats job request"
   ]
  },
  {
   "cell_type": "markdown",
   "metadata": {},
   "source": [
    "### a) Define your subscription"
   ]
  },
  {
   "cell_type": "code",
   "execution_count": 5,
   "metadata": {},
   "outputs": [],
   "source": [
    "ships_subscription_id='d493559c-2d9b-47e7-bd35-c04351544102'"
   ]
  },
  {
   "cell_type": "markdown",
   "metadata": {},
   "source": [
    "### b) Visualize Subscription Bounds"
   ]
  },
  {
   "cell_type": "code",
   "execution_count": 39,
   "metadata": {},
   "outputs": [],
   "source": [
    "import os\n",
    "import requests\n",
    "import json\n",
    "import pprint\n",
    "pp = pprint.PrettyPrinter(indent=4)\n",
    "\n",
    "def jpp(data):\n",
    "    print(json.dumps(data, indent=4))"
   ]
  },
  {
   "cell_type": "code",
   "execution_count": 40,
   "metadata": {
    "scrolled": false
   },
   "outputs": [
    {
     "name": "stdout",
     "output_type": "stream",
     "text": [
      "User Guide: https://github.com/keplergl/kepler.gl/blob/master/docs/keplergl-jupyter/user-guide.md\n"
     ]
    },
    {
     "data": {
      "application/vnd.jupyter.widget-view+json": {
       "model_id": "45e39212da9e4d41b101801c25d63973",
       "version_major": 2,
       "version_minor": 0
      },
      "text/plain": [
       "KeplerGl(data={'Bandar Abbas Subscription d493559c-2d9b-47e7-bd35-c04351544102': {'index': [0], 'columns': ['g…"
      ]
     },
     "metadata": {},
     "output_type": "display_data"
    }
   ],
   "source": [
    "# Get Subscription Geometry from Feeds API\n",
    "API_KEY = os.environ['PL_API_KEY']\n",
    "BASIC_AUTH = (API_KEY, '')\n",
    "session = requests.Session()\n",
    "session.auth=BASIC_AUTH\n",
    "\n",
    "SIF_BASE_URL = 'https://sif-live.prod.planet-labs.com/'\n",
    "subscription_get_url = SIF_BASE_URL + f'subscriptions/{ships_subscription_id}'\n",
    "\n",
    "subs_get_resp = requests.get(\n",
    "    subscription_get_url, \n",
    "    auth=BASIC_AUTH\n",
    ")\n",
    "\n",
    "# Convert geometry to a Geopandas DataFrame\n",
    "subscription_geometry = subs_get_resp.json()['geometry']\n",
    "subscription_gdf = gpd.GeoDataFrame.from_file(json.dumps(subs_get_resp.json()))\n",
    "\n",
    "# Visualize Geometry with KeplerGL\n",
    "subscription_map = KeplerGl(height=500)\n",
    "subscription_map.add_data(data=subscription_gdf, name=f'Bandar Abbas Subscription {ships_subscription_id}')\n",
    "subscription_map"
   ]
  },
  {
   "cell_type": "markdown",
   "metadata": {},
   "source": [
    "### c) Post a stats report job request to the AF API"
   ]
  },
  {
   "cell_type": "code",
   "execution_count": 49,
   "metadata": {},
   "outputs": [
    {
     "name": "stdout",
     "output_type": "stream",
     "text": [
      "{\n",
      "    \"created\": \"2020-04-27T22:01:44.057Z\",\n",
      "    \"id\": \"f3c8d0c9-d6b1-443c-9cb4-dd6336f9df60\",\n",
      "    \"links\": [\n",
      "        {\n",
      "            \"href\": \"https://sif-live.prod.planet-labs.com/stats/f3c8d0c9-d6b1-443c-9cb4-dd6336f9df60\",\n",
      "            \"rel\": \"self\"\n",
      "        },\n",
      "        {\n",
      "            \"href\": \"https://sif-live.prod.planet-labs.com/subscriptions/d493559c-2d9b-47e7-bd35-c04351544102\",\n",
      "            \"rel\": \"subscription\"\n",
      "        }\n",
      "    ],\n",
      "    \"status\": \"pending\",\n",
      "    \"subscriptionID\": \"d493559c-2d9b-47e7-bd35-c04351544102\",\n",
      "    \"title\": \"Bandar Abbas Cloud Contextualized Ship Stats March 2020\",\n",
      "    \"updated\": \"2020-04-27T22:01:44.057Z\"\n",
      "}\n"
     ]
    }
   ],
   "source": [
    "import os\n",
    "import requests\n",
    "import json\n",
    "import pprint\n",
    "pp = pprint.PrettyPrinter(indent=4)\n",
    "\n",
    "def jpp(data):\n",
    "    print(json.dumps(data, indent=4))\n",
    "\n",
    "API_KEY = os.environ['PL_API_KEY']\n",
    "BASIC_AUTH = (API_KEY, '')\n",
    "session = requests.Session()\n",
    "session.auth=BASIC_AUTH\n",
    "\n",
    "request_body = {\n",
    "    \"title\": \"Bandar Abbas Cloud Contextualized Ship Stats March 2020\",\n",
    "    \"subscriptionID\": ships_subscription_id,\n",
    "    \"interval\": \"day\",\n",
    "    \"startTime\": \"2020-03-01T00:00:00Z\",\n",
    "    \"endTime\": \"2020-04-01T00:00:00Z\"\n",
    "}\n",
    "\n",
    "SIF_BASE_URL = 'https://sif-live.prod.planet-labs.com/'\n",
    "stats_post_url = SIF_BASE_URL + 'stats'\n",
    "\n",
    "job_post_resp = requests.post(\n",
    "    stats_post_url, \n",
    "    data=json.dumps(request_body), \n",
    "    auth=BASIC_AUTH,\n",
    "    headers={'content-type':'application/json'}\n",
    ")\n",
    "\n",
    "jpp(job_post_resp.json())"
   ]
  },
  {
   "cell_type": "markdown",
   "metadata": {},
   "source": [
    "## 3. Poll the stats job endpoint"
   ]
  },
  {
   "cell_type": "code",
   "execution_count": 50,
   "metadata": {},
   "outputs": [
    {
     "name": "stdout",
     "output_type": "stream",
     "text": [
      "pending\n",
      "pending\n",
      "pending\n",
      "pending\n",
      "pending\n",
      "pending\n",
      "pending\n",
      "pending\n",
      "pending\n",
      "pending\n",
      "started\n",
      "started\n",
      "started\n",
      "started\n",
      "started\n",
      "completed\n",
      "{\n",
      "    \"created\": \"2020-04-27T22:01:44.057Z\",\n",
      "    \"id\": \"f3c8d0c9-d6b1-443c-9cb4-dd6336f9df60\",\n",
      "    \"links\": [\n",
      "        {\n",
      "            \"href\": \"https://sif-live.prod.planet-labs.com/stats/f3c8d0c9-d6b1-443c-9cb4-dd6336f9df60\",\n",
      "            \"rel\": \"self\"\n",
      "        },\n",
      "        {\n",
      "            \"href\": \"https://sif-live.prod.planet-labs.com/subscriptions/d493559c-2d9b-47e7-bd35-c04351544102\",\n",
      "            \"rel\": \"subscription\"\n",
      "        },\n",
      "        {\n",
      "            \"href\": \"https://sif-live.prod.planet-labs.com/stats/f3c8d0c9-d6b1-443c-9cb4-dd6336f9df60/report\",\n",
      "            \"rel\": \"report\"\n",
      "        }\n",
      "    ],\n",
      "    \"status\": \"completed\",\n",
      "    \"subscriptionID\": \"d493559c-2d9b-47e7-bd35-c04351544102\",\n",
      "    \"title\": \"Bandar Abbas Cloud Contextualized Ship Stats March 2020\",\n",
      "    \"updated\": \"2020-04-27T22:02:24.938Z\"\n",
      "}\n"
     ]
    }
   ],
   "source": [
    "import time\n",
    "\n",
    "job_link = job_post_resp.json()['links'][0]['href']\n",
    "status = \"pending\"\n",
    "while status != \"completed\":\n",
    "    report_status_resp = requests.get(\n",
    "        job_link,\n",
    "        auth=BASIC_AUTH,\n",
    "    )\n",
    "    status = report_status_resp.json()['status']\n",
    "    print(status)\n",
    "    time.sleep(2)\n",
    "    \n",
    "    \n",
    "jpp(report_status_resp.json())"
   ]
  },
  {
   "cell_type": "markdown",
   "metadata": {},
   "source": [
    "## 4. Get the job report results"
   ]
  },
  {
   "cell_type": "code",
   "execution_count": 51,
   "metadata": {},
   "outputs": [
    {
     "data": {
      "text/plain": [
       "'https://sif-live.prod.planet-labs.com/stats/f3c8d0c9-d6b1-443c-9cb4-dd6336f9df60/report'"
      ]
     },
     "execution_count": 51,
     "metadata": {},
     "output_type": "execute_result"
    }
   ],
   "source": [
    "report_results_link = report_status_resp.json()['links'][-1]['href']\n",
    "report_results_link"
   ]
  },
  {
   "cell_type": "code",
   "execution_count": 52,
   "metadata": {},
   "outputs": [
    {
     "name": "stdout",
     "output_type": "stream",
     "text": [
      "200\n"
     ]
    }
   ],
   "source": [
    "results_resp = requests.get(\n",
    "    report_results_link,\n",
    "    auth=BASIC_AUTH,\n",
    ")\n",
    "print(results_resp.status_code)"
   ]
  },
  {
   "cell_type": "markdown",
   "metadata": {},
   "source": [
    "## 5. Restructure the results into a pandas dataframe"
   ]
  },
  {
   "cell_type": "code",
   "execution_count": 53,
   "metadata": {},
   "outputs": [],
   "source": [
    "import pandas as pd\n",
    "from collections import defaultdict\n",
    "\n",
    "def restructure_results(results_json):\n",
    "    cols = results_json['cols']\n",
    "    rows = results_json['rows']\n",
    "    \n",
    "    records = []\n",
    "    for r in rows:\n",
    "        rec = defaultdict()\n",
    "        for i, cell in enumerate(r):\n",
    "            rec[cols[i]['label']] = cell\n",
    "        records.append(rec)\n",
    "        \n",
    "    df = pd.DataFrame.from_records(records)\n",
    "    df['Start Time'] = pd.to_datetime(df['Start Time'])\n",
    "    df = df.set_index('Start Time')\n",
    "    return df"
   ]
  },
  {
   "cell_type": "code",
   "execution_count": 54,
   "metadata": {},
   "outputs": [],
   "source": [
    "df = restructure_results(results_resp.json())\n"
   ]
  },
  {
   "cell_type": "code",
   "execution_count": 55,
   "metadata": {},
   "outputs": [
    {
     "data": {
      "text/html": [
       "<div>\n",
       "<style scoped>\n",
       "    .dataframe tbody tr th:only-of-type {\n",
       "        vertical-align: middle;\n",
       "    }\n",
       "\n",
       "    .dataframe tbody tr th {\n",
       "        vertical-align: top;\n",
       "    }\n",
       "\n",
       "    .dataframe thead th {\n",
       "        text-align: right;\n",
       "    }\n",
       "</style>\n",
       "<table border=\"1\" class=\"dataframe\">\n",
       "  <thead>\n",
       "    <tr style=\"text-align: right;\">\n",
       "      <th></th>\n",
       "      <th>Total Object Count:0</th>\n",
       "      <th>Deduplicated Object Count:0</th>\n",
       "      <th>Clear Pixel Count (PSScene3Band-udm-clear_px):0</th>\n",
       "      <th>Total Pixel Count (PSScene3Band-udm-total_px):0</th>\n",
       "      <th>Clear Pixel Count (PSScene4Band-udm2-band_1):0</th>\n",
       "      <th>Total Pixel Count (PSScene4Band-udm2-total_px):0</th>\n",
       "    </tr>\n",
       "  </thead>\n",
       "  <tbody>\n",
       "    <tr>\n",
       "      <th>count</th>\n",
       "      <td>32.000000</td>\n",
       "      <td>32.00000</td>\n",
       "      <td>32.0</td>\n",
       "      <td>32.0</td>\n",
       "      <td>32.0</td>\n",
       "      <td>32.0</td>\n",
       "    </tr>\n",
       "    <tr>\n",
       "      <th>mean</th>\n",
       "      <td>131.625000</td>\n",
       "      <td>119.68750</td>\n",
       "      <td>0.0</td>\n",
       "      <td>0.0</td>\n",
       "      <td>0.0</td>\n",
       "      <td>0.0</td>\n",
       "    </tr>\n",
       "    <tr>\n",
       "      <th>std</th>\n",
       "      <td>143.938103</td>\n",
       "      <td>126.99338</td>\n",
       "      <td>0.0</td>\n",
       "      <td>0.0</td>\n",
       "      <td>0.0</td>\n",
       "      <td>0.0</td>\n",
       "    </tr>\n",
       "    <tr>\n",
       "      <th>min</th>\n",
       "      <td>0.000000</td>\n",
       "      <td>0.00000</td>\n",
       "      <td>0.0</td>\n",
       "      <td>0.0</td>\n",
       "      <td>0.0</td>\n",
       "      <td>0.0</td>\n",
       "    </tr>\n",
       "    <tr>\n",
       "      <th>25%</th>\n",
       "      <td>9.750000</td>\n",
       "      <td>9.75000</td>\n",
       "      <td>0.0</td>\n",
       "      <td>0.0</td>\n",
       "      <td>0.0</td>\n",
       "      <td>0.0</td>\n",
       "    </tr>\n",
       "    <tr>\n",
       "      <th>50%</th>\n",
       "      <td>86.500000</td>\n",
       "      <td>85.00000</td>\n",
       "      <td>0.0</td>\n",
       "      <td>0.0</td>\n",
       "      <td>0.0</td>\n",
       "      <td>0.0</td>\n",
       "    </tr>\n",
       "    <tr>\n",
       "      <th>75%</th>\n",
       "      <td>198.250000</td>\n",
       "      <td>193.50000</td>\n",
       "      <td>0.0</td>\n",
       "      <td>0.0</td>\n",
       "      <td>0.0</td>\n",
       "      <td>0.0</td>\n",
       "    </tr>\n",
       "    <tr>\n",
       "      <th>max</th>\n",
       "      <td>445.000000</td>\n",
       "      <td>416.00000</td>\n",
       "      <td>0.0</td>\n",
       "      <td>0.0</td>\n",
       "      <td>0.0</td>\n",
       "      <td>0.0</td>\n",
       "    </tr>\n",
       "  </tbody>\n",
       "</table>\n",
       "</div>"
      ],
      "text/plain": [
       "       Total Object Count:0  Deduplicated Object Count:0  \\\n",
       "count             32.000000                     32.00000   \n",
       "mean             131.625000                    119.68750   \n",
       "std              143.938103                    126.99338   \n",
       "min                0.000000                      0.00000   \n",
       "25%                9.750000                      9.75000   \n",
       "50%               86.500000                     85.00000   \n",
       "75%              198.250000                    193.50000   \n",
       "max              445.000000                    416.00000   \n",
       "\n",
       "       Clear Pixel Count (PSScene3Band-udm-clear_px):0  \\\n",
       "count                                             32.0   \n",
       "mean                                               0.0   \n",
       "std                                                0.0   \n",
       "min                                                0.0   \n",
       "25%                                                0.0   \n",
       "50%                                                0.0   \n",
       "75%                                                0.0   \n",
       "max                                                0.0   \n",
       "\n",
       "       Total Pixel Count (PSScene3Band-udm-total_px):0  \\\n",
       "count                                             32.0   \n",
       "mean                                               0.0   \n",
       "std                                                0.0   \n",
       "min                                                0.0   \n",
       "25%                                                0.0   \n",
       "50%                                                0.0   \n",
       "75%                                                0.0   \n",
       "max                                                0.0   \n",
       "\n",
       "       Clear Pixel Count (PSScene4Band-udm2-band_1):0  \\\n",
       "count                                            32.0   \n",
       "mean                                              0.0   \n",
       "std                                               0.0   \n",
       "min                                               0.0   \n",
       "25%                                               0.0   \n",
       "50%                                               0.0   \n",
       "75%                                               0.0   \n",
       "max                                               0.0   \n",
       "\n",
       "       Total Pixel Count (PSScene4Band-udm2-total_px):0  \n",
       "count                                              32.0  \n",
       "mean                                                0.0  \n",
       "std                                                 0.0  \n",
       "min                                                 0.0  \n",
       "25%                                                 0.0  \n",
       "50%                                                 0.0  \n",
       "75%                                                 0.0  \n",
       "max                                                 0.0  "
      ]
     },
     "execution_count": 55,
     "metadata": {},
     "output_type": "execute_result"
    }
   ],
   "source": [
    "df.describe()"
   ]
  },
  {
   "cell_type": "code",
   "execution_count": null,
   "metadata": {},
   "outputs": [],
   "source": []
  }
 ],
 "metadata": {
  "kernelspec": {
   "display_name": "zarr",
   "language": "python",
   "name": "zarr"
  },
  "language_info": {
   "codemirror_mode": {
    "name": "ipython",
    "version": 3
   },
   "file_extension": ".py",
   "mimetype": "text/x-python",
   "name": "python",
   "nbconvert_exporter": "python",
   "pygments_lexer": "ipython3",
   "version": "3.7.7"
  }
 },
 "nbformat": 4,
 "nbformat_minor": 4
}
