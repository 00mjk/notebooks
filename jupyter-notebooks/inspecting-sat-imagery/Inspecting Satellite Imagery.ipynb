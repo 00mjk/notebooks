{
 "cells": [
  {
   "cell_type": "markdown",
   "metadata": {},
   "source": [
    "# Inspecting Satellite Imagery using Rasterio\n",
    "## A first look at analyzing satellite data with Python\n",
    "\n",
    "At this point, you've explored different ways of searching for, filtering, and downloading satellite imagery. Now let's use one of these acquired datasets and dig into it a bit with Python.\n",
    "\n",
    "Here we're going to use a Python library called `rasterio`: you may be familiar with it already, or perhaps with the related C library, `GDAL`."
   ]
  },
  {
   "cell_type": "code",
   "execution_count": 50,
   "metadata": {},
   "outputs": [],
   "source": [
    "import rasterio\n",
    "satdat = rasterio.open(\"example.tif\")"
   ]
  },
  {
   "cell_type": "markdown",
   "metadata": {},
   "source": [
    "## Basic details\n",
    "What can we learn about this satellite image using just Python?"
   ]
  },
  {
   "cell_type": "code",
   "execution_count": 51,
   "metadata": {},
   "outputs": [
    {
     "data": {
      "text/plain": [
       "BoundingBox(left=540759.0, bottom=3754401.0, right=568047.0, top=3767985.0)"
      ]
     },
     "execution_count": 51,
     "metadata": {},
     "output_type": "execute_result"
    }
   ],
   "source": [
    "# Get the bounding box of this GeoTIFF\n",
    "satdat.bounds"
   ]
  },
  {
   "cell_type": "code",
   "execution_count": 63,
   "metadata": {},
   "outputs": [
    {
     "name": "stdout",
     "output_type": "stream",
     "text": [
      "Width: 27288.0, Height: 13584.0\n"
     ]
    }
   ],
   "source": [
    "# Get dimensions, in map units (here, that's meters)\n",
    "\n",
    "width = satdat.bounds.right - satdat.bounds.left\n",
    "height = satdat.bounds.top - satdat.bounds.bottom\n",
    "\n",
    "print(\"Width: {}, Height: {}\".format(width, height))"
   ]
  },
  {
   "cell_type": "code",
   "execution_count": 64,
   "metadata": {},
   "outputs": [
    {
     "name": "stdout",
     "output_type": "stream",
     "text": [
      "Width: 9096, Height: 4528\n"
     ]
    }
   ],
   "source": [
    "# Get dimensions, in pixels\n",
    "px_width = satdat.width\n",
    "px_height = satdat.height\n",
    "print(\"Width: {}, Height: {}\".format(px_width, px_height))"
   ]
  },
  {
   "cell_type": "code",
   "execution_count": 65,
   "metadata": {},
   "outputs": [
    {
     "data": {
      "text/plain": [
       "(3.0, 3.0)"
      ]
     },
     "execution_count": 65,
     "metadata": {},
     "output_type": "execute_result"
    }
   ],
   "source": [
    "# How many meters to a pixel?\n",
    "\n",
    "w = width / px_width\n",
    "h = height / px_height\n",
    "\n",
    "w, h"
   ]
  },
  {
   "cell_type": "code",
   "execution_count": 66,
   "metadata": {},
   "outputs": [
    {
     "data": {
      "text/plain": [
       "CRS({'init': 'epsg:32611'})"
      ]
     },
     "execution_count": 66,
     "metadata": {},
     "output_type": "execute_result"
    }
   ],
   "source": [
    "# Get coordinate reference system\n",
    "satdat.crs"
   ]
  },
  {
   "cell_type": "code",
   "execution_count": 59,
   "metadata": {},
   "outputs": [
    {
     "name": "stdout",
     "output_type": "stream",
     "text": [
      "Top left corner coordinates: (540759.0, 3767985.0)\n",
      "Bottom right corner coordinates: (568047.0, 3754401.0)\n"
     ]
    },
    {
     "name": "stderr",
     "output_type": "stream",
     "text": [
      "/opt/conda/lib/python3.6/site-packages/IPython/core/interactiveshell.py:2910: FutureWarning: The value of this property will change in version 1.0. Please see https://github.com/mapbox/rasterio/issues/86 for details.\n",
      "  exec(code_obj, self.user_global_ns, self.user_ns)\n"
     ]
    }
   ],
   "source": [
    "# Get coordinates of top-left & bottom right corners\n",
    "# NOTE: how to do this depends on your Rasterio version:\n",
    "# the below example may generate a FutureWarning, which is safe to ignore here\n",
    "\n",
    "try:\n",
    "    topleft = satdat.transform * (0, 0)\n",
    "    botright = satdat.transform * (width, height)\n",
    "    \n",
    "except TypeError:\n",
    "    topleft = satdat.affine * (0, 0)\n",
    "    botright = satdat.affine * (width, height)\n",
    "    \n",
    "print(\"Top left corner coordinates: {}\".format(topleft))\n",
    "print(\"Bottom right corner coordinates: {}\".format(botright))"
   ]
  },
  {
   "cell_type": "markdown",
   "metadata": {},
   "source": [
    "## Bands\n",
    "So far, we haven't done too much raster-specific work yet. Since we know we're inspecting a multispectral satellite image, let's see what we can learn about its bands."
   ]
  },
  {
   "cell_type": "code",
   "execution_count": null,
   "metadata": {},
   "outputs": [],
   "source": [
    "# Get the number of bands by listing their indices\n",
    "satdat.indexes"
   ]
  },
  {
   "cell_type": "markdown",
   "metadata": {},
   "source": [
    "Because we know we're look at a PlanetScope 4-band analytic satellite image, we can define the bands by their order:"
   ]
  },
  {
   "cell_type": "code",
   "execution_count": null,
   "metadata": {},
   "outputs": [],
   "source": [
    "# PlanetScope 4-band band order: BGRN\n",
    "\n",
    "blue = satdat.read(1)\n",
    "green = satdat.read(2)\n",
    "red = satdat.read(3)\n",
    "nir = satdat.read(4)"
   ]
  },
  {
   "cell_type": "code",
   "execution_count": null,
   "metadata": {},
   "outputs": [],
   "source": [
    "# bands are stored as numpy arrays\n",
    "\n",
    "type(blue)"
   ]
  },
  {
   "cell_type": "code",
   "execution_count": null,
   "metadata": {},
   "outputs": [],
   "source": [
    "blue"
   ]
  },
  {
   "cell_type": "code",
   "execution_count": null,
   "metadata": {},
   "outputs": [],
   "source": [
    "# Output min & max pixel values in each band\n",
    "\n",
    "print(blue.min(), blue.max())\n",
    "print(green.min(), green.max())\n",
    "print(red.min(), red.max())\n",
    "print(nir.min(), nir.max())"
   ]
  },
  {
   "cell_type": "markdown",
   "metadata": {},
   "source": [
    "## Pixels"
   ]
  },
  {
   "cell_type": "code",
   "execution_count": 61,
   "metadata": {},
   "outputs": [
    {
     "data": {
      "text/plain": [
       "6382"
      ]
     },
     "execution_count": 61,
     "metadata": {},
     "output_type": "execute_result"
    }
   ],
   "source": [
    "# Let's grab the pixel 5km east and 5km south of the upper left corner\n",
    "\n",
    "# get the pixel \n",
    "px_x = satdat.bounds.left + 5000\n",
    "px_y = satdat.bounds.top - 5000\n",
    "\n",
    "row, col = satdat.index(px_x, px_y)\n",
    "\n",
    "# Now let's look at the value of Band1 (\"blue\") at this pixel\n",
    "blue[row, col]"
   ]
  },
  {
   "cell_type": "code",
   "execution_count": null,
   "metadata": {},
   "outputs": [],
   "source": []
  }
 ],
 "metadata": {
  "kernelspec": {
   "display_name": "Python 3",
   "language": "python",
   "name": "python3"
  },
  "language_info": {
   "codemirror_mode": {
    "name": "ipython",
    "version": 3
   },
   "file_extension": ".py",
   "mimetype": "text/x-python",
   "name": "python",
   "nbconvert_exporter": "python",
   "pygments_lexer": "ipython3",
   "version": "3.6.2"
  }
 },
 "nbformat": 4,
 "nbformat_minor": 2
}
