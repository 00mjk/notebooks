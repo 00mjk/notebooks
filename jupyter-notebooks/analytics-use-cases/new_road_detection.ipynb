{
 "cells": [
  {
   "cell_type": "markdown",
   "metadata": {},
   "source": [
    "# New Road Detection\n",
    "\n",
    "This notebook demonstrates new road detection using results from the Analytics API Road Detection feed.\n",
    "\n",
    "More information about the Analytics API can be found in the Developers Resource Center [Analytics API](https://developers.planet.com/docs/analytics/) page."
   ]
  },
  {
   "cell_type": "code",
   "execution_count": 1,
   "metadata": {},
   "outputs": [],
   "source": [
    "import json\n",
    "import os\n",
    "from pprint import pprint\n",
    "\n",
    "from planet import api"
   ]
  },
  {
   "cell_type": "markdown",
   "metadata": {},
   "source": [
    "## Setup"
   ]
  },
  {
   "cell_type": "code",
   "execution_count": 2,
   "metadata": {},
   "outputs": [],
   "source": [
    "# if your Planet API Key is not set as an environment variable, you can paste it below\n",
    "API_KEY = os.environ.get('PL_API_KEY', 'PASTE_YOUR_KEY_HERE')\n",
    "\n",
    "# note: base_url specification shouldn't be needed in release 1.4.3. The source code already has a fix\n",
    "analytics_client = api.ClientV1(api_key=API_KEY, base_url='https://api.planet.com/analytics/')"
   ]
  },
  {
   "cell_type": "markdown",
   "metadata": {},
   "source": [
    "### Setup Subscription"
   ]
  },
  {
   "cell_type": "code",
   "execution_count": 3,
   "metadata": {},
   "outputs": [],
   "source": [
    "# This ID is for a subscription for monthly road detection in Kirazli, Turkey\n",
    "SUBSCRIPTION_ID = 'f184516c-b948-406f-b257-deaa66c3f38a'"
   ]
  },
  {
   "cell_type": "code",
   "execution_count": 4,
   "metadata": {},
   "outputs": [
    {
     "name": "stdout",
     "output_type": "stream",
     "text": [
      "{'description': 'Monthly Road Detection  (2017-2019)',\n",
      " 'endTime': '2019-08-01T00:00:00.000Z',\n",
      " 'startTime': '2017-08-01T00:00:00.000Z',\n",
      " 'title': 'Kirazli, Turkey'}\n"
     ]
    }
   ],
   "source": [
    "# Get subscription details\n",
    "\n",
    "subscription_info = analytics_client.get_subscription_info(SUBSCRIPTION_ID).get()\n",
    "\n",
    "# subscription_info = get_response(subscription_info_url)\n",
    "select_keys = ('description', 'title', 'startTime', 'endTime')\n",
    "subscription_info = dict((k, subscription_info[k]) for k in select_keys)\n",
    "pprint(subscription_info)"
   ]
  },
  {
   "cell_type": "markdown",
   "metadata": {},
   "source": [
    "## Subscription Results"
   ]
  },
  {
   "cell_type": "code",
   "execution_count": 5,
   "metadata": {},
   "outputs": [
    {
     "name": "stdout",
     "output_type": "stream",
     "text": [
      "{'created': '2019-10-11T21:43:29.294Z',\n",
      " 'description': 'Monthly Road Detection  (2017-2019)',\n",
      " 'extent': {'spatial': {'bbox': [[26.6790962219238,\n",
      "                                  39.9676482528045,\n",
      "                                  26.8025207519531,\n",
      "                                  40.0548185495135]]},\n",
      "            'temporal': {'interval': [['2017-08-01T00:00:00.000Z',\n",
      "                                       '2019-08-01T00:00:00.000Z']]}},\n",
      " 'id': 'f184516c-b948-406f-b257-deaa66c3f38a',\n",
      " 'links': [{'href': 'https://api.planet.com/analytics/collections/f184516c-b948-406f-b257-deaa66c3f38a',\n",
      "            'rel': 'self',\n",
      "            'type': 'application/json'},\n",
      "           {'href': 'https://api.planet.com/analytics/collections/f184516c-b948-406f-b257-deaa66c3f38a/items',\n",
      "            'rel': 'items',\n",
      "            'type': 'application/geo+json'},\n",
      "           {'href': 'https://api.planet.com/analytics/collections',\n",
      "            'rel': 'collections',\n",
      "            'type': 'application/json'},\n",
      "           {'href': 'https://api.planet.com/analytics/subscriptions/f184516c-b948-406f-b257-deaa66c3f38a',\n",
      "            'rel': 'subscription',\n",
      "            'type': 'application/json'},\n",
      "           {'href': 'https://api.planet.com/analytics/feeds/36d9d1b0-dcd4-40bc-b411-5eb8e06062a2',\n",
      "            'rel': 'feed',\n",
      "            'type': 'application/json'}],\n",
      " 'title': 'Kirazli, Turkey'}\n"
     ]
    }
   ],
   "source": [
    "collection_info = analytics_client.get_collection_info(SUBSCRIPTION_ID).get()\n",
    "pprint(collection_info)"
   ]
  },
  {
   "cell_type": "code",
   "execution_count": 6,
   "metadata": {
    "scrolled": false
   },
   "outputs": [],
   "source": [
    "results = analytics_client.list_collection_features(SUBSCRIPTION_ID).get()"
   ]
  },
  {
   "cell_type": "code",
   "execution_count": 7,
   "metadata": {},
   "outputs": [
    {
     "data": {
      "text/plain": [
       "dict_keys(['features', 'links', 'type'])"
      ]
     },
     "execution_count": 7,
     "metadata": {},
     "output_type": "execute_result"
    }
   ],
   "source": [
    "results.keys()"
   ]
  },
  {
   "cell_type": "code",
   "execution_count": 8,
   "metadata": {},
   "outputs": [
    {
     "data": {
      "text/plain": [
       "[{'href': 'https://api.planet.com/analytics/collections/f184516c-b948-406f-b257-deaa66c3f38a/items',\n",
       "  'rel': 'self',\n",
       "  'type': 'application/geo+json'},\n",
       " {'href': 'https://api.planet.com/analytics/collections/f184516c-b948-406f-b257-deaa66c3f38a',\n",
       "  'rel': 'collection',\n",
       "  'type': 'application/json'}]"
      ]
     },
     "execution_count": 8,
     "metadata": {},
     "output_type": "execute_result"
    }
   ],
   "source": [
    "results['links']"
   ]
  },
  {
   "cell_type": "code",
   "execution_count": 9,
   "metadata": {},
   "outputs": [
    {
     "data": {
      "text/plain": [
       "96"
      ]
     },
     "execution_count": 9,
     "metadata": {},
     "output_type": "execute_result"
    }
   ],
   "source": [
    "len(results['features'])"
   ]
  },
  {
   "cell_type": "code",
   "execution_count": 65,
   "metadata": {},
   "outputs": [],
   "source": [
    "FEATURE_ID = results['features'][0]['id']\n",
    "RESOURCE_TYPE = 'target-quad'"
   ]
  },
  {
   "cell_type": "markdown",
   "metadata": {},
   "source": [
    "cli usage: `planet analytics collections features get $RESOURCE_TYPE $SUBSCRIPTION_ID $FEATURE_ID`"
   ]
  },
  {
   "cell_type": "code",
   "execution_count": 54,
   "metadata": {},
   "outputs": [],
   "source": [
    "resource = analytics_client.get_associated_resource_for_analytic_feature(SUBSCRIPTION_ID, FEATURE_ID, RESOURCE_TYPE)"
   ]
  },
  {
   "cell_type": "code",
   "execution_count": 55,
   "metadata": {},
   "outputs": [],
   "source": [
    "from planet.api.utils import write_to_file"
   ]
  },
  {
   "cell_type": "code",
   "execution_count": 59,
   "metadata": {},
   "outputs": [],
   "source": [
    "def create_save_dir(root_dir='data'):\n",
    "    save_dir = root_dir\n",
    "\n",
    "    if not os.path.isdir(save_dir):\n",
    "        os.makedirs(save_dir)\n",
    "    return save_dir"
   ]
  },
  {
   "cell_type": "code",
   "execution_count": 60,
   "metadata": {},
   "outputs": [],
   "source": [
    "dest = 'data'\n",
    "create_save_dir(dest)\n",
    "writer = write_to_file(dest)"
   ]
  },
  {
   "cell_type": "code",
   "execution_count": 61,
   "metadata": {},
   "outputs": [],
   "source": [
    "writer(resource)"
   ]
  },
  {
   "cell_type": "code",
   "execution_count": 63,
   "metadata": {},
   "outputs": [
    {
     "name": "stdout",
     "output_type": "stream",
     "text": [
      "target-quad written, available at: data/L15-1175E-1273N.tif\n"
     ]
    }
   ],
   "source": [
    "print('{} written, available at: {}/{}'.format(\n",
    "            RESOURCE_TYPE,\n",
    "            dest,\n",
    "            resource.name\n",
    "        ))"
   ]
  }
 ],
 "metadata": {
  "kernelspec": {
   "display_name": "Python 3",
   "language": "python",
   "name": "python3"
  },
  "language_info": {
   "codemirror_mode": {
    "name": "ipython",
    "version": 3
   },
   "file_extension": ".py",
   "mimetype": "text/x-python",
   "name": "python",
   "nbconvert_exporter": "python",
   "pygments_lexer": "ipython3",
   "version": "3.6.7"
  }
 },
 "nbformat": 4,
 "nbformat_minor": 2
}
