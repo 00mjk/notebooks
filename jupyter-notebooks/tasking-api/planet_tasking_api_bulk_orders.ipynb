{
 "metadata": {
  "language_info": {
   "codemirror_mode": {
    "name": "ipython",
    "version": 3
   },
   "file_extension": ".py",
   "mimetype": "text/x-python",
   "name": "python",
   "nbconvert_exporter": "python",
   "pygments_lexer": "ipython3",
   "version": 3
  },
  "orig_nbformat": 2
 },
 "nbformat": 4,
 "nbformat_minor": 2,
 "cells": [
  {
   "source": [
    "# Planet Tasking API Monitoring Tasking Orders\n",
    "\n",
    "---"
   ],
   "cell_type": "markdown",
   "metadata": {}
  },
  {
   "source": [
    "## Introduction\n",
    "\n",
    "---\n",
    "\n",
    "This tutorial is an introduction on the bulk creation of tasking orders using [Planet](https://www.planet.com)'s Tasking API. It provides code samples on how to write simple Python code to do this.\n",
    "\n",
    "The API reference documentation can be found at https://developers.planet.com/docs/tasking"
   ],
   "cell_type": "markdown",
   "metadata": {}
  },
  {
   "source": [
    "### Requirements\n",
    "\n",
    "---\n",
    "\n",
    "#### Software & Modules\n",
    "\n",
    "This tutorial assumes familiarity with the [Python](https://python.org) programming language throughout. Familiarity with basic REST API concepts and usage is also assumed.\n",
    "\n",
    "We'll be using a **\"Jupyter Notebook\"** (aka Python Notebook) to run through the examples.\n",
    "To learn more about and get started with using Jupyter, visit: [Jupyter](https://jupyter.org/) and [IPython](https://ipython.org/). \n",
    "\n",
    "For the best experience, download this notebook and run it on your system, and make sure to install the modules listed below first. You can also copy the examples' code to a separate Python files an run them directly with Python on your system if you prefer.\n",
    "\n",
    "#### Planet API Key\n",
    "\n",
    "You should have an account on the Planet Platform to access the Tasking API. You may retrieve your API key from your [account page](https://www.planet.com/account/), or from the \"API Tab\" in [Planet Explorer](https://www.planet.com/explorer)."
   ],
   "cell_type": "markdown",
   "metadata": {}
  },
  {
   "source": [
    "## Overview\n",
    "\n",
    "---\n",
    "\n",
    "### The basic workflow\n",
    "\n",
    "1. Create a bulk tasking order\n",
    "1. Check the status of the bulk tasking order"
   ],
   "cell_type": "markdown",
   "metadata": {}
  },
  {
   "source": [
    "### API Endpoints\n",
    "\n",
    "This tutorial will cover the following API ***endpoint***:\n",
    "\n",
    "* [`/bulk`](https://api.planet.com/tasking/v2/bulk/)"
   ],
   "cell_type": "markdown",
   "metadata": {}
  },
  {
   "source": [
    "## Basic Setup\n",
    "\n",
    "---\n",
    "\n",
    "Before interacting with the Planet Tasking API using Python, we will set up our environment with some useful modules and helper functions.\n",
    "\n",
    "* We'll configure *authentication* to the Planet Tasking API\n",
    "* We'll use the `requests` Python module to make HTTP communication easier. \n",
    "* We'll use the `json` Python module to help us work with JSON responses from the API.\n",
    "* We'll use the `pytz` Python module to define the time frame for the order that we will be creating.\n",
    "* We'll create a function called `p` that will print Python dictionaries nicely.\n",
    "\n",
    "Then we'll be ready to make our first call to the Planet Tasking API by hitting the base endpoint at `https://api.planet.com/tasking/v2`. \n",
    "\n",
    "Let's start by configuring authentication:"
   ],
   "cell_type": "markdown",
   "metadata": {}
  },
  {
   "source": [
    "### Authentication\n",
    "\n",
    "Authentication with the Planet Tasking API can be achieved using a valid Planet **API key**.\n",
    "\n",
    "You can *export* your API Key as an environment variable on your system:\n",
    "\n",
    "`export PL_API_KEY=\"YOUR API KEY HERE\"`\n",
    "\n",
    "Or add the variable to your path, etc.\n",
    "\n",
    "To start our Python code, we'll setup an API Key variable from an environment variable to use with our requests:"
   ],
   "cell_type": "markdown",
   "metadata": {}
  },
  {
   "cell_type": "code",
   "execution_count": null,
   "metadata": {},
   "outputs": [],
   "source": [
    "# Import the os module in order to access environment variables\n",
    "import os\n",
    "\n",
    "#If you are running this notebook outside of the docker environment that comes with the repo, you can uncomment the next line to provide your API key\n",
    "#os.environ['PL_API_KEY']=input('Please provide your API Key')\n",
    "\n",
    "# Setup the API Key from the `PL_API_KEY` environment variable\n",
    "PLANET_API_KEY = os.getenv('PL_API_KEY')"
   ]
  },
  {
   "source": [
    "### Helper Modules and Functions"
   ],
   "cell_type": "markdown",
   "metadata": {}
  },
  {
   "cell_type": "code",
   "execution_count": null,
   "metadata": {},
   "outputs": [],
   "source": [
    "# Import helper modules\n",
    "import json\n",
    "import requests\n",
    "import pytz\n",
    "from time import sleep\n",
    "from datetime import datetime, timedelta"
   ]
  },
  {
   "cell_type": "code",
   "execution_count": null,
   "metadata": {},
   "outputs": [],
   "source": [
    "# Helper function to printformatted JSON using the json module\n",
    "def p(data):\n",
    "    print(json.dumps(data, indent=2))"
   ]
  },
  {
   "cell_type": "code",
   "execution_count": null,
   "metadata": {},
   "outputs": [],
   "source": [
    "# Setup Planet Tasking PLANET_API_HOST\n",
    "TASKING_API_URL = \"https://api.planet.com/tasking/v2\"\n",
    "\n",
    "# Setup the session\n",
    "session = requests.Session()\n",
    "\n",
    "# Authenticate\n",
    "session.headers.update({\n",
    "    'Authorization': f'api-key {PLANET_API_KEY}',\n",
    "    'Content-Type': 'application/json'\n",
    "})"
   ]
  },
  {
   "source": [
    "## 1 | Compose the bulk tasking order\n",
    "\n",
    "A bulk tasking order is an asynchronous way to create many tasking orders with a single call. Once the initial POST request has been made it is then possible to make subsequent calls to be informed of the status of the request and the various orders that comprised the payload that are to be created. A bulk tasking order can be comprised of up to 1000 tasking orders of any kind that are supported by the Tasking service. "
   ],
   "cell_type": "code",
   "metadata": {},
   "execution_count": null,
   "outputs": []
  }
 ]
}