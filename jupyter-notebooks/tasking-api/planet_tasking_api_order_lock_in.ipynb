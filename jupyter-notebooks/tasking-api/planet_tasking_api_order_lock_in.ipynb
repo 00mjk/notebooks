{
 "metadata": {
  "language_info": {
   "codemirror_mode": {
    "name": "ipython",
    "version": 3
   },
   "file_extension": ".py",
   "mimetype": "text/x-python",
   "name": "python",
   "nbconvert_exporter": "python",
   "pygments_lexer": "ipython3",
   "version": 3
  },
  "orig_nbformat": 2
 },
 "nbformat": 4,
 "nbformat_minor": 2,
 "cells": [
  {
   "cell_type": "markdown",
   "metadata": {},
   "source": [
    "# Planet Tasking API Order Lock-In\n",
    "\n",
    "---"
   ]
  },
  {
   "cell_type": "markdown",
   "metadata": {},
   "source": [
    "## Introduction\n",
    "\n",
    "---\n",
    "\n",
    "This tutorial is an introduction on how to create locked-in orders using [Planet](https://www.planet.com)'s Tasking API. It provides code samples on how to write simple Python code to do this.\n",
    "\n",
    "The API reference documentation can be found at https://developers.planet.com/docs/tasking"
   ]
  },
  {
   "cell_type": "markdown",
   "metadata": {},
   "source": [
    "### Requirements\n",
    "\n",
    "---\n",
    "\n",
    "#### Software & Modules\n",
    "\n",
    "This tutorial assumes familiarity with the [Python](https://python.org) programming language throughout. Familiarity with basic REST API concepts and usage is also assumed.\n",
    "\n",
    "We'll be using a **\"Jupyter Notebook\"** (aka Python Notebook) to run through the examples.\n",
    "To learn more about and get started with using Jupyter, visit: [Jupyter](https://jupyter.org/) and [IPython](https://ipython.org/). \n",
    "\n",
    "For the best experience, download this notebook and run it on your system, and make sure to install the modules listed below first. You can also copy the examples' code to a separate Python files an run them directly with Python on your system if you prefer.\n",
    "\n",
    "#### Planet API Key\n",
    "\n",
    "You should have an account on the Planet Platform to access the Tasking API. You may retrieve your API key from your [account page](https://www.planet.com/account/), or from the \"API Tab\" in [Planet Explorer](https://www.planet.com/explorer)."
   ]
  },
  {
   "cell_type": "markdown",
   "metadata": {},
   "source": [
    "## Overview\n",
    "\n",
    "---\n",
    "\n",
    "### The basic workflow\n",
    "\n",
    "1. Choose an imaging window\n",
    "1. Create a locked-in order\n",
    "1. Check the progress of the order"
   ]
  },
  {
   "cell_type": "markdown",
   "metadata": {},
   "source": [
    "### API Endpoints\n",
    "\n",
    "This tutorial will cover the following API ***endpoint***:\n",
    "\n",
    "* [`/order`](https://api.planet.com/tasking/v2/order/)"
   ]
  },
  {
   "cell_type": "markdown",
   "metadata": {},
   "source": [
    "## Basic Setup\n",
    "\n",
    "---\n",
    "\n",
    "Before interacting with the Planet Tasking API using Python, we will set up our environment with some useful modules and helper functions.\n",
    "\n",
    "* We'll configure *authentication* to the Planet Tasking API\n",
    "* We'll use the `requests` Python module to make HTTP communication easier. \n",
    "* We'll use the `json` Python module to help us work with JSON responses from the API.\n",
    "* We'll use the `pytz` Python module to define the time frame for the order that we will be creating.\n",
    "* We'll create a function called `p` that will print Python dictionaries nicely.\n",
    "\n",
    "Then we'll be ready to make our first call to the Planet Tasking API by hitting the base endpoint at `https://api.planet.com/tasking/v2`. \n",
    "\n",
    "Let's start by configuring authentication:"
   ]
  },
  {
   "cell_type": "markdown",
   "metadata": {},
   "source": [
    "### Authentication\n",
    "\n",
    "Authentication with the Planet Tasking API can be achieved using a valid Planet **API key**.\n",
    "\n",
    "You can *export* your API Key as an environment variable on your system:\n",
    "\n",
    "`export PL_API_KEY=\"YOUR API KEY HERE\"`\n",
    "\n",
    "Or add the variable to your path, etc.\n",
    "\n",
    "To start our Python code, we'll setup an API Key variable from an environment variable to use with our requests:"
   ]
  },
  {
   "cell_type": "markdown",
   "metadata": {},
   "source": [
    "\n",
    "\n",
    "### Helper Modules and Functions"
   ]
  },
  {
   "cell_type": "code",
   "execution_count": null,
   "metadata": {},
   "outputs": [],
   "source": [
    "# Import helper modules\n",
    "import json\n",
    "import requests\n",
    "import pytz\n",
    "from time import sleep\n",
    "from datetime import datetime, timedelta"
   ]
  },
  {
   "cell_type": "code",
   "execution_count": null,
   "metadata": {},
   "outputs": [],
   "source": [
    "# Helper function to printformatted JSON using the json module\n",
    "def p(data):\n",
    "    print(json.dumps(data, indent=2))"
   ]
  },
  {
   "cell_type": "code",
   "execution_count": null,
   "metadata": {},
   "outputs": [],
   "source": [
    "# Setup Planet Tasking PLANET_API_HOST\n",
    "TASKING_API_URL = \"https://api.planet.com/tasking/v2\"\n",
    "\n",
    "# Setup the session\n",
    "session = requests.Session()\n",
    "\n",
    "# Authenticate\n",
    "session.headers.update({\n",
    "    'Authorization': f'api-key {PLANET_API_KEY}',\n",
    "    'Content-Type': 'application/json'\n",
    "})"
   ]
  },
  {
   "cell_type": "markdown",
   "metadata": {},
   "source": [
    "## 1 | Choosing an imaging window\n",
    "\n",
    "We want to create a locked-in tasking order which will take an image of a specific location within a time window picked from provided range of available windows that lie within the provided time of interest. To do this, we first need to query the /imaging-windows endpoint of the Tasking API, providing to it the same coordinatea and time range that will be used for the creation of the tasking order.\n",
    "\n",
    "To make things easier, we will default the start and end time to start tomorrow and end 7 days from now. Of course, feel free to change this to suit your needs, but if you do, take note that all times should be in UTC format. Unlike with a standard, non-locked-in tasking order, the start and end time are required so as to provide the imaging windows service a time frame in which to search. The start-time for a locked-in order **must** be at least 12 hours in the future"
   ]
  },
  {
   "cell_type": "code",
   "execution_count": null,
   "metadata": {},
   "outputs": [],
   "source": [
    "latitude=float(input(\"Provide the latitude\"))\n",
    "longitude=float(input(\"Provide the longitude\"))\n",
    "\n",
    "# Set a start and end time, giving the order a month to complete\n",
    "tomorrow = datetime.now(pytz.utc) + timedelta(days=1)\n",
    "seven_days_later = tomorrow + timedelta(days=7)\n",
    "\n",
    "window_request = {\n",
    "\t\"geometry\": {\n",
    "\t\t\"coordinates\": [\n",
    "            longitude,\n",
    "            latitude\n",
    "\t\t],\n",
    "\t\t\"type\": \"Point\"\n",
    "\t},\n",
    "\t\"startTime\": tomorrow.isoformat(),\n",
    "    \"endTime\": seven_days_later.isoformat(),\n",
    "}"
   ]
  },
  {
   "cell_type": "code",
   "execution_count": null,
   "metadata": {},
   "outputs": [],
   "source": [
    "# An imaging windows request is a POST request to the /imaging-windows endpoint\n",
    "res = session.request('POST', TASKING_API_URL + '/imaging-windows', json=window_request)\n",
    "\n",
    "if res.status_code == 403:\n",
    "    print('Your PLANET_API_KEY is valid, but you are not authorized.')\n",
    "elif res.status_code == 401:\n",
    "    print('Your PLANET_API_KEY is incorrect')\n",
    "elif res.status_code == 201:\n",
    "    print('Your imaging windows request was successful')\n",
    "else:\n",
    "    print(f'Received status code {res.status_code} from the API. Please contact support.')\n",
    "\n",
    "# View the Location header in the response\n",
    "print(res.headers['Location'])"
   ]
  },
  {
   "cell_type": "markdown",
   "metadata": {},
   "source": [
    "The response body is empty, but for an imaging windows request, the **Location** header is the important part. This contains a URL with an ID which, when part of a GET request, will return the actual array of imaging windows."
   ]
  },
  {
   "cell_type": "code",
   "execution_count": null,
   "metadata": {},
   "outputs": [],
   "source": [
    "location = res.headers['Location']\n",
    "\n",
    "res = session.request('GET', 'https://api.planet.com' + location)\n",
    "\n",
    "if res.status_code == 403:\n",
    "    print('Your PLANET_API_KEY is valid, but you are not authorized.')\n",
    "elif res.status_code == 401:\n",
    "    print('Your PLANET_API_KEY is incorrect')\n",
    "elif res.status_code == 201:\n",
    "    print('Your imaging windows have been returned successfully')\n",
    "else:\n",
    "    print(f'Received status code {res.status_code} from the API. Please contact support.')\n",
    "\n",
    "p(res.json())"
   ]
  },
  {
   "cell_type": "markdown",
   "metadata": {},
   "source": [
    "## 2 | Creating the locked-in order\n",
    "\n",
    "Now that we have the list of available imaging windows, we need to select one and use it to create the locked-in order. If the returned array is empty, that will be because the provided coodinates/time of interest combination does not have any available windows. If this happens, change either the location or the time and try again.\n",
    "\n",
    "As mentioned already, the same coordinates and timeframe that were used for requesting the imaging windows will be used in the creation of the order. Changing these will result in the order not being fulfilled."
   ]
  },
  {
   "cell_type": "code",
   "execution_count": null,
   "metadata": {},
   "outputs": [],
   "source": [
    "imaging_windows=res.json()['results']\n",
    "\n",
    "# We are just going to take the first window in the list - of course you should change this to pick a window that actually suits your needs\n",
    "imaging_window=imaging_windows[0]['id']"
   ]
  },
  {
   "cell_type": "code",
   "execution_count": null,
   "metadata": {},
   "outputs": [],
   "source": [
    "# Define the name and coordinates for the order\n",
    "name=input(\"Give the order a name\")\n",
    "\n",
    "# Because the geometry is GeoJSON, the coordinates must be longitude,latitude\n",
    "order = {\n",
    "    'name': name,\n",
    "    'geometry': {\n",
    "        'type': 'Point',\n",
    "        'coordinates': [\n",
    "            longitude,\n",
    "            latitude\n",
    "        ]\n",
    "    },\n",
    "\t\"startTime\": tomorrow.isoformat(),\n",
    "    \"endTime\": seven_days_later.isoformat(),\n",
    "    \"imaging_window\": imaging_window\n",
    "}\n"
   ]
  },
  {
   "cell_type": "code",
   "execution_count": null,
   "metadata": {},
   "outputs": [],
   "source": [
    "#View the payload before posting\n",
    "p(order)"
   ]
  },
  {
   "cell_type": "code",
   "execution_count": null,
   "metadata": {},
   "outputs": [],
   "source": [
    "# The creation of an order is a POST request to the /orders endpoint\n",
    "res = session.request('POST', TASKING_API_URL + '/orders/', json=order)\n",
    "\n",
    "if res.status_code == 403:\n",
    "    print('Your PLANET_API_KEY is valid, but you are not authorized.')\n",
    "elif res.status_code == 401:\n",
    "    print('Your PLANET_API_KEY is incorrect')\n",
    "elif res.status_code == 201:\n",
    "    print('Your order was created successfully')\n",
    "else:\n",
    "    print(f'Received status code {res.status_code} from the API. Please contact support.')\n",
    "\n",
    "# View the response\n",
    "p(res.json())"
   ]
  },
  {
   "cell_type": "markdown",
   "metadata": {},
   "source": [
    "## 2 | Check the status of the monitoring order\n",
    "\n",
    "To see the status of an existing locked-in order, the tasking order id is required. Depending on the tasking order, it can take some time for the status of the tasking order to change, and so you may need to come back to this section once some time has elapsed before changes to the tasking order can be seen. It is recommended to run the next part of this notebook to extract the ID of the newly created order and save that for later use."
   ]
  },
  {
   "cell_type": "code",
   "execution_count": null,
   "metadata": {},
   "outputs": [],
   "source": [
    "# Get the response JSON and extract the ID of the order\n",
    "response = res.json()\n",
    "new_order_id = response[\"id\"]\n",
    "p(new_order_id)"
   ]
  },
  {
   "cell_type": "code",
   "execution_count": null,
   "metadata": {},
   "outputs": [],
   "source": [
    "def check_order_status(order_id):\n",
    "    # Make a GET request with the order_id concatenated to the end of the /orders url; e.g. https://api.planet.com/tasking/v2/orders/<ORDER_ID>\n",
    "    res = session.request('GET', TASKING_API_URL + '/orders/' + order_id)\n",
    "\n",
    "    if res.status_code == 403:\n",
    "        print('Your PLANET_API_KEYPLANET_API_KEY is valid, but you are not authorized to view this order.')\n",
    "    elif res.status_code == 401:\n",
    "        print('Your PLANET_API_KEYPLANET_API_KEY is incorrect')\n",
    "    elif res.status_code == 404:\n",
    "        print(f'Your order ({order_id}) does not exist')\n",
    "    elif res.status_code != 200:\n",
    "        print(f'Received status code {res.status_code} from the API. Please contact support.')\n",
    "    else:\n",
    "        order = res.json()\n",
    "        p(res.json())\n",
    "        print(f'Your order is {order[\"status\"]} with {order[\"capture_status_published_count\"]} published captures '\n",
    "                f'and {order[\"capture_assessment_success_count\"]} successful captures')"
   ]
  },
  {
   "cell_type": "code",
   "execution_count": null,
   "metadata": {},
   "outputs": [],
   "source": [
    "check_order_status(new_order_id)"
   ]
  }
 ]
}