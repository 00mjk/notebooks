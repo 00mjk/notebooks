{
 "cells": [
  {
   "cell_type": "markdown",
   "metadata": {},
   "source": [
    "# Pixels to Tabular Data\n",
    "## Agricultural Statistical Analysis Use Case\n",
    "\n",
    "Talk about pixels and tabular data.\n",
    "\n",
    "The use case addressed in this tutorial is:  \n",
    "\n",
    "* As an agriculture customer, I'd like to create an imagery pipeline that provides for trialing different fungicides by ordering Planet imagery within a single field (AOI), cutting the imagery into multiple field blocks, filtering based on cloud coverage within the blocks, and comparing values across blocks in two ways. First, comparison is performed by extracting median, mean, variance NDVI values for each day (using random point sampling) in each block. Second, comparison is performed by random point selection in each block.\n",
    "\n",
    "\n",
    "## Introduction\n",
    "\n",
    "Two things are interesting about this use case. First, we are gridding the AOI into blocks. Second, we are performing some calculations with the output to compare results across different blocks in the field. \n",
    "\n",
    "\n",
    "## Implementation\n",
    "\n",
    "For this use case, the area of interest and time range are not specified. The analytic comparison across blocks means we should specify a strict usable pixel data filter. For time-series analysis the daily coverage of PS satellites is ideal. We are just looking at a field, so we don't need to composite across scenes. This makes our lives easier as we don't need to group the scene ids by date, like we did in Part 2. We are, however, wanting to grid the field. We can use the Orders API to help us with this! And finally, we will need to implement a bit of functionality for the comparisons across the field blocks.\n",
    "\n",
    "To summarize, these are the major steps:\n",
    "1. [Part 1: Setup](#Part-1:-Setup)\n",
    "1. [Part 2: Get Field NDVI](#Part-2:-Get-Field-NDVI)\n",
    "1. [Part 3: Sample Field Blocks](#Part-3:-Sample-Field-Blocks)"
   ]
  },
  {
   "cell_type": "markdown",
   "metadata": {},
   "source": [
    "### Part 1: Setup\n",
    "\n",
    "#### Import Dependencies"
   ]
  },
  {
   "cell_type": "code",
   "execution_count": 462,
   "metadata": {},
   "outputs": [],
   "source": [
    "import datetime\n",
    "import json\n",
    "import os\n",
    "from pathlib import Path\n",
    "from pprint import pprint\n",
    "import shutil\n",
    "import time\n",
    "from zipfile import ZipFile\n",
    "\n",
    "import matplotlib.pyplot as plt\n",
    "import numpy as np\n",
    "import pandas as pd\n",
    "from planet import api\n",
    "from planet.api import downloader, filters\n",
    "import pyproj\n",
    "from rasterio import plot\n",
    "from rasterio.mask import raster_geometry_mask\n",
    "from shapely.geometry import shape, MultiPolygon\n",
    "from shapely.ops import transform"
   ]
  },
  {
   "cell_type": "markdown",
   "metadata": {},
   "source": [
    "#### Get Field and Sample Blocks AOIs"
   ]
  },
  {
   "cell_type": "code",
   "execution_count": 445,
   "metadata": {},
   "outputs": [],
   "source": [
    "def load_geojson(filename):\n",
    "    with open(filename, 'r') as f:\n",
    "        return json.load(f)"
   ]
  },
  {
   "cell_type": "code",
   "execution_count": 446,
   "metadata": {},
   "outputs": [
    {
     "name": "stdout",
     "output_type": "stream",
     "text": [
      "{'geometry': {'coordinates': [[[-121.26311573121106, 38.28911976564886],\n",
      "                               [-121.26309824204209, 38.289263573446426],\n",
      "                               [-121.26340336500914, 38.28927552343227],\n",
      "                               [-121.26341580611164, 38.28958419507872],\n",
      "                               [-121.26335908094813, 38.290060214043095],\n",
      "                               [-121.2633553819847, 38.29021303818384],\n",
      "                               [-121.26200888330872, 38.2901989348931],\n",
      "                               [-121.26202642045222, 38.28924931063856],\n",
      "                               [-121.26202881277432, 38.28911976564886],\n",
      "                               [-121.26311573121106, 38.28911976564886]]],\n",
      "              'type': 'Polygon'},\n",
      " 'id': '10906',\n",
      " 'properties': {'ACRES': 5.382,\n",
      "                'AREA': 21779.33318,\n",
      "                'BL_X': 651939,\n",
      "                'BL_Y': 4239347,\n",
      "                'CLASS1': 'G',\n",
      "                'CLASS2': '**',\n",
      "                'CLASS3': '**',\n",
      "                'IRR_TYP1PA': 'n',\n",
      "                'IRR_TYP1PB': '*',\n",
      "                'IRR_TYP2PA': '*',\n",
      "                'IRR_TYP2PB': '*',\n",
      "                'IRR_TYP3PA': '*',\n",
      "                'IRR_TYP3PB': '*',\n",
      "                'LABEL': 'G',\n",
      "                'MULTIUSE': 'S',\n",
      "                'PCNT1': '00',\n",
      "                'PCNT2': '**',\n",
      "                'PCNT3': '**',\n",
      "                'PERIMETER': 662.19543,\n",
      "                'SPECOND1': '*',\n",
      "                'SPECOND2': '*',\n",
      "                'SPECOND3': '*',\n",
      "                'SUBCLASS1': '**',\n",
      "                'SUBCLASS2': '**',\n",
      "                'SUBCLASS3': '**',\n",
      "                'SURVEYAREA': 'SACRAMENTO',\n",
      "                'SURVEYYEAR': '2015',\n",
      "                'UCF_ATT': 'S G***n*00******************',\n",
      "                'WATERSOURC': '*',\n",
      "                'style': {'fillColor': '#ffffd9',\n",
      "                          'fillOpacity': 1,\n",
      "                          'weight': 0}},\n",
      " 'type': 'Feature'}\n"
     ]
    }
   ],
   "source": [
    "# this feature comes from within the sacramento_crops aoi\n",
    "# it is the first feature in 'ground-truth-test.geojson', which\n",
    "# was prepared in crop-classification/datasets-prepare.ipynb\n",
    "field_filename = os.path.join('pre-data', 'field.geojson')\n",
    "field = load_geojson(field_filename)\n",
    "pprint(field)"
   ]
  },
  {
   "cell_type": "code",
   "execution_count": 450,
   "metadata": {},
   "outputs": [
    {
     "name": "stdout",
     "output_type": "stream",
     "text": [
      "5.382 acres\n"
     ]
    },
    {
     "data": {
      "image/svg+xml": [
       "<svg xmlns=\"http://www.w3.org/2000/svg\" xmlns:xlink=\"http://www.w3.org/1999/xlink\" width=\"100.0\" height=\"100.0\" viewBox=\"-121.26347208302376 38.289063488736744 0.0015194766271520166 0.0012058263592180651\" preserveAspectRatio=\"xMinYMin meet\"><g transform=\"matrix(1,0,0,-1,0,76.5793328038327)\"><path fill-rule=\"evenodd\" fill=\"#66cc99\" stroke=\"#555555\" stroke-width=\"3.0389532543040332e-05\" opacity=\"0.6\" d=\"M -121.26311573121106,38.28911976564886 L -121.26309824204209,38.289263573446426 L -121.26340336500914,38.28927552343227 L -121.26341580611164,38.28958419507872 L -121.26335908094813,38.290060214043095 L -121.2633553819847,38.29021303818384 L -121.26200888330872,38.2901989348931 L -121.26202642045222,38.28924931063856 L -121.26202881277432,38.28911976564886 L -121.26311573121106,38.28911976564886 z\" /></g></svg>"
      ],
      "text/plain": [
       "<shapely.geometry.polygon.Polygon at 0x7ff83f7b4210>"
      ]
     },
     "execution_count": 450,
     "metadata": {},
     "output_type": "execute_result"
    }
   ],
   "source": [
    "# visualize field and determine size in acres\n",
    "\n",
    "print('{} acres'.format(field['properties']['ACRES']))\n",
    "field_aoi = field['geometry']\n",
    "shape(field_aoi)"
   ]
  },
  {
   "cell_type": "code",
   "execution_count": 451,
   "metadata": {},
   "outputs": [
    {
     "data": {
      "image/svg+xml": [
       "<svg xmlns=\"http://www.w3.org/2000/svg\" xmlns:xlink=\"http://www.w3.org/1999/xlink\" width=\"100.0\" height=\"100.0\" viewBox=\"-121.26347208302376 38.289063488736744 0.0015194766271520166 0.0012058263592180651\" preserveAspectRatio=\"xMinYMin meet\"><g transform=\"matrix(1,0,0,-1,0,76.5793328038327)\"><g><path fill-rule=\"evenodd\" fill=\"#ff3333\" stroke=\"#555555\" stroke-width=\"3.0389532543040332e-05\" opacity=\"0.6\" d=\"M -121.26311573121106,38.28911976564886 L -121.26309824204209,38.289263573446426 L -121.26340336500914,38.28927552343227 L -121.26341580611164,38.28958419507872 L -121.26335908094813,38.290060214043095 L -121.2633553819847,38.29021303818384 L -121.26200888330872,38.2901989348931 L -121.26202642045222,38.28924931063856 L -121.26202881277432,38.28911976564886 L -121.26311573121106,38.28911976564886 z\" /><path fill-rule=\"evenodd\" fill=\"#ff3333\" stroke=\"#555555\" stroke-width=\"3.0389532543040332e-05\" opacity=\"0.6\" d=\"M -121.26332402229309,38.290185014278734 L -121.26332402229309,38.29004396446891 L -121.26337230205536,38.289747127406486 L -121.2628921866417,38.289768179720404 L -121.2628921866417,38.290185014278734 L -121.26332402229309,38.290185014278734 z\" /><path fill-rule=\"evenodd\" fill=\"#ff3333\" stroke=\"#555555\" stroke-width=\"3.0389532543040332e-05\" opacity=\"0.6\" d=\"M -121.26337230205536,38.28964607621462 L -121.26339375972746,38.28958923485736 L -121.26336425542831,38.289300816914135 L -121.26296728849411,38.28929450117992 L -121.26293510198593,38.289658707621285 L -121.26337230205536,38.28964607621462 z\" /><path fill-rule=\"evenodd\" fill=\"#ff3333\" stroke=\"#555555\" stroke-width=\"3.0389532543040332e-05\" opacity=\"0.6\" d=\"M -121.26276880502701,38.2901681725248 L -121.26279294490813,38.28992607188025 L -121.26210093498229,38.28991975620043 L -121.26207679510117,38.29016185686607 L -121.26276880502701,38.2901681725248 z\" /><path fill-rule=\"evenodd\" fill=\"#ff3333\" stroke=\"#555555\" stroke-width=\"3.0389532543040332e-05\" opacity=\"0.6\" d=\"M -121.2627875804901,38.289812389559785 L -121.26278221607207,38.289803968640086 L -121.26284122467041,38.28949870964092 L -121.26211166381837,38.289496604402004 L -121.26210629940032,38.28981028432996 L -121.2627875804901,38.289812389559785 z\" /><path fill-rule=\"evenodd\" fill=\"#ff3333\" stroke=\"#555555\" stroke-width=\"3.0389532543040332e-05\" opacity=\"0.6\" d=\"M -121.26284390687943,38.289427131482896 L -121.26286536455153,38.289153449639386 L -121.2621384859085,38.28916397588324 L -121.2621384859085,38.289425026241865 L -121.26284390687943,38.289427131482896 z\" /></g></g></svg>"
      ],
      "text/plain": [
       "<shapely.geometry.multipolygon.MultiPolygon at 0x7ff83f007910>"
      ]
     },
     "execution_count": 451,
     "metadata": {},
     "output_type": "execute_result"
    }
   ],
   "source": [
    "# visualize field and sample blocks\n",
    "\n",
    "blocks = load_geojson(os.path.join('pre-data', 'blocks.geojson'))\n",
    "block_aois = [b['geometry'] for b in blocks]\n",
    "MultiPolygon([shape(a) for a in [field_aoi] + block_aois])"
   ]
  },
  {
   "cell_type": "markdown",
   "metadata": {},
   "source": [
    "### Part 2: Get Field NDVI\n",
    "\n",
    "#### Step 1: Search Data API\n",
    "\n",
    "The goal of this step is to get the scene ids that meet the search criteria for this use case."
   ]
  },
  {
   "cell_type": "code",
   "execution_count": 452,
   "metadata": {},
   "outputs": [],
   "source": [
    "# if your Planet API Key is not set as an environment variable, you can paste it below\n",
    "API_KEY = os.environ.get('PL_API_KEY', 'PASTE_YOUR_KEY_HERE')\n",
    "\n",
    "client = api.ClientV1(api_key=API_KEY)"
   ]
  },
  {
   "cell_type": "code",
   "execution_count": 453,
   "metadata": {},
   "outputs": [],
   "source": [
    "# create an api request from the search specifications\n",
    "# relax the cloud cover requirement as filtering will be done within the aoi\n",
    "def build_request(aoi_geom, start_date, stop_date):\n",
    "    '''build a data api search request for clear PSScene4Band imagery'''\n",
    "    query = filters.and_filter(\n",
    "        filters.geom_filter(aoi_geom),\n",
    "#         filters.range_filter('clear_percent', gte=40),\n",
    "        filters.date_range('acquired', gt=start_date),\n",
    "        filters.date_range('acquired', lt=stop_date)\n",
    "    )\n",
    "    return filters.build_search_request(query, ['PSScene4Band'])\n",
    "\n",
    "def search_data_api(request, client, limit=500):\n",
    "    result = client.quick_search(request)\n",
    "    \n",
    "    # this returns a generator\n",
    "    return result.items_iter(limit=limit)"
   ]
  },
  {
   "cell_type": "code",
   "execution_count": 454,
   "metadata": {},
   "outputs": [],
   "source": [
    "# define test data for the filter\n",
    "test_start_date = datetime.datetime(year=2019,month=4,day=1)\n",
    "test_stop_date = datetime.datetime(year=2019,month=5,day=1)"
   ]
  },
  {
   "cell_type": "code",
   "execution_count": 455,
   "metadata": {},
   "outputs": [
    {
     "name": "stdout",
     "output_type": "stream",
     "text": [
      "{'item_types': ['PSScene4Band'], 'filter': {'type': 'AndFilter', 'config': ({'field_name': 'geometry', 'type': 'GeometryFilter', 'config': {'type': 'Polygon', 'coordinates': [[[-121.26311573121106, 38.28911976564886], [-121.26309824204209, 38.289263573446426], [-121.26340336500914, 38.28927552343227], [-121.26341580611164, 38.28958419507872], [-121.26335908094813, 38.290060214043095], [-121.2633553819847, 38.29021303818384], [-121.26200888330872, 38.2901989348931], [-121.26202642045222, 38.28924931063856], [-121.26202881277432, 38.28911976564886], [-121.26311573121106, 38.28911976564886]]]}}, {'field_name': 'acquired', 'type': 'DateRangeFilter', 'config': {'gt': '2019-04-01T00:00:00Z'}}, {'field_name': 'acquired', 'type': 'DateRangeFilter', 'config': {'lt': '2019-05-01T00:00:00Z'}})}}\n"
     ]
    }
   ],
   "source": [
    "request = build_request(field_aoi, test_start_date, test_stop_date)\n",
    "print(request)"
   ]
  },
  {
   "cell_type": "code",
   "execution_count": 456,
   "metadata": {},
   "outputs": [
    {
     "name": "stdout",
     "output_type": "stream",
     "text": [
      "33\n"
     ]
    }
   ],
   "source": [
    "items = list(search_data_api(request, client))\n",
    "print(len(items))"
   ]
  },
  {
   "cell_type": "code",
   "execution_count": 457,
   "metadata": {},
   "outputs": [
    {
     "name": "stdout",
     "output_type": "stream",
     "text": [
      "{'_links': {'_self': 'https://api.planet.com/data/v1/item-types/PSScene4Band/items/20190409_185936_13_106c',\n",
      "            'assets': 'https://api.planet.com/data/v1/item-types/PSScene4Band/items/20190409_185936_13_106c/assets/',\n",
      "            'thumbnail': 'https://tiles.planet.com/data/v1/item-types/PSScene4Band/items/20190409_185936_13_106c/thumb'},\n",
      " '_permissions': ['assets.udm:download',\n",
      "                  'assets.analytic:download',\n",
      "                  'assets.analytic_xml:download',\n",
      "                  'assets.analytic_dn:download',\n",
      "                  'assets.analytic_dn_xml:download',\n",
      "                  'assets.basic_analytic:download',\n",
      "                  'assets.basic_analytic_rpc:download',\n",
      "                  'assets.basic_analytic_dn:download',\n",
      "                  'assets.basic_analytic_dn_rpc:download',\n",
      "                  'assets.basic_analytic_xml:download',\n",
      "                  'assets.basic_analytic_dn_xml:download',\n",
      "                  'assets.basic_analytic_dn_nitf:download',\n",
      "                  'assets.basic_analytic_dn_rpc_nitf:download',\n",
      "                  'assets.basic_analytic_dn_xml_nitf:download',\n",
      "                  'assets.basic_analytic_nitf:download',\n",
      "                  'assets.basic_analytic_rpc_nitf:download',\n",
      "                  'assets.basic_analytic_xml_nitf:download',\n",
      "                  'assets.basic_udm:download',\n",
      "                  'assets.analytic_sr:download',\n",
      "                  'assets.basic_udm2:download',\n",
      "                  'assets.udm2:download'],\n",
      " 'geometry': {'coordinates': [[[-121.38585880590736, 38.34769304150422],\n",
      "                               [-121.34341278826854, 38.19160801859542],\n",
      "                               [-121.04560630794059, 38.241286861470996],\n",
      "                               [-121.08756665334234, 38.39794638545197],\n",
      "                               [-121.38585880590736, 38.34769304150422]]],\n",
      "              'type': 'Polygon'},\n",
      " 'id': '20190409_185936_13_106c',\n",
      " 'properties': {'acquired': '2019-04-09T18:59:36.135598Z',\n",
      "                'anomalous_pixels': 0,\n",
      "                'clear_confidence_percent': 100,\n",
      "                'clear_percent': 100,\n",
      "                'cloud_cover': 0.04,\n",
      "                'cloud_percent': 0,\n",
      "                'columns': 9996,\n",
      "                'epsg_code': 32610,\n",
      "                'ground_control': True,\n",
      "                'gsd': 4,\n",
      "                'heavy_haze_percent': 0,\n",
      "                'instrument': 'PS2.SD',\n",
      "                'item_type': 'PSScene4Band',\n",
      "                'light_haze_percent': 0,\n",
      "                'origin_x': 641049,\n",
      "                'origin_y': 4251702,\n",
      "                'pixel_resolution': 3,\n",
      "                'provider': 'planetscope',\n",
      "                'published': '2019-09-11T23:13:05Z',\n",
      "                'publishing_stage': 'finalized',\n",
      "                'quality_category': 'test',\n",
      "                'rows': 7777,\n",
      "                'satellite_id': '106c',\n",
      "                'shadow_percent': 0,\n",
      "                'snow_ice_percent': 0,\n",
      "                'strip_id': '2271817',\n",
      "                'sun_azimuth': 148.9,\n",
      "                'sun_elevation': 55.8,\n",
      "                'updated': '2019-09-11T23:13:05Z',\n",
      "                'view_angle': 3.1,\n",
      "                'visible_confidence_percent': 77,\n",
      "                'visible_percent': 100},\n",
      " 'type': 'Feature'}\n"
     ]
    }
   ],
   "source": [
    "pprint(items[0])"
   ]
  },
  {
   "cell_type": "code",
   "execution_count": 460,
   "metadata": {},
   "outputs": [],
   "source": [
    "footprints = [shape(i['geometry']) for i in items]"
   ]
  },
  {
   "cell_type": "code",
   "execution_count": 461,
   "metadata": {},
   "outputs": [],
   "source": [
    "# make sure all footprints contain the field aoi (that is, no partial overlaps)\n",
    "for f in footprints:\n",
    "    assert f.contains(shape(field_aoi))"
   ]
  },
  {
   "cell_type": "code",
   "execution_count": 180,
   "metadata": {},
   "outputs": [
    {
     "data": {
      "image/svg+xml": [
       "<svg xmlns=\"http://www.w3.org/2000/svg\" xmlns:xlink=\"http://www.w3.org/1999/xlink\" width=\"100.0\" height=\"100.0\" viewBox=\"-121.39946890582603 38.177997918676745 0.36747269780410363 0.23355856669389397\" preserveAspectRatio=\"xMinYMin meet\"><g transform=\"matrix(1,0,0,-1,0,76.58955440404739)\"><g><path fill-rule=\"evenodd\" fill=\"#ff3333\" stroke=\"#555555\" stroke-width=\"0.007349453956082073\" opacity=\"0.6\" d=\"M -121.26311573121106,38.28911976564886 L -121.26309824204209,38.289263573446426 L -121.26340336500914,38.28927552343227 L -121.26341580611164,38.28958419507872 L -121.26335908094813,38.290060214043095 L -121.2633553819847,38.29021303818384 L -121.26200888330872,38.2901989348931 L -121.26202642045222,38.28924931063856 L -121.26202881277432,38.28911976564886 L -121.26311573121106,38.28911976564886 z\" /><path fill-rule=\"evenodd\" fill=\"#ff3333\" stroke=\"#555555\" stroke-width=\"0.007349453956082073\" opacity=\"0.6\" d=\"M -121.38585880590736,38.34769304150422 L -121.34341278826854,38.19160801859542 L -121.04560630794059,38.241286861470996 L -121.08756665334234,38.39794638545197 L -121.38585880590736,38.34769304150422 z\" /></g></g></svg>"
      ],
      "text/plain": [
       "<shapely.geometry.multipolygon.MultiPolygon at 0x7ff84d7cc990>"
      ]
     },
     "execution_count": 180,
     "metadata": {},
     "output_type": "execute_result"
    }
   ],
   "source": [
    "# visualize aoi and footprint\n",
    "MultiPolygon([shape(field_aoi), footprints[0]])"
   ]
  },
  {
   "cell_type": "markdown",
   "metadata": {},
   "source": [
    "Whoa look! That AOI is tiny relative to the image footprint. We don't want to wrangle all those pixels outside of the AOI. We definately want to clip the imagery footprints to the AOI."
   ]
  },
  {
   "cell_type": "markdown",
   "metadata": {},
   "source": [
    "#### Step 2: Submit Order\n",
    "\n",
    "Now that we have the scene ids, we can create the order. The output of this step is a single zip file that contains all of the scenes that meet our criteria.\n",
    "\n",
    "The tools we want to apply are: clip imagery to AOI, convert imagery to NDVI, and reproject all imagery to the same projection. \n",
    "\n",
    "##### Step 2.1: Define Toolchain Tools\n",
    "\n",
    "In this step, we clip the imagery to the AOI and convert the imagery to NDVI.\n",
    "\n",
    "Why do we clip the imagery to the AOI? As we just saw, the imagery footprints are big, rectangular shapes. They cover the AOI but they do not match the AOI. Since we only care about pixels within the AOI, we clip the footprints to that AOI."
   ]
  },
  {
   "cell_type": "code",
   "execution_count": 463,
   "metadata": {},
   "outputs": [],
   "source": [
    "def get_tools(aoi_geom):\n",
    "    # clip to AOI\n",
    "    clip_tool = {'clip': {'aoi': aoi_geom}}\n",
    "\n",
    "    # convert to NDVI\n",
    "    ndvi_tool = {'bandmath': {\n",
    "        \"pixel_type\": \"32R\",\n",
    "        \"b1\": \"(b4 - b3) / (b4+b3)\"\n",
    "    }}\n",
    "\n",
    "    tools = [clip_tool, ndvi_tool]\n",
    "    return tools"
   ]
  },
  {
   "cell_type": "markdown",
   "metadata": {},
   "source": [
    "##### Step 2.2: Build Order Requests"
   ]
  },
  {
   "cell_type": "code",
   "execution_count": 464,
   "metadata": {},
   "outputs": [],
   "source": [
    "def build_order(ids, name, aoi_geom):\n",
    "    # specify the psscene4band surface reflectance product\n",
    "    # make sure to get the *_udm2 bundle so you get the udm2 product\n",
    "    # note: capitalization really matters in item_type when using planet client orders api\n",
    "    item_type = 'PSScene4Band'\n",
    "    bundle = 'analytic_sr_udm2'\n",
    "\n",
    "    orders_request = {\n",
    "        'name': name,\n",
    "        'products': [{\n",
    "            'item_ids': ids,\n",
    "            'item_type': item_type,\n",
    "            'product_bundle': bundle\n",
    "        }],\n",
    "        'tools': get_tools(aoi_geom),\n",
    "        'delivery': {\n",
    "            'single_archive': True,\n",
    "            'archive_filename':'{{name}}_{{order_id}}.zip',\n",
    "            'archive_type':'zip'\n",
    "        },\n",
    "            'notifications': {\n",
    "                       'email': False\n",
    "        },\n",
    "    }\n",
    "    return orders_request\n",
    "\n",
    "# uncomment to see what an order request would look like\n",
    "# pprint(build_order(['id'], 'demo', test_aoi_geom), indent=4)"
   ]
  },
  {
   "cell_type": "code",
   "execution_count": 465,
   "metadata": {},
   "outputs": [],
   "source": [
    "ids = [i['id'] for i in items]\n",
    "name = 'pixels_to_tabular'"
   ]
  },
  {
   "cell_type": "code",
   "execution_count": 466,
   "metadata": {},
   "outputs": [],
   "source": [
    "order_request = build_order(ids, name, field_aoi)"
   ]
  },
  {
   "cell_type": "markdown",
   "metadata": {},
   "source": [
    "##### Step 2.3: Submit Order"
   ]
  },
  {
   "cell_type": "code",
   "execution_count": 215,
   "metadata": {},
   "outputs": [
    {
     "data": {
      "text/plain": [
       "'e3a16e9f-a933-4717-a491-ed7ca0495a3d'"
      ]
     },
     "execution_count": 215,
     "metadata": {},
     "output_type": "execute_result"
    }
   ],
   "source": [
    "def create_order(order_request, client):\n",
    "    orders_info = client.create_order(order_request).get()\n",
    "    return orders_info['id']\n",
    "\n",
    "order_id = create_order(order_request, client)\n",
    "order_id"
   ]
  },
  {
   "cell_type": "markdown",
   "metadata": {},
   "source": [
    "#### Step 3: Download Orders\n",
    "\n",
    "##### Step 3.1: Wait Until Orders are Successful\n",
    "\n",
    "Before we can download the orders, they have to be prepared on the server."
   ]
  },
  {
   "cell_type": "code",
   "execution_count": 218,
   "metadata": {},
   "outputs": [
    {
     "name": "stdout",
     "output_type": "stream",
     "text": [
      "success\n"
     ]
    }
   ],
   "source": [
    "def poll_for_success(order_id, client, num_loops=50):\n",
    "    count = 0\n",
    "    while(count < num_loops):\n",
    "        count += 1\n",
    "        order_info = client.get_individual_order(order_id).get()\n",
    "        state = order_info['state']\n",
    "        print(state)\n",
    "        success_states = ['success', 'partial']\n",
    "        if state == 'failed':\n",
    "            raise Exception(response)\n",
    "        elif state in success_states:\n",
    "            break\n",
    "        \n",
    "        time.sleep(10)\n",
    "        \n",
    "poll_for_success(order_id, client)"
   ]
  },
  {
   "cell_type": "markdown",
   "metadata": {},
   "source": [
    "##### Step 3.2: Run Download\n",
    "\n",
    "For this step we will use the planet python orders API because the CLI doesn't do a complete download with large orders."
   ]
  },
  {
   "cell_type": "code",
   "execution_count": 219,
   "metadata": {},
   "outputs": [],
   "source": [
    "data_dir = os.path.join('data', 'field_statistical_analysis')\n",
    "\n",
    "# make the download directory if it doesn't exist\n",
    "Path(data_dir).mkdir(parents=True, exist_ok=True)"
   ]
  },
  {
   "cell_type": "code",
   "execution_count": 225,
   "metadata": {},
   "outputs": [
    {
     "name": "stdout",
     "output_type": "stream",
     "text": [
      "downloaded\n"
     ]
    }
   ],
   "source": [
    "def poll_for_download(dest, endswith, num_loops=50):\n",
    "    count = 0\n",
    "    while(count < num_loops):\n",
    "        count += 1        \n",
    "        matched_files = (f for f in os.listdir(dest)\n",
    "                         if os.path.isfile(os.path.join(dest, f))\n",
    "                         and f.endswith(endswith))\n",
    "\n",
    "        match = next(matched_files, None)\n",
    "        if match:\n",
    "            match = os.path.join(dest, match)\n",
    "            print('downloaded')\n",
    "            break\n",
    "        else:\n",
    "            print('waiting...')\n",
    "        time.sleep(10)\n",
    "    return match\n",
    "\n",
    "def download_order(order_id, dest, client, limit=None):\n",
    "    '''Download an order by given order ID'''\n",
    "    # this returns download stats but they aren't accurate or informative\n",
    "    # so we will look for the downloaded file on our own.\n",
    "    dl = downloader.create(client, order=True)\n",
    "    urls = client.get_individual_order(order_id).items_iter(limit=limit)\n",
    "    dl.download(urls, [], dest)\n",
    "    \n",
    "    endswith = '{}.zip'.format(order_id)\n",
    "    filename = poll_for_download(dest, endswith)\n",
    "    return filename\n",
    "\n",
    "downloaded_file = download_order(order_id, data_dir, client)"
   ]
  },
  {
   "cell_type": "code",
   "execution_count": 467,
   "metadata": {},
   "outputs": [
    {
     "data": {
      "text/plain": [
       "'data/field_statistical_analysis/pixels_to_tabular_e3a16e9f-a933-4717-a491-ed7ca0495a3d.zip'"
      ]
     },
     "execution_count": 467,
     "metadata": {},
     "output_type": "execute_result"
    }
   ],
   "source": [
    "downloaded_file"
   ]
  },
  {
   "cell_type": "markdown",
   "metadata": {
    "collapsed": true
   },
   "source": [
    "#### Step 4: Unzip Order\n",
    "\n",
    "In this section, we will unzip the order into a directory named after the downloaded zip file."
   ]
  },
  {
   "cell_type": "code",
   "execution_count": 227,
   "metadata": {},
   "outputs": [
    {
     "data": {
      "text/plain": [
       "PosixPath('data/field_statistical_analysis/pixels_to_tabular_e3a16e9f-a933-4717-a491-ed7ca0495a3d')"
      ]
     },
     "execution_count": 227,
     "metadata": {},
     "output_type": "execute_result"
    }
   ],
   "source": [
    "def unzip(filename, overwrite=False):\n",
    "    location = Path(filename)\n",
    "    zipdir = location.parent / location.stem\n",
    "\n",
    "    if os.path.isdir(zipdir):\n",
    "        if overwrite:\n",
    "            print('{} exists. overwriting.'.format(zipdir))\n",
    "            shutil.rmtree(zipdir)\n",
    "        else:\n",
    "            raise Exception('{} already exists'.format(zipdir))\n",
    "        \n",
    "    with ZipFile(location) as myzip:\n",
    "        myzip.extractall(zipdir)\n",
    "    return zipdir\n",
    "\n",
    "zipdir = unzip(downloaded_file)\n",
    "zipdir"
   ]
  },
  {
   "cell_type": "code",
   "execution_count": 228,
   "metadata": {
    "scrolled": false
   },
   "outputs": [
    {
     "data": {
      "text/plain": [
       "PosixPath('data/field_statistical_analysis/pixels_to_tabular_e3a16e9f-a933-4717-a491-ed7ca0495a3d/files/20190412_173508_1054_3B_AnalyticMS_DN_udm_clip.tif')"
      ]
     },
     "execution_count": 228,
     "metadata": {},
     "output_type": "execute_result"
    }
   ],
   "source": [
    "def get_unzipped_files(zipdir):\n",
    "    filedir = zipdir / 'files'\n",
    "    filenames = os.listdir(filedir)\n",
    "    return [filedir / f for f in filenames]\n",
    "\n",
    "file_paths = get_unzipped_files(zipdir)\n",
    "file_paths[0]"
   ]
  },
  {
   "cell_type": "markdown",
   "metadata": {},
   "source": [
    "#### Step 5: Filter by Cloudiness\n",
    "\n",
    "In this section, we will filter images that have any clouds within the AOI. We use the Unusable Data Mask (UDM2) to determine cloud pixels."
   ]
  },
  {
   "cell_type": "code",
   "execution_count": 231,
   "metadata": {},
   "outputs": [],
   "source": [
    "udm2_files = [f for f in file_paths if 'udm2' in str(f)]"
   ]
  },
  {
   "cell_type": "code",
   "execution_count": 233,
   "metadata": {},
   "outputs": [],
   "source": [
    "# we want to find pixels that are inside the footprint but cloudy\n",
    "# the easiest way to do this is is the udm values (band 8)\n",
    "# https://developers.planet.com/docs/data/udm-2/\n",
    "# the UDM values are given in \n",
    "# https://assets.planet.com/docs/Combined-Imagery-Product-Spec-Dec-2018.pdf\n",
    "# Bit 0: blackfill (footprint)\n",
    "# Bit 1: cloud covered\n",
    "def read_udm(udm2_filename):\n",
    "    with rasterio.open(udm2_filename) as img:\n",
    "        # band 8 is the udm band\n",
    "        return img.read(8)"
   ]
  },
  {
   "cell_type": "code",
   "execution_count": 234,
   "metadata": {},
   "outputs": [
    {
     "data": {
      "text/plain": [
       "0.0"
      ]
     },
     "execution_count": 234,
     "metadata": {},
     "output_type": "execute_result"
    }
   ],
   "source": [
    "def get_cloudy_percent(udm_band):\n",
    "    blackfill = udm_band == int('1', 2)\n",
    "    footprint_count = udm_band.size - np.count_nonzero(blackfill)\n",
    "    cloudy = udm_band.size - udm_band == int('10', 2)\n",
    "    cloudy_count = np.count_nonzero(cloudy)\n",
    "    return (cloudy_count / footprint_count)\n",
    "\n",
    "get_cloudy_percent(read_udm(udm2_files[0]))"
   ]
  },
  {
   "cell_type": "code",
   "execution_count": 238,
   "metadata": {},
   "outputs": [
    {
     "name": "stdout",
     "output_type": "stream",
     "text": [
      "33\n"
     ]
    }
   ],
   "source": [
    "clear_udm2_files = [f for f in udm2_files\n",
    "                    if get_cloudy_percent(read_udm(f)) < 0.00001]\n",
    "print(len(clear_udm2_files))"
   ]
  },
  {
   "cell_type": "code",
   "execution_count": 248,
   "metadata": {},
   "outputs": [
    {
     "data": {
      "text/plain": [
       "'20190403_182837_1002'"
      ]
     },
     "execution_count": 248,
     "metadata": {},
     "output_type": "execute_result"
    }
   ],
   "source": [
    "def get_id(udm2_filename):\n",
    "    return udm2_filename.name.split('_3B')[0]\n",
    "    \n",
    "clear_ids = [get_id(f) for f in clear_udm2_files]\n",
    "clear_ids[0]"
   ]
  },
  {
   "cell_type": "markdown",
   "metadata": {},
   "source": [
    "#### Step 6: Get Clear Images\n"
   ]
  },
  {
   "cell_type": "code",
   "execution_count": 471,
   "metadata": {},
   "outputs": [
    {
     "data": {
      "image/png": "[encoded data removed]",
      "text/plain": [
       "<Figure size 432x288 with 1 Axes>"
      ]
     },
     "metadata": {
      "needs_background": "light"
     },
     "output_type": "display_data"
    },
    {
     "data": {
      "text/plain": [
       "<matplotlib.axes._subplots.AxesSubplot at 0x7ff85debd0d0>"
      ]
     },
     "execution_count": 471,
     "metadata": {},
     "output_type": "execute_result"
    }
   ],
   "source": [
    "def get_img_path(img_id, file_paths):\n",
    "    filename = '{}_3B_AnalyticMS_SR_clip_bandmath.tif'.format(img_id)\n",
    "    return next(f for f in file_paths if f.name == filename)\n",
    "\n",
    "def read_ndvi(img_filename):\n",
    "    with rasterio.open(img_filename) as img:\n",
    "        # ndvi is a single-band image\n",
    "        band = img.read(1)\n",
    "    return band\n",
    "\n",
    "plot.show(read_ndvi(get_img_path(clear_ids[0], file_paths)))"
   ]
  },
  {
   "cell_type": "markdown",
   "metadata": {},
   "source": [
    "The field AOI isn't an exact square so there are some blank pixels. Let's mask those out. We can use the UDM for that."
   ]
  },
  {
   "cell_type": "code",
   "execution_count": 472,
   "metadata": {},
   "outputs": [
    {
     "data": {
      "image/png": "[encoded data removed]",
      "text/plain": [
       "<Figure size 432x288 with 1 Axes>"
      ]
     },
     "metadata": {
      "needs_background": "light"
     },
     "output_type": "display_data"
    },
    {
     "data": {
      "text/plain": [
       "<matplotlib.axes._subplots.AxesSubplot at 0x7ff85de2e1d0>"
      ]
     },
     "execution_count": 472,
     "metadata": {},
     "output_type": "execute_result"
    }
   ],
   "source": [
    "def get_udm2_path(img_id, file_paths):\n",
    "    filename = '{}_3B_udm2_clip.tif'.format(img_id)\n",
    "    return next(f for f in file_paths if f.name == filename)\n",
    "    \n",
    "def read_blackfill(udm2_filename):\n",
    "    with rasterio.open(udm2_filename) as img:\n",
    "        # the last band is the udm band\n",
    "        udm_band = img.read(8)\n",
    "    blackfill = udm_band == int('1', 2)\n",
    "    return blackfill\n",
    "\n",
    "plot.show(read_blackfill(get_udm2_path(clear_ids[0], file_paths)))"
   ]
  },
  {
   "cell_type": "code",
   "execution_count": 475,
   "metadata": {},
   "outputs": [
    {
     "data": {
      "image/png": "[encoded data removed]",
      "text/plain": [
       "<Figure size 432x288 with 1 Axes>"
      ]
     },
     "metadata": {
      "needs_background": "light"
     },
     "output_type": "display_data"
    },
    {
     "data": {
      "text/plain": [
       "<matplotlib.axes._subplots.AxesSubplot at 0x7ff85dc5b4d0>"
      ]
     },
     "execution_count": 475,
     "metadata": {},
     "output_type": "execute_result"
    }
   ],
   "source": [
    "# there is an issue where some udms aren't the same size as the images\n",
    "# to deal with this just cut off any trailing rows/columns\n",
    "# this isn't ideal as it can result in up to one pixel shift in x or y direction\n",
    "def crop(img, shape):\n",
    "    return img[:shape[0], :shape[1]]\n",
    "\n",
    "def read_masked_ndvi(img_filename, udm2_filename):\n",
    "    ndvi = read_ndvi(img_filename)\n",
    "    blackfill = read_blackfill(udm2_filename)\n",
    "        \n",
    "    # crop image and mask to same size\n",
    "    img_shape = min(ndvi.shape, blackfill.shape)\n",
    "    ndvi = np.ma.array(crop(ndvi, img_shape), mask=crop(blackfill, img_shape))\n",
    "    return ndvi\n",
    "\n",
    "plot.show(read_masked_ndvi(get_img_path(clear_ids[0], file_paths),\n",
    "                           get_udm2_path(clear_ids[0], file_paths)))"
   ]
  },
  {
   "cell_type": "markdown",
   "metadata": {},
   "source": [
    "That looks better! We now have the NDVI values for the pixels within the field AOI.\n",
    "\n",
    "Now, lets make that a little easier to generate."
   ]
  },
  {
   "cell_type": "code",
   "execution_count": 284,
   "metadata": {},
   "outputs": [
    {
     "data": {
      "image/png": "[encoded data removed]",
      "text/plain": [
       "<Figure size 432x288 with 1 Axes>"
      ]
     },
     "metadata": {
      "needs_background": "light"
     },
     "output_type": "display_data"
    },
    {
     "data": {
      "text/plain": [
       "<matplotlib.axes._subplots.AxesSubplot at 0x7ff84c216a10>"
      ]
     },
     "execution_count": 284,
     "metadata": {},
     "output_type": "execute_result"
    }
   ],
   "source": [
    "def read_masked_ndvi_by_id(iid, file_paths):\n",
    "    return read_masked_ndvi(get_img_path(iid, file_paths), get_udm2_path(iid, file_paths))\n",
    "\n",
    "plot.show(read_masked_ndvi_by_id(clear_ids[0], file_paths))"
   ]
  },
  {
   "cell_type": "code",
   "execution_count": 229,
   "metadata": {},
   "outputs": [],
   "source": [
    "# we demonstrated visualization in the best practices tutorial\n",
    "# here, we save space by just importing the functionality\n",
    "from visual import show_ndvi"
   ]
  },
  {
   "cell_type": "code",
   "execution_count": 477,
   "metadata": {},
   "outputs": [
    {
     "data": {
      "image/png": "[encoded data removed]",
      "text/plain": [
       "<Figure size 1440x720 with 2 Axes>"
      ]
     },
     "metadata": {
      "needs_background": "light"
     },
     "output_type": "display_data"
    }
   ],
   "source": [
    "# and here's what it looks like when we visualize as ndvi\n",
    "# (data range -1 to 1). it actually looks worse becaue the\n",
    "# pixel value range is so small\n",
    "show_ndvi(read_masked_ndvi_by_id(clear_ids[0], file_paths))"
   ]
  },
  {
   "cell_type": "markdown",
   "metadata": {},
   "source": [
    "### Part 3: Sample Field Blocks\n",
    "\n",
    "Ok, here is where we convert pixels to tabular data. We do this for one image here then we use what we developed here to do this for a time series. \n",
    "\n",
    "In this step, we want to sample the pixel values within each field block and put the values into a table. For this, we first need to identify the field block pixels. Next, we calculate the median, mean, variance, and random point value for each field block.\n",
    "\n",
    "#### Step 1: Get Field Block Pixels\n",
    "\n",
    "In this step, we find the pixel values that are associated with each field block. To get the field block pixels, we have to project the block geometries into the image coordinates. Then we create masks that just pull the field block pixels from the aoi."
   ]
  },
  {
   "cell_type": "code",
   "execution_count": 569,
   "metadata": {},
   "outputs": [],
   "source": [
    "def block_aoi_masks(block_aois, ref_img_path):\n",
    "    \n",
    "    # find the coordinate reference system of the image\n",
    "    with rasterio.open(ref_img_path) as src:\n",
    "        dst_crs = src.crs\n",
    "        \n",
    "        # geojson features (the field block geometries)\n",
    "        # are always given in WGS84\n",
    "        # project these to the image coordinates\n",
    "        wgs84 = pyproj.CRS('EPSG:4326')\n",
    "\n",
    "        project = pyproj.Transformer.from_crs(wgs84, dst_crs, always_xy=True).transform\n",
    "        proj_block_aois = [transform(project, shape(b)) for b in block_aois]\n",
    "\n",
    "        masks = [raster_geometry_mask(src, [b], crop=False)[0]\n",
    "                 for b in proj_block_aois]\n",
    "    return masks\n",
    "\n",
    "ref_img_path = get_img_path(clear_ids[0], file_paths)\n",
    "block_masks = block_aoi_masks(block_aois, img)"
   ]
  },
  {
   "cell_type": "code",
   "execution_count": 634,
   "metadata": {},
   "outputs": [
    {
     "data": {
      "image/png": "[encoded data removed]",
      "text/plain": [
       "<Figure size 1080x720 with 5 Axes>"
      ]
     },
     "metadata": {
      "needs_background": "light"
     },
     "output_type": "display_data"
    }
   ],
   "source": [
    "ndvi = read_masked_ndvi_by_id(clear_ids[0], file_paths)\n",
    "\n",
    "fig, ax = plt.subplots(2,3, figsize=(15,10))\n",
    "axf = ax.flatten()\n",
    "fig.delaxes(axf[-1])\n",
    "for i, mask in enumerate(block_masks):\n",
    "    ndvi.mask = mask\n",
    "    plot.show(ndvi, ax=axf[i])"
   ]
  },
  {
   "cell_type": "markdown",
   "metadata": {},
   "source": [
    "#### Step 2: Random Sampling\n",
    "\n",
    "Summary statistics such as mean, mode, and variance will be easy to calculate with the numpy python package. We need to do a little work to get random sampling, however."
   ]
  },
  {
   "cell_type": "code",
   "execution_count": 537,
   "metadata": {},
   "outputs": [
    {
     "data": {
      "image/png": "[encoded data removed]",
      "text/plain": [
       "<Figure size 432x288 with 1 Axes>"
      ]
     },
     "metadata": {
      "needs_background": "light"
     },
     "output_type": "display_data"
    },
    {
     "data": {
      "image/png": "[encoded data removed]",
      "text/plain": [
       "<Figure size 432x288 with 1 Axes>"
      ]
     },
     "metadata": {
      "needs_background": "light"
     },
     "output_type": "display_data"
    },
    {
     "data": {
      "text/plain": [
       "<matplotlib.axes._subplots.AxesSubplot at 0x7ff83c9fa9d0>"
      ]
     },
     "execution_count": 537,
     "metadata": {},
     "output_type": "execute_result"
    }
   ],
   "source": [
    "np.random.seed(0) # 0 - make random sampling repeatable, no arg - nonrepeatable\n",
    "\n",
    "def random_mask_sample(mask, count):\n",
    "    # get shape of unmasked pixels\n",
    "    unmasked = mask == False\n",
    "    unmasked_shape = mask[unmasked].shape\n",
    "    \n",
    "    # uniformly sample pixel indices\n",
    "    num_unmasked = unmasked_shape[0]\n",
    "    idx = np.random.choice(num_unmasked, count, replace=False)\n",
    "    \n",
    "    # assign uniformly sampled indices to False (unmasked)\n",
    "    random_mask = np.ones(unmasked_shape, dtype=np.bool)\n",
    "    random_mask[idx] = False\n",
    "    \n",
    "    # reshape back to image shape and account for image mask\n",
    "    random_sample_mask = np.ones(mask.shape, dtype=np.bool)\n",
    "    random_sample_mask[unmasked] = random_mask\n",
    "    return random_sample_mask\n",
    "\n",
    "\n",
    "# lets just check out how our random sampling performs\n",
    "ndvi = read_masked_ndvi_by_id(clear_ids[0], file_paths)\n",
    "ndvi.mask = random_mask_sample(ndvi.mask, 13)\n",
    "plot.show(ndvi)\n",
    "\n",
    "ndvi = read_masked_ndvi_by_id(clear_ids[0], file_paths)\n",
    "ndvi.mask = random_mask_sample(ndvi.mask, 1300)\n",
    "plot.show(ndvi)"
   ]
  },
  {
   "cell_type": "markdown",
   "metadata": {},
   "source": [
    "Ok, great! The first image shows what would result from sampling 1 pixel. The second image just demonstrates that the mask is taken into account with sampling.\n",
    "\n",
    "Now lets get down to calculating the summary statistics and placing them in a table entry."
   ]
  },
  {
   "cell_type": "markdown",
   "metadata": {},
   "source": [
    "#### Step 3: Prepare Table of Summary Statistics\n",
    "\n",
    "Now that we have all the tools we need, we are ready to calculate summary statistics for each field block and put them into a table. We will calculate the median, mean, variance, and random point value for each field block."
   ]
  },
  {
   "cell_type": "code",
   "execution_count": 571,
   "metadata": {},
   "outputs": [
    {
     "data": {
      "text/html": [
       "<div>\n",
       "<style scoped>\n",
       "    .dataframe tbody tr th:only-of-type {\n",
       "        vertical-align: middle;\n",
       "    }\n",
       "\n",
       "    .dataframe tbody tr th {\n",
       "        vertical-align: top;\n",
       "    }\n",
       "\n",
       "    .dataframe thead th {\n",
       "        text-align: right;\n",
       "    }\n",
       "</style>\n",
       "<table border=\"1\" class=\"dataframe\">\n",
       "  <thead>\n",
       "    <tr style=\"text-align: right;\">\n",
       "      <th></th>\n",
       "      <th>block</th>\n",
       "      <th>mean</th>\n",
       "      <th>median</th>\n",
       "      <th>variance</th>\n",
       "      <th>random</th>\n",
       "    </tr>\n",
       "  </thead>\n",
       "  <tbody>\n",
       "    <tr>\n",
       "      <th>0</th>\n",
       "      <td>0</td>\n",
       "      <td>0.189844</td>\n",
       "      <td>0.189474</td>\n",
       "      <td>0.000030</td>\n",
       "      <td>0.190256</td>\n",
       "    </tr>\n",
       "    <tr>\n",
       "      <th>1</th>\n",
       "      <td>1</td>\n",
       "      <td>0.175796</td>\n",
       "      <td>0.174716</td>\n",
       "      <td>0.000054</td>\n",
       "      <td>0.176101</td>\n",
       "    </tr>\n",
       "    <tr>\n",
       "      <th>2</th>\n",
       "      <td>2</td>\n",
       "      <td>0.197302</td>\n",
       "      <td>0.196594</td>\n",
       "      <td>0.000087</td>\n",
       "      <td>0.193369</td>\n",
       "    </tr>\n",
       "    <tr>\n",
       "      <th>3</th>\n",
       "      <td>3</td>\n",
       "      <td>0.175271</td>\n",
       "      <td>0.173923</td>\n",
       "      <td>0.000041</td>\n",
       "      <td>0.180054</td>\n",
       "    </tr>\n",
       "    <tr>\n",
       "      <th>4</th>\n",
       "      <td>4</td>\n",
       "      <td>0.183483</td>\n",
       "      <td>0.182410</td>\n",
       "      <td>0.000069</td>\n",
       "      <td>0.197250</td>\n",
       "    </tr>\n",
       "  </tbody>\n",
       "</table>\n",
       "</div>"
      ],
      "text/plain": [
       "   block      mean    median  variance    random\n",
       "0      0  0.189844  0.189474  0.000030  0.190256\n",
       "1      1  0.175796  0.174716  0.000054  0.176101\n",
       "2      2  0.197302  0.196594  0.000087  0.193369\n",
       "3      3  0.175271  0.173923  0.000041  0.180054\n",
       "4      4  0.183483  0.182410  0.000069  0.197250"
      ]
     },
     "execution_count": 571,
     "metadata": {},
     "output_type": "execute_result"
    }
   ],
   "source": [
    "def get_stats(ndvi, masks):\n",
    "    def _get_stats(mask, block_number):\n",
    "        block = np.ma.array(ndvi, mask=mask)\n",
    "\n",
    "        mean = np.ma.mean(block)\n",
    "        median = np.ma.median(block)\n",
    "        var = np.ma.var(block)\n",
    "        \n",
    "        random_mask = random_mask_sample(block.mask, 1)\n",
    "        random_val = np.ma.mean(np.ma.array(block, mask=random_mask))\n",
    "        \n",
    "        return {'block': block_number,\n",
    "                'mean': mean,\n",
    "                'median': median,\n",
    "                'variance': var,\n",
    "                'random': random_val}\n",
    "    \n",
    "    data = [_get_stats(m, i) for i, m in enumerate(masks)]\n",
    "    df = pd.DataFrame(data)\n",
    "    return df\n",
    "        \n",
    "\n",
    "ndvi = read_masked_ndvi_by_id(clear_ids[0], file_paths)\n",
    "get_stats(ndvi, block_masks)       "
   ]
  },
  {
   "cell_type": "markdown",
   "metadata": {},
   "source": [
    "Okay! We have statistics for each block in a table. Yay! Okay, now lets move on to running this across a time series."
   ]
  },
  {
   "cell_type": "markdown",
   "metadata": {},
   "source": [
    "#### Step 4: Perform Time Series Analysis\n"
   ]
  },
  {
   "cell_type": "code",
   "execution_count": 601,
   "metadata": {},
   "outputs": [
    {
     "data": {
      "text/html": [
       "<div>\n",
       "<style scoped>\n",
       "    .dataframe tbody tr th:only-of-type {\n",
       "        vertical-align: middle;\n",
       "    }\n",
       "\n",
       "    .dataframe tbody tr th {\n",
       "        vertical-align: top;\n",
       "    }\n",
       "\n",
       "    .dataframe thead th {\n",
       "        text-align: right;\n",
       "    }\n",
       "</style>\n",
       "<table border=\"1\" class=\"dataframe\">\n",
       "  <thead>\n",
       "    <tr style=\"text-align: right;\">\n",
       "      <th></th>\n",
       "      <th>block</th>\n",
       "      <th>mean</th>\n",
       "      <th>median</th>\n",
       "      <th>variance</th>\n",
       "      <th>random</th>\n",
       "      <th>acquired</th>\n",
       "    </tr>\n",
       "  </thead>\n",
       "  <tbody>\n",
       "    <tr>\n",
       "      <th>0</th>\n",
       "      <td>0</td>\n",
       "      <td>0.189844</td>\n",
       "      <td>0.189474</td>\n",
       "      <td>0.000030</td>\n",
       "      <td>0.189517</td>\n",
       "      <td>2019-04-03T18:28:37.143803Z</td>\n",
       "    </tr>\n",
       "    <tr>\n",
       "      <th>1</th>\n",
       "      <td>1</td>\n",
       "      <td>0.175796</td>\n",
       "      <td>0.174716</td>\n",
       "      <td>0.000054</td>\n",
       "      <td>0.169825</td>\n",
       "      <td>2019-04-03T18:28:37.143803Z</td>\n",
       "    </tr>\n",
       "    <tr>\n",
       "      <th>2</th>\n",
       "      <td>2</td>\n",
       "      <td>0.197302</td>\n",
       "      <td>0.196594</td>\n",
       "      <td>0.000087</td>\n",
       "      <td>0.185834</td>\n",
       "      <td>2019-04-03T18:28:37.143803Z</td>\n",
       "    </tr>\n",
       "    <tr>\n",
       "      <th>3</th>\n",
       "      <td>3</td>\n",
       "      <td>0.175271</td>\n",
       "      <td>0.173923</td>\n",
       "      <td>0.000041</td>\n",
       "      <td>0.170086</td>\n",
       "      <td>2019-04-03T18:28:37.143803Z</td>\n",
       "    </tr>\n",
       "    <tr>\n",
       "      <th>4</th>\n",
       "      <td>4</td>\n",
       "      <td>0.183483</td>\n",
       "      <td>0.182410</td>\n",
       "      <td>0.000069</td>\n",
       "      <td>0.185812</td>\n",
       "      <td>2019-04-03T18:28:37.143803Z</td>\n",
       "    </tr>\n",
       "  </tbody>\n",
       "</table>\n",
       "</div>"
      ],
      "text/plain": [
       "   block      mean    median  variance    random                     acquired\n",
       "0      0  0.189844  0.189474  0.000030  0.189517  2019-04-03T18:28:37.143803Z\n",
       "1      1  0.175796  0.174716  0.000054  0.169825  2019-04-03T18:28:37.143803Z\n",
       "2      2  0.197302  0.196594  0.000087  0.185834  2019-04-03T18:28:37.143803Z\n",
       "3      3  0.175271  0.173923  0.000041  0.170086  2019-04-03T18:28:37.143803Z\n",
       "4      4  0.183483  0.182410  0.000069  0.185812  2019-04-03T18:28:37.143803Z"
      ]
     },
     "execution_count": 601,
     "metadata": {},
     "output_type": "execute_result"
    }
   ],
   "source": [
    "def get_stats_by_id(iid, block_masks, file_paths):\n",
    "    ndvi = read_masked_ndvi_by_id(iid, file_paths)\n",
    "    ndvi_stats = get_stats(ndvi, block_masks)\n",
    "    acquired = get_acquired(iid)\n",
    "    ndvi_stats['acquired'] = [acquired]*len(block_masks)\n",
    "    return ndvi_stats\n",
    "\n",
    "def get_acquired(iid):\n",
    "    metadata_path = get_metadata(iid, file_paths)\n",
    "    \n",
    "    with open(metadata_path) as src:\n",
    "        md = json.load(src)\n",
    "    return md['properties']['acquired']\n",
    "    \n",
    "\n",
    "def get_metadata(img_id, file_paths):\n",
    "    filename = '{}_metadata.json'.format(img_id)\n",
    "    return next(f for f in file_paths if f.name == filename)\n",
    "\n",
    "get_stats_by_id(clear_ids[0], block_masks, file_paths)"
   ]
  },
  {
   "cell_type": "code",
   "execution_count": 602,
   "metadata": {},
   "outputs": [],
   "source": [
    "dfs = [get_stats_by_id(i, block_masks, file_paths) for i in clear_ids]\n",
    "all_stats = pd.concat(dfs)"
   ]
  },
  {
   "cell_type": "code",
   "execution_count": 605,
   "metadata": {},
   "outputs": [
    {
     "data": {
      "text/html": [
       "<div>\n",
       "<style scoped>\n",
       "    .dataframe tbody tr th:only-of-type {\n",
       "        vertical-align: middle;\n",
       "    }\n",
       "\n",
       "    .dataframe tbody tr th {\n",
       "        vertical-align: top;\n",
       "    }\n",
       "\n",
       "    .dataframe thead th {\n",
       "        text-align: right;\n",
       "    }\n",
       "</style>\n",
       "<table border=\"1\" class=\"dataframe\">\n",
       "  <thead>\n",
       "    <tr style=\"text-align: right;\">\n",
       "      <th></th>\n",
       "      <th>block</th>\n",
       "      <th>mean</th>\n",
       "      <th>median</th>\n",
       "      <th>variance</th>\n",
       "      <th>random</th>\n",
       "      <th>acquired</th>\n",
       "    </tr>\n",
       "  </thead>\n",
       "  <tbody>\n",
       "    <tr>\n",
       "      <th>0</th>\n",
       "      <td>0</td>\n",
       "      <td>0.189844</td>\n",
       "      <td>0.189474</td>\n",
       "      <td>0.000030</td>\n",
       "      <td>0.190186</td>\n",
       "      <td>2019-04-03T18:28:37.143803Z</td>\n",
       "    </tr>\n",
       "    <tr>\n",
       "      <th>1</th>\n",
       "      <td>1</td>\n",
       "      <td>0.175796</td>\n",
       "      <td>0.174716</td>\n",
       "      <td>0.000054</td>\n",
       "      <td>0.178291</td>\n",
       "      <td>2019-04-03T18:28:37.143803Z</td>\n",
       "    </tr>\n",
       "    <tr>\n",
       "      <th>2</th>\n",
       "      <td>2</td>\n",
       "      <td>0.197302</td>\n",
       "      <td>0.196594</td>\n",
       "      <td>0.000087</td>\n",
       "      <td>0.184945</td>\n",
       "      <td>2019-04-03T18:28:37.143803Z</td>\n",
       "    </tr>\n",
       "    <tr>\n",
       "      <th>3</th>\n",
       "      <td>3</td>\n",
       "      <td>0.175271</td>\n",
       "      <td>0.173923</td>\n",
       "      <td>0.000041</td>\n",
       "      <td>0.179123</td>\n",
       "      <td>2019-04-03T18:28:37.143803Z</td>\n",
       "    </tr>\n",
       "    <tr>\n",
       "      <th>4</th>\n",
       "      <td>4</td>\n",
       "      <td>0.183483</td>\n",
       "      <td>0.182410</td>\n",
       "      <td>0.000069</td>\n",
       "      <td>0.182600</td>\n",
       "      <td>2019-04-03T18:28:37.143803Z</td>\n",
       "    </tr>\n",
       "  </tbody>\n",
       "</table>\n",
       "</div>"
      ],
      "text/plain": [
       "   block      mean    median  variance    random                     acquired\n",
       "0      0  0.189844  0.189474  0.000030  0.190186  2019-04-03T18:28:37.143803Z\n",
       "1      1  0.175796  0.174716  0.000054  0.178291  2019-04-03T18:28:37.143803Z\n",
       "2      2  0.197302  0.196594  0.000087  0.184945  2019-04-03T18:28:37.143803Z\n",
       "3      3  0.175271  0.173923  0.000041  0.179123  2019-04-03T18:28:37.143803Z\n",
       "4      4  0.183483  0.182410  0.000069  0.182600  2019-04-03T18:28:37.143803Z"
      ]
     },
     "execution_count": 605,
     "metadata": {},
     "output_type": "execute_result"
    }
   ],
   "source": [
    "all_stats.head()"
   ]
  },
  {
   "cell_type": "markdown",
   "metadata": {},
   "source": [
    "Lets check out these stats in some plots!"
   ]
  },
  {
   "cell_type": "code",
   "execution_count": 633,
   "metadata": {},
   "outputs": [
    {
     "data": {
      "image/png": "[encoded data removed]",
      "text/plain": [
       "<Figure size 432x288 with 1 Axes>"
      ]
     },
     "metadata": {
      "needs_background": "light"
     },
     "output_type": "display_data"
    },
    {
     "data": {
      "image/png": "[encoded data removed]",
      "text/plain": [
       "<Figure size 432x288 with 1 Axes>"
      ]
     },
     "metadata": {
      "needs_background": "light"
     },
     "output_type": "display_data"
    },
    {
     "data": {
      "image/png": "[encoded data removed]",
      "text/plain": [
       "<Figure size 432x288 with 1 Axes>"
      ]
     },
     "metadata": {
      "needs_background": "light"
     },
     "output_type": "display_data"
    },
    {
     "data": {
      "image/png": "[encoded data removed]",
      "text/plain": [
       "<Figure size 432x288 with 1 Axes>"
      ]
     },
     "metadata": {
      "needs_background": "light"
     },
     "output_type": "display_data"
    }
   ],
   "source": [
    "colors = {0:'red', 1:'blue', 2:'green', 3:'black', 4:'purple'}\n",
    "\n",
    "df = all_stats\n",
    "\n",
    "for var in ['mean', 'median', 'random', 'variance']:\n",
    "    fig, ax = plt.subplots()\n",
    "    ax.scatter(df['acquired'], df[var], c=df['block'].apply(lambda x: colors[x]))\n",
    "    ax.set_title(var)\n",
    "    plt.show()\n",
    "# ax.scatter(df['acquired'], df['mean'], c=df['block'].apply(lambda x: colors[x]))\n",
    "# plt.show()"
   ]
  },
  {
   "cell_type": "markdown",
   "metadata": {},
   "source": [
    "Well. We did it! We created a table of summary statistics from test blocks within a field for a time series. If the field blocks had been *actual* test blocks, we would likely see variation between the blocks! But in this demo, the field blocks were drawn randomly by hand. So it is no surprise there isn't much variation. That is actually a good thing!\n",
    "\n",
    "Now that you know how to convert pixels within an aoi to tabular data, the sky is the limit! "
   ]
  },
  {
   "cell_type": "code",
   "execution_count": null,
   "metadata": {},
   "outputs": [],
   "source": []
  }
 ],
 "metadata": {
  "kernelspec": {
   "display_name": "Python 3",
   "language": "python",
   "name": "python3"
  },
  "language_info": {
   "codemirror_mode": {
    "name": "ipython",
    "version": 3
   },
   "file_extension": ".py",
   "mimetype": "text/x-python",
   "name": "python",
   "nbconvert_exporter": "python",
   "pygments_lexer": "ipython3",
   "version": "3.7.6"
  }
 },
 "nbformat": 4,
 "nbformat_minor": 4
}
