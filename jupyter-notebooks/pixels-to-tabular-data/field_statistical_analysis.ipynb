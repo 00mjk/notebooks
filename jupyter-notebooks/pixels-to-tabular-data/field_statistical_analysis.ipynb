{
 "cells": [
  {
   "cell_type": "markdown",
   "metadata": {},
   "source": [
    "# Pixels to Tabular Data\n",
    "## Agricultural Statistical Analysis Use Case\n",
    "\n",
    "Talk about pixels and tabular data.\n",
    "\n",
    "The use case addressed in this tutorial is:  \n",
    "\n",
    "* As an agriculture customer, I'd like to create an imagery pipeline that provides for trialing different fungicides by ordering Planet imagery within a single field (AOI), cutting the imagery into multiple field blocks, filtering based on cloud coverage within the blocks, and comparing values across blocks in two ways. First, comparison is performed by extracting median, mean, variance NDVI values for each day (using random point sampling) in each block. Second, comparison is performed by random point selection in each block.\n",
    "\n",
    "\n",
    "## Introduction\n",
    "\n",
    "Two things are interesting about this use case. First, we are gridding the AOI into blocks. Second, we are performing some calculations with the output to compare results across different blocks in the field. \n",
    "\n",
    "\n",
    "## Implementation\n",
    "\n",
    "For this use case, the area of interest and time range are not specified. The analytic comparison across blocks means we should specify a strict usable pixel data filter. For time-series analysis the daily coverage of PS satellites is ideal. We are just looking at a field, so we don't need to composite across scenes. This makes our lives easier as we don't need to group the scene ids by date, like we did in Part 2. We are, however, wanting to grid the field. We can use the Orders API to help us with this! And finally, we will need to implement a bit of functionality for the comparisons across the field blocks.\n",
    "\n",
    "**TODO** UPDATE\n",
    "To summarize, these are the steps:\n",
    "1. [Initialize API client](#Step-1:-Initialize-API-client)\n",
    "1. [Search Data API](#Step-2:-Search-Data-API)\n",
    "1. [Group IDs by Date](#Step-3:-Group-IDs-by-Date)\n",
    "1. [Submit Orders](#Step-4:-Submit-Orders)\n",
    "1. [Download Orders](#Step-5:-Download-Orders)\n",
    "1. [Unzip and Verify Orders](#Step-6:-Unzip-and-Verify-Orders)\n",
    "\n",
    "\n",
    "\n",
    "#### Import Dependencies"
   ]
  },
  {
   "cell_type": "code",
   "execution_count": 65,
   "metadata": {},
   "outputs": [],
   "source": [
    "# from copy import copy\n",
    "import datetime\n",
    "import json\n",
    "import os\n",
    "from pathlib import Path\n",
    "from pprint import pprint\n",
    "import shutil\n",
    "import time\n",
    "from zipfile import ZipFile\n",
    "\n",
    "import numpy as np\n",
    "from planet import api\n",
    "from planet.api import downloader, filters\n",
    "from shapely.geometry import shape"
   ]
  },
  {
   "cell_type": "markdown",
   "metadata": {},
   "source": [
    "#### Step 1: Initialize API client"
   ]
  },
  {
   "cell_type": "code",
   "execution_count": 5,
   "metadata": {},
   "outputs": [],
   "source": [
    "# if your Planet API Key is not set as an environment variable, you can paste it below\n",
    "API_KEY = os.environ.get('PL_API_KEY', 'PASTE_YOUR_KEY_HERE')\n",
    "\n",
    "client = api.ClientV1(api_key=API_KEY)"
   ]
  },
  {
   "cell_type": "markdown",
   "metadata": {},
   "source": [
    "#### Step 2: Get Field AOI"
   ]
  },
  {
   "cell_type": "code",
   "execution_count": 6,
   "metadata": {},
   "outputs": [
    {
     "name": "stdout",
     "output_type": "stream",
     "text": [
      "{'geometry': {'coordinates': [[[-121.26311573121106, 38.28911976564886],\n",
      "                               [-121.26309824204209, 38.289263573446426],\n",
      "                               [-121.26340336500914, 38.28927552343227],\n",
      "                               [-121.26341580611164, 38.28958419507872],\n",
      "                               [-121.26335908094813, 38.290060214043095],\n",
      "                               [-121.2633553819847, 38.29021303818384],\n",
      "                               [-121.26200888330872, 38.2901989348931],\n",
      "                               [-121.26202642045222, 38.28924931063856],\n",
      "                               [-121.26202881277432, 38.28911976564886],\n",
      "                               [-121.26311573121106, 38.28911976564886]]],\n",
      "              'type': 'Polygon'},\n",
      " 'id': '10906',\n",
      " 'properties': {'ACRES': 5.382,\n",
      "                'AREA': 21779.33318,\n",
      "                'BL_X': 651939,\n",
      "                'BL_Y': 4239347,\n",
      "                'CLASS1': 'G',\n",
      "                'CLASS2': '**',\n",
      "                'CLASS3': '**',\n",
      "                'IRR_TYP1PA': 'n',\n",
      "                'IRR_TYP1PB': '*',\n",
      "                'IRR_TYP2PA': '*',\n",
      "                'IRR_TYP2PB': '*',\n",
      "                'IRR_TYP3PA': '*',\n",
      "                'IRR_TYP3PB': '*',\n",
      "                'LABEL': 'G',\n",
      "                'MULTIUSE': 'S',\n",
      "                'PCNT1': '00',\n",
      "                'PCNT2': '**',\n",
      "                'PCNT3': '**',\n",
      "                'PERIMETER': 662.19543,\n",
      "                'SPECOND1': '*',\n",
      "                'SPECOND2': '*',\n",
      "                'SPECOND3': '*',\n",
      "                'SUBCLASS1': '**',\n",
      "                'SUBCLASS2': '**',\n",
      "                'SUBCLASS3': '**',\n",
      "                'SURVEYAREA': 'SACRAMENTO',\n",
      "                'SURVEYYEAR': '2015',\n",
      "                'UCF_ATT': 'S G***n*00******************',\n",
      "                'WATERSOURC': '*',\n",
      "                'style': {'fillColor': '#ffffd9',\n",
      "                          'fillOpacity': 1,\n",
      "                          'weight': 0}},\n",
      " 'type': 'Feature'}\n"
     ]
    }
   ],
   "source": [
    "# these features come from within the sacramento_crops aoi\n",
    "# this dataset was prepared in crop-classification/datasets-prepare.ipynb\n",
    "def load_geojson(filename):\n",
    "    with open(filename, 'r') as f:\n",
    "        return json.load(f)\n",
    "    \n",
    "fields_filename = os.path.join('pre-data', 'ground-truth-test.geojson')\n",
    "fields = load_geojson(fields_filename)\n",
    "field = fields[0]\n",
    "pprint(field)"
   ]
  },
  {
   "cell_type": "code",
   "execution_count": 7,
   "metadata": {},
   "outputs": [
    {
     "name": "stdout",
     "output_type": "stream",
     "text": [
      "5.382 acres\n"
     ]
    },
    {
     "data": {
      "image/svg+xml": [
       "<svg xmlns=\"http://www.w3.org/2000/svg\" xmlns:xlink=\"http://www.w3.org/1999/xlink\" width=\"100.0\" height=\"100.0\" viewBox=\"-121.26347208302376 38.289063488736744 0.0015194766271520166 0.0012058263592180651\" preserveAspectRatio=\"xMinYMin meet\"><g transform=\"matrix(1,0,0,-1,0,76.5793328038327)\"><path fill-rule=\"evenodd\" fill=\"#66cc99\" stroke=\"#555555\" stroke-width=\"3.0389532543040332e-05\" opacity=\"0.6\" d=\"M -121.26311573121106,38.28911976564886 L -121.26309824204209,38.289263573446426 L -121.26340336500914,38.28927552343227 L -121.26341580611164,38.28958419507872 L -121.26335908094813,38.290060214043095 L -121.2633553819847,38.29021303818384 L -121.26200888330872,38.2901989348931 L -121.26202642045222,38.28924931063856 L -121.26202881277432,38.28911976564886 L -121.26311573121106,38.28911976564886 z\" /></g></svg>"
      ],
      "text/plain": [
       "<shapely.geometry.polygon.Polygon at 0x7ff85b491ed0>"
      ]
     },
     "execution_count": 7,
     "metadata": {},
     "output_type": "execute_result"
    }
   ],
   "source": [
    "print('{} acres'.format(field['properties']['ACRES']))\n",
    "field_aoi = field['geometry']\n",
    "shape(field_aoi)"
   ]
  },
  {
   "cell_type": "markdown",
   "metadata": {},
   "source": [
    "#### Step 3: Search Data API\n",
    "\n",
    "The goal of this step is to get the scene ids that meet the search criteria for this use case."
   ]
  },
  {
   "cell_type": "code",
   "execution_count": 16,
   "metadata": {},
   "outputs": [],
   "source": [
    "# create an api request from the search specifications\n",
    "# relax the cloud cover requirement as filtering will be done within the aoi\n",
    "def build_request(aoi_geom, start_date, stop_date):\n",
    "    '''build a data api search request for clear PSScene4Band imagery'''\n",
    "    query = filters.and_filter(\n",
    "        filters.geom_filter(aoi_geom),\n",
    "        filters.range_filter('clear_percent', gte=40),\n",
    "        filters.date_range('acquired', gt=start_date),\n",
    "        filters.date_range('acquired', lt=stop_date)\n",
    "    )\n",
    "    return filters.build_search_request(query, ['PSScene4Band'])\n",
    "\n",
    "def search_data_api(request, client, limit=500):\n",
    "    result = client.quick_search(request)\n",
    "    \n",
    "    # this returns a generator\n",
    "    return result.items_iter(limit=limit)"
   ]
  },
  {
   "cell_type": "code",
   "execution_count": 17,
   "metadata": {},
   "outputs": [],
   "source": [
    "# define test data for the filter\n",
    "test_start_date = datetime.datetime(year=2019,month=4,day=1)\n",
    "test_stop_date = datetime.datetime(year=2019,month=5,day=1)"
   ]
  },
  {
   "cell_type": "code",
   "execution_count": 18,
   "metadata": {},
   "outputs": [
    {
     "name": "stdout",
     "output_type": "stream",
     "text": [
      "{'item_types': ['PSScene4Band'], 'filter': {'type': 'AndFilter', 'config': ({'field_name': 'geometry', 'type': 'GeometryFilter', 'config': {'type': 'Polygon', 'coordinates': [[[-121.26311573121106, 38.28911976564886], [-121.26309824204209, 38.289263573446426], [-121.26340336500914, 38.28927552343227], [-121.26341580611164, 38.28958419507872], [-121.26335908094813, 38.290060214043095], [-121.2633553819847, 38.29021303818384], [-121.26200888330872, 38.2901989348931], [-121.26202642045222, 38.28924931063856], [-121.26202881277432, 38.28911976564886], [-121.26311573121106, 38.28911976564886]]]}}, {'field_name': 'clear_percent', 'type': 'RangeFilter', 'config': {'gte': 40}}, {'field_name': 'acquired', 'type': 'DateRangeFilter', 'config': {'gt': '2019-04-01T00:00:00Z'}}, {'field_name': 'acquired', 'type': 'DateRangeFilter', 'config': {'lt': '2019-05-01T00:00:00Z'}})}}\n"
     ]
    }
   ],
   "source": [
    "request = build_request(field_aoi, test_start_date, test_stop_date)\n",
    "print(request)"
   ]
  },
  {
   "cell_type": "code",
   "execution_count": 19,
   "metadata": {},
   "outputs": [
    {
     "name": "stdout",
     "output_type": "stream",
     "text": [
      "19\n"
     ]
    }
   ],
   "source": [
    "items = list(search_data_api(request, client))\n",
    "print(len(items))"
   ]
  },
  {
   "cell_type": "code",
   "execution_count": 20,
   "metadata": {},
   "outputs": [
    {
     "name": "stdout",
     "output_type": "stream",
     "text": [
      "{'_links': {'_self': 'https://api.planet.com/data/v1/item-types/PSScene4Band/items/20190409_185936_13_106c',\n",
      "            'assets': 'https://api.planet.com/data/v1/item-types/PSScene4Band/items/20190409_185936_13_106c/assets/',\n",
      "            'thumbnail': 'https://tiles.planet.com/data/v1/item-types/PSScene4Band/items/20190409_185936_13_106c/thumb'},\n",
      " '_permissions': ['assets.udm:download',\n",
      "                  'assets.analytic:download',\n",
      "                  'assets.analytic_xml:download',\n",
      "                  'assets.analytic_dn:download',\n",
      "                  'assets.analytic_dn_xml:download',\n",
      "                  'assets.basic_analytic:download',\n",
      "                  'assets.basic_analytic_rpc:download',\n",
      "                  'assets.basic_analytic_dn:download',\n",
      "                  'assets.basic_analytic_dn_rpc:download',\n",
      "                  'assets.basic_analytic_xml:download',\n",
      "                  'assets.basic_analytic_dn_xml:download',\n",
      "                  'assets.basic_analytic_dn_nitf:download',\n",
      "                  'assets.basic_analytic_dn_rpc_nitf:download',\n",
      "                  'assets.basic_analytic_dn_xml_nitf:download',\n",
      "                  'assets.basic_analytic_nitf:download',\n",
      "                  'assets.basic_analytic_rpc_nitf:download',\n",
      "                  'assets.basic_analytic_xml_nitf:download',\n",
      "                  'assets.basic_udm:download',\n",
      "                  'assets.analytic_sr:download',\n",
      "                  'assets.basic_udm2:download',\n",
      "                  'assets.udm2:download'],\n",
      " 'geometry': {'coordinates': [[[-121.38585880590736, 38.34769304150422],\n",
      "                               [-121.34341278826854, 38.19160801859542],\n",
      "                               [-121.04560630794059, 38.241286861470996],\n",
      "                               [-121.08756665334234, 38.39794638545197],\n",
      "                               [-121.38585880590736, 38.34769304150422]]],\n",
      "              'type': 'Polygon'},\n",
      " 'id': '20190409_185936_13_106c',\n",
      " 'properties': {'acquired': '2019-04-09T18:59:36.135598Z',\n",
      "                'anomalous_pixels': 0,\n",
      "                'clear_confidence_percent': 100,\n",
      "                'clear_percent': 100,\n",
      "                'cloud_cover': 0.04,\n",
      "                'cloud_percent': 0,\n",
      "                'columns': 9996,\n",
      "                'epsg_code': 32610,\n",
      "                'ground_control': True,\n",
      "                'gsd': 4,\n",
      "                'heavy_haze_percent': 0,\n",
      "                'instrument': 'PS2.SD',\n",
      "                'item_type': 'PSScene4Band',\n",
      "                'light_haze_percent': 0,\n",
      "                'origin_x': 641049,\n",
      "                'origin_y': 4251702,\n",
      "                'pixel_resolution': 3,\n",
      "                'provider': 'planetscope',\n",
      "                'published': '2019-09-11T23:03:36Z',\n",
      "                'quality_category': 'standard',\n",
      "                'rows': 7777,\n",
      "                'satellite_id': '106c',\n",
      "                'shadow_percent': 0,\n",
      "                'snow_ice_percent': 0,\n",
      "                'strip_id': '2271817',\n",
      "                'sun_azimuth': 148.9,\n",
      "                'sun_elevation': 55.8,\n",
      "                'updated': '2019-09-11T23:13:05Z',\n",
      "                'view_angle': 3.1,\n",
      "                'visible_confidence_percent': 77,\n",
      "                'visible_percent': 100},\n",
      " 'type': 'Feature'}\n"
     ]
    }
   ],
   "source": [
    "pprint(items[0])"
   ]
  },
  {
   "cell_type": "code",
   "execution_count": 21,
   "metadata": {},
   "outputs": [
    {
     "name": "stdout",
     "output_type": "stream",
     "text": [
      "32610\n",
      "32610\n",
      "32610\n",
      "32610\n",
      "32610\n",
      "32610\n",
      "32610\n",
      "32610\n",
      "32610\n",
      "32610\n",
      "32610\n",
      "32610\n",
      "32610\n",
      "32610\n",
      "32610\n",
      "32610\n",
      "32610\n",
      "32610\n",
      "32610\n"
     ]
    }
   ],
   "source": [
    "for i in items:\n",
    "    print(i['properties']['epsg_code'])"
   ]
  },
  {
   "cell_type": "code",
   "execution_count": 22,
   "metadata": {},
   "outputs": [
    {
     "data": {
      "image/svg+xml": [
       "<svg xmlns=\"http://www.w3.org/2000/svg\" xmlns:xlink=\"http://www.w3.org/1999/xlink\" width=\"100.0\" height=\"100.0\" viewBox=\"-121.39946890582603 38.177997918676745 0.36747269780410363 0.23355856669389397\" preserveAspectRatio=\"xMinYMin meet\"><g transform=\"matrix(1,0,0,-1,0,76.58955440404739)\"><path fill-rule=\"evenodd\" fill=\"#66cc99\" stroke=\"#555555\" stroke-width=\"0.007349453956082073\" opacity=\"0.6\" d=\"M -121.38585880590736,38.34769304150422 L -121.34341278826854,38.19160801859542 L -121.04560630794059,38.241286861470996 L -121.08756665334234,38.39794638545197 L -121.38585880590736,38.34769304150422 z\" /></g></svg>"
      ],
      "text/plain": [
       "<shapely.geometry.polygon.Polygon at 0x7ff85adfc9d0>"
      ]
     },
     "execution_count": 22,
     "metadata": {},
     "output_type": "execute_result"
    }
   ],
   "source": [
    "# visualize a footprint\n",
    "footprints = [shape(i['geometry']) for i in items]\n",
    "footprints[0]"
   ]
  },
  {
   "cell_type": "code",
   "execution_count": 23,
   "metadata": {},
   "outputs": [],
   "source": [
    "# make sure all footprints contain the field aoi (that is, no partial overlaps)\n",
    "for f in footprints:\n",
    "    assert f.contains(shape(field_aoi))"
   ]
  },
  {
   "cell_type": "code",
   "execution_count": 24,
   "metadata": {},
   "outputs": [],
   "source": [
    "from shapely.geometry import MultiPolygon"
   ]
  },
  {
   "cell_type": "code",
   "execution_count": 35,
   "metadata": {},
   "outputs": [
    {
     "data": {
      "image/svg+xml": [
       "<svg xmlns=\"http://www.w3.org/2000/svg\" xmlns:xlink=\"http://www.w3.org/1999/xlink\" width=\"100.0\" height=\"100.0\" viewBox=\"-121.39946890582603 38.177997918676745 0.36747269780410363 0.23355856669389397\" preserveAspectRatio=\"xMinYMin meet\"><g transform=\"matrix(1,0,0,-1,0,76.58955440404739)\"><g><path fill-rule=\"evenodd\" fill=\"#ff3333\" stroke=\"#555555\" stroke-width=\"0.007349453956082073\" opacity=\"0.6\" d=\"M -121.26311573121106,38.28911976564886 L -121.26309824204209,38.289263573446426 L -121.26340336500914,38.28927552343227 L -121.26341580611164,38.28958419507872 L -121.26335908094813,38.290060214043095 L -121.2633553819847,38.29021303818384 L -121.26200888330872,38.2901989348931 L -121.26202642045222,38.28924931063856 L -121.26202881277432,38.28911976564886 L -121.26311573121106,38.28911976564886 z\" /><path fill-rule=\"evenodd\" fill=\"#ff3333\" stroke=\"#555555\" stroke-width=\"0.007349453956082073\" opacity=\"0.6\" d=\"M -121.38585880590736,38.34769304150422 L -121.34341278826854,38.19160801859542 L -121.04560630794059,38.241286861470996 L -121.08756665334234,38.39794638545197 L -121.38585880590736,38.34769304150422 z\" /></g></g></svg>"
      ],
      "text/plain": [
       "<shapely.geometry.multipolygon.MultiPolygon at 0x7ff85add8150>"
      ]
     },
     "execution_count": 35,
     "metadata": {},
     "output_type": "execute_result"
    }
   ],
   "source": [
    "# visualize aoi and footprint\n",
    "MultiPolygon([shape(field_aoi), footprints[0]])"
   ]
  },
  {
   "cell_type": "markdown",
   "metadata": {},
   "source": [
    "Whoa look! That AOI is tiny relative to the image footprint. We don't want to wrangle all those pixels outside of the AOI. We definately want to clip the imagery footprints to the AOI."
   ]
  },
  {
   "cell_type": "markdown",
   "metadata": {},
   "source": [
    "#### Step 4: Submit Order\n",
    "\n",
    "Now that we have the scene ids, we can create the order. The output of this step is a single zip file that contains all of the scenes that meet our criteria.\n",
    "\n",
    "The tools we want to apply are: clip imagery to AOI, convert imagery to NDVI, and reproject all imagery to the same projection. \n",
    "\n",
    "##### Step 4.1: Define Toolchain Tools\n",
    "\n",
    "In this step, we clip the imagery to the AOI and convert the imagery to NDVI.\n",
    "\n",
    "Why do we clip the imagery to the AOI? As we just saw, the imagery footprints are big, rectangular shapes. They cover the AOI but they do not match the AOI. Since we only care about pixels within the AOI, we clip the footprints to that AOI."
   ]
  },
  {
   "cell_type": "code",
   "execution_count": 44,
   "metadata": {},
   "outputs": [],
   "source": [
    "def get_tools(aoi_geom):\n",
    "    # clip to AOI\n",
    "    clip_tool = {'clip': {'aoi': aoi_geom}}\n",
    "\n",
    "    # convert to NDVI\n",
    "    ndvi_tool = {'bandmath': {\n",
    "        \"pixel_type\": \"32R\",\n",
    "        \"b1\": \"(b4 - b3) / (b4+b3)\"\n",
    "    }}\n",
    "\n",
    "    tools = [clip_tool, ndvi_tool]\n",
    "    return tools"
   ]
  },
  {
   "cell_type": "markdown",
   "metadata": {},
   "source": [
    "##### Step 4.2: Build Order Requests"
   ]
  },
  {
   "cell_type": "code",
   "execution_count": 37,
   "metadata": {},
   "outputs": [],
   "source": [
    "def build_order(ids, name, aoi_geom):\n",
    "    # specify the psscene4band surface reflectance product\n",
    "    # make sure to get the *_udm2 bundle so you get the udm2 product\n",
    "    # note: capitalization really matters in item_type when using planet client orders api\n",
    "    item_type = 'PSScene4Band'\n",
    "    bundle = 'analytic_sr_udm2'\n",
    "\n",
    "    orders_request = {\n",
    "        'name': name,\n",
    "        'products': [{\n",
    "            'item_ids': ids,\n",
    "            'item_type': item_type,\n",
    "            'product_bundle': bundle\n",
    "        }],\n",
    "        'tools': get_tools(aoi_geom),\n",
    "        'delivery': {\n",
    "            'single_archive': True,\n",
    "            'archive_filename':'{{name}}_{{order_id}}.zip',\n",
    "            'archive_type':'zip'\n",
    "        },\n",
    "            'notifications': {\n",
    "                       'email': False\n",
    "        },\n",
    "    }\n",
    "    return orders_request\n",
    "# uncomment to see what an order request would look like\n",
    "# pprint(build_order(['id'], 'demo', test_aoi_geom), indent=4)"
   ]
  },
  {
   "cell_type": "code",
   "execution_count": 38,
   "metadata": {},
   "outputs": [],
   "source": [
    "ids = [i['id'] for i in items]\n",
    "name = 'pixels_to_tabular'"
   ]
  },
  {
   "cell_type": "code",
   "execution_count": 39,
   "metadata": {},
   "outputs": [],
   "source": [
    "order_request = build_order(ids, name, field_aoi)"
   ]
  },
  {
   "cell_type": "markdown",
   "metadata": {},
   "source": [
    "##### Step 4.2: Submit Order\n"
   ]
  },
  {
   "cell_type": "code",
   "execution_count": 40,
   "metadata": {},
   "outputs": [
    {
     "data": {
      "text/plain": [
       "'5ceb5cf4-2a91-407d-9de9-019c4aced5d1'"
      ]
     },
     "execution_count": 40,
     "metadata": {},
     "output_type": "execute_result"
    }
   ],
   "source": [
    "def create_order(order_request, client):\n",
    "    orders_info = client.create_order(order_request).get()\n",
    "    return orders_info['id']\n",
    "\n",
    "order_id = create_order(order_request, client)\n",
    "order_id"
   ]
  },
  {
   "cell_type": "markdown",
   "metadata": {},
   "source": [
    "#### Step 5: Download Orders\n",
    "\n",
    "##### Step 5.1: Wait Until Orders are Successful\n",
    "\n",
    "Before we can download the orders, they have to be prepared on the server."
   ]
  },
  {
   "cell_type": "code",
   "execution_count": 49,
   "metadata": {},
   "outputs": [
    {
     "name": "stdout",
     "output_type": "stream",
     "text": [
      "success\n"
     ]
    }
   ],
   "source": [
    "def poll_for_success(order_id, client, num_loops=50):\n",
    "    count = 0\n",
    "    while(count < num_loops):\n",
    "        count += 1\n",
    "        order_info = client.get_individual_order(order_id).get()\n",
    "        state = order_info['state']\n",
    "        print(state)\n",
    "        success_states = ['success', 'partial']\n",
    "        if state == 'failed':\n",
    "            raise Exception(response)\n",
    "        elif state in success_states:\n",
    "            break\n",
    "        \n",
    "        time.sleep(10)\n",
    "        \n",
    "poll_for_success(order_id, client)"
   ]
  },
  {
   "cell_type": "markdown",
   "metadata": {},
   "source": [
    "##### Step 5.2: Run Download\n",
    "\n",
    "For this step we will use the planet python orders API because we want to be able to download multiple orders at once, something the CLI does not yet support."
   ]
  },
  {
   "cell_type": "code",
   "execution_count": 53,
   "metadata": {},
   "outputs": [],
   "source": [
    "data_dir = os.path.join('data', 'field_statistical_analysis')\n",
    "\n",
    "# make the download directory if it doesn't exist\n",
    "Path(data_dir).mkdir(parents=True, exist_ok=True)"
   ]
  },
  {
   "cell_type": "code",
   "execution_count": 54,
   "metadata": {},
   "outputs": [
    {
     "name": "stdout",
     "output_type": "stream",
     "text": [
      "+ planet orders download --dest data/field_statistical_analysis 5ceb5cf4-2a91-407d-9de9-019c4aced5d1\n",
      "\u001b[2J\u001b[1;1H\u001b[2J\u001b[1;1H\u001b[30;47mactivating: 0            complete: 0              downloaded: 0.0MB             \n",
      "downloading: 0           elapsed: 0               paging: False                 \n",
      "pending: 0                                                                      \u001b[39;49m\n",
      "\n",
      "\u001b[2J\u001b[1;1H\u001b[30;47mactivating: 0            complete: 2              downloaded: 0.00MB            \n",
      "downloading: 0           elapsed: 1               paging: False                 \n",
      "pending: 0                                                                      \u001b[39;49m\n",
      "\n",
      "\u001b[2J\u001b[1;1H\u001b[30;47mactivating: 0            complete: 0              downloaded: 0.0MB             \n",
      "downloading: 0           elapsed: 2               paging: False                 \n",
      "pending: 0                                                                      \u001b[39;49m\n",
      "\n",
      "\u001b[2J\u001b[1;1H\u001b[30;47mactivating: 0            complete: 0              downloaded: 0.0MB             \n",
      "downloading: 0           elapsed: 2               paging: False                 \n",
      "pending: 0                                                                      \u001b[39;49m\n",
      "\n"
     ]
    }
   ],
   "source": [
    "!set -x;planet orders download --dest $data_dir $order_id"
   ]
  },
  {
   "cell_type": "markdown",
   "metadata": {},
   "source": [
    "##### Step 5.3: Get Downloaded File Location(s)\n",
    "We use the downloaded order manifest to find the downloaded file locations. The manifest is saved in the download directory."
   ]
  },
  {
   "cell_type": "code",
   "execution_count": 57,
   "metadata": {},
   "outputs": [
    {
     "name": "stdout",
     "output_type": "stream",
     "text": [
      "manifest.json  pixels_to_tabular_5ceb5cf4-2a91-407d-9de9-019c4aced5d1.zip\r\n"
     ]
    }
   ],
   "source": [
    "!ls data/field_statistical_analysis"
   ]
  },
  {
   "cell_type": "code",
   "execution_count": 59,
   "metadata": {},
   "outputs": [
    {
     "name": "stdout",
     "output_type": "stream",
     "text": [
      "['data/field_statistical_analysis/pixels_to_tabular_5ceb5cf4-2a91-407d-9de9-019c4aced5d1.zip']\n"
     ]
    }
   ],
   "source": [
    "def get_download_locations(download_dir):\n",
    "    manifest_file = os.path.join(download_dir, 'manifest.json')\n",
    "    \n",
    "    with open(manifest_file, 'r') as src:\n",
    "        manifest = json.load(src)\n",
    "    \n",
    "    # uncomment to see the manifest\n",
    "#     pprint(manifest)\n",
    "        \n",
    "    locations = [os.path.join(download_dir, f['path'])\n",
    "                 for f in manifest['files']]\n",
    "    return locations\n",
    "\n",
    "locations = get_download_locations(data_dir)\n",
    "pprint(locations)"
   ]
  },
  {
   "cell_type": "markdown",
   "metadata": {
    "collapsed": true
   },
   "source": [
    "#### Step 6: Unzip Order\n",
    "\n",
    "In this step we will simply unzip the order\n",
    "\n",
    "##### 6.1: Unzip Order\n",
    "\n",
    "In this section, we will unzip each order into a directory named after the downloaded zip file."
   ]
  },
  {
   "cell_type": "code",
   "execution_count": 62,
   "metadata": {},
   "outputs": [
    {
     "data": {
      "text/plain": [
       "PosixPath('data/field_statistical_analysis/pixels_to_tabular_5ceb5cf4-2a91-407d-9de9-019c4aced5d1')"
      ]
     },
     "execution_count": 62,
     "metadata": {},
     "output_type": "execute_result"
    }
   ],
   "source": [
    "def unzip(filename, overwrite=False):\n",
    "    location = Path(filename)\n",
    "    zipdir = location.parent / location.stem\n",
    "\n",
    "    if os.path.isdir(zipdir):\n",
    "        if overwrite:\n",
    "            print('{} exists. overwriting.'.format(zipdir))\n",
    "            shutil.rmtree(zipdir)\n",
    "        else:\n",
    "            raise Exception('{} already exists'.format(zipdir))\n",
    "        \n",
    "    with ZipFile(location) as myzip:\n",
    "        myzip.extractall(zipdir)\n",
    "    return zipdir\n",
    "\n",
    "zipdir = unzip(locations[0])\n",
    "zipdir"
   ]
  },
  {
   "cell_type": "code",
   "execution_count": 64,
   "metadata": {
    "scrolled": false
   },
   "outputs": [],
   "source": [
    "def get_unzipped_files(zipdir):\n",
    "    filedir = zipdir / 'files'\n",
    "    filenames = os.listdir(filedir)\n",
    "    return [filedir / f for f in filenames]\n",
    "\n",
    "file_paths = get_unzipped_files(zipdir)"
   ]
  },
  {
   "cell_type": "markdown",
   "metadata": {},
   "source": [
    "#### Step 7: Filter by Cloudiness"
   ]
  },
  {
   "cell_type": "code",
   "execution_count": null,
   "metadata": {},
   "outputs": [],
   "source": []
  }
 ],
 "metadata": {
  "kernelspec": {
   "display_name": "Python 3",
   "language": "python",
   "name": "python3"
  },
  "language_info": {
   "codemirror_mode": {
    "name": "ipython",
    "version": 3
   },
   "file_extension": ".py",
   "mimetype": "text/x-python",
   "name": "python",
   "nbconvert_exporter": "python",
   "pygments_lexer": "ipython3",
   "version": "3.7.6"
  }
 },
 "nbformat": 4,
 "nbformat_minor": 4
}
