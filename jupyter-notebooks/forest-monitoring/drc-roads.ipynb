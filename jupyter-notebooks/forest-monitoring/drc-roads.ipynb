{
 "cells": [
  {
   "cell_type": "markdown",
   "metadata": {},
   "source": [
    "In this notebook we focus on a region in the Dominican Republic of Congo where roads have been built into the forest. In the area of interest (AOI) we are using, the roads were built between September and November 2017.\n",
    "\n",
    "This notebook does the following:\n",
    "- use PS Orthotiles\n",
    "- filter by overlap of a set of orthotiles (strips) to an aoi that straddles orthotile grid boundaries\n",
    "- take advantage of the Cloud-Optimized Geotiffs (COGs) Planet provides to download only the pixels within the AOI\n",
    "- "
   ]
  },
  {
   "cell_type": "code",
   "execution_count": 199,
   "metadata": {},
   "outputs": [],
   "source": [
    "import datetime\n",
    "import json\n",
    "import os\n",
    "\n",
    "import matplotlib.pyplot as plt\n",
    "import pandas as pd\n",
    "from planet import api\n",
    "from planet.api import filters\n",
    "from shapely import geometry as sgeom\n",
    "from shapely.ops import cascaded_union"
   ]
  },
  {
   "cell_type": "code",
   "execution_count": 78,
   "metadata": {},
   "outputs": [],
   "source": [
    "aoi = {\"geometry\": {\n",
    "    \"type\":\"Polygon\",\n",
    "    \"coordinates\":\n",
    "        [[\n",
    "            [25.42429478260258,1.0255377823058893],\n",
    "            [25.592960813580472,1.0255377823058893],\n",
    "            [25.592960813580472,1.1196578801254304],\n",
    "            [25.42429478260258,1.1196578801254304],\n",
    "            [25.42429478260258,1.0255377823058893]\n",
    "        ]]}}\n",
    "\n",
    "item_type = 'PSOrthoTile'"
   ]
  },
  {
   "cell_type": "code",
   "execution_count": 79,
   "metadata": {},
   "outputs": [
    {
     "data": {
      "image/svg+xml": [
       "<svg xmlns=\"http://www.w3.org/2000/svg\" xmlns:xlink=\"http://www.w3.org/1999/xlink\" width=\"100.0\" height=\"100.0\" viewBox=\"25.417548141363465 1.0187911410667736 0.1821593134561219 0.10761338029777257\" preserveAspectRatio=\"xMinYMin meet\"><g transform=\"matrix(1,0,0,-1,0,2.1451956624313198)\"><path fill-rule=\"evenodd\" fill=\"#66cc99\" stroke=\"#555555\" stroke-width=\"0.003643186269122438\" opacity=\"0.6\" d=\"M 25.42429478260258,1.0255377823058893 L 25.592960813580472,1.0255377823058893 L 25.592960813580472,1.1196578801254304 L 25.42429478260258,1.1196578801254304 L 25.42429478260258,1.0255377823058893 z\" /></g></svg>"
      ],
      "text/plain": [
       "<shapely.geometry.polygon.Polygon at 0x7ff4f22ec908>"
      ]
     },
     "execution_count": 79,
     "metadata": {},
     "output_type": "execute_result"
    }
   ],
   "source": [
    "aoi_shape = sgeom.shape(aoi['geometry'])\n",
    "aoi_shape"
   ]
  },
  {
   "cell_type": "code",
   "execution_count": 80,
   "metadata": {},
   "outputs": [],
   "source": [
    "planet_api_key = os.environ['PL_API_KEY']\n",
    "\n",
    "# quick check that key is defined\n",
    "assert planet_api_key, \"PL_API_KEY not defined.\"\n",
    "\n",
    "client = api.ClientV1(api_key=planet_api_key)"
   ]
  },
  {
   "cell_type": "code",
   "execution_count": 81,
   "metadata": {},
   "outputs": [
    {
     "name": "stdout",
     "output_type": "stream",
     "text": [
      "{\n",
      "    \"utc_offset\": \"+0h\",\n",
      "    \"interval\": \"month\",\n",
      "    \"buckets\": [\n",
      "        {\n",
      "            \"count\": 50,\n",
      "            \"start_time\": \"2017-09-01T00:00:00.000000Z\"\n",
      "        },\n",
      "        {\n",
      "            \"count\": 30,\n",
      "            \"start_time\": \"2017-10-01T00:00:00.000000Z\"\n",
      "        },\n",
      "        {\n",
      "            \"count\": 52,\n",
      "            \"start_time\": \"2017-11-01T00:00:00.000000Z\"\n",
      "        }\n",
      "    ]\n",
      "}\n"
     ]
    }
   ],
   "source": [
    "# utility functions for searching for scenes that cover the aoi\n",
    "def build_ps_request(aoi, item_type):\n",
    "    old = datetime.datetime(year=2017,month=9,day=1)\n",
    "    new = datetime.datetime(year=2017,month=12,day=1)\n",
    "\n",
    "    search_aoi = aoi['geometry']\n",
    "    query = filters.and_filter(\n",
    "        filters.geom_filter(search_aoi),\n",
    "        filters.range_filter('cloud_cover', lt=5),\n",
    "        filters.date_range('acquired', gte=old),\n",
    "        filters.date_range('acquired', lt=new)\n",
    "    )\n",
    "\n",
    "    # build a request for only PlanetScope imagery\n",
    "    request = filters.build_search_request(\n",
    "        query, item_types=[item_type]\n",
    "    )\n",
    "    \n",
    "    return request\n",
    "\n",
    "def get_monthly_stats(client, request):\n",
    "    stats_request = request.copy()\n",
    "    stats_request['interval'] = 'month'\n",
    "    return client.stats(stats_request).get()\n",
    "\n",
    "print(json.dumps(get_monthly_stats(client, build_ps_request(aoi, item_type)),\n",
    "      indent=4))"
   ]
  },
  {
   "cell_type": "code",
   "execution_count": 82,
   "metadata": {},
   "outputs": [],
   "source": []
  },
  {
   "cell_type": "code",
   "execution_count": 86,
   "metadata": {},
   "outputs": [
    {
     "name": "stdout",
     "output_type": "stream",
     "text": [
      "132\n"
     ]
    }
   ],
   "source": [
    "def search_pl_api(client, request, limit=500):\n",
    "    result = client.quick_search(request)\n",
    "    \n",
    "    # note that this returns a generator\n",
    "    return result.items_iter(limit=limit)\n",
    "\n",
    "items = list(search_pl_api(client, build_ps_request(aoi, item_type)))\n",
    "print(len(items))\n",
    "# uncomment below to see entire metadata for a landsat scene\n",
    "# print(json.dumps(items[0], indent=4))\n",
    "del items"
   ]
  },
  {
   "cell_type": "code",
   "execution_count": 103,
   "metadata": {},
   "outputs": [
    {
     "data": {
      "text/html": [
       "<div>\n",
       "<style scoped>\n",
       "    .dataframe tbody tr th:only-of-type {\n",
       "        vertical-align: middle;\n",
       "    }\n",
       "\n",
       "    .dataframe tbody tr th {\n",
       "        vertical-align: top;\n",
       "    }\n",
       "\n",
       "    .dataframe thead th {\n",
       "        text-align: right;\n",
       "    }\n",
       "</style>\n",
       "<table border=\"1\" class=\"dataframe\">\n",
       "  <thead>\n",
       "    <tr style=\"text-align: right;\">\n",
       "      <th></th>\n",
       "      <th>acquired</th>\n",
       "      <th>anomalous_pixels</th>\n",
       "      <th>black_fill</th>\n",
       "      <th>cloud_cover</th>\n",
       "      <th>columns</th>\n",
       "      <th>epsg_code</th>\n",
       "      <th>footprint</th>\n",
       "      <th>grid_cell</th>\n",
       "      <th>ground_control</th>\n",
       "      <th>gsd</th>\n",
       "      <th>...</th>\n",
       "      <th>published</th>\n",
       "      <th>rows</th>\n",
       "      <th>satellite_id</th>\n",
       "      <th>strip_id</th>\n",
       "      <th>sun_azimuth</th>\n",
       "      <th>sun_elevation</th>\n",
       "      <th>thumbnail</th>\n",
       "      <th>updated</th>\n",
       "      <th>usable_data</th>\n",
       "      <th>view_angle</th>\n",
       "    </tr>\n",
       "  </thead>\n",
       "  <tbody>\n",
       "    <tr>\n",
       "      <th>0</th>\n",
       "      <td>2017-11-29 08:01:24.074002</td>\n",
       "      <td>0.09</td>\n",
       "      <td>0.03</td>\n",
       "      <td>0.088</td>\n",
       "      <td>8000</td>\n",
       "      <td>32635</td>\n",
       "      <td>{'coordinates': [[[25.485767058956622, 0.86370...</td>\n",
       "      <td>3539508</td>\n",
       "      <td>True</td>\n",
       "      <td>4.0</td>\n",
       "      <td>...</td>\n",
       "      <td>2017-11-30T02:50:12Z</td>\n",
       "      <td>8000</td>\n",
       "      <td>103e</td>\n",
       "      <td>951008</td>\n",
       "      <td>128.5</td>\n",
       "      <td>52.2</td>\n",
       "      <td>https://tiles.planet.com/data/v1/item-types/PS...</td>\n",
       "      <td>2017-11-30T02:50:12Z</td>\n",
       "      <td>0.88</td>\n",
       "      <td>1.0</td>\n",
       "    </tr>\n",
       "    <tr>\n",
       "      <th>1</th>\n",
       "      <td>2017-11-29 08:01:22.491475</td>\n",
       "      <td>0.11</td>\n",
       "      <td>0.68</td>\n",
       "      <td>0.109</td>\n",
       "      <td>8000</td>\n",
       "      <td>32635</td>\n",
       "      <td>{'coordinates': [[[25.508178377666166, 1.08075...</td>\n",
       "      <td>3539608</td>\n",
       "      <td>True</td>\n",
       "      <td>4.0</td>\n",
       "      <td>...</td>\n",
       "      <td>2017-11-30T02:50:09Z</td>\n",
       "      <td>8000</td>\n",
       "      <td>103e</td>\n",
       "      <td>951008</td>\n",
       "      <td>128.6</td>\n",
       "      <td>52.1</td>\n",
       "      <td>https://tiles.planet.com/data/v1/item-types/PS...</td>\n",
       "      <td>2017-11-30T02:50:09Z</td>\n",
       "      <td>0.21</td>\n",
       "      <td>1.0</td>\n",
       "    </tr>\n",
       "    <tr>\n",
       "      <th>2</th>\n",
       "      <td>2017-11-27 08:00:59.379316</td>\n",
       "      <td>0.02</td>\n",
       "      <td>0.20</td>\n",
       "      <td>0.019</td>\n",
       "      <td>8000</td>\n",
       "      <td>32635</td>\n",
       "      <td>{'coordinates': [[[25.507997207268964, 0.86370...</td>\n",
       "      <td>3539508</td>\n",
       "      <td>True</td>\n",
       "      <td>4.0</td>\n",
       "      <td>...</td>\n",
       "      <td>2017-11-28T00:19:38Z</td>\n",
       "      <td>8000</td>\n",
       "      <td>0f38</td>\n",
       "      <td>945897</td>\n",
       "      <td>128.1</td>\n",
       "      <td>52.5</td>\n",
       "      <td>https://tiles.planet.com/data/v1/item-types/PS...</td>\n",
       "      <td>2017-11-28T06:48:57Z</td>\n",
       "      <td>0.78</td>\n",
       "      <td>1.2</td>\n",
       "    </tr>\n",
       "    <tr>\n",
       "      <th>3</th>\n",
       "      <td>2017-11-27 08:00:55.739207</td>\n",
       "      <td>0.02</td>\n",
       "      <td>0.40</td>\n",
       "      <td>0.017</td>\n",
       "      <td>8000</td>\n",
       "      <td>32635</td>\n",
       "      <td>{'coordinates': [[[25.552338266881225, 1.08080...</td>\n",
       "      <td>3539608</td>\n",
       "      <td>True</td>\n",
       "      <td>4.0</td>\n",
       "      <td>...</td>\n",
       "      <td>2017-11-28T00:19:34Z</td>\n",
       "      <td>8000</td>\n",
       "      <td>0f38</td>\n",
       "      <td>945897</td>\n",
       "      <td>128.3</td>\n",
       "      <td>52.4</td>\n",
       "      <td>https://tiles.planet.com/data/v1/item-types/PS...</td>\n",
       "      <td>2017-11-28T06:48:32Z</td>\n",
       "      <td>0.58</td>\n",
       "      <td>1.2</td>\n",
       "    </tr>\n",
       "    <tr>\n",
       "      <th>4</th>\n",
       "      <td>2017-11-27 08:01:54.790807</td>\n",
       "      <td>0.03</td>\n",
       "      <td>0.04</td>\n",
       "      <td>0.027</td>\n",
       "      <td>8000</td>\n",
       "      <td>32635</td>\n",
       "      <td>{'coordinates': [[[25.27017644110049, 0.863604...</td>\n",
       "      <td>3539507</td>\n",
       "      <td>True</td>\n",
       "      <td>4.0</td>\n",
       "      <td>...</td>\n",
       "      <td>2017-11-27T22:00:04Z</td>\n",
       "      <td>8000</td>\n",
       "      <td>1033</td>\n",
       "      <td>945671</td>\n",
       "      <td>128.0</td>\n",
       "      <td>52.4</td>\n",
       "      <td>https://tiles.planet.com/data/v1/item-types/PS...</td>\n",
       "      <td>2017-11-28T07:05:02Z</td>\n",
       "      <td>0.93</td>\n",
       "      <td>1.0</td>\n",
       "    </tr>\n",
       "  </tbody>\n",
       "</table>\n",
       "<p>5 rows × 26 columns</p>\n",
       "</div>"
      ],
      "text/plain": [
       "                    acquired  anomalous_pixels  black_fill  cloud_cover  \\\n",
       "0 2017-11-29 08:01:24.074002              0.09        0.03        0.088   \n",
       "1 2017-11-29 08:01:22.491475              0.11        0.68        0.109   \n",
       "2 2017-11-27 08:00:59.379316              0.02        0.20        0.019   \n",
       "3 2017-11-27 08:00:55.739207              0.02        0.40        0.017   \n",
       "4 2017-11-27 08:01:54.790807              0.03        0.04        0.027   \n",
       "\n",
       "   columns  epsg_code                                          footprint  \\\n",
       "0     8000      32635  {'coordinates': [[[25.485767058956622, 0.86370...   \n",
       "1     8000      32635  {'coordinates': [[[25.508178377666166, 1.08075...   \n",
       "2     8000      32635  {'coordinates': [[[25.507997207268964, 0.86370...   \n",
       "3     8000      32635  {'coordinates': [[[25.552338266881225, 1.08080...   \n",
       "4     8000      32635  {'coordinates': [[[25.27017644110049, 0.863604...   \n",
       "\n",
       "  grid_cell  ground_control  gsd    ...                 published  rows  \\\n",
       "0   3539508            True  4.0    ...      2017-11-30T02:50:12Z  8000   \n",
       "1   3539608            True  4.0    ...      2017-11-30T02:50:09Z  8000   \n",
       "2   3539508            True  4.0    ...      2017-11-28T00:19:38Z  8000   \n",
       "3   3539608            True  4.0    ...      2017-11-28T00:19:34Z  8000   \n",
       "4   3539507            True  4.0    ...      2017-11-27T22:00:04Z  8000   \n",
       "\n",
       "   satellite_id  strip_id  sun_azimuth sun_elevation  \\\n",
       "0          103e    951008        128.5          52.2   \n",
       "1          103e    951008        128.6          52.1   \n",
       "2          0f38    945897        128.1          52.5   \n",
       "3          0f38    945897        128.3          52.4   \n",
       "4          1033    945671        128.0          52.4   \n",
       "\n",
       "                                           thumbnail               updated  \\\n",
       "0  https://tiles.planet.com/data/v1/item-types/PS...  2017-11-30T02:50:12Z   \n",
       "1  https://tiles.planet.com/data/v1/item-types/PS...  2017-11-30T02:50:09Z   \n",
       "2  https://tiles.planet.com/data/v1/item-types/PS...  2017-11-28T06:48:57Z   \n",
       "3  https://tiles.planet.com/data/v1/item-types/PS...  2017-11-28T06:48:32Z   \n",
       "4  https://tiles.planet.com/data/v1/item-types/PS...  2017-11-28T07:05:02Z   \n",
       "\n",
       "  usable_data view_angle  \n",
       "0        0.88        1.0  \n",
       "1        0.21        1.0  \n",
       "2        0.78        1.2  \n",
       "3        0.58        1.2  \n",
       "4        0.93        1.0  \n",
       "\n",
       "[5 rows x 26 columns]"
      ]
     },
     "execution_count": 103,
     "metadata": {},
     "output_type": "execute_result"
    }
   ],
   "source": [
    "def items_to_scenes(items):\n",
    "    item_types = []\n",
    "\n",
    "    def _get_props(item):\n",
    "        props = item['properties']\n",
    "        \n",
    "        # add data not in properties list\n",
    "        props.update({\n",
    "            'thumbnail': item['_links']['thumbnail'],\n",
    "            'id': item['id'],\n",
    "            'footprint': item['geometry'],\n",
    "        })\n",
    "        return props\n",
    "    \n",
    "    scenes = pd.DataFrame(data=[_get_props(i) for i in items])\n",
    "    \n",
    "    # convert acquired from string to datetime for processing\n",
    "    scenes['acquired'] = pd.to_datetime(scenes['acquired'])\n",
    "    \n",
    "    return scenes\n",
    "\n",
    "scenes = items_to_scenes(search_pl_api(client, build_ps_request(aoi, item_type)))\n",
    "scenes.head()"
   ]
  },
  {
   "cell_type": "code",
   "execution_count": 150,
   "metadata": {},
   "outputs": [],
   "source": [
    "def aoi_intersection(footprint, aoi):\n",
    "    aoi_shape = sgeom.shape(aoi['geometry'])\n",
    "    footprint_shape = sgeom.shape(footprint)\n",
    "    intersection_shape = aoi_shape.intersection(footprint_shape)\n",
    "    \n",
    "    try:\n",
    "        intersection_percent = 100 * footprint_shape.area / intersection_shape.area\n",
    "    except ZeroDivisionError:\n",
    "        intersection_percent = 0\n",
    "\n",
    "    data = {'intersection_shape': intersection_shape,\n",
    "            'intersection_fp_perc': intersection_percent}\n",
    "    return pd.Series(data=data)\n",
    "\n",
    "intersections = scenes.footprint.apply(aoi_intersection, args=(aoi,))\n",
    "\n",
    "scenes_inter = pd.concat([scenes, intersections], axis=1, sort=False)"
   ]
  },
  {
   "cell_type": "code",
   "execution_count": 152,
   "metadata": {},
   "outputs": [
    {
     "data": {
      "text/plain": [
       "129"
      ]
     },
     "execution_count": 152,
     "metadata": {},
     "output_type": "execute_result"
    }
   ],
   "source": [
    "# filter out scenes with no intersection\n",
    "scenes_inter = scenes_inter[scenes_inter.intersection_fp_perc > 0]\n",
    "len(scenes_inter)"
   ]
  },
  {
   "cell_type": "markdown",
   "metadata": {},
   "source": [
    "### Strip Overlap\n",
    "\n",
    "Because the AOI straddles orthotile grid lines, we focus on the overlap between the aoi and the strip (which is what is cut into orthotiles).\n",
    "\n",
    "We want to filter to strips that have a significant (80%) overlap"
   ]
  },
  {
   "cell_type": "code",
   "execution_count": null,
   "metadata": {},
   "outputs": [],
   "source": [
    "scenes_sid = scenes_inter.groupby(['strip_id'])\n",
    "print('{} intersecting strips'.format(scenes_sid.ngroups))"
   ]
  },
  {
   "cell_type": "code",
   "execution_count": 234,
   "metadata": {},
   "outputs": [
    {
     "data": {
      "text/html": [
       "<div>\n",
       "<style scoped>\n",
       "    .dataframe tbody tr th:only-of-type {\n",
       "        vertical-align: middle;\n",
       "    }\n",
       "\n",
       "    .dataframe tbody tr th {\n",
       "        vertical-align: top;\n",
       "    }\n",
       "\n",
       "    .dataframe thead th {\n",
       "        text-align: right;\n",
       "    }\n",
       "</style>\n",
       "<table border=\"1\" class=\"dataframe\">\n",
       "  <thead>\n",
       "    <tr style=\"text-align: right;\">\n",
       "      <th></th>\n",
       "      <th>strip_intersection_shape</th>\n",
       "      <th>strip_intersection_aoi_perc</th>\n",
       "    </tr>\n",
       "    <tr>\n",
       "      <th>strip_id</th>\n",
       "      <th></th>\n",
       "      <th></th>\n",
       "    </tr>\n",
       "  </thead>\n",
       "  <tbody>\n",
       "    <tr>\n",
       "      <th>736994</th>\n",
       "      <td>POLYGON ((25.42429478260258 1.059224489085933,...</td>\n",
       "      <td>34.632402</td>\n",
       "    </tr>\n",
       "    <tr>\n",
       "      <th>739002</th>\n",
       "      <td>POLYGON ((25.59296081358047 1.089882591128244,...</td>\n",
       "      <td>8.235740</td>\n",
       "    </tr>\n",
       "    <tr>\n",
       "      <th>739199</th>\n",
       "      <td>POLYGON ((25.49464809563758 1.025537782305889,...</td>\n",
       "      <td>100.000000</td>\n",
       "    </tr>\n",
       "    <tr>\n",
       "      <th>741219</th>\n",
       "      <td>POLYGON ((25.59296081358047 1.089847379752558,...</td>\n",
       "      <td>52.223891</td>\n",
       "    </tr>\n",
       "    <tr>\n",
       "      <th>741529</th>\n",
       "      <td>POLYGON ((25.49464809563758 1.025537782305889,...</td>\n",
       "      <td>99.997564</td>\n",
       "    </tr>\n",
       "  </tbody>\n",
       "</table>\n",
       "</div>"
      ],
      "text/plain": [
       "                                   strip_intersection_shape  \\\n",
       "strip_id                                                      \n",
       "736994    POLYGON ((25.42429478260258 1.059224489085933,...   \n",
       "739002    POLYGON ((25.59296081358047 1.089882591128244,...   \n",
       "739199    POLYGON ((25.49464809563758 1.025537782305889,...   \n",
       "741219    POLYGON ((25.59296081358047 1.089847379752558,...   \n",
       "741529    POLYGON ((25.49464809563758 1.025537782305889,...   \n",
       "\n",
       "          strip_intersection_aoi_perc  \n",
       "strip_id                               \n",
       "736994                      34.632402  \n",
       "739002                       8.235740  \n",
       "739199                     100.000000  \n",
       "741219                      52.223891  \n",
       "741529                      99.997564  "
      ]
     },
     "execution_count": 234,
     "metadata": {},
     "output_type": "execute_result"
    }
   ],
   "source": [
    "# add strip overlap\n",
    "\n",
    "def get_strip_aoi_inter(group, aoi):\n",
    "    '''group: data frame with strip id as index'''\n",
    "    intersections = group['intersection_shape'].tolist()\n",
    "    intersection_shape = cascaded_union(intersections)\n",
    "    aoi_shape = sgeom.shape(aoi['geometry'])\n",
    "\n",
    "    try:\n",
    "        intersection_percent = 100 * intersection_shape.area / aoi_shape.area\n",
    "    except ZeroDivisionError:\n",
    "        intersection_percent = 0 \n",
    "\n",
    "    data = {'strip_intersection_shape': intersection_shape,\n",
    "            'strip_intersection_aoi_perc': intersection_percent}\n",
    "    return pd.Series(data=data)\n",
    "    \n",
    "\n",
    "# with help from: https://stackoverflow.com/a/43616001/2344416\n",
    "strip_aoi_inter = scenes_sid.apply(get_strip_aoi_inter, aoi=aoi)\n",
    "\n",
    "strip_aoi_inter.head()"
   ]
  },
  {
   "cell_type": "code",
   "execution_count": 237,
   "metadata": {},
   "outputs": [
    {
     "data": {
      "text/plain": [
       "array([[<matplotlib.axes._subplots.AxesSubplot object at 0x7ff4e8eb52e8>]],\n",
       "      dtype=object)"
      ]
     },
     "execution_count": 237,
     "metadata": {},
     "output_type": "execute_result"
    },
    {
     "data": {
      "image/png": "[encoded data removed]",
      "text/plain": [
       "<Figure size 432x288 with 1 Axes>"
      ]
     },
     "metadata": {},
     "output_type": "display_data"
    }
   ],
   "source": [
    "# what does the distribution of intersection percent of aoi look like?\n",
    "strip_aoi_inter.hist(bins=10)"
   ]
  },
  {
   "cell_type": "code",
   "execution_count": 233,
   "metadata": {},
   "outputs": [
    {
     "data": {
      "text/plain": [
       "strip_id\n",
       "736994    2017-09-06\n",
       "739002    2017-09-07\n",
       "739199    2017-09-07\n",
       "741219    2017-09-08\n",
       "741529    2017-09-08\n",
       "dtype: object"
      ]
     },
     "execution_count": 233,
     "metadata": {},
     "output_type": "execute_result"
    }
   ],
   "source": [
    "# add strip acquisition date\n",
    "\n",
    "def get_date(group):\n",
    "    dates = set([a.date() for a in group['acquired']])\n",
    "    assert len(dates) == 1\n",
    "    return min(dates)\n",
    "\n",
    "strip_date = scenes_sid.apply(get_date)\n",
    "strip_date.head()"
   ]
  },
  {
   "cell_type": "code",
   "execution_count": 242,
   "metadata": {},
   "outputs": [
    {
     "data": {
      "text/html": [
       "<div>\n",
       "<style scoped>\n",
       "    .dataframe tbody tr th:only-of-type {\n",
       "        vertical-align: middle;\n",
       "    }\n",
       "\n",
       "    .dataframe tbody tr th {\n",
       "        vertical-align: top;\n",
       "    }\n",
       "\n",
       "    .dataframe thead th {\n",
       "        text-align: right;\n",
       "    }\n",
       "</style>\n",
       "<table border=\"1\" class=\"dataframe\">\n",
       "  <thead>\n",
       "    <tr style=\"text-align: right;\">\n",
       "      <th></th>\n",
       "      <th>strip_intersection_shape</th>\n",
       "      <th>strip_intersection_aoi_perc</th>\n",
       "      <th>acquisition_date</th>\n",
       "    </tr>\n",
       "    <tr>\n",
       "      <th>strip_id</th>\n",
       "      <th></th>\n",
       "      <th></th>\n",
       "      <th></th>\n",
       "    </tr>\n",
       "  </thead>\n",
       "  <tbody>\n",
       "    <tr>\n",
       "      <th>736994</th>\n",
       "      <td>POLYGON ((25.42429478260258 1.059224489085933,...</td>\n",
       "      <td>34.632402</td>\n",
       "      <td>2017-09-06</td>\n",
       "    </tr>\n",
       "    <tr>\n",
       "      <th>739002</th>\n",
       "      <td>POLYGON ((25.59296081358047 1.089882591128244,...</td>\n",
       "      <td>8.235740</td>\n",
       "      <td>2017-09-07</td>\n",
       "    </tr>\n",
       "    <tr>\n",
       "      <th>739199</th>\n",
       "      <td>POLYGON ((25.49464809563758 1.025537782305889,...</td>\n",
       "      <td>100.000000</td>\n",
       "      <td>2017-09-07</td>\n",
       "    </tr>\n",
       "    <tr>\n",
       "      <th>741219</th>\n",
       "      <td>POLYGON ((25.59296081358047 1.089847379752558,...</td>\n",
       "      <td>52.223891</td>\n",
       "      <td>2017-09-08</td>\n",
       "    </tr>\n",
       "    <tr>\n",
       "      <th>741529</th>\n",
       "      <td>POLYGON ((25.49464809563758 1.025537782305889,...</td>\n",
       "      <td>99.997564</td>\n",
       "      <td>2017-09-08</td>\n",
       "    </tr>\n",
       "  </tbody>\n",
       "</table>\n",
       "</div>"
      ],
      "text/plain": [
       "                                   strip_intersection_shape  \\\n",
       "strip_id                                                      \n",
       "736994    POLYGON ((25.42429478260258 1.059224489085933,...   \n",
       "739002    POLYGON ((25.59296081358047 1.089882591128244,...   \n",
       "739199    POLYGON ((25.49464809563758 1.025537782305889,...   \n",
       "741219    POLYGON ((25.59296081358047 1.089847379752558,...   \n",
       "741529    POLYGON ((25.49464809563758 1.025537782305889,...   \n",
       "\n",
       "          strip_intersection_aoi_perc acquisition_date  \n",
       "strip_id                                                \n",
       "736994                      34.632402       2017-09-06  \n",
       "739002                       8.235740       2017-09-07  \n",
       "739199                     100.000000       2017-09-07  \n",
       "741219                      52.223891       2017-09-08  \n",
       "741529                      99.997564       2017-09-08  "
      ]
     },
     "execution_count": 242,
     "metadata": {},
     "output_type": "execute_result"
    }
   ],
   "source": [
    "# add acquisition date information\n",
    "strips = strip_aoi_inter.assign(acquisition_date=strip_date)"
   ]
  },
  {
   "cell_type": "code",
   "execution_count": 248,
   "metadata": {},
   "outputs": [
    {
     "data": {
      "text/plain": [
       "9"
      ]
     },
     "execution_count": 248,
     "metadata": {},
     "output_type": "execute_result"
    }
   ],
   "source": [
    "# filter to strips that have significant overlap\n",
    "strips_filt = strips[strips.strip_intersection_aoi_perc > 80]\n",
    "len(strips_filt)"
   ]
  },
  {
   "cell_type": "code",
   "execution_count": 249,
   "metadata": {},
   "outputs": [
    {
     "data": {
      "text/plain": [
       "strip_id\n",
       "739199    2017-09-07\n",
       "741529    2017-09-08\n",
       "758681    2017-09-16\n",
       "863467    2017-10-25\n",
       "879726    2017-11-01\n",
       "883193    2017-11-02\n",
       "904538    2017-11-10\n",
       "915538    2017-11-15\n",
       "943459    2017-11-26\n",
       "Name: acquisition_date, dtype: object"
      ]
     },
     "execution_count": 249,
     "metadata": {},
     "output_type": "execute_result"
    }
   ],
   "source": [
    "strips_filt.acquisition_date"
   ]
  },
  {
   "cell_type": "markdown",
   "metadata": {},
   "source": [
    "There are 3 significantly overlapping strips in September, just 1 in October, and 5 in November. Now let's move on to filtering the scene list to scenes in those strips."
   ]
  },
  {
   "cell_type": "code",
   "execution_count": 250,
   "metadata": {},
   "outputs": [
    {
     "data": {
      "text/plain": [
       "['739199',\n",
       " '741529',\n",
       " '758681',\n",
       " '863467',\n",
       " '879726',\n",
       " '883193',\n",
       " '904538',\n",
       " '915538',\n",
       " '943459']"
      ]
     },
     "execution_count": 250,
     "metadata": {},
     "output_type": "execute_result"
    }
   ],
   "source": [
    "overlapping_strip_ids = strips_filt.index.tolist()\n",
    "overlapping_strip_ids"
   ]
  },
  {
   "cell_type": "code",
   "execution_count": 251,
   "metadata": {},
   "outputs": [],
   "source": [
    "# filter to scenes that are in the resulting strips\n",
    "overlapping_scenes = scenes[scenes['strip_id'].isin(overlapping_strip_ids)]"
   ]
  },
  {
   "cell_type": "code",
   "execution_count": 252,
   "metadata": {},
   "outputs": [
    {
     "name": "stdout",
     "output_type": "stream",
     "text": [
      "There are 36 OrthoTiles in 9 strips that significantly overlap the aoi.\n"
     ]
    }
   ],
   "source": [
    "print('There are {} OrthoTiles in {} strips that significantly overlap the aoi.'.format(\n",
    "    len(overlapping_scenes), len(overlapping_strip_ids)))"
   ]
  },
  {
   "cell_type": "code",
   "execution_count": null,
   "metadata": {},
   "outputs": [],
   "source": []
  }
 ],
 "metadata": {
  "kernelspec": {
   "display_name": "Python 3",
   "language": "python",
   "name": "python3"
  },
  "language_info": {
   "codemirror_mode": {
    "name": "ipython",
    "version": 3
   },
   "file_extension": ".py",
   "mimetype": "text/x-python",
   "name": "python",
   "nbconvert_exporter": "python",
   "pygments_lexer": "ipython3",
   "version": "3.6.6"
  }
 },
 "nbformat": 4,
 "nbformat_minor": 2
}
