{
 "cells": [
  {
   "cell_type": "markdown",
   "metadata": {},
   "source": [
    "## Download Mosaics\n",
    "\n",
    "Use of the gdal PLMosaic driver requires specification of the planet api key. This can either be specified in the command-line options, or gdal will try to pull this from the environmental variable `PL_API_KEY`. This notebook assumes that the environmental variable `PL_API_KEY` is set. See the [gdal PLMosaic driver](https://www.gdal.org/frmt_plmosaic.html) for more information."
   ]
  },
  {
   "cell_type": "code",
   "execution_count": 3,
   "metadata": {},
   "outputs": [],
   "source": [
    "import os\n",
    "import subprocess\n",
    "import tempfile\n",
    "\n",
    "from planet import api\n",
    "from planet.api import downloader, filters"
   ]
  },
  {
   "cell_type": "code",
   "execution_count": 46,
   "metadata": {},
   "outputs": [],
   "source": [
    "# uncomment to see what mosaics are available and to make sure the PLMosaic driver is working\n",
    "# !gdalinfo \"PLMosaic:\""
   ]
  },
  {
   "cell_type": "code",
   "execution_count": 50,
   "metadata": {},
   "outputs": [
    {
     "name": "stdout",
     "output_type": "stream",
     "text": [
      "global_monthly_2017_07_mosaic -> data/global_monthly_2017_07_mosaic.tif\n",
      "global_monthly_2017_08_mosaic -> data/global_monthly_2017_08_mosaic.tif\n",
      "global_monthly_2017_09_mosaic -> data/global_monthly_2017_09_mosaic.tif\n",
      "global_monthly_2017_10_mosaic -> data/global_monthly_2017_10_mosaic.tif\n",
      "global_monthly_2017_11_mosaic -> data/global_monthly_2017_11_mosaic.tif\n",
      "global_monthly_2017_12_mosaic -> data/global_monthly_2017_12_mosaic.tif\n",
      "global_monthly_2018_01_mosaic -> data/global_monthly_2018_01_mosaic.tif\n",
      "global_monthly_2018_02_mosaic -> data/global_monthly_2018_02_mosaic.tif\n",
      "global_monthly_2018_03_mosaic -> data/global_monthly_2018_03_mosaic.tif\n"
     ]
    }
   ],
   "source": [
    "# get mosaic names for July 2017 to March 2018\n",
    "mosaic_dates = [('2017', '{0:02d}'.format(m)) for m in range(7, 13)] + \\\n",
    "               [('2018', '{0:02d}'.format(m)) for m in range(1, 4)]\n",
    "mosaic_names = ['global_monthly_{}_{}_mosaic'.format(yr, mo)\n",
    "                for (yr, mo) in mosaic_dates]\n",
    "mosaic_output_names = [os.path.join('data', mosaic_name + '.tif')\n",
    "                       for mosaic_name in mosaic_names]\n",
    "for i_name, o_name in zip(mosaic_names, mosaic_output_names):\n",
    "    print('{} -> {}'.format(i_name, o_name))"
   ]
  },
  {
   "cell_type": "code",
   "execution_count": 32,
   "metadata": {},
   "outputs": [],
   "source": [
    "aoi_filename = 'pre-data/aoi.geojson'"
   ]
  },
  {
   "cell_type": "code",
   "execution_count": 52,
   "metadata": {},
   "outputs": [
    {
     "name": "stdout",
     "output_type": "stream",
     "text": [
      "data/global_monthly_2017_07_mosaic.tif already exists. Aborting download of global_monthly_2017_07_mosaic.\n",
      "data/global_monthly_2017_08_mosaic.tif already exists. Aborting download of global_monthly_2017_08_mosaic.\n",
      "data/global_monthly_2017_09_mosaic.tif already exists. Aborting download of global_monthly_2017_09_mosaic.\n",
      "data/global_monthly_2017_10_mosaic.tif already exists. Aborting download of global_monthly_2017_10_mosaic.\n",
      "data/global_monthly_2017_11_mosaic.tif already exists. Aborting download of global_monthly_2017_11_mosaic.\n",
      "data/global_monthly_2017_12_mosaic.tif already exists. Aborting download of global_monthly_2017_12_mosaic.\n",
      "data/global_monthly_2018_01_mosaic.tif already exists. Aborting download of global_monthly_2018_01_mosaic.\n",
      "data/global_monthly_2018_02_mosaic.tif already exists. Aborting download of global_monthly_2018_02_mosaic.\n",
      "data/global_monthly_2018_03_mosaic.tif already exists. Aborting download of global_monthly_2018_03_mosaic.\n"
     ]
    }
   ],
   "source": [
    "def _gdalwarp(input_filename, output_filename, options):\n",
    "    commands = ['gdalwarp'] + options + \\\n",
    "               ['-overwrite',\n",
    "                input_filename,\n",
    "                output_filename]\n",
    "    print(' '.join(commands))\n",
    "    subprocess.check_call(commands)\n",
    "\n",
    "# lossless compression of an image\n",
    "def _compress(input_filename, output_filename):\n",
    "    commands = ['gdal_translate',\n",
    "                '-co', 'compress=LZW',\n",
    "                '-co', 'predictor=2',\n",
    "                input_filename,\n",
    "                output_filename]\n",
    "    print(' '.join(commands))\n",
    "    subprocess.check_call(commands)\n",
    "\n",
    "def download_mosaic(mosaic_name,\n",
    "             output_filename,\n",
    "             crop_filename,\n",
    "             overwrite=False,\n",
    "             compress=True):\n",
    "    # typically gdalwarp would require `-oo API_KEY={PL_API_KEY}`\n",
    "    # but if the environmental variable PL_API_KEY is set, gdal will use that\n",
    "    options = ['-cutline', crop_filename, '-crop_to_cutline',\n",
    "               '-oo', 'use_tiles=YES']\n",
    "    \n",
    "    # use PLMosaic driver\n",
    "    input_name = 'PLMosaic:mosaic={}'.format(mosaic_name)\n",
    "    \n",
    "    # check to see if output file exists, if it does, do not warp\n",
    "    if os.path.isfile(output_filename) and not overwrite:\n",
    "        print('{} already exists. Aborting download of {}.'.format(output_filename, mosaic_name))\n",
    "    elif compress:\n",
    "        with tempfile.NamedTemporaryFile(suffix='.vrt') as vrt_file:\n",
    "            options += ['-of', 'vrt']\n",
    "            _gdalwarp(input_name, vrt_file.name, options)\n",
    "            _compress(vrt_file.name, output_filename)\n",
    "    else:\n",
    "        _gdalwarp(input_name, output_filename, options)\n",
    "\n",
    "for mosaic_name, output_filename in zip(mosaic_names, mosaic_output_names):\n",
    "    download_mosaic(mosaic_name, output_filename, aoi_filename)"
   ]
  },
  {
   "cell_type": "markdown",
   "metadata": {},
   "source": [
    "## Classify Mosaics into Forest and Non-Forest"
   ]
  },
  {
   "cell_type": "markdown",
   "metadata": {},
   "source": [
    "## Identify Change"
   ]
  },
  {
   "cell_type": "code",
   "execution_count": null,
   "metadata": {},
   "outputs": [],
   "source": []
  }
 ],
 "metadata": {
  "kernelspec": {
   "display_name": "Python 3",
   "language": "python",
   "name": "python3"
  },
  "language_info": {
   "codemirror_mode": {
    "name": "ipython",
    "version": 3
   },
   "file_extension": ".py",
   "mimetype": "text/x-python",
   "name": "python",
   "nbconvert_exporter": "python",
   "pygments_lexer": "ipython3",
   "version": "3.6.6"
  }
 },
 "nbformat": 4,
 "nbformat_minor": 2
}
