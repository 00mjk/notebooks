{
 "cells": [
  {
   "cell_type": "markdown",
   "metadata": {},
   "source": [
    "## Download Mosaics\n",
    "\n",
    "Use of the gdal PLMosaic driver requires specification of the planet api key. This can either be specified in the command-line options, or gdal will try to pull this from the environmental variable `PL_API_KEY`. This notebook assumes that the environmental variable `PL_API_KEY` is set. See the [gdal PLMosaic driver](https://www.gdal.org/frmt_plmosaic.html) for more information."
   ]
  },
  {
   "cell_type": "code",
   "execution_count": 24,
   "metadata": {},
   "outputs": [],
   "source": [
    "import os\n",
    "import subprocess\n",
    "import tempfile\n",
    "\n",
    "from planet import api\n",
    "from planet.api import downloader, filters"
   ]
  },
  {
   "cell_type": "code",
   "execution_count": 25,
   "metadata": {},
   "outputs": [],
   "source": [
    "# uncomment to see what mosaics are available and to make sure the PLMosaic driver is working\n",
    "# !gdalinfo \"PLMosaic:\""
   ]
  },
  {
   "cell_type": "code",
   "execution_count": 26,
   "metadata": {},
   "outputs": [
    {
     "name": "stdout",
     "output_type": "stream",
     "text": [
      "global_monthly_2017_07_mosaic -> data/global_monthly_2017_07_mosaic.tif\n",
      "global_monthly_2017_08_mosaic -> data/global_monthly_2017_08_mosaic.tif\n",
      "global_monthly_2017_09_mosaic -> data/global_monthly_2017_09_mosaic.tif\n",
      "global_monthly_2017_10_mosaic -> data/global_monthly_2017_10_mosaic.tif\n",
      "global_monthly_2017_11_mosaic -> data/global_monthly_2017_11_mosaic.tif\n",
      "global_monthly_2017_12_mosaic -> data/global_monthly_2017_12_mosaic.tif\n",
      "global_monthly_2018_01_mosaic -> data/global_monthly_2018_01_mosaic.tif\n",
      "global_monthly_2018_02_mosaic -> data/global_monthly_2018_02_mosaic.tif\n",
      "global_monthly_2018_03_mosaic -> data/global_monthly_2018_03_mosaic.tif\n"
     ]
    }
   ],
   "source": [
    "# get mosaic names for July 2017 to March 2018\n",
    "mosaic_dates = [('2017', '{0:02d}'.format(m)) for m in range(7, 13)] + \\\n",
    "               [('2018', '{0:02d}'.format(m)) for m in range(1, 4)]\n",
    "mosaic_names = ['global_monthly_{}_{}_mosaic'.format(yr, mo)\n",
    "                for (yr, mo) in mosaic_dates]\n",
    "mosaic_output_names = [os.path.join('data', mosaic_name + '.tif')\n",
    "                       for mosaic_name in mosaic_names]\n",
    "for i_name, o_name in zip(mosaic_names, mosaic_output_names):\n",
    "    print('{} -> {}'.format(i_name, o_name))"
   ]
  },
  {
   "cell_type": "code",
   "execution_count": 27,
   "metadata": {},
   "outputs": [],
   "source": [
    "aoi_filename = 'pre-data/aoi.geojson'"
   ]
  },
  {
   "cell_type": "code",
   "execution_count": 28,
   "metadata": {},
   "outputs": [
    {
     "name": "stdout",
     "output_type": "stream",
     "text": [
      "data/global_monthly_2017_07_mosaic.tif already exists. Aborting download of global_monthly_2017_07_mosaic.\n",
      "data/global_monthly_2017_08_mosaic.tif already exists. Aborting download of global_monthly_2017_08_mosaic.\n",
      "data/global_monthly_2017_09_mosaic.tif already exists. Aborting download of global_monthly_2017_09_mosaic.\n",
      "data/global_monthly_2017_10_mosaic.tif already exists. Aborting download of global_monthly_2017_10_mosaic.\n",
      "data/global_monthly_2017_11_mosaic.tif already exists. Aborting download of global_monthly_2017_11_mosaic.\n",
      "data/global_monthly_2017_12_mosaic.tif already exists. Aborting download of global_monthly_2017_12_mosaic.\n",
      "data/global_monthly_2018_01_mosaic.tif already exists. Aborting download of global_monthly_2018_01_mosaic.\n",
      "data/global_monthly_2018_02_mosaic.tif already exists. Aborting download of global_monthly_2018_02_mosaic.\n",
      "data/global_monthly_2018_03_mosaic.tif already exists. Aborting download of global_monthly_2018_03_mosaic.\n"
     ]
    }
   ],
   "source": [
    "def _gdalwarp(input_filename, output_filename, options):\n",
    "    commands = ['gdalwarp'] + options + \\\n",
    "               ['-overwrite',\n",
    "                input_filename,\n",
    "                output_filename]\n",
    "    print(' '.join(commands))\n",
    "    subprocess.check_call(commands)\n",
    "\n",
    "# lossless compression of an image\n",
    "def _compress(input_filename, output_filename):\n",
    "    commands = ['gdal_translate',\n",
    "                '-co', 'compress=LZW',\n",
    "                '-co', 'predictor=2',\n",
    "                input_filename,\n",
    "                output_filename]\n",
    "    print(' '.join(commands))\n",
    "    subprocess.check_call(commands)\n",
    "\n",
    "def download_mosaic(mosaic_name,\n",
    "             output_filename,\n",
    "             crop_filename,\n",
    "             overwrite=False,\n",
    "             compress=True):\n",
    "    # typically gdalwarp would require `-oo API_KEY={PL_API_KEY}`\n",
    "    # but if the environmental variable PL_API_KEY is set, gdal will use that\n",
    "    options = ['-cutline', crop_filename, '-crop_to_cutline',\n",
    "               '-oo', 'use_tiles=YES']\n",
    "    \n",
    "    # use PLMosaic driver\n",
    "    input_name = 'PLMosaic:mosaic={}'.format(mosaic_name)\n",
    "    \n",
    "    # check to see if output file exists, if it does, do not warp\n",
    "    if os.path.isfile(output_filename) and not overwrite:\n",
    "        print('{} already exists. Aborting download of {}.'.format(output_filename, mosaic_name))\n",
    "    elif compress:\n",
    "        with tempfile.NamedTemporaryFile(suffix='.vrt') as vrt_file:\n",
    "            options += ['-of', 'vrt']\n",
    "            _gdalwarp(input_name, vrt_file.name, options)\n",
    "            _compress(vrt_file.name, output_filename)\n",
    "    else:\n",
    "        _gdalwarp(input_name, output_filename, options)\n",
    "\n",
    "for mosaic_name, output_filename in zip(mosaic_names, mosaic_output_names):\n",
    "    download_mosaic(mosaic_name, output_filename, aoi_filename)"
   ]
  },
  {
   "cell_type": "markdown",
   "metadata": {},
   "source": [
    "## Classify Mosaics into Forest and Non-Forest\n",
    "\n",
    "Although we have already performed classification of a 4-band Orthotile into forest and non-forest in [drc_roads_classification](drc_roads_classification.ipnb), the format of the data is different in mosaics, so we need to re-create our training dataset. We will use the same label images that were created as a part of that notebook. We will, however, pull a lot of code from that notebook."
   ]
  },
  {
   "cell_type": "code",
   "execution_count": 50,
   "metadata": {},
   "outputs": [],
   "source": [
    "# Import functionality from local notebooks\n",
    "# from ipynb.fs.defs.drc_roads_classification import get_label_mask, get_unmasked_count"
   ]
  },
  {
   "cell_type": "code",
   "execution_count": 29,
   "metadata": {},
   "outputs": [],
   "source": [
    "import os\n",
    "\n",
    "import numpy as np\n",
    "import rasterio"
   ]
  },
  {
   "cell_type": "markdown",
   "metadata": {},
   "source": [
    "#### Create Label Masks"
   ]
  },
  {
   "cell_type": "code",
   "execution_count": 30,
   "metadata": {},
   "outputs": [],
   "source": [
    "forest_img = os.path.join('pre-data', 'forestroad_forest.tif')\n",
    "road_img = os.path.join('pre-data', 'forestroad_road.tif')"
   ]
  },
  {
   "cell_type": "code",
   "execution_count": 48,
   "metadata": {},
   "outputs": [
    {
     "name": "stderr",
     "output_type": "stream",
     "text": [
      "/opt/conda/lib/python3.6/site-packages/rasterio/__init__.py:240: NotGeoreferencedWarning: Dataset has no geotransform set. Default transform will be applied (Affine.identity())\n",
      "  s = DatasetReader(fp, driver=driver, **kwargs)\n"
     ]
    },
    {
     "name": "stdout",
     "output_type": "stream",
     "text": [
      "6652509\n",
      "17219\n"
     ]
    },
    {
     "data": {
      "text/plain": [
       "(3333, 6008)"
      ]
     },
     "execution_count": 48,
     "metadata": {},
     "output_type": "execute_result"
    }
   ],
   "source": [
    "def get_label_mask(image_filename):\n",
    "    with rasterio.open(image_filename, 'r') as src:\n",
    "        band = src.read(1)\n",
    "        label_data = band == 255 # valid data in white regions\n",
    "        label_mask = ~label_data # mask True (masked) for not valid data\n",
    "    return label_mask\n",
    "\n",
    "def get_unmasked_count(mask):\n",
    "    return np.size(mask) - np.count_nonzero(mask)\n",
    "\n",
    "forest_mask = get_label_mask(forest_img)\n",
    "print(get_unmasked_count(forest_mask))\n",
    "road_mask = get_label_mask(road_img)\n",
    "print(get_unmasked_count(road_mask))\n",
    "forest_mask.shape"
   ]
  },
  {
   "cell_type": "markdown",
   "metadata": {},
   "source": [
    "#### Match Images"
   ]
  },
  {
   "cell_type": "code",
   "execution_count": 39,
   "metadata": {},
   "outputs": [
    {
     "data": {
      "text/plain": [
       "'data/global_monthly_2017_07_mosaic.tif'"
      ]
     },
     "execution_count": 39,
     "metadata": {},
     "output_type": "execute_result"
    }
   ],
   "source": [
    "image_file = mosaic_output_names[0]\n",
    "image_file"
   ]
  },
  {
   "cell_type": "code",
   "execution_count": 58,
   "metadata": {},
   "outputs": [],
   "source": [
    "label_image = 'pre-data/roads.tif'"
   ]
  },
  {
   "cell_type": "code",
   "execution_count": 57,
   "metadata": {},
   "outputs": [],
   "source": [
    "# !gdalinfo $image_file"
   ]
  },
  {
   "cell_type": "markdown",
   "metadata": {},
   "source": [
    "1. Project mosaic to label crs\n",
    "2. Crop mosaic to label bounds\n",
    "3. Label to mosaic dimensions"
   ]
  },
  {
   "cell_type": "code",
   "execution_count": 74,
   "metadata": {},
   "outputs": [
    {
     "name": "stdout",
     "output_type": "stream",
     "text": [
      "epsg:32635\n",
      "(324669.121082206, 113387.27147534769, 343445.6303321145, 123803.11319740933)\n",
      "(6008, 3333)\n"
     ]
    }
   ],
   "source": [
    "with rasterio.open(label_image, 'r') as ref:\n",
    "    dst_crs = ref.crs['init']\n",
    "    (xmin, ymin, xmax, ymax) = ref.bounds\n",
    "    width = ref.width\n",
    "    height = ref.height\n",
    "\n",
    "print(dst_crs)\n",
    "print((xmin, ymin, xmax, ymax))\n",
    "print((width, height))"
   ]
  },
  {
   "cell_type": "code",
   "execution_count": 79,
   "metadata": {},
   "outputs": [],
   "source": [
    "training_file = os.path.join('data', 'mosaic_training.tif')"
   ]
  },
  {
   "cell_type": "code",
   "execution_count": 80,
   "metadata": {},
   "outputs": [
    {
     "name": "stdout",
     "output_type": "stream",
     "text": [
      "Using band 4 of source image as alpha.\n",
      "Creating output file that is 6008P x 3333L.\n",
      "Processing data/global_monthly_2017_07_mosaic.tif [1/1] : 0...10...20...30...40...50...60...70...80...90...100 - done.\n"
     ]
    }
   ],
   "source": [
    "!gdalwarp -t_srs $dst_crs \\\n",
    "    -te $xmin $ymin $xmax $ymax \\\n",
    "    -ts $width $height \\\n",
    "    -overwrite $image_file $training_file"
   ]
  },
  {
   "cell_type": "markdown",
   "metadata": {},
   "source": [
    "#### Create Training Datasets"
   ]
  },
  {
   "cell_type": "code",
   "execution_count": 81,
   "metadata": {},
   "outputs": [],
   "source": [
    "from functools import reduce\n",
    "\n",
    "from skimage import feature, filters\n",
    "from sklearn.ensemble import RandomForestClassifier"
   ]
  },
  {
   "cell_type": "code",
   "execution_count": 83,
   "metadata": {},
   "outputs": [
    {
     "data": {
      "text/plain": [
       "(3333, 6008)"
      ]
     },
     "execution_count": 83,
     "metadata": {},
     "output_type": "execute_result"
    }
   ],
   "source": [
    "def load_4band(filename):\n",
    "    with rasterio.open(filename, 'r') as src:\n",
    "        # orthotile band ordering: blue, green, red, nir\n",
    "        b, g, r, n = src.read() \n",
    "\n",
    "        mask = b == 0 # 0 is NoData\n",
    "\n",
    "    return [np.ma.array(band, mask=mask) for band in [b, g, r, n]]\n",
    "\n",
    "def get_texture_features(bands):\n",
    "    green_band = bands[1]\n",
    "    edges1 = feature.canny(green_band, low_threshold=0.0, high_threshold=0.01, sigma=2)\n",
    "    blurred = filters.gaussian(edges1, sigma=2)\n",
    "    blurred2 = filters.gaussian(edges1, sigma=6)\n",
    "    return [np.ma.array(texture_band, mask=green_band.mask)\n",
    "            for texture_band in (blurred, blurred2)]\n",
    "\n",
    "def get_feature_bands(image_file):\n",
    "    spectral_bands = load_4band(image_file)\n",
    "    texture_bands = get_texture_features(spectral_bands)\n",
    "    return spectral_bands + texture_bands\n",
    "\n",
    "feature_bands = get_feature_bands(training_file)\n",
    "feature_bands[0].shape"
   ]
  },
  {
   "cell_type": "code",
   "execution_count": 84,
   "metadata": {},
   "outputs": [
    {
     "name": "stdout",
     "output_type": "stream",
     "text": [
      "20001980 valid pixels (0.11% masked)\n"
     ]
    },
    {
     "data": {
      "text/plain": [
       "(3333, 6008)"
      ]
     },
     "execution_count": 84,
     "metadata": {},
     "output_type": "execute_result"
    }
   ],
   "source": [
    "def perc_masked(mask):\n",
    "    return 100*(np.count_nonzero(mask))/mask.size\n",
    "\n",
    "def num_valid(mask):\n",
    "    return (mask.size - np.count_nonzero(mask))\n",
    "\n",
    "def combine_masks(feature_bands):\n",
    "    masks = [b.mask for b in feature_bands]\n",
    "    total_mask = reduce(np.logical_or, masks)\n",
    "    print('{} valid pixels ({}% masked)'.format(num_valid(total_mask),\n",
    "                                                round(perc_masked(total_mask), 2)))\n",
    "    return total_mask\n",
    "\n",
    "total_mask = combine_masks(feature_bands)\n",
    "total_mask.shape"
   ]
  },
  {
   "cell_type": "code",
   "execution_count": 86,
   "metadata": {},
   "outputs": [],
   "source": [
    "def valid_pixels(band, mask):\n",
    "    masked_band = np.ma.array(band, mask=mask)\n",
    "    return masked_band.compressed()\n",
    "\n",
    "def bands_to_X(feature_bands, mask):\n",
    "    # X shape: (num_pixels, num_bands)\n",
    "    all_valid_pixels = [valid_pixels(b, mask) for b in feature_bands]\n",
    "    X = np.swapaxes(np.stack(all_valid_pixels), 0, 1)\n",
    "    return X\n",
    "\n",
    "# combine the label masks with the valid data mask and then create X dataset for each label\n",
    "total_forest_mask = np.logical_or(total_mask, forest_mask)\n",
    "print('{} valid pixels ({}% masked)'.format(num_valid(total_forest_mask),\n",
    "                                            round(perc_masked(total_forest_mask), 2)))\n",
    "X_forest = bands_to_X(feature_bands, total_forest_mask)\n",
    "\n",
    "total_road_mask = np.logical_or(total_mask, road_mask)\n",
    "print('{} valid pixels ({}% masked)'.format(num_valid(total_road_mask),\n",
    "                                            round(perc_masked(total_road_mask), 2)))\n",
    "X_road = bands_to_X(feature_bands, total_road_mask)"
   ]
  },
  {
   "cell_type": "code",
   "execution_count": 88,
   "metadata": {},
   "outputs": [
    {
     "name": "stdout",
     "output_type": "stream",
     "text": [
      "(17219, 6)\n",
      "(17219, 6)\n"
     ]
    }
   ],
   "source": [
    "def sample_pixels(pixels, sample_size):\n",
    "    if pixels.shape[0] > sample_size:\n",
    "        pixel_sample = pixels.copy()\n",
    "        np.random.shuffle(pixel_sample)\n",
    "        pixel_sample = pixel_sample[:sample_size]\n",
    "    else:\n",
    "        pixel_sample = pixels\n",
    "    return pixel_sample\n",
    "    \n",
    "def make_same_size_samples(list_of_X, size_percent=100):\n",
    "    # X: array of dim (num_pixels, num_classified_bands)\n",
    "    sample_len = min([p.shape[0] for p in list_of_X])\n",
    "\n",
    "    # only return size_percent number of pixels in the sample\n",
    "    if size_percent < 100 and size_percent > 0:\n",
    "        sample_len = round(sample_len * size_percent/100.0)\n",
    "    \n",
    "    return [sample_pixels(p, sample_len) for p in list_of_X]\n",
    "\n",
    "[X_forest_sample, X_road_sample] = \\\n",
    "    make_same_size_samples([X_forest, X_road], size_percent=100)\n",
    "\n",
    "print(X_forest_sample.shape)\n",
    "print(X_road_sample.shape)"
   ]
  },
  {
   "cell_type": "code",
   "execution_count": 89,
   "metadata": {},
   "outputs": [
    {
     "name": "stdout",
     "output_type": "stream",
     "text": [
      "(34438, 6)\n",
      "(34438,)\n"
     ]
    }
   ],
   "source": [
    "forest_label_value = 0\n",
    "road_label_value = 1\n",
    "X_training = np.concatenate((X_forest_sample, X_road_sample), axis=0)\n",
    "y_training = np.array(X_forest_sample.shape[0] * [forest_label_value] + \\\n",
    "                      X_road_sample.shape[0] * [road_label_value])\n",
    "    \n",
    "print(X_training.shape)\n",
    "print(y_training.shape)"
   ]
  },
  {
   "cell_type": "markdown",
   "metadata": {},
   "source": [
    "## Identify Change"
   ]
  },
  {
   "cell_type": "code",
   "execution_count": 91,
   "metadata": {},
   "outputs": [],
   "source": [
    "# Simple timer to easily report processing time\n",
    "import time\n",
    "\n",
    "# inspired by https://preshing.com/20110924/timing-your-code-using-pythons-with-statement/\n",
    "class Timer: \n",
    "    def __enter__(self):\n",
    "        self.start = time.time()\n",
    "        return self\n",
    "\n",
    "    def __exit__(self, *args):\n",
    "        self.end = time.time()\n",
    "        self.interval = int(self.end - self.start)\n",
    "        print('{} seconds'.format(self.interval))"
   ]
  },
  {
   "cell_type": "code",
   "execution_count": 93,
   "metadata": {},
   "outputs": [
    {
     "name": "stderr",
     "output_type": "stream",
     "text": [
      "/opt/conda/lib/python3.6/site-packages/sklearn/ensemble/forest.py:246: FutureWarning: The default value of n_estimators will change from 10 in version 0.20 to 100 in 0.22.\n",
      "  \"10 in version 0.20 to 100 in 0.22.\", FutureWarning)\n"
     ]
    },
    {
     "name": "stdout",
     "output_type": "stream",
     "text": [
      "0 seconds\n",
      "8622399 valid pixels (0.0% masked)\n",
      "5 seconds\n",
      "10 seconds\n"
     ]
    }
   ],
   "source": [
    "def classify_forest(image_file, X_training, y_training):\n",
    "    clf = RandomForestClassifier()\n",
    "    \n",
    "    with Timer():\n",
    "        clf.fit(X_training, y_training)\n",
    "    \n",
    "    # for random forest classification, no normalization of the features is required\n",
    "    feature_bands = get_feature_bands(image_file)\n",
    "    total_mask = combine_masks(feature_bands)\n",
    "    X_rf = bands_to_X(feature_bands, total_mask)\n",
    "    \n",
    "    with Timer():\n",
    "        y_pred_rf = clf.predict(X_rf)\n",
    "\n",
    "    y_band_rf = y_to_band(y_pred_rf, total_mask)\n",
    "    return y_band_rf\n",
    "\n",
    "def y_to_band(y, mask):\n",
    "    band = np.ma.array(np.zeros(mask.shape), mask=mask)\n",
    "    band[~band.mask] = y\n",
    "    return band\n",
    "\n",
    "with Timer():\n",
    "    y_band_rf = classify_forest(image_file, X_training, y_training)"
   ]
  },
  {
   "cell_type": "code",
   "execution_count": 94,
   "metadata": {},
   "outputs": [],
   "source": [
    "# load local visual module\n",
    "import visual"
   ]
  },
  {
   "cell_type": "code",
   "execution_count": 96,
   "metadata": {},
   "outputs": [
    {
     "data": {
      "image/png": "[encoded data removed]",
      "text/plain": [
       "<Figure size 1080x1080 with 1 Axes>"
      ]
     },
     "metadata": {},
     "output_type": "display_data"
    }
   ],
   "source": [
    "# separate the class numbers into rgb bands\n",
    "def classified_band_to_rgb(classified_band):\n",
    "    return [classified_band == n for n in [0,1,2]]\n",
    "\n",
    "visual.plot_image(classified_band_to_rgb(y_band_rf),\n",
    "                  title='Classified Image (Random Forests)',\n",
    "                  figsize=(15, 15))"
   ]
  },
  {
   "cell_type": "code",
   "execution_count": null,
   "metadata": {},
   "outputs": [],
   "source": []
  }
 ],
 "metadata": {
  "kernelspec": {
   "display_name": "Python 3",
   "language": "python",
   "name": "python3"
  },
  "language_info": {
   "codemirror_mode": {
    "name": "ipython",
    "version": 3
   },
   "file_extension": ".py",
   "mimetype": "text/x-python",
   "name": "python",
   "nbconvert_exporter": "python",
   "pygments_lexer": "ipython3",
   "version": "3.6.6"
  }
 },
 "nbformat": 4,
 "nbformat_minor": 2
}
