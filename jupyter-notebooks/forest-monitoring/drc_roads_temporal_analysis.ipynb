{
 "cells": [
  {
   "cell_type": "markdown",
   "metadata": {},
   "source": [
    "# DRC Roads Temporal Analysis\n",
    "\n",
    "\n",
    "\n",
    "Keywords: temporal analysis, forest monitoring, classification"
   ]
  },
  {
   "cell_type": "code",
   "execution_count": 6,
   "metadata": {},
   "outputs": [],
   "source": [
    "import datetime\n",
    "import json\n",
    "import os\n",
    "\n",
    "import numpy as np\n",
    "import pandas as pd\n",
    "from planet import api"
   ]
  },
  {
   "cell_type": "code",
   "execution_count": 7,
   "metadata": {},
   "outputs": [],
   "source": [
    "# Import functionality from local notebooks\n",
    "from ipynb.fs.defs.drc_roads_download import get_overlapping_scenes, StripDownloader\n",
    "from ipynb.fs.defs.drc_roads_classification \\\n",
    "    import Timer, load_training_data, classify_forest, classified_band_to_rgb"
   ]
  },
  {
   "cell_type": "markdown",
   "metadata": {},
   "source": [
    "## Download Scenes\n",
    "\n",
    "In this section, we use the ipynb module to import `StripDownloader` from the [drc_roads_download](drc_roads_download.ipynb) notebook. We then use `StripDownloader` to download the portion of OrthoTile strips that overlap the AOI.\n",
    "\n",
    "### Load data from drc_roads_download notebook"
   ]
  },
  {
   "cell_type": "code",
   "execution_count": 8,
   "metadata": {},
   "outputs": [],
   "source": [
    "# load aoi. Saved in drc_roads_download notebook\n",
    "aoi_geojson_filename = os.path.join('pre-data', 'aoi.geojson')"
   ]
  },
  {
   "cell_type": "code",
   "execution_count": 9,
   "metadata": {},
   "outputs": [],
   "source": [
    "# # load scenes database. Saved in drc_roads_download notebook\n",
    "# overlapping_scenes_filename = os.path.join('pre-data', 'overlapping-scenes')\n",
    "# overlapping_scenes = pd.read_pickle(overlapping_scenes_filename)"
   ]
  },
  {
   "cell_type": "markdown",
   "metadata": {},
   "source": [
    "### Download portions of OrthoTile strips that overlap AOI"
   ]
  },
  {
   "cell_type": "code",
   "execution_count": 5,
   "metadata": {},
   "outputs": [],
   "source": [
    "# create planet api client\n",
    "planet_api_key = os.environ['PL_API_KEY']\n",
    "\n",
    "# quick check that key is defined\n",
    "assert planet_api_key, \"PL_API_KEY not defined.\"\n",
    "\n",
    "client = api.ClientV1(api_key=planet_api_key)"
   ]
  },
  {
   "cell_type": "code",
   "execution_count": 5,
   "metadata": {},
   "outputs": [
    {
     "ename": "NameError",
     "evalue": "name 'json' is not defined",
     "output_type": "error",
     "traceback": [
      "\u001b[0;31m---------------------------------------------------------------------------\u001b[0m",
      "\u001b[0;31mNameError\u001b[0m                                 Traceback (most recent call last)",
      "\u001b[0;32m<ipython-input-5-50abe5b9d655>\u001b[0m in \u001b[0;36m<module>\u001b[0;34m()\u001b[0m\n\u001b[1;32m      1\u001b[0m \u001b[0;31m# load aoi json\u001b[0m\u001b[0;34m\u001b[0m\u001b[0;34m\u001b[0m\u001b[0m\n\u001b[1;32m      2\u001b[0m \u001b[0;32mwith\u001b[0m \u001b[0mopen\u001b[0m\u001b[0;34m(\u001b[0m\u001b[0maoi_geojson_filename\u001b[0m\u001b[0;34m)\u001b[0m \u001b[0;32mas\u001b[0m \u001b[0mjson_data\u001b[0m\u001b[0;34m:\u001b[0m\u001b[0;34m\u001b[0m\u001b[0m\n\u001b[0;32m----> 3\u001b[0;31m     \u001b[0maoi\u001b[0m \u001b[0;34m=\u001b[0m \u001b[0mjson\u001b[0m\u001b[0;34m.\u001b[0m\u001b[0mload\u001b[0m\u001b[0;34m(\u001b[0m\u001b[0mjson_data\u001b[0m\u001b[0;34m)\u001b[0m\u001b[0;34m\u001b[0m\u001b[0m\n\u001b[0m",
      "\u001b[0;31mNameError\u001b[0m: name 'json' is not defined"
     ]
    }
   ],
   "source": [
    "# load aoi json\n",
    "with open(aoi_geojson_filename) as json_data:\n",
    "    aoi = json.load(json_data)"
   ]
  },
  {
   "cell_type": "code",
   "execution_count": 8,
   "metadata": {},
   "outputs": [],
   "source": [
    "item_type = 'PSOrthoTile'"
   ]
  },
  {
   "cell_type": "code",
   "execution_count": 9,
   "metadata": {},
   "outputs": [
    {
     "name": "stdout",
     "output_type": "stream",
     "text": [
      "500 scenes with intersecting borders\n",
      "494 scenes with intersecting footprints\n",
      "179 intersecting strips\n",
      "36 strips with significant overlap\n",
      "There are 144 OrthoTiles in 36 strips that significantly overlap the aoi\n"
     ]
    }
   ],
   "source": [
    "# get overlapping scenes from to July 2017 to February 2018\n",
    "begin=datetime.datetime(year=2017,month=7,day=1)\n",
    "end=datetime.datetime(year=2018,month=3,day=1)\n",
    "overlapping_scenes = get_overlapping_scenes(aoi, begin, end, client, item_type)"
   ]
  },
  {
   "cell_type": "code",
   "execution_count": 14,
   "metadata": {},
   "outputs": [
    {
     "name": "stdout",
     "output_type": "stream",
     "text": [
      "36 strips\n",
      "found data/1214499_mosaic.tif\n",
      "found data/1176905_mosaic.tif\n",
      "found data/1167439_mosaic.tif\n",
      "found data/1153620_mosaic.tif\n",
      "found data/1150329_mosaic.tif\n",
      "found data/1130991_mosaic.tif\n",
      "found data/1127986_mosaic.tif\n",
      "found data/1124454_mosaic.tif\n",
      "found data/1121892_mosaic.tif\n",
      "found data/1114901_mosaic.tif\n",
      "found data/1043874_mosaic.tif\n",
      "found data/1091588_mosaic.tif\n",
      "found data/1085449_mosaic.tif\n",
      "found data/1081381_mosaic.tif\n",
      "found data/1054596_mosaic.tif\n",
      "found data/1047845_mosaic.tif\n",
      "found data/1043827_mosaic.tif\n",
      "found data/1037433_mosaic.tif\n",
      "found data/1011123_mosaic.tif\n",
      "found data/993122_mosaic.tif\n",
      "found data/960830_mosaic.tif\n",
      "found data/943459_mosaic.tif\n",
      "found data/904538_mosaic.tif\n",
      "found data/915538_mosaic.tif\n",
      "found data/883193_mosaic.tif\n",
      "found data/879726_mosaic.tif\n",
      "found data/863467_mosaic.tif\n",
      "found data/758681_mosaic.tif\n",
      "found data/741529_mosaic.tif\n",
      "found data/739199_mosaic.tif\n",
      "found data/705233_mosaic.tif\n",
      "found data/699281_mosaic.tif\n",
      "found data/651530_mosaic.tif\n",
      "found data/666617_mosaic.tif\n",
      "found data/636659_mosaic.tif\n",
      "found data/624045_mosaic.tif\n",
      "Nothing to download\n"
     ]
    }
   ],
   "source": [
    "asset_type = 'analytic'\n",
    "strip_downloader = StripDownloader(overlapping_scenes, aoi_geojson_filename, client)\n",
    "strip_downloader.run(asset_type, overwrite=False, verbose=True)"
   ]
  },
  {
   "cell_type": "markdown",
   "metadata": {},
   "source": [
    "### Get mosaic image names"
   ]
  },
  {
   "cell_type": "code",
   "execution_count": 32,
   "metadata": {},
   "outputs": [],
   "source": [
    "# sort strip ids as integers. Strip id order is the same as strip temporal order\n",
    "strip_ids = [int(s) for s in overlapping_scenes.strip_id.unique().tolist()]\n",
    "strip_ids.sort()\n",
    "strip_ids = [str(s) for s in strip_ids]"
   ]
  },
  {
   "cell_type": "code",
   "execution_count": 33,
   "metadata": {},
   "outputs": [],
   "source": [
    "strip_mosaics = [strip_downloader.get_filename(i) for i in strip_ids]"
   ]
  },
  {
   "cell_type": "code",
   "execution_count": 34,
   "metadata": {},
   "outputs": [
    {
     "data": {
      "text/plain": [
       "['data/624045_mosaic.tif',\n",
       " 'data/636659_mosaic.tif',\n",
       " 'data/651530_mosaic.tif',\n",
       " 'data/666617_mosaic.tif',\n",
       " 'data/699281_mosaic.tif',\n",
       " 'data/705233_mosaic.tif',\n",
       " 'data/739199_mosaic.tif',\n",
       " 'data/741529_mosaic.tif',\n",
       " 'data/758681_mosaic.tif',\n",
       " 'data/863467_mosaic.tif',\n",
       " 'data/879726_mosaic.tif',\n",
       " 'data/883193_mosaic.tif',\n",
       " 'data/904538_mosaic.tif',\n",
       " 'data/915538_mosaic.tif',\n",
       " 'data/943459_mosaic.tif',\n",
       " 'data/960830_mosaic.tif',\n",
       " 'data/993122_mosaic.tif',\n",
       " 'data/1011123_mosaic.tif',\n",
       " 'data/1037433_mosaic.tif',\n",
       " 'data/1043827_mosaic.tif',\n",
       " 'data/1043874_mosaic.tif',\n",
       " 'data/1047845_mosaic.tif',\n",
       " 'data/1054596_mosaic.tif',\n",
       " 'data/1081381_mosaic.tif',\n",
       " 'data/1085449_mosaic.tif',\n",
       " 'data/1091588_mosaic.tif',\n",
       " 'data/1114901_mosaic.tif',\n",
       " 'data/1121892_mosaic.tif',\n",
       " 'data/1124454_mosaic.tif',\n",
       " 'data/1127986_mosaic.tif',\n",
       " 'data/1130991_mosaic.tif',\n",
       " 'data/1150329_mosaic.tif',\n",
       " 'data/1153620_mosaic.tif',\n",
       " 'data/1167439_mosaic.tif',\n",
       " 'data/1176905_mosaic.tif',\n",
       " 'data/1214499_mosaic.tif']"
      ]
     },
     "execution_count": 34,
     "metadata": {},
     "output_type": "execute_result"
    }
   ],
   "source": [
    "strip_mosaics"
   ]
  },
  {
   "cell_type": "markdown",
   "metadata": {},
   "source": [
    "## Classify Scenes\n",
    "\n",
    "In this section, we use the ipynb module to import classification functionality from the [drc_roads_classification](drc_roads_classification.ipynb) notebook."
   ]
  },
  {
   "cell_type": "code",
   "execution_count": 35,
   "metadata": {},
   "outputs": [],
   "source": [
    "X_training, y_training = load_training_data()"
   ]
  },
  {
   "cell_type": "code",
   "execution_count": null,
   "metadata": {},
   "outputs": [
    {
     "name": "stderr",
     "output_type": "stream",
     "text": [
      "/opt/conda/lib/python3.6/site-packages/sklearn/ensemble/forest.py:246: FutureWarning: The default value of n_estimators will change from 10 in version 0.20 to 100 in 0.22.\n",
      "  \"10 in version 0.20 to 100 in 0.22.\", FutureWarning)\n"
     ]
    },
    {
     "name": "stdout",
     "output_type": "stream",
     "text": [
      "0 seconds\n",
      "11 seconds\n"
     ]
    },
    {
     "name": "stderr",
     "output_type": "stream",
     "text": [
      "/opt/conda/lib/python3.6/site-packages/sklearn/ensemble/forest.py:246: FutureWarning: The default value of n_estimators will change from 10 in version 0.20 to 100 in 0.22.\n",
      "  \"10 in version 0.20 to 100 in 0.22.\", FutureWarning)\n"
     ]
    },
    {
     "name": "stdout",
     "output_type": "stream",
     "text": [
      "0 seconds\n",
      "13 seconds\n"
     ]
    },
    {
     "name": "stderr",
     "output_type": "stream",
     "text": [
      "/opt/conda/lib/python3.6/site-packages/sklearn/ensemble/forest.py:246: FutureWarning: The default value of n_estimators will change from 10 in version 0.20 to 100 in 0.22.\n",
      "  \"10 in version 0.20 to 100 in 0.22.\", FutureWarning)\n"
     ]
    },
    {
     "name": "stdout",
     "output_type": "stream",
     "text": [
      "0 seconds\n",
      "25 seconds\n"
     ]
    },
    {
     "name": "stderr",
     "output_type": "stream",
     "text": [
      "/opt/conda/lib/python3.6/site-packages/sklearn/ensemble/forest.py:246: FutureWarning: The default value of n_estimators will change from 10 in version 0.20 to 100 in 0.22.\n",
      "  \"10 in version 0.20 to 100 in 0.22.\", FutureWarning)\n"
     ]
    },
    {
     "name": "stdout",
     "output_type": "stream",
     "text": [
      "1 seconds\n",
      "25 seconds\n"
     ]
    },
    {
     "name": "stderr",
     "output_type": "stream",
     "text": [
      "/opt/conda/lib/python3.6/site-packages/sklearn/ensemble/forest.py:246: FutureWarning: The default value of n_estimators will change from 10 in version 0.20 to 100 in 0.22.\n",
      "  \"10 in version 0.20 to 100 in 0.22.\", FutureWarning)\n"
     ]
    },
    {
     "name": "stdout",
     "output_type": "stream",
     "text": [
      "0 seconds\n",
      "20 seconds\n"
     ]
    },
    {
     "name": "stderr",
     "output_type": "stream",
     "text": [
      "/opt/conda/lib/python3.6/site-packages/sklearn/ensemble/forest.py:246: FutureWarning: The default value of n_estimators will change from 10 in version 0.20 to 100 in 0.22.\n",
      "  \"10 in version 0.20 to 100 in 0.22.\", FutureWarning)\n"
     ]
    },
    {
     "name": "stdout",
     "output_type": "stream",
     "text": [
      "0 seconds\n",
      "15 seconds\n"
     ]
    },
    {
     "name": "stderr",
     "output_type": "stream",
     "text": [
      "/opt/conda/lib/python3.6/site-packages/sklearn/ensemble/forest.py:246: FutureWarning: The default value of n_estimators will change from 10 in version 0.20 to 100 in 0.22.\n",
      "  \"10 in version 0.20 to 100 in 0.22.\", FutureWarning)\n"
     ]
    },
    {
     "name": "stdout",
     "output_type": "stream",
     "text": [
      "0 seconds\n",
      "20 seconds\n",
      "0 seconds\n"
     ]
    },
    {
     "name": "stderr",
     "output_type": "stream",
     "text": [
      "/opt/conda/lib/python3.6/site-packages/sklearn/ensemble/forest.py:246: FutureWarning: The default value of n_estimators will change from 10 in version 0.20 to 100 in 0.22.\n",
      "  \"10 in version 0.20 to 100 in 0.22.\", FutureWarning)\n"
     ]
    },
    {
     "name": "stdout",
     "output_type": "stream",
     "text": [
      "14 seconds\n"
     ]
    },
    {
     "name": "stderr",
     "output_type": "stream",
     "text": [
      "/opt/conda/lib/python3.6/site-packages/sklearn/ensemble/forest.py:246: FutureWarning: The default value of n_estimators will change from 10 in version 0.20 to 100 in 0.22.\n",
      "  \"10 in version 0.20 to 100 in 0.22.\", FutureWarning)\n"
     ]
    },
    {
     "name": "stdout",
     "output_type": "stream",
     "text": [
      "0 seconds\n",
      "11 seconds\n"
     ]
    },
    {
     "name": "stderr",
     "output_type": "stream",
     "text": [
      "/opt/conda/lib/python3.6/site-packages/sklearn/ensemble/forest.py:246: FutureWarning: The default value of n_estimators will change from 10 in version 0.20 to 100 in 0.22.\n",
      "  \"10 in version 0.20 to 100 in 0.22.\", FutureWarning)\n"
     ]
    },
    {
     "name": "stdout",
     "output_type": "stream",
     "text": [
      "0 seconds\n",
      "13 seconds\n"
     ]
    },
    {
     "name": "stderr",
     "output_type": "stream",
     "text": [
      "/opt/conda/lib/python3.6/site-packages/sklearn/ensemble/forest.py:246: FutureWarning: The default value of n_estimators will change from 10 in version 0.20 to 100 in 0.22.\n",
      "  \"10 in version 0.20 to 100 in 0.22.\", FutureWarning)\n"
     ]
    },
    {
     "name": "stdout",
     "output_type": "stream",
     "text": [
      "0 seconds\n",
      "11 seconds\n"
     ]
    },
    {
     "name": "stderr",
     "output_type": "stream",
     "text": [
      "/opt/conda/lib/python3.6/site-packages/sklearn/ensemble/forest.py:246: FutureWarning: The default value of n_estimators will change from 10 in version 0.20 to 100 in 0.22.\n",
      "  \"10 in version 0.20 to 100 in 0.22.\", FutureWarning)\n"
     ]
    },
    {
     "name": "stdout",
     "output_type": "stream",
     "text": [
      "0 seconds\n",
      "17 seconds\n"
     ]
    },
    {
     "name": "stderr",
     "output_type": "stream",
     "text": [
      "/opt/conda/lib/python3.6/site-packages/sklearn/ensemble/forest.py:246: FutureWarning: The default value of n_estimators will change from 10 in version 0.20 to 100 in 0.22.\n",
      "  \"10 in version 0.20 to 100 in 0.22.\", FutureWarning)\n"
     ]
    },
    {
     "name": "stdout",
     "output_type": "stream",
     "text": [
      "0 seconds\n",
      "16 seconds\n"
     ]
    },
    {
     "name": "stderr",
     "output_type": "stream",
     "text": [
      "/opt/conda/lib/python3.6/site-packages/sklearn/ensemble/forest.py:246: FutureWarning: The default value of n_estimators will change from 10 in version 0.20 to 100 in 0.22.\n",
      "  \"10 in version 0.20 to 100 in 0.22.\", FutureWarning)\n"
     ]
    },
    {
     "name": "stdout",
     "output_type": "stream",
     "text": [
      "0 seconds\n",
      "11 seconds\n"
     ]
    },
    {
     "name": "stderr",
     "output_type": "stream",
     "text": [
      "/opt/conda/lib/python3.6/site-packages/sklearn/ensemble/forest.py:246: FutureWarning: The default value of n_estimators will change from 10 in version 0.20 to 100 in 0.22.\n",
      "  \"10 in version 0.20 to 100 in 0.22.\", FutureWarning)\n"
     ]
    },
    {
     "name": "stdout",
     "output_type": "stream",
     "text": [
      "0 seconds\n",
      "13 seconds\n"
     ]
    },
    {
     "name": "stderr",
     "output_type": "stream",
     "text": [
      "/opt/conda/lib/python3.6/site-packages/sklearn/ensemble/forest.py:246: FutureWarning: The default value of n_estimators will change from 10 in version 0.20 to 100 in 0.22.\n",
      "  \"10 in version 0.20 to 100 in 0.22.\", FutureWarning)\n"
     ]
    },
    {
     "name": "stdout",
     "output_type": "stream",
     "text": [
      "0 seconds\n",
      "20 seconds\n"
     ]
    },
    {
     "name": "stderr",
     "output_type": "stream",
     "text": [
      "/opt/conda/lib/python3.6/site-packages/sklearn/ensemble/forest.py:246: FutureWarning: The default value of n_estimators will change from 10 in version 0.20 to 100 in 0.22.\n",
      "  \"10 in version 0.20 to 100 in 0.22.\", FutureWarning)\n"
     ]
    },
    {
     "name": "stdout",
     "output_type": "stream",
     "text": [
      "0 seconds\n",
      "13 seconds\n"
     ]
    },
    {
     "name": "stderr",
     "output_type": "stream",
     "text": [
      "/opt/conda/lib/python3.6/site-packages/sklearn/ensemble/forest.py:246: FutureWarning: The default value of n_estimators will change from 10 in version 0.20 to 100 in 0.22.\n",
      "  \"10 in version 0.20 to 100 in 0.22.\", FutureWarning)\n"
     ]
    },
    {
     "name": "stdout",
     "output_type": "stream",
     "text": [
      "0 seconds\n",
      "14 seconds\n"
     ]
    },
    {
     "name": "stderr",
     "output_type": "stream",
     "text": [
      "/opt/conda/lib/python3.6/site-packages/sklearn/ensemble/forest.py:246: FutureWarning: The default value of n_estimators will change from 10 in version 0.20 to 100 in 0.22.\n",
      "  \"10 in version 0.20 to 100 in 0.22.\", FutureWarning)\n"
     ]
    },
    {
     "name": "stdout",
     "output_type": "stream",
     "text": [
      "0 seconds\n",
      "15 seconds\n"
     ]
    },
    {
     "name": "stderr",
     "output_type": "stream",
     "text": [
      "/opt/conda/lib/python3.6/site-packages/sklearn/ensemble/forest.py:246: FutureWarning: The default value of n_estimators will change from 10 in version 0.20 to 100 in 0.22.\n",
      "  \"10 in version 0.20 to 100 in 0.22.\", FutureWarning)\n"
     ]
    },
    {
     "name": "stdout",
     "output_type": "stream",
     "text": [
      "0 seconds\n"
     ]
    }
   ],
   "source": [
    "with Timer():\n",
    "    classified_bands = [classify_forest(img, X_training, y_training)\n",
    "                        for img in strip_mosaics]"
   ]
  },
  {
   "cell_type": "code",
   "execution_count": null,
   "metadata": {},
   "outputs": [],
   "source": [
    "import numpy as np"
   ]
  },
  {
   "cell_type": "code",
   "execution_count": null,
   "metadata": {},
   "outputs": [],
   "source": [
    "# We only have two values, 0 and 1. Convert to uint8 for memory. \n",
    "classified_bands = [band.astype(np.uint8) for band in classified_bands]"
   ]
  },
  {
   "cell_type": "markdown",
   "metadata": {},
   "source": [
    "### Visualize Classified Scenes"
   ]
  },
  {
   "cell_type": "code",
   "execution_count": null,
   "metadata": {},
   "outputs": [],
   "source": [
    "import visual"
   ]
  },
  {
   "cell_type": "code",
   "execution_count": null,
   "metadata": {
    "scrolled": false
   },
   "outputs": [],
   "source": [
    "# Decimate classified arrays for memory conservation\n",
    "def decimate(arry, num=4):\n",
    "    return arry[::num, ::num].copy()\n",
    "\n",
    "for classified_band, strip_id in zip(classified_bands, strip_ids):\n",
    "    visual.plot_image(classified_band_to_rgb(decimate(classified_band)),\n",
    "                      title='Classified Image ({})'.format(strip_id),\n",
    "                      figsize=(10, 10))"
   ]
  },
  {
   "cell_type": "markdown",
   "metadata": {},
   "source": [
    "In looking at these classified images, the results of classification actually look really good. The issue with the ones that are classified as almost entirely non-forest is that they are primarily covered by clouds. Clouds are definately an issue here. It is tempting to dive into (1) using UDM to hopefully be able to filter out images that are primarily clouds and (2) increasing the date range to get more images after the new roads were built. But for now, let's forge on and see what temporal classification can get us."
   ]
  },
  {
   "cell_type": "markdown",
   "metadata": {},
   "source": [
    "## Temporal Classification\n",
    "\n",
    "Lets look at the time series information for each pixel and see if we can identify true change"
   ]
  },
  {
   "cell_type": "code",
   "execution_count": null,
   "metadata": {},
   "outputs": [],
   "source": [
    "def get_strip_date(strip_id):\n",
    "    strip_scenes = overlapping_scenes[overlapping_scenes.strip_id == strip_id]\n",
    "    strip_dates = set([a.date() for a in strip_scenes.acquired.tolist()])\n",
    "    assert len(strip_dates) == 1\n",
    "    return strip_dates.pop()\n",
    "\n",
    "test_strip_id = '943459'\n",
    "get_strip_date(test_strip_id)"
   ]
  },
  {
   "cell_type": "code",
   "execution_count": null,
   "metadata": {},
   "outputs": [],
   "source": [
    "import matplotlib.pyplot as plt\n",
    "import numpy as np"
   ]
  },
  {
   "cell_type": "code",
   "execution_count": null,
   "metadata": {},
   "outputs": [],
   "source": [
    "# get time series for each unmasked pixel\n",
    "pixel_timeseries = np.ma.compress_cols(np.ma.dstack(classified_bands).transpose(2, 0, 1).reshape(9, -1)).transpose(1,0)\n",
    "pixel_timeseries.shape"
   ]
  },
  {
   "cell_type": "code",
   "execution_count": null,
   "metadata": {},
   "outputs": [],
   "source": [
    "def make_sample(pixels, count):\n",
    "    pixel_sample = pixels.copy()\n",
    "    np.random.shuffle(pixel_sample) # only shuffles along the first axis\n",
    "    pixel_sample = pixel_sample[:count, :]\n",
    "    return pixel_sample\n",
    "\n",
    "make_sample(pixel_timeseries, 6).shape"
   ]
  },
  {
   "cell_type": "code",
   "execution_count": null,
   "metadata": {},
   "outputs": [],
   "source": [
    "def make_same_size_samples(list_of_pixel_sets):\n",
    "    sample_len = min([p.shape[0] for p in list_of_pixel_sets])\n",
    "\n",
    "    def sample_pixels(pixels):\n",
    "        if pixels.shape[0] > sample_len:\n",
    "            pixel_sample = make_sample(pixels, sample_len)\n",
    "        else:\n",
    "            pixel_sample = pixels\n",
    "        return pixel_sample\n",
    "    \n",
    "    return [sample_pixels(p)\n",
    "            for p in list_of_pixel_sets]\n",
    "\n",
    "forest_pixels = pixel_timeseries[pixel_timeseries[:,0] == 0]\n",
    "non_forest_pixels = pixel_timeseries[pixel_timeseries[:,0] == 1]\n",
    "forest_pixels_sample, non_forest_pixels_sample = make_same_size_samples([forest_pixels, non_forest_pixels])\n",
    "print(forest_pixels_sample.shape)\n",
    "print(non_forest_pixels_sample.shape)"
   ]
  },
  {
   "cell_type": "code",
   "execution_count": null,
   "metadata": {},
   "outputs": [],
   "source": [
    "forest_plot_sample = make_sample(forest_pixels_sample, 6)\n",
    "non_forest_plot_sample = make_sample(non_forest_pixels_sample, 6)"
   ]
  },
  {
   "cell_type": "code",
   "execution_count": null,
   "metadata": {},
   "outputs": [],
   "source": [
    "plt.figure()\n",
    "for i, pixel in enumerate(forest_plot_sample):\n",
    "    plt.plot(np.array(range(len(pixel))), pixel, 'o--', label=i)\n",
    "# plt.legend(loc='upper left')\n",
    "plt.show()"
   ]
  },
  {
   "cell_type": "code",
   "execution_count": null,
   "metadata": {},
   "outputs": [],
   "source": [
    "plt.figure()\n",
    "for i, pixel in enumerate(non_forest_plot_sample):\n",
    "    plt.plot(np.array(range(len(pixel))), pixel, 'o--', label=i)\n",
    "# plt.legend(loc='upper left')\n",
    "plt.show()"
   ]
  },
  {
   "cell_type": "code",
   "execution_count": null,
   "metadata": {},
   "outputs": [],
   "source": []
  }
 ],
 "metadata": {
  "kernelspec": {
   "display_name": "Python 3",
   "language": "python",
   "name": "python3"
  },
  "language_info": {
   "codemirror_mode": {
    "name": "ipython",
    "version": 3
   },
   "file_extension": ".py",
   "mimetype": "text/x-python",
   "name": "python",
   "nbconvert_exporter": "python",
   "pygments_lexer": "ipython3",
   "version": "3.6.6"
  }
 },
 "nbformat": 4,
 "nbformat_minor": 2
}
