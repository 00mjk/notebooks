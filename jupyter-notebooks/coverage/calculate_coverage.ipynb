{
 "cells": [
  {
   "cell_type": "markdown",
   "metadata": {},
   "source": [
    "# Calculate Coverage\n",
    "\n",
    "You've defined an AOI, you've specified the image type you are interested and the search query. Great! But what is the coverage of your AOI given your search query? Wouldn't you like to know before you start downloading images?\n",
    "\n",
    "This notebook will allow you to answer that question quickly and painlessly.\n",
    "\n",
    "Coverage calculation is performed in the UTM [projected coordinate system](http://resources.arcgis.com/en/help/main/10.1/index.html#//003r0000000p000000). The geojson features are defined in the WGS84 [geographic coordinate system](http://resources.arcgis.com/en/help/main/10.1/index.html#//003r00000006000000), which is not a 2D projection. \n",
    "UTM preserves shape and minimizes distortion ([wikipedia](https://en.wikipedia.org/wiki/Universal_Transverse_Mercator_coordinate_system))"
   ]
  },
  {
   "cell_type": "code",
   "execution_count": 1,
   "metadata": {
    "collapsed": true
   },
   "outputs": [],
   "source": [
    "# Notebook dependencies\n",
    "from __future__ import print_function\n",
    "\n",
    "import datetime\n",
    "import copy\n",
    "from functools import partial\n",
    "import os\n",
    "\n",
    "from IPython.display import display, Image\n",
    "import matplotlib\n",
    "from matplotlib import cm\n",
    "import matplotlib.pyplot as plt\n",
    "import numpy as np\n",
    "import pandas as pd\n",
    "from planet import api\n",
    "from planet.api import filters\n",
    "import pyproj\n",
    "import rasterio\n",
    "from rasterio import features as rfeatures\n",
    "from shapely import geometry as sgeom\n",
    "import shapely.ops\n",
    "\n",
    "%matplotlib inline"
   ]
  },
  {
   "cell_type": "markdown",
   "metadata": {},
   "source": [
    "## Define AOI\n",
    "\n",
    "Define the AOI as a geojson polygon. This can be done at [geojson.io](http://geojson.io). If you use geojson.io, only copy the single aoi feature, not the entire feature collection."
   ]
  },
  {
   "cell_type": "code",
   "execution_count": 2,
   "metadata": {
    "collapsed": true
   },
   "outputs": [],
   "source": [
    "aoi = {u'geometry': {u'type': u'Polygon', u'coordinates': [[[-121.3113248348236, 38.28911976564886], [-121.3113248348236, 38.34622533958], [-121.2344205379486, 38.34622533958], [-121.2344205379486, 38.28911976564886], [-121.3113248348236, 38.28911976564886]]]}, u'type': u'Feature', u'properties': {u'style': {u'opacity': 0.5, u'fillOpacity': 0.2, u'noClip': False, u'weight': 4, u'color': u'blue', u'lineCap': None, u'dashArray': None, u'smoothFactor': 1, u'stroke': True, u'fillColor': None, u'clickable': True, u'lineJoin': None, u'fill': True}}}"
   ]
  },
  {
   "cell_type": "code",
   "execution_count": 3,
   "metadata": {
    "collapsed": true
   },
   "outputs": [],
   "source": [
    "# this notebook uses rasterio Shapes for processing, so lets convert that geojson to a shape\n",
    "aoi_shape = sgeom.shape(aoi['geometry'])"
   ]
  },
  {
   "cell_type": "markdown",
   "metadata": {},
   "source": [
    "## Build Request\n",
    "\n",
    "Build the Planet API Filter request.\n",
    "\n",
    "Customize this code for your own purposes"
   ]
  },
  {
   "cell_type": "code",
   "execution_count": 4,
   "metadata": {},
   "outputs": [
    {
     "name": "stdout",
     "output_type": "stream",
     "text": [
      "{'filter': {'type': 'AndFilter', 'config': ({'config': {'type': 'Polygon', 'coordinates': (((-121.3113248348236, 38.28911976564886), (-121.3113248348236, 38.34622533958), (-121.2344205379486, 38.34622533958), (-121.2344205379486, 38.28911976564886), (-121.3113248348236, 38.28911976564886)),)}, 'field_name': 'geometry', 'type': 'GeometryFilter'}, {'config': {'lt': 5}, 'field_name': 'cloud_cover', 'type': 'RangeFilter'}, {'config': {'gt': '2016-06-01T00:00:00Z'}, 'field_name': 'acquired', 'type': 'DateRangeFilter'}, {'config': {'lt': '2016-10-01T00:00:00Z'}, 'field_name': 'acquired', 'type': 'DateRangeFilter'})}, 'item_types': ['PSOrthoTile']}\n"
     ]
    }
   ],
   "source": [
    "def build_request(aoi_shape):\n",
    "    old = datetime.datetime(year=2016,month=6,day=1)\n",
    "    new = datetime.datetime(year=2016,month=10,day=1)\n",
    "\n",
    "    query = filters.and_filter(\n",
    "        filters.geom_filter(sgeom.mapping(aoi_shape)),\n",
    "        filters.range_filter('cloud_cover', lt=5),\n",
    "        filters.date_range('acquired', gt=old),\n",
    "        filters.date_range('acquired', lt=new)\n",
    "    )\n",
    "    \n",
    "    item_types = ['PSOrthoTile']\n",
    "    return filters.build_search_request(query, item_types)\n",
    "\n",
    "request = build_request(aoi_shape)\n",
    "print(request)"
   ]
  },
  {
   "cell_type": "markdown",
   "metadata": {},
   "source": [
    "## Check AOI and Determine Coverage Grid Dimensions\n",
    "\n",
    "We convert the AOI to UTM and ensure that it is large enough to include at least a few grid cells 9m x 9m (approximately 3x PS Orthotile resolution). Then we determine the appropriate coverage grid dimensions from the AOI.\n",
    "\n",
    "There are a lot of UTM zones, and the UTM zone we project to depends on the location of the AOI. Once this zone is determined, we create a function that can be used to project any shape. We will use that function to project the scene footprints to the same UTM zone once we get them."
   ]
  },
  {
   "cell_type": "code",
   "execution_count": 5,
   "metadata": {},
   "outputs": [
    {
     "name": "stdout",
     "output_type": "stream",
     "text": [
      "POLYGON ((647682.2164113823 4239242.97954049, 647566.3818401948 4245579.947973883, 654287.2160735554 4245705.677632561, 654408.33032707 4239368.649372667, 647682.2164113823 4239242.97954049))\n"
     ]
    }
   ],
   "source": [
    "# Utility functions: projecting a feature to the appropriate UTM zone\n",
    "\n",
    "def get_utm_projection_fcn(shape):\n",
    "    # define projection\n",
    "    # from shapely [docs](http://toblerity.org/shapely/manual.html#shapely.ops.transform)\n",
    "    proj_fcn = partial(\n",
    "        pyproj.transform,\n",
    "        pyproj.Proj(init='epsg:4326'), #wgs84\n",
    "        _get_utm_projection(shape))\n",
    "    return proj_fcn\n",
    "\n",
    "\n",
    "def _get_utm_zone(shape):\n",
    "    '''geom: geojson geometry'''\n",
    "    centroid = shape.centroid\n",
    "    lon = centroid.x\n",
    "    lat = centroid.y\n",
    "    \n",
    "    if lat > 84 or lat < -80:\n",
    "        raise Exception('UTM Zones only valid within [-80, 84] latitude')\n",
    "    \n",
    "    # this is adapted from\n",
    "    # https://www.e-education.psu.edu/natureofgeoinfo/book/export/html/1696\n",
    "    zone = int((lon + 180) / 6 + 1)\n",
    "    \n",
    "    hemisphere = 'north' if lat > 0 else 'south'\n",
    "    \n",
    "    return (zone, hemisphere)\n",
    "\n",
    "\n",
    "def _get_utm_projection(shape):\n",
    "    zone, hemisphere = _get_utm_zone(shape)\n",
    "    proj_str = \"+proj=utm +zone={zone}, +{hemi} +ellps=WGS84 +datum=WGS84 +units=m +no_defs\".format(\n",
    "        zone=zone, hemi=hemisphere)\n",
    "    return pyproj.Proj(proj_str)\n",
    "\n",
    "\n",
    "proj_fcn = get_utm_projection_fcn(aoi_shape)\n",
    "aoi_shape_utm = shapely.ops.transform(proj_fcn, aoi_shape)\n",
    "print(aoi_shape_utm)"
   ]
  },
  {
   "cell_type": "code",
   "execution_count": 6,
   "metadata": {},
   "outputs": [
    {
     "name": "stdout",
     "output_type": "stream",
     "text": [
      "[718, 760]\n"
     ]
    }
   ],
   "source": [
    "def get_coverage_dimensions(aoi_shape_utm):\n",
    "    '''Checks that aoi is big enough and calculates the dimensions for coverage grid.'''\n",
    "    minx, miny, maxx, maxy = aoi_shape_utm.bounds\n",
    "    width = maxx - minx\n",
    "    height = maxy - miny\n",
    "    \n",
    "    min_cell_size = 9 # in meters, approx 3x ground sampling distance\n",
    "    min_number_of_cells = 3\n",
    "    max_number_of_cells = 3000\n",
    "    \n",
    "    \n",
    "    min_dim = min_cell_size * min_number_of_cells\n",
    "    if height < min_dim:\n",
    "        raise Exception('AOI height too small, should be {}m.'.format(min_dim))\n",
    "\n",
    "    if width < min_dim:\n",
    "        raise Exception('AOI width too small, should be {}m.'.format(min_dim))\n",
    "    \n",
    "    def _dim(length):\n",
    "        return min(int(length/min_cell_size), max_number_of_cells)\n",
    "\n",
    "    return [_dim(l) for l in (height, width)]\n",
    "\n",
    "\n",
    "dimensions = get_coverage_dimensions(aoi_shape_utm)\n",
    "print(dimensions)"
   ]
  },
  {
   "cell_type": "markdown",
   "metadata": {},
   "source": [
    "## Search Planet API\n",
    "\n",
    "The client is how we interact with the planet api. It is created with the user-specific api key, which is pulled from $PL_API_KEY environment variable.\n",
    "\n",
    "Unless you are expecting over 500 images (in which case, why are you concerned about coverage?), this code doesn't need to be altered."
   ]
  },
  {
   "cell_type": "code",
   "execution_count": 7,
   "metadata": {},
   "outputs": [],
   "source": [
    "def get_api_key():\n",
    "    return os.environ['PL_API_KEY']\n",
    "\n",
    "\n",
    "# quick check that key is defined\n",
    "assert get_api_key(), \"PL_API_KEY not defined.\""
   ]
  },
  {
   "cell_type": "code",
   "execution_count": 8,
   "metadata": {},
   "outputs": [],
   "source": [
    "def create_client():\n",
    "    return api.ClientV1(api_key=get_api_key())\n",
    "\n",
    "\n",
    "def search_pl_api(request, limit=500):\n",
    "    client = create_client()\n",
    "    result = client.quick_search(request)\n",
    "    \n",
    "    # note that this returns a generator\n",
    "    return result.items_iter(limit=limit)"
   ]
  },
  {
   "cell_type": "markdown",
   "metadata": {},
   "source": [
    "## Calculate Coverage\n",
    "\n",
    "First query the planet api for the items that match the request defined above, then calculate the overlap between each item and the aoi. Finally, convert each overlap to a grid using [`rasterio.rasterize`](https://mapbox.github.io/rasterio/topics/features.html#burning-shapes-into-a-raster), accumulate coverage over the overlap grids, and display the coverage grid."
   ]
  },
  {
   "cell_type": "code",
   "execution_count": 9,
   "metadata": {},
   "outputs": [
    {
     "name": "stdout",
     "output_type": "stream",
     "text": [
      "22\n"
     ]
    }
   ],
   "source": [
    "def get_overlap_shapes_utm(items, aoi_shape):\n",
    "    '''Determine overlap between item footprint and AOI in UTM.'''\n",
    "    \n",
    "    proj_fcn = get_utm_projection_fcn(aoi_shape)\n",
    "    aoi_shape_utm = shapely.ops.transform(proj_fcn, aoi_shape)\n",
    "\n",
    "    def _calculate_overlap(item):\n",
    "        footprint_shape = sgeom.shape(item['geometry'])\n",
    "        footprint_shape_utm = shapely.ops.transform(proj_fcn, footprint_shape)\n",
    "        return aoi_shape_utm.intersection(footprint_shape_utm)\n",
    "\n",
    "    for i in items:\n",
    "        yield _calculate_overlap(i)\n",
    "\n",
    "\n",
    "items = search_pl_api(request)\n",
    "\n",
    "# cache the overlaps as a list so we don't have to refetch items\n",
    "overlaps = list(get_overlap_shapes_utm(items, aoi_shape))\n",
    "print(len(overlaps))"
   ]
  },
  {
   "cell_type": "code",
   "execution_count": 10,
   "metadata": {
    "scrolled": true
   },
   "outputs": [
    {
     "data": {
      "image/svg+xml": [
       "<svg xmlns=\"http://www.w3.org/2000/svg\" xmlns:xlink=\"http://www.w3.org/1999/xlink\" width=\"300\" height=\"300\" viewBox=\"647430.38621 4239059.0549 4965.96520419 4082.76279983\" preserveAspectRatio=\"xMinYMin meet\"><g transform=\"matrix(1,0,0,-1,0,8482200.87261)\"><path fill-rule=\"evenodd\" fill=\"#66cc99\" stroke=\"#555555\" stroke-width=\"33.1064346946\" opacity=\"0.6\" d=\"M 647682.216411,4239242.97954 L 647614.310847,4242957.89307 L 649868.611481,4241191.2875 L 652212.426777,4239327.6214 L 647682.216411,4239242.97954 z\" /></g></svg>"
      ],
      "text/plain": [
       "<shapely.geometry.polygon.Polygon at 0x7f2619d60d90>"
      ]
     },
     "metadata": {},
     "output_type": "display_data"
    }
   ],
   "source": [
    "# what do overlaps look like?\n",
    "# lets just look at the first overlap to avoid a long output cell\n",
    "display(overlaps[0])"
   ]
  },
  {
   "cell_type": "code",
   "execution_count": 11,
   "metadata": {},
   "outputs": [
    {
     "data": {
      "text/plain": [
       "array([[14, 15, 15],\n",
       "       [19, 15, 15],\n",
       "       [19, 17, 14],\n",
       "       [19, 19, 14],\n",
       "       [18, 19, 16],\n",
       "       [18, 19, 18]], dtype=uint8)"
      ]
     },
     "metadata": {},
     "output_type": "display_data"
    }
   ],
   "source": [
    "def calculate_coverage(overlaps, dimensions):\n",
    "    coverage = np.zeros(dimensions, dtype=np.uint8)\n",
    "\n",
    "    y_count, x_count = dimensions\n",
    "    for overlap in overlaps:\n",
    "        minx, miny, maxx, maxy = overlap.bounds\n",
    "        width = (maxx - minx) / x_count\n",
    "        height = (miny - maxy) / y_count # should be negative\n",
    "\n",
    "        coverage += rfeatures.rasterize(\n",
    "                [sgeom.mapping(overlap)],\n",
    "                fill=0,\n",
    "                default_value=1,\n",
    "                out_shape=dimensions,\n",
    "                transform=rasterio.Affine(width,0,minx,0,height,maxy))\n",
    "\n",
    "    return coverage\n",
    "\n",
    "\n",
    "# what is a low-resolution look at the coverage grid?\n",
    "display(calculate_coverage(overlaps, (6,3)))"
   ]
  },
  {
   "cell_type": "code",
   "execution_count": 12,
   "metadata": {},
   "outputs": [
    {
     "data": {
      "image/png": "[encoded data removed]",
      "text/plain": [
       "<matplotlib.figure.Figure at 0x7f2619d35790>"
      ]
     },
     "metadata": {},
     "output_type": "display_data"
    }
   ],
   "source": [
    "def plot_coverage(coverage):\n",
    "    fig, ax = plt.subplots()\n",
    "    cax = ax.imshow(coverage, interpolation='nearest', cmap=cm.viridis)\n",
    "    ax.set_title('Coverage\\n(median: {})'.format(int(np.median(coverage))))\n",
    "    ax.axis('off')\n",
    "    \n",
    "    ticks_min = coverage.min()\n",
    "    ticks_max = coverage.max()\n",
    "    cbar = fig.colorbar(cax,ticks=[ticks_min, ticks_max])\n",
    "\n",
    "\n",
    "plot_coverage(calculate_coverage(overlaps, dimensions))"
   ]
  },
  {
   "cell_type": "markdown",
   "metadata": {},
   "source": [
    "## Demo: Comparing Coverage\n",
    "\n",
    "We will compare coverage of PS OrthoTiles June and July between 2016 and 2017 for the same aoi."
   ]
  },
  {
   "cell_type": "code",
   "execution_count": 13,
   "metadata": {
    "collapsed": true
   },
   "outputs": [],
   "source": [
    "demo_aoi = aoi  # use the same aoi that was used before\n",
    "\n",
    "demo_aoi_shape = sgeom.shape(demo_aoi['geometry'])\n",
    "\n",
    "proj_fcn = get_utm_projection_fcn(demo_aoi_shape)\n",
    "demo_aoi_shape_utm = shapely.ops.transform(proj_fcn, demo_aoi_shape)\n",
    "demo_dimensions = get_coverage_dimensions(demo_aoi_shape_utm)                               "
   ]
  },
  {
   "cell_type": "code",
   "execution_count": null,
   "metadata": {
    "collapsed": true
   },
   "outputs": [],
   "source": [
    "# Parameterize our search request by start/stop dates for this comparison\n",
    "def build_request_by_dates(aoi_shape, old, new):\n",
    "    query = filters.and_filter(\n",
    "        filters.geom_filter(sgeom.mapping(aoi_shape)),\n",
    "        filters.range_filter('cloud_cover', lt=5),\n",
    "        filters.date_range('acquired', gt=old),\n",
    "        filters.date_range('acquired', lt=new)\n",
    "    )\n",
    "    \n",
    "    item_types = ['PSOrthoTile']\n",
    "    return filters.build_search_request(query, item_types)  "
   ]
  },
  {
   "cell_type": "code",
   "execution_count": 14,
   "metadata": {},
   "outputs": [
    {
     "data": {
      "image/png": "[encoded data removed]",
      "text/plain": [
       "<matplotlib.figure.Figure at 0x7f2619d60ed0>"
      ]
     },
     "metadata": {},
     "output_type": "display_data"
    }
   ],
   "source": [
    "request_2016 = build_request_by_dates(demo_aoi_shape,\n",
    "                                      datetime.datetime(year=2016,month=6,day=1),\n",
    "                                      datetime.datetime(year=2016,month=8,day=1))                                    \n",
    "items = search_pl_api(request_2016)\n",
    "overlaps = list(get_overlap_shapes_utm(items, demo_aoi_shape))\n",
    "plot_coverage(calculate_coverage(overlaps, demo_dimensions))"
   ]
  },
  {
   "cell_type": "code",
   "execution_count": 15,
   "metadata": {},
   "outputs": [
    {
     "data": {
      "image/png": "[encoded data removed]",
      "text/plain": [
       "<matplotlib.figure.Figure at 0x7f26175f9150>"
      ]
     },
     "metadata": {},
     "output_type": "display_data"
    }
   ],
   "source": [
    "request_2017 = build_request_by_dates(demo_aoi_shape,\n",
    "                                      datetime.datetime(year=2017,month=6,day=1),\n",
    "                                      datetime.datetime(year=2017,month=8,day=1))\n",
    "items = search_pl_api(request_2017)\n",
    "overlaps = list(get_overlap_shapes_utm(items, demo_aoi_shape))\n",
    "plot_coverage(calculate_coverage(overlaps, demo_dimensions))"
   ]
  },
  {
   "cell_type": "markdown",
   "metadata": {},
   "source": [
    "Median coverage over 2 months has increased from 2 to 69! That's a decrease in average revisit rate from 1/month to over 1/day. That's what a constellation of over 100 satellites will do for you!"
   ]
  },
  {
   "cell_type": "code",
   "execution_count": null,
   "metadata": {
    "collapsed": true
   },
   "outputs": [],
   "source": []
  }
 ],
 "metadata": {
  "kernelspec": {
   "display_name": "Python 2",
   "language": "python",
   "name": "python2"
  },
  "language_info": {
   "codemirror_mode": {
    "name": "ipython",
    "version": 2
   },
   "file_extension": ".py",
   "mimetype": "text/x-python",
   "name": "python",
   "nbconvert_exporter": "python",
   "pygments_lexer": "ipython2",
   "version": "2.7.13"
  }
 },
 "nbformat": 4,
 "nbformat_minor": 2
}
