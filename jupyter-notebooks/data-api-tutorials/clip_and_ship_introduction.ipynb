{
 "cells": [
  {
   "cell_type": "markdown",
   "metadata": {},
   "source": [
    "## Item Clipping and Download\n",
    "\n",
    "This example clips, downloads and unzips a given scene to the AOI provided, returning only the image data contained in with the AOI. To so this, we use the [\"Clips\" API](https://www.planet.com/docs/reference/clips-api/).\n",
    "\n",
    "In this example, we are clipping a scene to contain only Golden Gate Park in San Francisco."
   ]
  },
  {
   "cell_type": "markdown",
   "metadata": {},
   "source": [
    "### Input Parameters "
   ]
  },
  {
   "cell_type": "code",
   "execution_count": 1,
   "metadata": {},
   "outputs": [],
   "source": [
    "from os import environ\n",
    "\n",
    "# Set API key (this should to be an environment variable)\n",
    "api_key = environ['PL_API_KEY']\n",
    "\n",
    "# Sent Scene ID\n",
    "scene_id = '20170517_192201_1056516_RapidEye-2'\n",
    "\n",
    "# Set Item Type\n",
    "item_type = 'REOrthoTile'\n",
    "\n",
    "# Set Asset Type\n",
    "asset_type = 'visual'\n",
    "\n",
    "# Area Of Interest (clip geometry) in GeoJSON format\n",
    "aoi_json = '''{\n",
    "        \"type\": \"Polygon\",\n",
    "        \"coordinates\": [\n",
    "          [\n",
    "            [\n",
    "              -122.51103401184083,\n",
    "              37.771596736802074\n",
    "            ],\n",
    "            [\n",
    "              -122.51060485839844,\n",
    "              37.763997637045456\n",
    "            ],\n",
    "            [\n",
    "              -122.45902061462401,\n",
    "              37.76603318676243\n",
    "            ],\n",
    "            [\n",
    "              -122.45773315429689,\n",
    "              37.7654903789825\n",
    "            ],\n",
    "            [\n",
    "              -122.45275497436523,\n",
    "              37.76637243960179\n",
    "            ],\n",
    "            [\n",
    "              -122.45455741882324,\n",
    "              37.775124624817906\n",
    "            ],\n",
    "            [\n",
    "              -122.46597290039062,\n",
    "              37.7738356083287\n",
    "            ],\n",
    "            [\n",
    "              -122.51103401184083,\n",
    "              37.771596736802074\n",
    "            ]\n",
    "          ]\n",
    "        ]\n",
    "      }'''"
   ]
  },
  {
   "cell_type": "markdown",
   "metadata": {},
   "source": [
    "### Clip scenes to AOI, poll status, and download when complete"
   ]
  },
  {
   "cell_type": "code",
   "execution_count": 2,
   "metadata": {},
   "outputs": [
    {
     "name": "stdout",
     "output_type": "stream",
     "text": [
      "...Still waiting for clipping to complete...\n",
      "Clip of scene succeeded and is ready to download\n"
     ]
    }
   ],
   "source": [
    "import json\n",
    "import requests\n",
    "import time\n",
    "\n",
    "# Construct clip API payload\n",
    "clip_payload = {\n",
    "    'aoi': json.loads(aoi_json),\n",
    "    'targets': [\n",
    "      {\n",
    "        'item_id': scene_id,\n",
    "        'item_type': item_type,\n",
    "        'asset_type': asset_type\n",
    "      }\n",
    "    ]\n",
    "}\n",
    "\n",
    "# Request clip of scene (This will take some time to complete)\n",
    "request = requests.post('https://api.planet.com/compute/ops/clips/v1', auth=(api_key, ''), json=clip_payload)\n",
    "clip_url = request.json()['_links']['_self']\n",
    "\n",
    "# Poll API to monitor clip status. Once finished, download and upzip the scene\n",
    "clip_succeeded = False\n",
    "while not clip_succeeded:\n",
    "\n",
    "    # Poll API\n",
    "    check_state_request = requests.get(clip_url, auth=(api_key, ''))\n",
    "    \n",
    "    # If clipping process succeeded , we are done\n",
    "    if check_state_request.json()['state'] == 'succeeded':\n",
    "        clip_download_url = check_state_request.json()['_links']['results'][0]\n",
    "        clip_succeeded = True\n",
    "        print(\"Clip of scene succeeded and is ready to download\") \n",
    "    \n",
    "    # Still activating. Wait 1 second and check again.\n",
    "    else:\n",
    "        print(\"...Still waiting for clipping to complete...\")\n",
    "        time.sleep(1)"
   ]
  },
  {
   "cell_type": "markdown",
   "metadata": {},
   "source": [
    "### Download and upzip the clip\n",
    "Once complete, look in the output directory to see your clipped tif file.\n",
    "\n",
    "NOTE: Clipped scene will only be available for 5 minutes."
   ]
  },
  {
   "cell_type": "code",
   "execution_count": 3,
   "metadata": {},
   "outputs": [
    {
     "name": "stderr",
     "output_type": "stream",
     "text": [
      "733149it [00:08, 83064.18it/s]"
     ]
    },
    {
     "name": "stdout",
     "output_type": "stream",
     "text": [
      "Downloaded clips located in: output/\n"
     ]
    },
    {
     "name": "stderr",
     "output_type": "stream",
     "text": [
      "\n"
     ]
    }
   ],
   "source": [
    "import os\n",
    "from tqdm import tqdm\n",
    "import zipfile\n",
    "\n",
    "# Download clip\n",
    "response = requests.get(clip_download_url, stream=True)\n",
    "with open('output/' + scene_id + '.zip', \"wb\") as handle:\n",
    "    for data in tqdm(response.iter_content()):\n",
    "        handle.write(data)\n",
    "\n",
    "# Unzip file\n",
    "ziped_item = zipfile.ZipFile('output/' + scene_id + '.zip')\n",
    "ziped_item.extractall('output/' + scene_id)    \n",
    "  \n",
    "# Delete zip file\n",
    "os.remove('output/' + scene_id + '.zip')\n",
    "print('Downloaded clips located in: output/')"
   ]
  },
  {
   "cell_type": "code",
   "execution_count": 4,
   "metadata": {},
   "outputs": [
    {
     "data": {
      "text/plain": [
       "['.gitkeep', '20170517_192201_1056516_RapidEye-2']"
      ]
     },
     "execution_count": 4,
     "metadata": {},
     "output_type": "execute_result"
    }
   ],
   "source": [
    "os.listdir('output')"
   ]
  },
  {
   "cell_type": "code",
   "execution_count": null,
   "metadata": {},
   "outputs": [],
   "source": []
  }
 ],
 "metadata": {
  "kernelspec": {
   "display_name": "Python 3",
   "language": "python",
   "name": "python3"
  },
  "language_info": {
   "codemirror_mode": {
    "name": "ipython",
    "version": 3
   },
   "file_extension": ".py",
   "mimetype": "text/x-python",
   "name": "python",
   "nbconvert_exporter": "python",
   "pygments_lexer": "ipython3",
   "version": "3.6.4"
  }
 },
 "nbformat": 4,
 "nbformat_minor": 1
}
