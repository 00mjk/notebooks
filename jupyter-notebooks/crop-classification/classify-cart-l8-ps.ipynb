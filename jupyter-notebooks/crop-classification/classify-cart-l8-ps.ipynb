{
 "cells": [
  {
   "cell_type": "markdown",
   "metadata": {},
   "source": [
    "# Crop Type Classification: CART L8 and PS\n",
    "\n",
    "This notebook is a continuation of [Crop Type Classification: CART\n",
    "](classify-cart.ipynb) in which we use Landsat 8 as well as the PS Orthotile to generate features for CART classification.\n",
    "\n",
    "This notebook demonstrates the following:\n",
    "1. Finding a Landsat 8 scene that overlaps a PS Orthotile\n",
    "1. Resampling Landsat 8 bands to match a PS Orthotile\n",
    "1. Loading, visualizing, and using bitwise logic to convert a Landsat 8 QA band to a mask\n",
    "\n",
    "To enable this notebook, a lot of functionality was copied from [Crop Type Classification: CART\n",
    "](classify-cart.ipynb), such as loading and visualizing PS Orthotiles, creating classification features from the bands, and CART classification.\n",
    "\n",
    "\n",
    "## Install Dependencies"
   ]
  },
  {
   "cell_type": "code",
   "execution_count": 1,
   "metadata": {},
   "outputs": [],
   "source": [
    "from collections import namedtuple, OrderedDict\n",
    "import json\n",
    "import os\n",
    "from subprocess import check_output, STDOUT, CalledProcessError\n",
    "import tempfile\n",
    "from xml.dom import minidom\n",
    "\n",
    "import matplotlib\n",
    "import matplotlib.colors as colors\n",
    "import matplotlib.patches as mpatches\n",
    "import matplotlib.pyplot as plt\n",
    "import numpy as np\n",
    "import rasterio\n",
    "from sklearn.metrics import classification_report\n",
    "from sklearn.tree import DecisionTreeClassifier\n",
    "\n",
    "%matplotlib inline"
   ]
  },
  {
   "cell_type": "markdown",
   "metadata": {},
   "source": [
    "## Identify Datasets\n",
    "\n",
    "### PS Orthotile\n",
    "\n",
    "Files associated with PS Orthotile [210879_1558814_2016-07-25_0e16](https://api.planet.com/data/v1/item-types/PSOrthoTile/items/210879_1558814_2016-07-25_0e16/thumb) were downloaded as a part of [Crop Type Classification: CART\n",
    "](classify-cart.ipynb)"
   ]
  },
  {
   "cell_type": "code",
   "execution_count": 2,
   "metadata": {},
   "outputs": [
    {
     "name": "stdout",
     "output_type": "stream",
     "text": [
      "data/cart/210879_1558814_2016-07-25_0e16\n",
      "data/cart/210879_1558814_2016-07-25_0e16/210879_1558814_2016-07-25_0e16_BGRN_DN_udm.tif\n",
      "data/cart/210879_1558814_2016-07-25_0e16/210879_1558814_2016-07-25_0e16_BGRN_Analytic.tif\n",
      "data/cart/210879_1558814_2016-07-25_0e16/210879_1558814_2016-07-25_0e16_BGRN_Analytic_metadata.xml\n"
     ]
    }
   ],
   "source": [
    "# define data file filenames and ensure they exist\n",
    "train_folder = os.path.join('data', 'cart', '210879_1558814_2016-07-25_0e16')\n",
    "print(train_folder)\n",
    "\n",
    "train_files = {\n",
    "    'scene': os.path.join(train_folder, '210879_1558814_2016-07-25_0e16_BGRN_Analytic.tif'),\n",
    "    'metadata': os.path.join(train_folder, '210879_1558814_2016-07-25_0e16_BGRN_Analytic_metadata.xml'),\n",
    "    'udm': os.path.join(train_folder, '210879_1558814_2016-07-25_0e16_BGRN_DN_udm.tif'),\n",
    "}\n",
    "\n",
    "for filename in train_files.values():\n",
    "    print(filename)\n",
    "    assert os.path.isfile(filename)"
   ]
  },
  {
   "cell_type": "markdown",
   "metadata": {},
   "source": [
    "### Landsat 8 Scene\n"
   ]
  },
  {
   "cell_type": "code",
   "execution_count": 3,
   "metadata": {},
   "outputs": [
    {
     "name": "stdout",
     "output_type": "stream",
     "text": [
      "{\"geometry\": {\"type\": \"Polygon\", \"coordinates\": [[[-93.2991294841129, 42.6995987669915], [-93.2996742314127, 42.8127566482941], [-93.2884356831875, 42.8619208871588], [-93.2653319466575, 42.9248165306276], [-92.9938730936993, 42.9251238519476], [-92.9938880477425, 42.7736373428868], [-92.9983961055212, 42.7545290276869], [-93.0191535706845, 42.6999877495273], [-93.2991294841129, 42.6995987669915]]]}, \"type\": \"Feature\", \"properties\": {}}\n",
      "data/cart/210879_1558814_2016-07-25_0e16/aoi.geojson\n"
     ]
    }
   ],
   "source": [
    "# save Orthotile footprint as aoi geojson\n",
    "\n",
    "def get_footprint_coords(metadata_filename):\n",
    "    xmldoc = minidom.parse(metadata_filename)\n",
    "    fp_node = xmldoc.getElementsByTagName('ps:Footprint')[0]\n",
    "\n",
    "    # hone in on the footprint coordinates\n",
    "    # the coordinates are always specified in WGS84, which is also the\n",
    "    # geographic coordeinate system\n",
    "    coords_node = fp_node.getElementsByTagName('gml:coordinates')[0]\n",
    "    coords_str = coords_node.firstChild.data\n",
    "    \n",
    "    # coordinates entry is space-separated lat,lon\n",
    "    coords = [[float(c) for c in cs.split(',')] for cs in coords_str.split(' ')]\n",
    "    return coords\n",
    "\n",
    "def coords_to_feature(coords):\n",
    "    geom = {\n",
    "        \"type\": \"Polygon\",\n",
    "        \"coordinates\": [coords]\n",
    "        }\n",
    "    \n",
    "    feature = {\n",
    "        \"type\": \"Feature\",\n",
    "        \"properties\": {},\n",
    "        \"geometry\": geom}\n",
    "\n",
    "    return feature\n",
    "        \n",
    "def write_geojson(feature, filename):\n",
    "    with open(filename, \"w\") as f:\n",
    "        f.write(json.dumps(feature))\n",
    "    \n",
    "    print(filename)\n",
    "        \n",
    "coords = get_footprint_coords(train_files['metadata'])\n",
    "feat = coords_to_feature(coords)\n",
    "print(json.dumps(feat))\n",
    "\n",
    "# save aoi and add to list of files\n",
    "aoi_filename = os.path.join(train_folder, 'aoi.geojson')\n",
    "write_geojson(feat, aoi_filename)\n",
    "train_files['aoi'] = aoi_filename"
   ]
  },
  {
   "cell_type": "markdown",
   "metadata": {},
   "source": [
    "#### Download Landsat Scene"
   ]
  },
  {
   "cell_type": "markdown",
   "metadata": {},
   "source": [
    "In planet explorer, we upload the AOI as a filter geometry then filter the dates to July 1, 2016 to September 2, 2016. This query results in two Landsat 8 scenes, with [LC80260302016245LGN00](https://api.planet.com/data/v1/item-types/Landsat8L1G/items/LC80260302016245LGN00/thumb) standing out as the best scene to use."
   ]
  },
  {
   "cell_type": "code",
   "execution_count": 4,
   "metadata": {},
   "outputs": [],
   "source": [
    "# uncomment below to learn more about Landsat8L1G LC80260302016245LGN00\n",
    "\n",
    "# !planet data search --item-type Landsat8L1G --string-in id LC80260302016245LGN00\n",
    "\n",
    "# uncomment below to download scene and supporting files to local folder\n",
    "\n",
    "# !mkdir data/cart/LC80260302016245LGN00\n",
    "# !planet data download --item-type Landsat8L1G \\\n",
    "#     --dest data/cart/LC80260302016245LGN00 \\\n",
    "#     --asset-type analytic_bqa,analytic_b2,analytic_b3,analytic_b4,analytic_b5,analytic_b6,analytic_b7 \\\n",
    "#     --string-in id LC80260302016245LGN00\n",
    "# !ls -l --block-size=M data/cart/LC80260302016245LGN00"
   ]
  },
  {
   "cell_type": "code",
   "execution_count": 5,
   "metadata": {},
   "outputs": [
    {
     "data": {
      "text/plain": [
       "{'b2': 'data/cart/LC80260302016245LGN00/LC80260302016245LGN00_B2.TIF',\n",
       " 'b3': 'data/cart/LC80260302016245LGN00/LC80260302016245LGN00_B3.TIF',\n",
       " 'b4': 'data/cart/LC80260302016245LGN00/LC80260302016245LGN00_B4.TIF',\n",
       " 'b5': 'data/cart/LC80260302016245LGN00/LC80260302016245LGN00_B5.TIF',\n",
       " 'b6': 'data/cart/LC80260302016245LGN00/LC80260302016245LGN00_B6.TIF',\n",
       " 'b7': 'data/cart/LC80260302016245LGN00/LC80260302016245LGN00_B7.TIF',\n",
       " 'qa': 'data/cart/LC80260302016245LGN00/LC80260302016245LGN00_BQA.TIF'}"
      ]
     },
     "execution_count": 5,
     "metadata": {},
     "output_type": "execute_result"
    }
   ],
   "source": [
    "l8_filenames = {\n",
    "    'qa': 'LC80260302016245LGN00_BQA.TIF',\n",
    "    'b2': 'LC80260302016245LGN00_B2.TIF',\n",
    "    'b3': 'LC80260302016245LGN00_B3.TIF',\n",
    "    'b4': 'LC80260302016245LGN00_B4.TIF',\n",
    "    'b5': 'LC80260302016245LGN00_B5.TIF',\n",
    "    'b6': 'LC80260302016245LGN00_B6.TIF',\n",
    "    'b7': 'LC80260302016245LGN00_B7.TIF'\n",
    "}\n",
    "\n",
    "src_l8_folder = 'data/cart/LC80260302016245LGN00'\n",
    "\n",
    "def abs_path_filenames(folder, filenames):\n",
    "    return dict([(k, os.path.join(folder, fn))\n",
    "                 for k, fn in filenames.items()])\n",
    "\n",
    "src_l8_files = abs_path_filenames(src_l8_folder, l8_filenames)\n",
    "src_l8_files"
   ]
  },
  {
   "cell_type": "markdown",
   "metadata": {},
   "source": [
    "# Resample Landsat Scene to PS Orthotile"
   ]
  },
  {
   "cell_type": "code",
   "execution_count": 6,
   "metadata": {},
   "outputs": [],
   "source": [
    "# Utility functions: crop, resample, and project an image\n",
    "\n",
    "# These use gdalwarp. for a description of gdalwarp command line options, see:\n",
    "# http://www.gdal.org/gdalwarp.html\n",
    "\n",
    "# projection is not required for our application, where the Landsat\n",
    "# scene and the PS Orthotile are projected to the same UTM Zone\n",
    "# but this code is kept here in case that changes\n",
    "# def gdalwarp_project_options(src_crs, dst_crs):\n",
    "#     return ['-s_srs', src_crs.to_string(), '-t_srs', dst_crs.to_string()]\n",
    "\n",
    "def gdalwarp_crop_options(bounds, crs):\n",
    "    xmin, ymin, xmax, ymax = [str(b) for b in bounds]\n",
    "    # -te xmin ymin xmax ymax\n",
    "    return ['-te', xmin, ymin, xmax, ymax]\n",
    "\n",
    "def gdalwarp_resample_options(width, height, technique='near'):\n",
    "    # for technique options, see: http://www.gdal.org/gdalwarp.html\n",
    "    return ['-ts', width, height, '-r', technique]\n",
    "\n",
    "def gdalwarp(input_filename, output_filename, options):\n",
    "    commands = _gdalwarp_commands(input_filename, output_filename, options)\n",
    "\n",
    "    # print error if one is encountered\n",
    "    # https://stackoverflow.com/questions/29580663/save-error-message-of-subprocess-command\n",
    "    try:\n",
    "        output = check_output(commands, stderr=STDOUT)\n",
    "    except CalledProcessError as exc:\n",
    "        print(exc.output)\n",
    "\n",
    "def _gdalwarp_commands(input_filename, output_filename, options):\n",
    "    commands = ['gdalwarp'] + options + \\\n",
    "               ['-overwrite',\n",
    "                input_filename,\n",
    "                output_filename]\n",
    "    print(' '.join(commands))\n",
    "    return commands\n",
    "\n",
    "def _test():\n",
    "    TEST_DST_SCENE = train_files['scene']\n",
    "    TEST_SRC_SCENE = src_l8_files['qa']\n",
    "\n",
    "    with rasterio.open(TEST_DST_SCENE, 'r') as dst:\n",
    "        with rasterio.open(TEST_SRC_SCENE, 'r') as src:\n",
    "#             print(gdalwarp_project_options(src.crs, dst.crs))\n",
    "            print(gdalwarp_crop_options(dst.bounds, dst.crs))\n",
    "            print(gdalwarp_resample_options(dst.width, dst.height))\n",
    "# _test()"
   ]
  },
  {
   "cell_type": "code",
   "execution_count": 7,
   "metadata": {},
   "outputs": [],
   "source": [
    "def prepare_l8_band(band_filename, dst_filename, out_filename, classified=False):\n",
    "    '''Project, crop, and resample landsat 8 band to match dst_filename image.'''\n",
    "    \n",
    "    # use 'near' resampling method for classified (e.g. qa) band,\n",
    "    # otherwise use 'cubic' method\n",
    "    method = 'near' if classified else 'cubic'\n",
    "    \n",
    "    with rasterio.open(band_filename, 'r') as src:\n",
    "        with rasterio.open(dst_filename, 'r') as dst:\n",
    "            # project\n",
    "            # proj_options = gdalwarp_project_options(src_crs, dst.crs)\n",
    "\n",
    "            # crop\n",
    "            crop_options = gdalwarp_crop_options(dst.bounds, dst.crs)\n",
    "\n",
    "            # resample\n",
    "            width, height = dst.shape\n",
    "            resample_options = gdalwarp_resample_options(str(width), str(height), method)\n",
    "\n",
    "            options = crop_options + resample_options\n",
    "            \n",
    "            # run gdalwarp\n",
    "            gdalwarp(band_filename, out_filename, options)\n",
    "\n",
    "\n",
    "def _test(delete=True):\n",
    "    TEST_DST_SCENE = train_files['scene']\n",
    "    TEST_SRC_SCENE = src_l8_files['qa']\n",
    "    \n",
    "    with tempfile.NamedTemporaryFile(suffix='.tif', delete=delete, dir='.') as out_file:\n",
    "        # create output\n",
    "        prepare_l8_band(TEST_SRC_SCENE, TEST_DST_SCENE, out_file.name, classified=True)\n",
    "\n",
    "        # check output\n",
    "        with rasterio.open(TEST_DST_SCENE, 'r') as dst:\n",
    "            with rasterio.open(out_file.name, 'r') as src:\n",
    "                assert dst.crs == src.crs, '{} != {}'.format(src.crs, dst.crs)\n",
    "                assert dst.bounds == src.bounds\n",
    "                assert dst.shape == src.shape\n",
    "# _test()"
   ]
  },
  {
   "cell_type": "code",
   "execution_count": 8,
   "metadata": {},
   "outputs": [],
   "source": [
    "# def prepare_l8_band(band_filename, dst_filename, out_filename, classified=False):\n",
    "#     '''Project, crop, and resample landsat 8 band to match dst_filename image.'''\n",
    "    \n",
    "#     # use 'near' resampling method for classified (e.g. qa) band,\n",
    "#     # otherwise use 'cubic' method\n",
    "#     method = 'near' if classified else 'cubic'\n",
    "    \n",
    "#     with rasterio.open(band_filename, 'r') as src:\n",
    "#         with rasterio.open(dst_filename, 'r') as dst:\n",
    "#             # project\n",
    "#             # proj_options = gdalwarp_project_options(src_crs, dst.crs)\n",
    "\n",
    "#             # crop\n",
    "#             crop_options = gdalwarp_crop_options(dst.bounds, dst.crs)\n",
    "\n",
    "#             # resample\n",
    "#             width, height = dst.shape\n",
    "#             resample_options = gdalwarp_resample_options(str(width), str(height), method)\n",
    "\n",
    "#             options = crop_options + resample_options\n",
    "            \n",
    "#             # run gdalwarp\n",
    "#             gdalwarp(band_filename, out_filename, options)\n",
    "\n",
    "\n",
    "# def _test(delete=True):\n",
    "#     TEST_DST_SCENE = train_files['scene']\n",
    "#     TEST_SRC_SCENE = src_l8_files['qa']\n",
    "    \n",
    "#     with tempfile.NamedTemporaryFile(suffix='.tif', delete=delete, dir='.') as out_file:\n",
    "#         # create output\n",
    "#         prepare_l8_band(TEST_SRC_SCENE, TEST_DST_SCENE, out_file.name, classified=True)\n",
    "\n",
    "#         # check output\n",
    "#         with rasterio.open(TEST_DST_SCENE, 'r') as dst:\n",
    "#             with rasterio.open(out_file.name, 'r') as src:\n",
    "#                 assert dst.crs == src.crs, '{} != {}'.format(src.crs, dst.crs)\n",
    "#                 assert dst.bounds == src.bounds\n",
    "#                 assert dst.shape == src.shape\n",
    "# _test()"
   ]
  },
  {
   "cell_type": "code",
   "execution_count": 9,
   "metadata": {},
   "outputs": [],
   "source": [
    "def prepare_l8_bands(src_files, dst_folder, ps_scene):\n",
    "    dst_files = {}\n",
    "    for name, filename in src_l8_files.items():\n",
    "        # qa band is the only classified band\n",
    "        classified = name=='qa'\n",
    "        \n",
    "        dst_file = os.path.join(dst_folder, os.path.basename(filename))\n",
    "        prepare_l8_band(filename, ps_scene, dst_file, classified=classified)\n",
    "        dst_files[name] = dst_file\n",
    "    return dst_files\n",
    "\n",
    "def _test():\n",
    "    try:\n",
    "        out_folder = tempfile.mkdtemp()\n",
    "        dst_l8_files = prepare_l8_bands(src_l8_files, out_folder, train_files['scene'])\n",
    "        print dst_l8_files\n",
    "    finally:\n",
    "        del out_folder\n",
    "# _test()"
   ]
  },
  {
   "cell_type": "code",
   "execution_count": 10,
   "metadata": {},
   "outputs": [],
   "source": [
    "train_l8_folder = 'data/cart/210879_1558814_2016-07-25_0e16/L8'\n",
    "\n",
    "if not os.path.isdir(train_l8_folder):\n",
    "    os.mkdir(train_l8_folder)\n",
    "    print(train_l8_folder)"
   ]
  },
  {
   "cell_type": "code",
   "execution_count": 11,
   "metadata": {},
   "outputs": [
    {
     "name": "stdout",
     "output_type": "stream",
     "text": [
      "gdalwarp -te 475500.0 4727500.0 500500.0 4752500.0 -ts 8000 8000 -r near -overwrite data/cart/LC80260302016245LGN00/LC80260302016245LGN00_BQA.TIF data/cart/210879_1558814_2016-07-25_0e16/L8/LC80260302016245LGN00_BQA.TIF\n",
      "gdalwarp -te 475500.0 4727500.0 500500.0 4752500.0 -ts 8000 8000 -r cubic -overwrite data/cart/LC80260302016245LGN00/LC80260302016245LGN00_B4.TIF data/cart/210879_1558814_2016-07-25_0e16/L8/LC80260302016245LGN00_B4.TIF\n",
      "gdalwarp -te 475500.0 4727500.0 500500.0 4752500.0 -ts 8000 8000 -r cubic -overwrite data/cart/LC80260302016245LGN00/LC80260302016245LGN00_B5.TIF data/cart/210879_1558814_2016-07-25_0e16/L8/LC80260302016245LGN00_B5.TIF\n",
      "gdalwarp -te 475500.0 4727500.0 500500.0 4752500.0 -ts 8000 8000 -r cubic -overwrite data/cart/LC80260302016245LGN00/LC80260302016245LGN00_B6.TIF data/cart/210879_1558814_2016-07-25_0e16/L8/LC80260302016245LGN00_B6.TIF\n",
      "gdalwarp -te 475500.0 4727500.0 500500.0 4752500.0 -ts 8000 8000 -r cubic -overwrite data/cart/LC80260302016245LGN00/LC80260302016245LGN00_B7.TIF data/cart/210879_1558814_2016-07-25_0e16/L8/LC80260302016245LGN00_B7.TIF\n",
      "gdalwarp -te 475500.0 4727500.0 500500.0 4752500.0 -ts 8000 8000 -r cubic -overwrite data/cart/LC80260302016245LGN00/LC80260302016245LGN00_B2.TIF data/cart/210879_1558814_2016-07-25_0e16/L8/LC80260302016245LGN00_B2.TIF\n",
      "gdalwarp -te 475500.0 4727500.0 500500.0 4752500.0 -ts 8000 8000 -r cubic -overwrite data/cart/LC80260302016245LGN00/LC80260302016245LGN00_B3.TIF data/cart/210879_1558814_2016-07-25_0e16/L8/LC80260302016245LGN00_B3.TIF\n"
     ]
    },
    {
     "data": {
      "text/plain": [
       "{'b2': 'data/cart/210879_1558814_2016-07-25_0e16/L8/LC80260302016245LGN00_B2.TIF',\n",
       " 'b3': 'data/cart/210879_1558814_2016-07-25_0e16/L8/LC80260302016245LGN00_B3.TIF',\n",
       " 'b4': 'data/cart/210879_1558814_2016-07-25_0e16/L8/LC80260302016245LGN00_B4.TIF',\n",
       " 'b5': 'data/cart/210879_1558814_2016-07-25_0e16/L8/LC80260302016245LGN00_B5.TIF',\n",
       " 'b6': 'data/cart/210879_1558814_2016-07-25_0e16/L8/LC80260302016245LGN00_B6.TIF',\n",
       " 'b7': 'data/cart/210879_1558814_2016-07-25_0e16/L8/LC80260302016245LGN00_B7.TIF',\n",
       " 'qa': 'data/cart/210879_1558814_2016-07-25_0e16/L8/LC80260302016245LGN00_BQA.TIF'}"
      ]
     },
     "execution_count": 11,
     "metadata": {},
     "output_type": "execute_result"
    }
   ],
   "source": [
    "train_l8_files = prepare_l8_bands(src_l8_files, train_l8_folder, train_files['scene'])\n",
    "train_l8_files"
   ]
  },
  {
   "cell_type": "markdown",
   "metadata": {},
   "source": [
    "## Landsat 8 QA band\n",
    "\n",
    "First we create functionality for dealing with any generic classified band, then we load the QA band, visualize it, and convert it to a mask."
   ]
  },
  {
   "cell_type": "code",
   "execution_count": 13,
   "metadata": {},
   "outputs": [
    {
     "name": "stdout",
     "output_type": "stream",
     "text": [
      "[[ 0  1  2]\n",
      " [28 30 64]\n",
      " [66 92 94]]\n"
     ]
    },
    {
     "data": {
      "image/png": "[encoded data removed]",
      "text/plain": [
       "<matplotlib.figure.Figure at 0x7f1d20b49710>"
      ]
     },
     "metadata": {},
     "output_type": "display_data"
    }
   ],
   "source": [
    "# Utility functions: visualizing a classified band as an image\n",
    "\n",
    "def plot_image(image, title, figsize=(10,10)):\n",
    "    fig = plt.figure(figsize=figsize)\n",
    "    ax = fig.add_subplot(1, 1, 1)\n",
    "    image.imshow(ax)\n",
    "    ax.set_title(title)\n",
    "    ax.set_axis_off()\n",
    "        \n",
    "class ClassifiedImage(object):\n",
    "    def __init__(self, band, labels=None):\n",
    "        self.band = band\n",
    "        self.labels = labels\n",
    "\n",
    "    def imshow(self, ax, cmap='rainbow'):\n",
    "        \"\"\"Show classified band with colormap normalization and color legend.\n",
    "        \n",
    "        Alters ax in place.\n",
    "\n",
    "        possible cmaps ref: https://matplotlib.org/examples/color/colormaps_reference.html\n",
    "        \"\"\"\n",
    "        class_norm = _ClassNormalize(self.band)\n",
    "        im = ax.imshow(self.band, cmap=cmap, norm=class_norm)\n",
    "\n",
    "        try:\n",
    "            # add class label legend\n",
    "            # https://stackoverflow.com/questions/25482876\n",
    "            # /how-to-add-legend-to-imshow-in-matplotlib\n",
    "            color_mapping = class_norm.mapping\n",
    "            colors = [im.cmap(color_mapping[k])\n",
    "                      for k in self.labels.keys()]\n",
    "            labels = self.labels.values()\n",
    "\n",
    "            # https://matplotlib.org/users/legend_guide.html\n",
    "            # tag: #creating-artists-specifically-for-adding-to-the-legend-aka-proxy-artists\n",
    "            patches = [mpatches.Patch(color=c, label=l)\n",
    "                       for c,l in zip(colors, labels)]\n",
    "\n",
    "            ax.legend(handles=patches, bbox_to_anchor=(1, 1),\n",
    "                      loc='upper right', borderaxespad=0.)\n",
    "        except AttributeError:\n",
    "            # labels not specified\n",
    "            pass\n",
    "\n",
    "\n",
    "# https://matplotlib.org/users/colormapnorms.html#custom-normalization-two-linear-ranges\n",
    "class _ClassNormalize(colors.Normalize):\n",
    "    \"\"\"Matplotlib colormap normalizer for a classified band.\n",
    "    \n",
    "    __init__ and __call__ are the minimum required methods.\n",
    "    \"\"\"\n",
    "    def __init__(self, arry):\n",
    "        # get unique unmasked values\n",
    "        values = [v for v in np.unique(arry)\n",
    "                  if not isinstance(v, np.ma.core.MaskedConstant)]\n",
    "\n",
    "        color_ticks = np.array(range(len(values)), dtype=np.float) / (len(values) - 1)\n",
    "        self._mapping = dict((v, ct)\n",
    "                            for v, ct in zip(values, color_ticks))\n",
    "        \n",
    "        # Initialize base Normalize instance\n",
    "        vmin = 0\n",
    "        vmax = 1\n",
    "        clip = False\n",
    "        colors.Normalize.__init__(self, vmin, vmax, clip)\n",
    "    \n",
    "    def __call__(self, arry, clip=None):\n",
    "        # round array back to ints for logical comparison\n",
    "        arry = np.around(arry)\n",
    "        new_arry = arry.copy()\n",
    "        for k, v in self._mapping.items():\n",
    "            new_arry[arry==k] = v\n",
    "        return new_arry\n",
    "    \n",
    "    @property\n",
    "    def mapping(self):\n",
    "        return self._mapping\n",
    "\n",
    "def _test():\n",
    "#     classified_band = np.array(range(4)).reshape((2,2))\n",
    "    classified_band = np.array([0, 1, 2, 28, 30, 64, 66, 92, 94], dtype=np.uint8).reshape((3,3))\n",
    "    print(classified_band)\n",
    "    labels = OrderedDict((v, str(v)) for v in np.unique(classified_band))\n",
    "    classified_image = ClassifiedImage(band=classified_band, labels=labels)\n",
    "    plot_image(classified_image, title='Test', figsize=(4,4))\n",
    "_test()"
   ]
  },
  {
   "cell_type": "markdown",
   "metadata": {},
   "source": [
    "Functionality specific to the QA Band"
   ]
  },
  {
   "cell_type": "code",
   "execution_count": 14,
   "metadata": {},
   "outputs": [],
   "source": [
    "# Utility function for working with large images and memory limitations\n",
    "\n",
    "def _read_window(filename, window):\n",
    "    with rasterio.open(filename, 'r') as src:\n",
    "        return src.read(window=window)\n",
    "\n",
    "def decimated(arry, num=8):\n",
    "    return arry[::num, ::num].copy()"
   ]
  },
  {
   "cell_type": "code",
   "execution_count": 15,
   "metadata": {},
   "outputs": [
    {
     "data": {
      "image/png": "[encoded data removed]",
      "text/plain": [
       "<matplotlib.figure.Figure at 0x7f1d22c008d0>"
      ]
     },
     "metadata": {},
     "output_type": "display_data"
    }
   ],
   "source": [
    "def load_band(band_filename, window=None):\n",
    "    return _read_window(band_filename, window)[0,...]\n",
    "\n",
    "def get_binary_labels(binary_band):\n",
    "    return OrderedDict((v, '{0:b}'.format(v))\n",
    "                       for v in np.unique(binary_band))\n",
    "\n",
    "def _test():\n",
    "    qa = decimated(load_band(train_l8_files['qa']))\n",
    "    qa_labels = get_binary_labels(qa)\n",
    "    qa_classified_band = ClassifiedImage(band=qa, labels=qa_labels)\n",
    "    plot_image(qa_classified_band, title='QA Band')\n",
    "_test()"
   ]
  },
  {
   "cell_type": "code",
   "execution_count": 17,
   "metadata": {},
   "outputs": [
    {
     "name": "stdout",
     "output_type": "stream",
     "text": [
      "0/64000000 (0%) masked\n"
     ]
    }
   ],
   "source": [
    "def qa_to_mask(qa_array):\n",
    "    \"\"\"Generate mask from L8 QA band.\n",
    "    \n",
    "    The description for the information encoded in the bits in the QA is from:\n",
    "    https://landsat.usgs.gov/collectionqualityband\n",
    "    \n",
    "    Bit 0: designated fill\n",
    "    Bit 1: terrain occlusion\n",
    "    Bits 2/3: radiometric saturation\n",
    "    Bit 4: cloud\n",
    "    Bits 5/6: cloud confidence\n",
    "    Bits 7/8: cloud shadow confidence\n",
    "    Bits 9/10: snow/ice confidence\n",
    "    Bits 11/12: cirr\n",
    "\n",
    "    Pixels with no issues have bits 0-4 set to 0.\"\"\"\n",
    "    invalid_bits = int('1111',2) # bits 0-4 are our 'invalid' bits\n",
    "    bit_matches = qa_array & invalid_bits # bit-wise logical AND operator\n",
    "    return bit_matches != 0 # mask any pixels that have non-zero bits 0-4\n",
    "\n",
    "def _test():\n",
    "    mask = qa_to_mask(load_band(train_l8_files['qa']))\n",
    "    print'{}/{} ({:0.0f}%) masked'.format(mask.sum(), mask.size,\n",
    "                                          (100.0 * mask.sum())/mask.size)\n",
    "_test()"
   ]
  },
  {
   "cell_type": "markdown",
   "metadata": {},
   "source": [
    "Well, 0% masked is not terribly interesting, but it does bode well for the usefulness of this Landsat 8 scene!"
   ]
  },
  {
   "cell_type": "markdown",
   "metadata": {},
   "source": [
    "## Landsat 8 and PS Orthotile Visual Images\n",
    "\n",
    "We want to visualize the Landsat 8 and PS Orthotile RGB images.\n",
    "\n",
    "### PS Orthotile Visual Image\n",
    "\n",
    "#### Mask from UDM"
   ]
  },
  {
   "cell_type": "code",
   "execution_count": 21,
   "metadata": {},
   "outputs": [
    {
     "name": "stdout",
     "output_type": "stream",
     "text": [
      "14525797/64000000 (23%) masked\n"
     ]
    },
    {
     "data": {
      "image/png": "[encoded data removed]",
      "text/plain": [
       "<matplotlib.figure.Figure at 0x7f1d207f15d0>"
      ]
     },
     "metadata": {},
     "output_type": "display_data"
    }
   ],
   "source": [
    "def udm_to_mask(udm_array):\n",
    "    '''Create a mask from the udm.\n",
    "    \n",
    "    The description for the information encoded in the bits in the UDM is from:\n",
    "    https://www.planet.com/docs/spec-sheets/sat-imagery/\n",
    "    section 7.2\n",
    "    \n",
    "    Bit 0: blackfill\n",
    "    Bit 1: cloud covered\n",
    "    Bit 2: missing or suspect data in Blue band\n",
    "    Bit 3: missing or suspect data in Green band\n",
    "    Bit 4: missing or suspect data in Red band\n",
    "    Bit 6: missing or suspect data in NIR band\n",
    "\n",
    "    Pixels with no issues have all bits set to 0, therefore their values are zero.    \n",
    "    ''' \n",
    "    return udm_array != 0\n",
    "\n",
    "def _test():\n",
    "    udm = load_band(train_files['udm'])\n",
    "    mask = udm_to_mask(udm)\n",
    "    print'{}/{} ({:0.0f}%) masked'.format(mask.sum(), mask.size,\n",
    "                                          (100.0 * mask.sum())/mask.size)\n",
    "\n",
    "    udm_dec = decimated(udm, 32)\n",
    "    udm_labels = get_binary_labels(udm_dec)\n",
    "    udm_image = ClassifiedImage(band=udm_dec, labels=udm_labels)\n",
    "    plot_image(udm_image, title='UDM Band', figsize=(5,5))\n",
    "_test()"
   ]
  },
  {
   "cell_type": "markdown",
   "metadata": {},
   "source": [
    "#### Visual RGB"
   ]
  },
  {
   "cell_type": "code",
   "execution_count": 37,
   "metadata": {},
   "outputs": [
    {
     "name": "stdout",
     "output_type": "stream",
     "text": [
      "245766/1000000 (25%) masked\n",
      "14525797/64000000 (23%) masked\n"
     ]
    }
   ],
   "source": [
    "PSBands = namedtuple('Bands', 'b, g, r, nir')\n",
    "\n",
    "class PSImage(object):    \n",
    "    def __init__(self, scene_filename, udm_filename, window=None):\n",
    "        self.scene_filename = scene_filename\n",
    "        self.udm_filename = udm_filename\n",
    "        self.window = window\n",
    "\n",
    "        self.bands = self._load_bands()\n",
    "        \n",
    "    def _load_bands(self, window=None):\n",
    "        \"\"\"Loads a 4-band BGRNir Planet Image file as a list of masked bands.\n",
    "\n",
    "        The masked bands share the same mask, so editing one band mask will\n",
    "        edit them all.\n",
    "        \"\"\"\n",
    "        with rasterio.open(self.scene_filename, 'r') as src:\n",
    "            b, g, r, nir = src.read(window=self.window)\n",
    "            bands = PSBands(b=b, g=g, r=r, nir=nir)\n",
    "\n",
    "        with rasterio.open(self.udm_filename, 'r') as src:\n",
    "            udm = src.read(window=self.window)[0,...]\n",
    "\n",
    "        mask = udm_to_mask(udm)\n",
    "        return PSBands(*[np.ma.array(b, mask=mask) for b in bands])\n",
    "\n",
    "    @property\n",
    "    def mask(self):\n",
    "        return self.bands[0].mask\n",
    "\n",
    "\n",
    "def check_mask(img):\n",
    "    band_mask = img.mask\n",
    "    return '{}/{} ({:0.0f}%) masked'.format(band_mask.sum(), band_mask.size,\n",
    "                                            (100.0 * band_mask.sum())/band_mask.size)\n",
    "\n",
    "def _test():\n",
    "    window = ((500,1500),(500,1500))\n",
    "    print(check_mask(PSImage(train_files['scene'], train_files['udm'], window=window)))\n",
    "\n",
    "    window = None\n",
    "    print(check_mask(PSImage(train_files['scene'], train_files['udm'], window=window)))\n",
    "_test()"
   ]
  },
  {
   "cell_type": "code",
   "execution_count": null,
   "metadata": {},
   "outputs": [],
   "source": [
    "# Utility functions: displaying an rgb image\n",
    "\n",
    "def _linear_scale(ndarray, old_min, old_max, new_min, new_max):\n",
    "    \"\"\"Linear scale from old_min to new_min, old_max to new_max.\n",
    "    \n",
    "    Values below min/max are allowed in input and output.\n",
    "    Min/Max values are two data points that are used in the linear scaling.\n",
    "    \"\"\"\n",
    "    #https://en.wikipedia.org/wiki/Normalization_(image_processing)\n",
    "    return (ndarray - old_min) * (new_max - new_min) / (old_max - old_min) + new_min\n",
    "# print(linear_scale(np.array([1,2,10,100,256,2560, 2660]), 2, 2560, 0, 256))\n",
    "\n",
    "\n",
    "class RGBImage(object):\n",
    "    def __init__(self, bands):\n",
    "        # bands: list of masked bands in RGB order\n",
    "        # masked bands should share the same mask\n",
    "        assert len(bands) == 3\n",
    "        self.bands = bands\n",
    "\n",
    "    def imshow(self, ax, alpha=True):\n",
    "        \"\"\"Show RGB image with option of convering mask to alpha.\n",
    "        \n",
    "        Alters ax in place.\n",
    "\n",
    "        \"\"\"\n",
    "        ax.imshow(self.bands_to_display(alpha=alpha))\n",
    "        \n",
    "\n",
    "    def _mask_to_alpha(self):\n",
    "        band = np.atleast_3d(self.bands[0])\n",
    "        alpha = np.zeros_like(band)\n",
    "        alpha[~band.mask] = 1\n",
    "        return alpha\n",
    "\n",
    "    def _percentile(self, percentile):\n",
    "        return np.percentile(np.concatenate([b.compressed() for b in self.bands]),\n",
    "                             percentile)\n",
    "\n",
    "    def bands_to_display(self, alpha=False):\n",
    "        \"\"\"Converts bands to a normalized, 3-band 3d numpy array for display.\"\"\"  \n",
    "\n",
    "        old_min = self._percentile(2)\n",
    "        old_max = self._percentile(98)\n",
    "        new_min = 0\n",
    "        new_max = 1\n",
    "        scaled = [np.clip(_linear_scale(b.astype(np.float),\n",
    "                                        old_min, old_max,\n",
    "                                        new_min, new_max),\n",
    "                          new_min, new_max)\n",
    "                  for b in self.bands]\n",
    "\n",
    "        filled = [b.filled(fill_value=new_min) for b in scaled]\n",
    "\n",
    "        if alpha:\n",
    "            filled.append(self._mask_to_alpha())\n",
    "\n",
    "        return np.dstack(filled)\n",
    "\n",
    "def _test():\n",
    "    img = PSImage(train_files['scene'], train_files['udm'], window=None)\n",
    "    rgb_image = RGBImage([decimated(b) for b in [img.bands.r, img.bands.g, img.bands.b]])\n",
    "    plot_image(rgb_image, title='PS RGB', figsize=(6,6))\n",
    "_test()"
   ]
  },
  {
   "cell_type": "markdown",
   "metadata": {},
   "source": [
    "### Landsat 8 Visual Image"
   ]
  },
  {
   "cell_type": "code",
   "execution_count": null,
   "metadata": {},
   "outputs": [],
   "source": [
    "def show_l8_bands(bands):\n",
    "    fig, axes = plt.subplots(nrows=1, ncols=2,\n",
    "                                   sharex=True, sharey=True,\n",
    "                                   figsize=(20,10))\n",
    "    for ax in axes.ravel():\n",
    "        ax.set_adjustable('box-forced')\n",
    "        ax.set_axis_off()\n",
    "\n",
    "    ax2, ax4 = axes\n",
    "    ax2.imshow(decimated(bands_to_display([bands.r, bands.g, bands.b], alpha=True)))\n",
    "    ax2.set_title('RGB Bands, Alpha from Mask')\n",
    "\n",
    "def _test():\n",
    "    bands = load_masked_bands(train_files['scene'], train_files['udm'])\n",
    "    rgb_image = RGBImage([decimated(b) for b in [bands.r, bands.g, bands.b]])\n",
    "    plot_image(rgb_image, title='PS RGB', figsize=(6,6))\n",
    "# _test()"
   ]
  },
  {
   "cell_type": "code",
   "execution_count": null,
   "metadata": {},
   "outputs": [],
   "source": [
    "class L8Image(Image):\n",
    "    def __init__(self, band_filenames):\n",
    "        self.band_filenames = band_filenames\n",
    "    \n",
    "    def _load(self, window=None, decimate=None):\n",
    "        # load bands\n",
    "        pass\n",
    "\n",
    "    def rgb(self):\n",
    "        # L8 band designation: Red-b4, Green-b3, Blue-b2\n",
    "        return L8Image[]\n",
    "        \n",
    "        \n",
    "        \n"
   ]
  }
 ],
 "metadata": {
  "kernelspec": {
   "display_name": "Python 2",
   "language": "python",
   "name": "python2"
  },
  "language_info": {
   "codemirror_mode": {
    "name": "ipython",
    "version": 2
   },
   "file_extension": ".py",
   "mimetype": "text/x-python",
   "name": "python",
   "nbconvert_exporter": "python",
   "pygments_lexer": "ipython2",
   "version": "2.7.14"
  }
 },
 "nbformat": 4,
 "nbformat_minor": 2
}
