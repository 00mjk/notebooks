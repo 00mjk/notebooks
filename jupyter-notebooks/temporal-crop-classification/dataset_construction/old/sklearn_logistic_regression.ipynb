{
 "cells": [
  {
   "cell_type": "markdown",
   "metadata": {},
   "source": [
    "# Going through sklearn's logistic regression method ..."
   ]
  },
  {
   "cell_type": "code",
   "execution_count": null,
   "metadata": {},
   "outputs": [],
   "source": [
    "import numpy as np\n",
    "from sklearn import linear_model\n",
    "import matplotlib.pyplot as plt\n",
    "from sklearn.metrics import classification_report\n",
    "\n",
    "%matplotlib inline"
   ]
  },
  {
   "cell_type": "code",
   "execution_count": null,
   "metadata": {},
   "outputs": [],
   "source": [
    "train_d = np.load('../datasets/kings_05_rapideye/train_data.npy')\n",
    "train_d = train_d*1.0/np.max(train_d)\n",
    "train_l = np.load('../datasets/kings_05_rapideye/train_lbl_sc.npy')\n",
    "#train_d = train_d[0:60000,:]\n",
    "#train_l = train_l[0:60000]\n",
    "print(train_d.shape)\n",
    "print(train_l)\n",
    "\n",
    "#val_dat = np.load('../datasets/kings_05_rapideye/val_data.npy')\n",
    "#val_dat = val_dat*1.0/np.max(val_dat)\n",
    "#val_lbl = np.load('../datasets/kings_05_rapideye/val_lbl_sc.npy')\n",
    "#print(val_dat.shape)\n",
    "#print(val_lbl)\n",
    "#print(val_lbl.shape)\n",
    "\n",
    "#test_dat = np.load('../datasets/kings_05_rapideye/test_data.npy')\n",
    "#test_dat = test_dat*1.0/np.max(test_dat)\n",
    "#test_lbl = np.load('../datasets/kings_05_rapideye/test_lbl_sc.npy')\n",
    "#print(test_dat.shape)\n",
    "#print(test_lbl)\n",
    "#print(test_lbl.shape)\n",
    "\n",
    "all_data = np.load('../datasets/kings_05_rapideye/all_data.npy')\n",
    "all_data = all_data*1.0/np.max(all_data)\n",
    "all_labels = np.load('../datasets/kings_05_rapideye/all_lbls.npy')\n",
    "\n",
    "# Only look at the NIR features for now\n",
    "#train_d = train_d[:,-69:]"
   ]
  },
  {
   "cell_type": "code",
   "execution_count": 20,
   "metadata": {},
   "outputs": [],
   "source": [
    "#plt.figure()\n",
    "#plt.plot(range(105),train_d[0:1000,:].T)\n",
    "#plt.show()"
   ]
  },
  {
   "cell_type": "code",
   "execution_count": 21,
   "metadata": {},
   "outputs": [
    {
     "name": "stdout",
     "output_type": "stream",
     "text": [
      "('saga', 'multinomial', 10)\n",
      "-----------------------------\n",
      "Performance on training data\n",
      "0.762128395062\n",
      "             precision    recall  f1-score   support\n",
      "\n",
      "          0       0.78      0.91      0.84     90066\n",
      "          1       0.91      0.79      0.85     89899\n",
      "          2       0.65      0.52      0.58     89883\n",
      "          3       0.59      0.65      0.62     90165\n",
      "          4       0.55      0.64      0.59     90017\n",
      "          5       0.91      0.91      0.91     89937\n",
      "          6       0.65      0.63      0.64     89885\n",
      "          7       0.93      0.93      0.93     90106\n",
      "          8       0.94      0.89      0.91     90042\n",
      "\n",
      "avg / total       0.77      0.76      0.76    810000\n",
      "\n",
      "Performance on VALIDATION data\n",
      "0.761088888889\n",
      "             precision    recall  f1-score   support\n",
      "\n",
      "          0       0.79      0.90      0.84      4956\n",
      "          1       0.89      0.79      0.84      5035\n",
      "          2       0.65      0.51      0.57      5121\n",
      "          3       0.61      0.63      0.62      4885\n",
      "          4       0.53      0.67      0.59      4961\n",
      "          5       0.92      0.90      0.91      5120\n",
      "          6       0.65      0.63      0.64      5065\n",
      "          7       0.92      0.92      0.92      4924\n",
      "          8       0.94      0.89      0.91      4933\n",
      "\n",
      "avg / total       0.77      0.76      0.76     45000\n",
      "\n",
      "Performance on TRAIN data\n",
      "0.760511111111\n",
      "             precision    recall  f1-score   support\n",
      "\n",
      "          0       0.78      0.91      0.84      4978\n",
      "          1       0.90      0.79      0.84      5066\n",
      "          2       0.65      0.52      0.58      4996\n",
      "          3       0.60      0.62      0.61      4950\n",
      "          4       0.53      0.66      0.59      5022\n",
      "          5       0.92      0.91      0.91      4943\n",
      "          6       0.66      0.62      0.64      5050\n",
      "          7       0.92      0.92      0.92      4970\n",
      "          8       0.94      0.89      0.92      5025\n",
      "\n",
      "avg / total       0.77      0.76      0.76     45000\n",
      "\n"
     ]
    }
   ],
   "source": [
    "# Try a bunch of methods for logistic regression: \n",
    "for solver in ['saga']:\n",
    "    for multi_class in ['multinomial']:\n",
    "        for C in [10]:\n",
    "            print(solver, multi_class, C)\n",
    "            logreg = linear_model.LogisticRegression(penalty='l2', C=C, solver=solver, max_iter=10000,  multi_class=multi_class)\n",
    "            lr_fit = logreg.fit(train_d, train_l)\n",
    "            print('-----------------------------')\n",
    "            print('Performance on training data')\n",
    "            print(logreg.score(train_d, train_l))\n",
    "            print(classification_report(train_l, logreg.predict(train_d))) \n",
    "            \n",
    "            print('Performance on TRAIN data')\n",
    "            print(logreg.score(all_data, all_labels))\n",
    "            #print(classification_report(all_lbls, logreg.predict(all_data))) \n",
    "            predictions = logreg.predict(all_data)\n",
    "            print(classification_report(all_lbls, logreg.predict(all_data))) \n",
    "            \n",
    "            np.save('logreg_preds_kings05_temporal.npy', predictions)\n",
    "            \n",
    "            #print(classification_report(all_lbls, logreg.predict(all_data))) \n",
    "            #print('Performance on VALIDATION data')\n",
    "            #print(logreg.score(val_dat, val_lbl))\n",
    "            #print(classification_report(val_lbl, logreg.predict(val_dat))) \n",
    "                  \n",
    "            #print('Performance on TRAIN data')\n",
    "            #print(logreg.score(test_dat, test_lbl))\n",
    "            #print(classification_report(test_lbl, logreg.predict(test_dat))) \n",
    "                  "
   ]
  },
  {
   "cell_type": "code",
   "execution_count": 8,
   "metadata": {},
   "outputs": [
    {
     "data": {
      "text/plain": [
       "(30000,)"
      ]
     },
     "execution_count": 8,
     "metadata": {},
     "output_type": "execute_result"
    }
   ],
   "source": [
    "test_lbl.shape"
   ]
  },
  {
   "cell_type": "code",
   "execution_count": 14,
   "metadata": {},
   "outputs": [],
   "source": [
    "lr_fit = logreg.fit(train_d, train_l)"
   ]
  },
  {
   "cell_type": "code",
   "execution_count": 15,
   "metadata": {},
   "outputs": [
    {
     "name": "stdout",
     "output_type": "stream",
     "text": [
      "LogisticRegression(C=0.01, class_weight=None, dual=False, fit_intercept=True,\n",
      "          intercept_scaling=1, max_iter=10000, multi_class='multinomial',\n",
      "          n_jobs=1, penalty='l2', random_state=None, solver='saga',\n",
      "          tol=0.0001, verbose=0, warm_start=False)\n"
     ]
    }
   ],
   "source": [
    "print(lr_fit)"
   ]
  },
  {
   "cell_type": "code",
   "execution_count": 16,
   "metadata": {},
   "outputs": [
    {
     "name": "stdout",
     "output_type": "stream",
     "text": [
      "0.251098632812\n"
     ]
    }
   ],
   "source": [
    "lr_score = logreg.score(train_d, train_l)\n",
    "print(lr_score)"
   ]
  },
  {
   "cell_type": "code",
   "execution_count": null,
   "metadata": {},
   "outputs": [],
   "source": []
  },
  {
   "cell_type": "code",
   "execution_count": null,
   "metadata": {},
   "outputs": [],
   "source": []
  }
 ],
 "metadata": {
  "kernelspec": {
   "display_name": "Python 2",
   "language": "python",
   "name": "python2"
  },
  "language_info": {
   "codemirror_mode": {
    "name": "ipython",
    "version": 2
   },
   "file_extension": ".py",
   "mimetype": "text/x-python",
   "name": "python",
   "nbconvert_exporter": "python",
   "pygments_lexer": "ipython2",
   "version": "2.7.14"
  }
 },
 "nbformat": 4,
 "nbformat_minor": 2
}
